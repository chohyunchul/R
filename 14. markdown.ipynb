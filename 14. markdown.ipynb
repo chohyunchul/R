{
 "cells": [
  {
   "cell_type": "code",
   "execution_count": 1,
   "metadata": {},
   "outputs": [],
   "source": [
    "setwd('c:/Rdata')  # 폴더 지정하기"
   ]
  },
  {
   "cell_type": "code",
   "execution_count": 8,
   "metadata": {
    "scrolled": true
   },
   "outputs": [
    {
     "name": "stderr",
     "output_type": "stream",
     "text": [
      "\n",
      "Attaching package: 'dplyr'\n",
      "\n",
      "The following objects are masked from 'package:stats':\n",
      "\n",
      "    filter, lag\n",
      "\n",
      "The following objects are masked from 'package:base':\n",
      "\n",
      "    intersect, setdiff, setequal, union\n",
      "\n"
     ]
    }
   ],
   "source": [
    "library(dplyr)   # 라이브러리 활성화"
   ]
  },
  {
   "cell_type": "code",
   "execution_count": 15,
   "metadata": {},
   "outputs": [
    {
     "name": "stderr",
     "output_type": "stream",
     "text": [
      "\n",
      "Attaching package: 'ggplot2'\n",
      "\n",
      "The following object is masked _by_ '.GlobalEnv':\n",
      "\n",
      "    mpg\n",
      "\n"
     ]
    }
   ],
   "source": [
    "library(ggplot2)"
   ]
  },
  {
   "cell_type": "code",
   "execution_count": 16,
   "metadata": {},
   "outputs": [
    {
     "data": {
      "text/html": [
       "<table>\n",
       "<thead><tr><th scope=col>Package</th><th scope=col>LibPath</th><th scope=col>Item</th><th scope=col>Title</th></tr></thead>\n",
       "<tbody>\n",
       "\t<tr><td>ggplot2                                                          </td><td>C:/ProgramData/Anaconda3/envs/tf2/Lib/R/library                  </td><td>diamonds                                                         </td><td>Prices of 50,000 round cut diamonds                              </td></tr>\n",
       "\t<tr><td>ggplot2                                                          </td><td>C:/ProgramData/Anaconda3/envs/tf2/Lib/R/library                  </td><td>economics                                                        </td><td>US economic time series                                          </td></tr>\n",
       "\t<tr><td>ggplot2                                                          </td><td>C:/ProgramData/Anaconda3/envs/tf2/Lib/R/library                  </td><td>economics_long                                                   </td><td>US economic time series                                          </td></tr>\n",
       "\t<tr><td>ggplot2                                                          </td><td>C:/ProgramData/Anaconda3/envs/tf2/Lib/R/library                  </td><td>faithfuld                                                        </td><td>2d density estimate of Old Faithful data                         </td></tr>\n",
       "\t<tr><td>ggplot2                                                          </td><td>C:/ProgramData/Anaconda3/envs/tf2/Lib/R/library                  </td><td>luv_colours                                                      </td><td>'colors()' in Luv space                                          </td></tr>\n",
       "\t<tr><td>ggplot2                                                          </td><td>C:/ProgramData/Anaconda3/envs/tf2/Lib/R/library                  </td><td>midwest                                                          </td><td>Midwest demographics                                             </td></tr>\n",
       "\t<tr><td>ggplot2                                                          </td><td>C:/ProgramData/Anaconda3/envs/tf2/Lib/R/library                  </td><td>mpg                                                              </td><td>Fuel economy data from 1999 and 2008 for 38 popular models of car</td></tr>\n",
       "\t<tr><td>ggplot2                                                          </td><td>C:/ProgramData/Anaconda3/envs/tf2/Lib/R/library                  </td><td>msleep                                                           </td><td>An updated and expanded version of the mammals sleep dataset     </td></tr>\n",
       "\t<tr><td>ggplot2                                                          </td><td>C:/ProgramData/Anaconda3/envs/tf2/Lib/R/library                  </td><td>presidential                                                     </td><td>Terms of 11 presidents from Eisenhower to Obama                  </td></tr>\n",
       "\t<tr><td>ggplot2                                                          </td><td>C:/ProgramData/Anaconda3/envs/tf2/Lib/R/library                  </td><td>seals                                                            </td><td>Vector field of seal movements                                   </td></tr>\n",
       "\t<tr><td>ggplot2                                                          </td><td>C:/ProgramData/Anaconda3/envs/tf2/Lib/R/library                  </td><td>txhousing                                                        </td><td>Housing sales in TX                                              </td></tr>\n",
       "</tbody>\n",
       "</table>\n"
      ],
      "text/latex": [
       "\\begin{tabular}{llll}\n",
       " Package & LibPath & Item & Title\\\\\n",
       "\\hline\n",
       "\t ggplot2                                                           & C:/ProgramData/Anaconda3/envs/tf2/Lib/R/library                   & diamonds                                                          & Prices of 50,000 round cut diamonds                              \\\\\n",
       "\t ggplot2                                                           & C:/ProgramData/Anaconda3/envs/tf2/Lib/R/library                   & economics                                                         & US economic time series                                          \\\\\n",
       "\t ggplot2                                                           & C:/ProgramData/Anaconda3/envs/tf2/Lib/R/library                   & economics\\_long                                                  & US economic time series                                          \\\\\n",
       "\t ggplot2                                                           & C:/ProgramData/Anaconda3/envs/tf2/Lib/R/library                   & faithfuld                                                         & 2d density estimate of Old Faithful data                         \\\\\n",
       "\t ggplot2                                                           & C:/ProgramData/Anaconda3/envs/tf2/Lib/R/library                   & luv\\_colours                                                     & 'colors()' in Luv space                                          \\\\\n",
       "\t ggplot2                                                           & C:/ProgramData/Anaconda3/envs/tf2/Lib/R/library                   & midwest                                                           & Midwest demographics                                             \\\\\n",
       "\t ggplot2                                                           & C:/ProgramData/Anaconda3/envs/tf2/Lib/R/library                   & mpg                                                               & Fuel economy data from 1999 and 2008 for 38 popular models of car\\\\\n",
       "\t ggplot2                                                           & C:/ProgramData/Anaconda3/envs/tf2/Lib/R/library                   & msleep                                                            & An updated and expanded version of the mammals sleep dataset     \\\\\n",
       "\t ggplot2                                                           & C:/ProgramData/Anaconda3/envs/tf2/Lib/R/library                   & presidential                                                      & Terms of 11 presidents from Eisenhower to Obama                  \\\\\n",
       "\t ggplot2                                                           & C:/ProgramData/Anaconda3/envs/tf2/Lib/R/library                   & seals                                                             & Vector field of seal movements                                   \\\\\n",
       "\t ggplot2                                                           & C:/ProgramData/Anaconda3/envs/tf2/Lib/R/library                   & txhousing                                                         & Housing sales in TX                                              \\\\\n",
       "\\end{tabular}\n"
      ],
      "text/markdown": [
       "\n",
       "| Package | LibPath | Item | Title |\n",
       "|---|---|---|---|\n",
       "| ggplot2                                                           | C:/ProgramData/Anaconda3/envs/tf2/Lib/R/library                   | diamonds                                                          | Prices of 50,000 round cut diamonds                               |\n",
       "| ggplot2                                                           | C:/ProgramData/Anaconda3/envs/tf2/Lib/R/library                   | economics                                                         | US economic time series                                           |\n",
       "| ggplot2                                                           | C:/ProgramData/Anaconda3/envs/tf2/Lib/R/library                   | economics_long                                                    | US economic time series                                           |\n",
       "| ggplot2                                                           | C:/ProgramData/Anaconda3/envs/tf2/Lib/R/library                   | faithfuld                                                         | 2d density estimate of Old Faithful data                          |\n",
       "| ggplot2                                                           | C:/ProgramData/Anaconda3/envs/tf2/Lib/R/library                   | luv_colours                                                       | 'colors()' in Luv space                                           |\n",
       "| ggplot2                                                           | C:/ProgramData/Anaconda3/envs/tf2/Lib/R/library                   | midwest                                                           | Midwest demographics                                              |\n",
       "| ggplot2                                                           | C:/ProgramData/Anaconda3/envs/tf2/Lib/R/library                   | mpg                                                               | Fuel economy data from 1999 and 2008 for 38 popular models of car |\n",
       "| ggplot2                                                           | C:/ProgramData/Anaconda3/envs/tf2/Lib/R/library                   | msleep                                                            | An updated and expanded version of the mammals sleep dataset      |\n",
       "| ggplot2                                                           | C:/ProgramData/Anaconda3/envs/tf2/Lib/R/library                   | presidential                                                      | Terms of 11 presidents from Eisenhower to Obama                   |\n",
       "| ggplot2                                                           | C:/ProgramData/Anaconda3/envs/tf2/Lib/R/library                   | seals                                                             | Vector field of seal movements                                    |\n",
       "| ggplot2                                                           | C:/ProgramData/Anaconda3/envs/tf2/Lib/R/library                   | txhousing                                                         | Housing sales in TX                                               |\n",
       "\n"
      ],
      "text/plain": [
       "      Package LibPath                                         Item          \n",
       " [1,] ggplot2 C:/ProgramData/Anaconda3/envs/tf2/Lib/R/library diamonds      \n",
       " [2,] ggplot2 C:/ProgramData/Anaconda3/envs/tf2/Lib/R/library economics     \n",
       " [3,] ggplot2 C:/ProgramData/Anaconda3/envs/tf2/Lib/R/library economics_long\n",
       " [4,] ggplot2 C:/ProgramData/Anaconda3/envs/tf2/Lib/R/library faithfuld     \n",
       " [5,] ggplot2 C:/ProgramData/Anaconda3/envs/tf2/Lib/R/library luv_colours   \n",
       " [6,] ggplot2 C:/ProgramData/Anaconda3/envs/tf2/Lib/R/library midwest       \n",
       " [7,] ggplot2 C:/ProgramData/Anaconda3/envs/tf2/Lib/R/library mpg           \n",
       " [8,] ggplot2 C:/ProgramData/Anaconda3/envs/tf2/Lib/R/library msleep        \n",
       " [9,] ggplot2 C:/ProgramData/Anaconda3/envs/tf2/Lib/R/library presidential  \n",
       "[10,] ggplot2 C:/ProgramData/Anaconda3/envs/tf2/Lib/R/library seals         \n",
       "[11,] ggplot2 C:/ProgramData/Anaconda3/envs/tf2/Lib/R/library txhousing     \n",
       "      Title                                                            \n",
       " [1,] Prices of 50,000 round cut diamonds                              \n",
       " [2,] US economic time series                                          \n",
       " [3,] US economic time series                                          \n",
       " [4,] 2d density estimate of Old Faithful data                         \n",
       " [5,] 'colors()' in Luv space                                          \n",
       " [6,] Midwest demographics                                             \n",
       " [7,] Fuel economy data from 1999 and 2008 for 38 popular models of car\n",
       " [8,] An updated and expanded version of the mammals sleep dataset     \n",
       " [9,] Terms of 11 presidents from Eisenhower to Obama                  \n",
       "[10,] Vector field of seal movements                                   \n",
       "[11,] Housing sales in TX                                              "
      ]
     },
     "metadata": {},
     "output_type": "display_data"
    }
   ],
   "source": [
    "df = data(package='ggplot2')   # 패키지 데이터 보기\n",
    "df$results"
   ]
  },
  {
   "cell_type": "code",
   "execution_count": 17,
   "metadata": {},
   "outputs": [
    {
     "data": {
      "text/html": [
       "<table>\n",
       "<thead><tr><th scope=col>manufacturer</th><th scope=col>model</th><th scope=col>displ</th><th scope=col>year</th><th scope=col>cyl</th><th scope=col>trans</th><th scope=col>drv</th><th scope=col>cty</th><th scope=col>hwy</th><th scope=col>fl</th><th scope=col>class</th></tr></thead>\n",
       "<tbody>\n",
       "\t<tr><td>audi      </td><td>a4        </td><td>1.8       </td><td>1999      </td><td>4         </td><td>auto(l5)  </td><td>f         </td><td>18        </td><td>29        </td><td>p         </td><td>compact   </td></tr>\n",
       "\t<tr><td>audi      </td><td>a4        </td><td>1.8       </td><td>1999      </td><td>4         </td><td>manual(m5)</td><td>f         </td><td>21        </td><td>29        </td><td>p         </td><td>compact   </td></tr>\n",
       "\t<tr><td>audi      </td><td>a4        </td><td>2.0       </td><td>2008      </td><td>4         </td><td>manual(m6)</td><td>f         </td><td>20        </td><td>31        </td><td>p         </td><td>compact   </td></tr>\n",
       "\t<tr><td>audi      </td><td>a4        </td><td>2.0       </td><td>2008      </td><td>4         </td><td>auto(av)  </td><td>f         </td><td>21        </td><td>30        </td><td>p         </td><td>compact   </td></tr>\n",
       "\t<tr><td>audi      </td><td>a4        </td><td>2.8       </td><td>1999      </td><td>6         </td><td>auto(l5)  </td><td>f         </td><td>16        </td><td>26        </td><td>p         </td><td>compact   </td></tr>\n",
       "\t<tr><td>audi      </td><td>a4        </td><td>2.8       </td><td>1999      </td><td>6         </td><td>manual(m5)</td><td>f         </td><td>18        </td><td>26        </td><td>p         </td><td>compact   </td></tr>\n",
       "</tbody>\n",
       "</table>\n"
      ],
      "text/latex": [
       "\\begin{tabular}{r|lllllllllll}\n",
       " manufacturer & model & displ & year & cyl & trans & drv & cty & hwy & fl & class\\\\\n",
       "\\hline\n",
       "\t audi       & a4         & 1.8        & 1999       & 4          & auto(l5)   & f          & 18         & 29         & p          & compact   \\\\\n",
       "\t audi       & a4         & 1.8        & 1999       & 4          & manual(m5) & f          & 21         & 29         & p          & compact   \\\\\n",
       "\t audi       & a4         & 2.0        & 2008       & 4          & manual(m6) & f          & 20         & 31         & p          & compact   \\\\\n",
       "\t audi       & a4         & 2.0        & 2008       & 4          & auto(av)   & f          & 21         & 30         & p          & compact   \\\\\n",
       "\t audi       & a4         & 2.8        & 1999       & 6          & auto(l5)   & f          & 16         & 26         & p          & compact   \\\\\n",
       "\t audi       & a4         & 2.8        & 1999       & 6          & manual(m5) & f          & 18         & 26         & p          & compact   \\\\\n",
       "\\end{tabular}\n"
      ],
      "text/markdown": [
       "\n",
       "| manufacturer | model | displ | year | cyl | trans | drv | cty | hwy | fl | class |\n",
       "|---|---|---|---|---|---|---|---|---|---|---|\n",
       "| audi       | a4         | 1.8        | 1999       | 4          | auto(l5)   | f          | 18         | 29         | p          | compact    |\n",
       "| audi       | a4         | 1.8        | 1999       | 4          | manual(m5) | f          | 21         | 29         | p          | compact    |\n",
       "| audi       | a4         | 2.0        | 2008       | 4          | manual(m6) | f          | 20         | 31         | p          | compact    |\n",
       "| audi       | a4         | 2.0        | 2008       | 4          | auto(av)   | f          | 21         | 30         | p          | compact    |\n",
       "| audi       | a4         | 2.8        | 1999       | 6          | auto(l5)   | f          | 16         | 26         | p          | compact    |\n",
       "| audi       | a4         | 2.8        | 1999       | 6          | manual(m5) | f          | 18         | 26         | p          | compact    |\n",
       "\n"
      ],
      "text/plain": [
       "  manufacturer model displ year cyl trans      drv cty hwy fl class  \n",
       "1 audi         a4    1.8   1999 4   auto(l5)   f   18  29  p  compact\n",
       "2 audi         a4    1.8   1999 4   manual(m5) f   21  29  p  compact\n",
       "3 audi         a4    2.0   2008 4   manual(m6) f   20  31  p  compact\n",
       "4 audi         a4    2.0   2008 4   auto(av)   f   21  30  p  compact\n",
       "5 audi         a4    2.8   1999 6   auto(l5)   f   16  26  p  compact\n",
       "6 audi         a4    2.8   1999 6   manual(m5) f   18  26  p  compact"
      ]
     },
     "metadata": {},
     "output_type": "display_data"
    }
   ],
   "source": [
    "mpg=as.data.frame(ggplot2::mpg)\n",
    "head(mpg)"
   ]
  },
  {
   "cell_type": "code",
   "execution_count": 18,
   "metadata": {},
   "outputs": [
    {
     "data": {
      "text/plain": [
       "\n",
       "  4   f   r \n",
       "103 106  25 "
      ]
     },
     "metadata": {},
     "output_type": "display_data"
    }
   ],
   "source": [
    "table(mpg$drv)"
   ]
  },
  {
   "cell_type": "code",
   "execution_count": 46,
   "metadata": {},
   "outputs": [
    {
     "data": {
      "text/html": [
       "<table>\n",
       "<thead><tr><th scope=col>drv</th><th scope=col>mean_cty</th><th scope=col>1</th></tr></thead>\n",
       "<tbody>\n",
       "\t<tr><td>4      </td><td>14.3301</td><td>1      </td></tr>\n",
       "\t<tr><td>f      </td><td>19.9717</td><td>1      </td></tr>\n",
       "\t<tr><td>r      </td><td>14.0800</td><td>1      </td></tr>\n",
       "</tbody>\n",
       "</table>\n"
      ],
      "text/latex": [
       "\\begin{tabular}{r|lll}\n",
       " drv & mean\\_cty & 1\\\\\n",
       "\\hline\n",
       "\t 4       & 14.3301 & 1      \\\\\n",
       "\t f       & 19.9717 & 1      \\\\\n",
       "\t r       & 14.0800 & 1      \\\\\n",
       "\\end{tabular}\n"
      ],
      "text/markdown": [
       "\n",
       "| drv | mean_cty | 1 |\n",
       "|---|---|---|\n",
       "| 4       | 14.3301 | 1       |\n",
       "| f       | 19.9717 | 1       |\n",
       "| r       | 14.0800 | 1       |\n",
       "\n"
      ],
      "text/plain": [
       "  drv mean_cty 1\n",
       "1 4   14.3301  1\n",
       "2 f   19.9717  1\n",
       "3 r   14.0800  1"
      ]
     },
     "metadata": {},
     "output_type": "display_data"
    }
   ],
   "source": [
    "df_g=mpg %>% \n",
    "    group_by(drv) %>% \n",
    "    summarise(mean_cty=mean(cty),1)\n",
    "df_g"
   ]
  },
  {
   "cell_type": "code",
   "execution_count": 44,
   "metadata": {},
   "outputs": [
    {
     "data": {
      "image/png": "[encoded data removed]",
      "text/plain": [
       "plot without title"
      ]
     },
     "metadata": {},
     "output_type": "display_data"
    }
   ],
   "source": [
    "ggplot(data=df_g, aes(x=reorder(drv,-mean_cty),y=mean_cty))+\n",
    "    geom_col(fill=c('red','blue','orange'))+\n",
    "    geom_text(aes(label=df_g$mean_cty),hjust=0.2, col='red')+\n",
    "    coord_flip()+xlab('구동타입')+ylab('도시연비')"
   ]
  },
  {
   "cell_type": "code",
   "execution_count": 39,
   "metadata": {},
   "outputs": [
    {
     "data": {
      "text/html": [
       "<ol class=list-inline>\n",
       "\t<li>0.0566443845164031</li>\n",
       "\t<li>0.732622016919777</li>\n",
       "\t<li>0.482814499409869</li>\n",
       "</ol>\n"
      ],
      "text/latex": [
       "\\begin{enumerate*}\n",
       "\\item 0.0566443845164031\n",
       "\\item 0.732622016919777\n",
       "\\item 0.482814499409869\n",
       "\\end{enumerate*}\n"
      ],
      "text/markdown": [
       "1. 0.0566443845164031\n",
       "2. 0.732622016919777\n",
       "3. 0.482814499409869\n",
       "\n",
       "\n"
      ],
      "text/plain": [
       "[1] 0.05664438 0.73262202 0.48281450"
      ]
     },
     "metadata": {},
     "output_type": "display_data"
    }
   ],
   "source": [
    "# seed 함수\n",
    "runif(3)"
   ]
  },
  {
   "cell_type": "code",
   "execution_count": 47,
   "metadata": {},
   "outputs": [
    {
     "data": {
      "text/html": [
       "<ol class=list-inline>\n",
       "\t<li>-1.66364719855564</li>\n",
       "\t<li>2.06584139272867</li>\n",
       "\t<li>-0.204854102567918</li>\n",
       "</ol>\n"
      ],
      "text/latex": [
       "\\begin{enumerate*}\n",
       "\\item -1.66364719855564\n",
       "\\item 2.06584139272867\n",
       "\\item -0.204854102567918\n",
       "\\end{enumerate*}\n"
      ],
      "text/markdown": [
       "1. -1.66364719855564\n",
       "2. 2.06584139272867\n",
       "3. -0.204854102567918\n",
       "\n",
       "\n"
      ],
      "text/plain": [
       "[1] -1.6636472  2.0658414 -0.2048541"
      ]
     },
     "metadata": {},
     "output_type": "display_data"
    }
   ],
   "source": [
    "rnorm(3,mean=0,sd=1)"
   ]
  },
  {
   "cell_type": "code",
   "execution_count": 48,
   "metadata": {},
   "outputs": [],
   "source": [
    "set.seed(1234)"
   ]
  },
  {
   "cell_type": "code",
   "execution_count": 49,
   "metadata": {},
   "outputs": [
    {
     "data": {
      "text/html": [
       "<ol class=list-inline>\n",
       "\t<li>0.113703411305323</li>\n",
       "\t<li>0.622299404814839</li>\n",
       "\t<li>0.609274732880294</li>\n",
       "\t<li>0.623379441676661</li>\n",
       "\t<li>0.860915383556858</li>\n",
       "\t<li>0.640310605289415</li>\n",
       "\t<li>0.0094957563560456</li>\n",
       "\t<li>0.232550506014377</li>\n",
       "\t<li>0.666083758231252</li>\n",
       "\t<li>0.514251141343266</li>\n",
       "\t<li>0.693591291783378</li>\n",
       "\t<li>0.544974835589528</li>\n",
       "\t<li>0.282733583590016</li>\n",
       "\t<li>0.923433484276757</li>\n",
       "\t<li>0.292315840255469</li>\n",
       "</ol>\n"
      ],
      "text/latex": [
       "\\begin{enumerate*}\n",
       "\\item 0.113703411305323\n",
       "\\item 0.622299404814839\n",
       "\\item 0.609274732880294\n",
       "\\item 0.623379441676661\n",
       "\\item 0.860915383556858\n",
       "\\item 0.640310605289415\n",
       "\\item 0.0094957563560456\n",
       "\\item 0.232550506014377\n",
       "\\item 0.666083758231252\n",
       "\\item 0.514251141343266\n",
       "\\item 0.693591291783378\n",
       "\\item 0.544974835589528\n",
       "\\item 0.282733583590016\n",
       "\\item 0.923433484276757\n",
       "\\item 0.292315840255469\n",
       "\\end{enumerate*}\n"
      ],
      "text/markdown": [
       "1. 0.113703411305323\n",
       "2. 0.622299404814839\n",
       "3. 0.609274732880294\n",
       "4. 0.623379441676661\n",
       "5. 0.860915383556858\n",
       "6. 0.640310605289415\n",
       "7. 0.0094957563560456\n",
       "8. 0.232550506014377\n",
       "9. 0.666083758231252\n",
       "10. 0.514251141343266\n",
       "11. 0.693591291783378\n",
       "12. 0.544974835589528\n",
       "13. 0.282733583590016\n",
       "14. 0.923433484276757\n",
       "15. 0.292315840255469\n",
       "\n",
       "\n"
      ],
      "text/plain": [
       " [1] 0.113703411 0.622299405 0.609274733 0.623379442 0.860915384 0.640310605\n",
       " [7] 0.009495756 0.232550506 0.666083758 0.514251141 0.693591292 0.544974836\n",
       "[13] 0.282733584 0.923433484 0.292315840"
      ]
     },
     "metadata": {},
     "output_type": "display_data"
    }
   ],
   "source": [
    "runif(15)"
   ]
  },
  {
   "cell_type": "code",
   "execution_count": 63,
   "metadata": {
    "scrolled": true
   },
   "outputs": [
    {
     "data": {
      "text/plain": [
       "\n",
       "\tShapiro-Wilk normality test\n",
       "\n",
       "data:  x\n",
       "W = 0.9841, p-value = 0.2731\n"
      ]
     },
     "metadata": {},
     "output_type": "display_data"
    },
    {
     "data": {
      "image/png": "[encoded data removed]",
      "text/plain": [
       "Plot with title \"Histogram of x\""
      ]
     },
     "metadata": {},
     "output_type": "display_data"
    }
   ],
   "source": [
    "x=rnorm(100)\n",
    "hist(x,probability = T)\n",
    "lines(density(x),type='h',col='red')\n",
    "shapiro.test(x)"
   ]
  }
 ],
 "metadata": {
  "kernelspec": {
   "display_name": "R",
   "language": "R",
   "name": "ir"
  },
  "language_info": {
   "codemirror_mode": "r",
   "file_extension": ".r",
   "mimetype": "text/x-r-source",
   "name": "R",
   "pygments_lexer": "r",
   "version": "3.6.1"
  }
 },
 "nbformat": 4,
 "nbformat_minor": 4
}
