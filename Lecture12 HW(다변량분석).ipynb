{
 "cells": [
  {
   "cell_type": "markdown",
   "metadata": {},
   "source": [
    "# 1번"
   ]
  },
  {
   "cell_type": "code",
   "execution_count": 18,
   "metadata": {},
   "outputs": [],
   "source": [
    "setwd(\"D:/Workspace/Rdata\")"
   ]
  },
  {
   "cell_type": "code",
   "execution_count": 2,
   "metadata": {},
   "outputs": [
    {
     "data": {
      "text/html": [
       "<table>\n",
       "<thead><tr><th scope=col>팀</th><th scope=col>승률</th><th scope=col>타율</th><th scope=col>장타율</th><th scope=col>출루율</th><th scope=col>평균자책</th></tr></thead>\n",
       "<tbody>\n",
       "\t<tr><td>KIA  </td><td>0.455</td><td>0.285</td><td>0.424</td><td>0.345</td><td>5.40 </td></tr>\n",
       "\t<tr><td>LG   </td><td>0.372</td><td>0.276</td><td>0.380</td><td>0.358</td><td>5.08 </td></tr>\n",
       "\t<tr><td>NC   </td><td>0.578</td><td>0.283</td><td>0.445</td><td>0.360</td><td>4.11 </td></tr>\n",
       "\t<tr><td>SK   </td><td>0.444</td><td>0.275</td><td>0.409</td><td>0.347</td><td>5.59 </td></tr>\n",
       "\t<tr><td>넥센 </td><td>0.545</td><td>0.283</td><td>0.471</td><td>0.372</td><td>5.44 </td></tr>\n",
       "\t<tr><td>두산 </td><td>0.568</td><td>0.307</td><td>0.468</td><td>0.378</td><td>5.03 </td></tr>\n",
       "</tbody>\n",
       "</table>\n"
      ],
      "text/latex": [
       "\\begin{tabular}{r|llllll}\n",
       " 팀 & 승률 & 타율 & 장타율 & 출루율 & 평균자책\\\\\n",
       "\\hline\n",
       "\t KIA   & 0.455 & 0.285 & 0.424 & 0.345 & 5.40 \\\\\n",
       "\t LG    & 0.372 & 0.276 & 0.380 & 0.358 & 5.08 \\\\\n",
       "\t NC    & 0.578 & 0.283 & 0.445 & 0.360 & 4.11 \\\\\n",
       "\t SK    & 0.444 & 0.275 & 0.409 & 0.347 & 5.59 \\\\\n",
       "\t 넥센  & 0.545 & 0.283 & 0.471 & 0.372 & 5.44 \\\\\n",
       "\t 두산  & 0.568 & 0.307 & 0.468 & 0.378 & 5.03 \\\\\n",
       "\\end{tabular}\n"
      ],
      "text/markdown": [
       "\n",
       "| 팀 | 승률 | 타율 | 장타율 | 출루율 | 평균자책 |\n",
       "|---|---|---|---|---|---|\n",
       "| KIA   | 0.455 | 0.285 | 0.424 | 0.345 | 5.40  |\n",
       "| LG    | 0.372 | 0.276 | 0.380 | 0.358 | 5.08  |\n",
       "| NC    | 0.578 | 0.283 | 0.445 | 0.360 | 4.11  |\n",
       "| SK    | 0.444 | 0.275 | 0.409 | 0.347 | 5.59  |\n",
       "| 넥센  | 0.545 | 0.283 | 0.471 | 0.372 | 5.44  |\n",
       "| 두산  | 0.568 | 0.307 | 0.468 | 0.378 | 5.03  |\n",
       "\n"
      ],
      "text/plain": [
       "  팀   승률  타율  장타율 출루율 평균자책\n",
       "1 KIA  0.455 0.285 0.424  0.345  5.40    \n",
       "2 LG   0.372 0.276 0.380  0.358  5.08    \n",
       "3 NC   0.578 0.283 0.445  0.360  4.11    \n",
       "4 SK   0.444 0.275 0.409  0.347  5.59    \n",
       "5 넥센 0.545 0.283 0.471  0.372  5.44    \n",
       "6 두산 0.568 0.307 0.468  0.378  5.03    "
      ]
     },
     "metadata": {},
     "output_type": "display_data"
    }
   ],
   "source": [
    "data=read.csv('20140528_baseball.csv')\n",
    "head(data)"
   ]
  },
  {
   "cell_type": "code",
   "execution_count": 5,
   "metadata": {},
   "outputs": [
    {
     "data": {
      "text/html": [
       "<ol class=list-inline>\n",
       "\t<li>'KIA'</li>\n",
       "\t<li>'LG'</li>\n",
       "\t<li>'NC'</li>\n",
       "\t<li>'SK'</li>\n",
       "\t<li>'넥센'</li>\n",
       "\t<li>'두산'</li>\n",
       "</ol>\n"
      ],
      "text/latex": [
       "\\begin{enumerate*}\n",
       "\\item 'KIA'\n",
       "\\item 'LG'\n",
       "\\item 'NC'\n",
       "\\item 'SK'\n",
       "\\item '넥센'\n",
       "\\item '두산'\n",
       "\\end{enumerate*}\n"
      ],
      "text/markdown": [
       "1. 'KIA'\n",
       "2. 'LG'\n",
       "3. 'NC'\n",
       "4. 'SK'\n",
       "5. '넥센'\n",
       "6. '두산'\n",
       "\n",
       "\n"
      ],
      "text/plain": [
       "[1] \"KIA\"  \"LG\"   \"NC\"   \"SK\"   \"넥센\" \"두산\""
      ]
     },
     "metadata": {},
     "output_type": "display_data"
    }
   ],
   "source": [
    "rownames(data)=data[,1]\n",
    "head(rownames(data))"
   ]
  },
  {
   "cell_type": "code",
   "execution_count": 14,
   "metadata": {
    "scrolled": true
   },
   "outputs": [
    {
     "data": {
      "image/png": "[encoded data removed]",
      "text/plain": [
       "plot without title"
      ]
     },
     "metadata": {},
     "output_type": "display_data"
    }
   ],
   "source": [
    "stars(data[,2:6],flip.labels = F,key.loc=c(9,2),draw.segments=TRUE)"
   ]
  },
  {
   "cell_type": "code",
   "execution_count": 19,
   "metadata": {},
   "outputs": [
    {
     "name": "stdout",
     "output_type": "stream",
     "text": [
      "package 'aplpack' successfully unpacked and MD5 sums checked\n",
      "\n",
      "The downloaded binary packages are in\n",
      "\tC:\\Users\\16\\AppData\\Local\\Temp\\Rtmp2HKWTJ\\downloaded_packages\n"
     ]
    }
   ],
   "source": [
    "install.packages('aplpack')\n",
    "library(aplpack)"
   ]
  },
  {
   "cell_type": "code",
   "execution_count": 20,
   "metadata": {
    "scrolled": true
   },
   "outputs": [
    {
     "name": "stdout",
     "output_type": "stream",
     "text": [
      "effect of variables:\n",
      " modified item       Var       \n",
      " \"height of face   \" \"승률\"    \n",
      " \"width of face    \" \"타율\"    \n",
      " \"structure of face\" \"장타율\"  \n",
      " \"height of mouth  \" \"출루율\"  \n",
      " \"width of mouth   \" \"평균자책\"\n",
      " \"smiling          \" \"승률\"    \n",
      " \"height of eyes   \" \"타율\"    \n",
      " \"width of eyes    \" \"장타율\"  \n",
      " \"height of hair   \" \"출루율\"  \n",
      " \"width of hair   \"  \"평균자책\"\n",
      " \"style of hair   \"  \"승률\"    \n",
      " \"height of nose  \"  \"타율\"    \n",
      " \"width of nose   \"  \"장타율\"  \n",
      " \"width of ear    \"  \"출루율\"  \n",
      " \"height of ear   \"  \"평균자책\"\n"
     ]
    },
    {
     "data": {
      "image/png": "[encoded data removed]",
      "text/plain": [
       "Plot with title \"한화\""
      ]
     },
     "metadata": {},
     "output_type": "display_data"
    }
   ],
   "source": [
    "faces(data[,2:6])"
   ]
  },
  {
   "cell_type": "markdown",
   "metadata": {},
   "source": [
    "# 2번"
   ]
  },
  {
   "cell_type": "code",
   "execution_count": 21,
   "metadata": {},
   "outputs": [
    {
     "data": {
      "text/html": [
       "<table>\n",
       "<thead><tr><th scope=col>선수명</th><th scope=col>포지션</th><th scope=col>팀</th><th scope=col>홈런</th><th scope=col>타점</th><th scope=col>도루</th><th scope=col>볼넷</th><th scope=col>삼진</th><th scope=col>타율</th><th scope=col>장타율</th><th scope=col>출루율</th></tr></thead>\n",
       "<tbody>\n",
       "\t<tr><td>이병규</td><td>우익수</td><td>LG    </td><td> 5    </td><td>74    </td><td> 2    </td><td>22    </td><td>40    </td><td>0.348 </td><td>0.455 </td><td>0.384 </td></tr>\n",
       "\t<tr><td>손아섭</td><td>우익수</td><td>롯데  </td><td>11    </td><td>69    </td><td>36    </td><td>64    </td><td>88    </td><td>0.345 </td><td>0.474 </td><td>0.421 </td></tr>\n",
       "\t<tr><td>이진영</td><td>우익수</td><td>LG    </td><td> 3    </td><td>62    </td><td> 6    </td><td>37    </td><td>42    </td><td>0.329 </td><td>0.429 </td><td>0.390 </td></tr>\n",
       "\t<tr><td>박용택</td><td>중견수</td><td>LG    </td><td> 7    </td><td>67    </td><td>13    </td><td>52    </td><td>71    </td><td>0.328 </td><td>0.435 </td><td>0.393 </td></tr>\n",
       "\t<tr><td>김태균</td><td>1루수 </td><td>한화  </td><td>10    </td><td>52    </td><td> 0    </td><td>73    </td><td>67    </td><td>0.319 </td><td>0.475 </td><td>0.444 </td></tr>\n",
       "\t<tr><td>민병헌</td><td>우익수</td><td>두산  </td><td> 9    </td><td>65    </td><td>27    </td><td>40    </td><td>62    </td><td>0.319 </td><td>0.480 </td><td>0.387 </td></tr>\n",
       "</tbody>\n",
       "</table>\n"
      ],
      "text/latex": [
       "\\begin{tabular}{r|lllllllllll}\n",
       " 선수명 & 포지션 & 팀 & 홈런 & 타점 & 도루 & 볼넷 & 삼진 & 타율 & 장타율 & 출루율\\\\\n",
       "\\hline\n",
       "\t 이병규 & 우익수 & LG     &  5     & 74     &  2     & 22     & 40     & 0.348  & 0.455  & 0.384 \\\\\n",
       "\t 손아섭 & 우익수 & 롯데   & 11     & 69     & 36     & 64     & 88     & 0.345  & 0.474  & 0.421 \\\\\n",
       "\t 이진영 & 우익수 & LG     &  3     & 62     &  6     & 37     & 42     & 0.329  & 0.429  & 0.390 \\\\\n",
       "\t 박용택 & 중견수 & LG     &  7     & 67     & 13     & 52     & 71     & 0.328  & 0.435  & 0.393 \\\\\n",
       "\t 김태균 & 1루수  & 한화   & 10     & 52     &  0     & 73     & 67     & 0.319  & 0.475  & 0.444 \\\\\n",
       "\t 민병헌 & 우익수 & 두산   &  9     & 65     & 27     & 40     & 62     & 0.319  & 0.480  & 0.387 \\\\\n",
       "\\end{tabular}\n"
      ],
      "text/markdown": [
       "\n",
       "| 선수명 | 포지션 | 팀 | 홈런 | 타점 | 도루 | 볼넷 | 삼진 | 타율 | 장타율 | 출루율 |\n",
       "|---|---|---|---|---|---|---|---|---|---|---|\n",
       "| 이병규 | 우익수 | LG     |  5     | 74     |  2     | 22     | 40     | 0.348  | 0.455  | 0.384  |\n",
       "| 손아섭 | 우익수 | 롯데   | 11     | 69     | 36     | 64     | 88     | 0.345  | 0.474  | 0.421  |\n",
       "| 이진영 | 우익수 | LG     |  3     | 62     |  6     | 37     | 42     | 0.329  | 0.429  | 0.390  |\n",
       "| 박용택 | 중견수 | LG     |  7     | 67     | 13     | 52     | 71     | 0.328  | 0.435  | 0.393  |\n",
       "| 김태균 | 1루수  | 한화   | 10     | 52     |  0     | 73     | 67     | 0.319  | 0.475  | 0.444  |\n",
       "| 민병헌 | 우익수 | 두산   |  9     | 65     | 27     | 40     | 62     | 0.319  | 0.480  | 0.387  |\n",
       "\n"
      ],
      "text/plain": [
       "  선수명 포지션 팀   홈런 타점 도루 볼넷 삼진 타율  장타율 출루율\n",
       "1 이병규 우익수 LG    5   74    2   22   40   0.348 0.455  0.384 \n",
       "2 손아섭 우익수 롯데 11   69   36   64   88   0.345 0.474  0.421 \n",
       "3 이진영 우익수 LG    3   62    6   37   42   0.329 0.429  0.390 \n",
       "4 박용택 중견수 LG    7   67   13   52   71   0.328 0.435  0.393 \n",
       "5 김태균 1루수  한화 10   52    0   73   67   0.319 0.475  0.444 \n",
       "6 민병헌 우익수 두산  9   65   27   40   62   0.319 0.480  0.387 "
      ]
     },
     "metadata": {},
     "output_type": "display_data"
    }
   ],
   "source": [
    "bb2013=read.csv('2013_baseball.csv')\n",
    "head(bb2013)"
   ]
  },
  {
   "cell_type": "code",
   "execution_count": 23,
   "metadata": {},
   "outputs": [
    {
     "data": {
      "text/html": [
       "<ol class=list-inline>\n",
       "\t<li>우익수</li>\n",
       "\t<li>우익수</li>\n",
       "\t<li>우익수</li>\n",
       "\t<li>중견수</li>\n",
       "\t<li>1루수</li>\n",
       "\t<li>우익수</li>\n",
       "</ol>\n",
       "\n",
       "<details>\n",
       "\t<summary style=display:list-item;cursor:pointer>\n",
       "\t\t<strong>Levels</strong>:\n",
       "\t</summary>\n",
       "\t<ol class=list-inline>\n",
       "\t\t<li>'1루수'</li>\n",
       "\t\t<li>'2루수'</li>\n",
       "\t\t<li>'3루수'</li>\n",
       "\t\t<li>'우익수'</li>\n",
       "\t\t<li>'유격수'</li>\n",
       "\t\t<li>'좌익수'</li>\n",
       "\t\t<li>'중견수'</li>\n",
       "\t\t<li>'포수'</li>\n",
       "\t</ol>\n",
       "</details>"
      ],
      "text/latex": [
       "\\begin{enumerate*}\n",
       "\\item 우익수\n",
       "\\item 우익수\n",
       "\\item 우익수\n",
       "\\item 중견수\n",
       "\\item 1루수\n",
       "\\item 우익수\n",
       "\\end{enumerate*}\n",
       "\n",
       "\\emph{Levels}: \\begin{enumerate*}\n",
       "\\item '1루수'\n",
       "\\item '2루수'\n",
       "\\item '3루수'\n",
       "\\item '우익수'\n",
       "\\item '유격수'\n",
       "\\item '좌익수'\n",
       "\\item '중견수'\n",
       "\\item '포수'\n",
       "\\end{enumerate*}\n"
      ],
      "text/markdown": [
       "1. 우익수\n",
       "2. 우익수\n",
       "3. 우익수\n",
       "4. 중견수\n",
       "5. 1루수\n",
       "6. 우익수\n",
       "\n",
       "\n",
       "\n",
       "**Levels**: 1. '1루수'\n",
       "2. '2루수'\n",
       "3. '3루수'\n",
       "4. '우익수'\n",
       "5. '유격수'\n",
       "6. '좌익수'\n",
       "7. '중견수'\n",
       "8. '포수'\n",
       "\n",
       "\n"
      ],
      "text/plain": [
       "[1] 우익수 우익수 우익수 중견수 1루수  우익수\n",
       "Levels: 1루수 2루수 3루수 우익수 유격수 좌익수 중견수 포수"
      ]
     },
     "metadata": {},
     "output_type": "display_data"
    }
   ],
   "source": [
    "position=bb2013$포지션\n",
    "head(position)"
   ]
  },
  {
   "cell_type": "code",
   "execution_count": 32,
   "metadata": {},
   "outputs": [
    {
     "data": {
      "text/html": [
       "<table>\n",
       "<thead><tr><th scope=col>포지션</th><th scope=col>홈런</th><th scope=col>타점</th><th scope=col>도루</th><th scope=col>볼넷</th><th scope=col>삼진</th><th scope=col>타율</th><th scope=col>장타율</th><th scope=col>출루율</th></tr></thead>\n",
       "<tbody>\n",
       "\t<tr><td>1루수 </td><td>126   </td><td>564   </td><td> 32   </td><td>436   </td><td>650   </td><td>2.296 </td><td>3.683 </td><td>2.962 </td></tr>\n",
       "\t<tr><td>2루수 </td><td> 20   </td><td>152   </td><td> 60   </td><td>172   </td><td>239   </td><td>1.052 </td><td>1.435 </td><td>1.379 </td></tr>\n",
       "\t<tr><td>3루수 </td><td>113   </td><td>473   </td><td> 86   </td><td>367   </td><td>549   </td><td>2.026 </td><td>3.228 </td><td>2.658 </td></tr>\n",
       "\t<tr><td>우익수</td><td> 57   </td><td>497   </td><td>186   </td><td>420   </td><td>707   </td><td>2.958 </td><td>4.042 </td><td>3.690 </td></tr>\n",
       "\t<tr><td>유격수</td><td> 42   </td><td>229   </td><td> 70   </td><td>190   </td><td>354   </td><td>1.101 </td><td>1.661 </td><td>1.418 </td></tr>\n",
       "\t<tr><td>좌익수</td><td> 81   </td><td>414   </td><td> 36   </td><td>282   </td><td>467   </td><td>1.708 </td><td>2.608 </td><td>2.168 </td></tr>\n",
       "</tbody>\n",
       "</table>\n"
      ],
      "text/latex": [
       "\\begin{tabular}{r|lllllllll}\n",
       " 포지션 & 홈런 & 타점 & 도루 & 볼넷 & 삼진 & 타율 & 장타율 & 출루율\\\\\n",
       "\\hline\n",
       "\t 1루수  & 126    & 564    &  32    & 436    & 650    & 2.296  & 3.683  & 2.962 \\\\\n",
       "\t 2루수  &  20    & 152    &  60    & 172    & 239    & 1.052  & 1.435  & 1.379 \\\\\n",
       "\t 3루수  & 113    & 473    &  86    & 367    & 549    & 2.026  & 3.228  & 2.658 \\\\\n",
       "\t 우익수 &  57    & 497    & 186    & 420    & 707    & 2.958  & 4.042  & 3.690 \\\\\n",
       "\t 유격수 &  42    & 229    &  70    & 190    & 354    & 1.101  & 1.661  & 1.418 \\\\\n",
       "\t 좌익수 &  81    & 414    &  36    & 282    & 467    & 1.708  & 2.608  & 2.168 \\\\\n",
       "\\end{tabular}\n"
      ],
      "text/markdown": [
       "\n",
       "| 포지션 | 홈런 | 타점 | 도루 | 볼넷 | 삼진 | 타율 | 장타율 | 출루율 |\n",
       "|---|---|---|---|---|---|---|---|---|\n",
       "| 1루수  | 126    | 564    |  32    | 436    | 650    | 2.296  | 3.683  | 2.962  |\n",
       "| 2루수  |  20    | 152    |  60    | 172    | 239    | 1.052  | 1.435  | 1.379  |\n",
       "| 3루수  | 113    | 473    |  86    | 367    | 549    | 2.026  | 3.228  | 2.658  |\n",
       "| 우익수 |  57    | 497    | 186    | 420    | 707    | 2.958  | 4.042  | 3.690  |\n",
       "| 유격수 |  42    | 229    |  70    | 190    | 354    | 1.101  | 1.661  | 1.418  |\n",
       "| 좌익수 |  81    | 414    |  36    | 282    | 467    | 1.708  | 2.608  | 2.168  |\n",
       "\n"
      ],
      "text/plain": [
       "  포지션 홈런 타점 도루 볼넷 삼진 타율  장타율 출루율\n",
       "1 1루수  126  564   32  436  650  2.296 3.683  2.962 \n",
       "2 2루수   20  152   60  172  239  1.052 1.435  1.379 \n",
       "3 3루수  113  473   86  367  549  2.026 3.228  2.658 \n",
       "4 우익수  57  497  186  420  707  2.958 4.042  3.690 \n",
       "5 유격수  42  229   70  190  354  1.101 1.661  1.418 \n",
       "6 좌익수  81  414   36  282  467  1.708 2.608  2.168 "
      ]
     },
     "metadata": {},
     "output_type": "display_data"
    }
   ],
   "source": [
    "base2_pos=bb2013[,c(2,4:11)]\n",
    "base2_pos2=aggregate(base2_pos[,2:9],by=list(포지션=base2_pos$포지션), sum)\n",
    "head(base2_pos2)"
   ]
  },
  {
   "cell_type": "code",
   "execution_count": 33,
   "metadata": {},
   "outputs": [
    {
     "data": {
      "text/html": [
       "<table>\n",
       "<thead><tr><th></th><th scope=col>포지션</th><th scope=col>홈런</th><th scope=col>타점</th><th scope=col>도루</th><th scope=col>볼넷</th><th scope=col>삼진</th><th scope=col>타율</th><th scope=col>장타율</th><th scope=col>출루율</th></tr></thead>\n",
       "<tbody>\n",
       "\t<tr><th scope=row>1루수</th><td>1루수 </td><td>126   </td><td>564   </td><td> 32   </td><td>436   </td><td>650   </td><td>2.296 </td><td>3.683 </td><td>2.962 </td></tr>\n",
       "\t<tr><th scope=row>2루수</th><td>2루수 </td><td> 20   </td><td>152   </td><td> 60   </td><td>172   </td><td>239   </td><td>1.052 </td><td>1.435 </td><td>1.379 </td></tr>\n",
       "\t<tr><th scope=row>3루수</th><td>3루수 </td><td>113   </td><td>473   </td><td> 86   </td><td>367   </td><td>549   </td><td>2.026 </td><td>3.228 </td><td>2.658 </td></tr>\n",
       "\t<tr><th scope=row>우익수</th><td>우익수</td><td> 57   </td><td>497   </td><td>186   </td><td>420   </td><td>707   </td><td>2.958 </td><td>4.042 </td><td>3.690 </td></tr>\n",
       "\t<tr><th scope=row>유격수</th><td>유격수</td><td> 42   </td><td>229   </td><td> 70   </td><td>190   </td><td>354   </td><td>1.101 </td><td>1.661 </td><td>1.418 </td></tr>\n",
       "\t<tr><th scope=row>좌익수</th><td>좌익수</td><td> 81   </td><td>414   </td><td> 36   </td><td>282   </td><td>467   </td><td>1.708 </td><td>2.608 </td><td>2.168 </td></tr>\n",
       "</tbody>\n",
       "</table>\n"
      ],
      "text/latex": [
       "\\begin{tabular}{r|lllllllll}\n",
       "  & 포지션 & 홈런 & 타점 & 도루 & 볼넷 & 삼진 & 타율 & 장타율 & 출루율\\\\\n",
       "\\hline\n",
       "\t1루수 & 1루수  & 126    & 564    &  32    & 436    & 650    & 2.296  & 3.683  & 2.962 \\\\\n",
       "\t2루수 & 2루수  &  20    & 152    &  60    & 172    & 239    & 1.052  & 1.435  & 1.379 \\\\\n",
       "\t3루수 & 3루수  & 113    & 473    &  86    & 367    & 549    & 2.026  & 3.228  & 2.658 \\\\\n",
       "\t우익수 & 우익수 &  57    & 497    & 186    & 420    & 707    & 2.958  & 4.042  & 3.690 \\\\\n",
       "\t유격수 & 유격수 &  42    & 229    &  70    & 190    & 354    & 1.101  & 1.661  & 1.418 \\\\\n",
       "\t좌익수 & 좌익수 &  81    & 414    &  36    & 282    & 467    & 1.708  & 2.608  & 2.168 \\\\\n",
       "\\end{tabular}\n"
      ],
      "text/markdown": [
       "\n",
       "| <!--/--> | 포지션 | 홈런 | 타점 | 도루 | 볼넷 | 삼진 | 타율 | 장타율 | 출루율 |\n",
       "|---|---|---|---|---|---|---|---|---|---|\n",
       "| 1루수 | 1루수  | 126    | 564    |  32    | 436    | 650    | 2.296  | 3.683  | 2.962  |\n",
       "| 2루수 | 2루수  |  20    | 152    |  60    | 172    | 239    | 1.052  | 1.435  | 1.379  |\n",
       "| 3루수 | 3루수  | 113    | 473    |  86    | 367    | 549    | 2.026  | 3.228  | 2.658  |\n",
       "| 우익수 | 우익수 |  57    | 497    | 186    | 420    | 707    | 2.958  | 4.042  | 3.690  |\n",
       "| 유격수 | 유격수 |  42    | 229    |  70    | 190    | 354    | 1.101  | 1.661  | 1.418  |\n",
       "| 좌익수 | 좌익수 |  81    | 414    |  36    | 282    | 467    | 1.708  | 2.608  | 2.168  |\n",
       "\n"
      ],
      "text/plain": [
       "       포지션 홈런 타점 도루 볼넷 삼진 타율  장타율 출루율\n",
       "1루수  1루수  126  564   32  436  650  2.296 3.683  2.962 \n",
       "2루수  2루수   20  152   60  172  239  1.052 1.435  1.379 \n",
       "3루수  3루수  113  473   86  367  549  2.026 3.228  2.658 \n",
       "우익수 우익수  57  497  186  420  707  2.958 4.042  3.690 \n",
       "유격수 유격수  42  229   70  190  354  1.101 1.661  1.418 \n",
       "좌익수 좌익수  81  414   36  282  467  1.708 2.608  2.168 "
      ]
     },
     "metadata": {},
     "output_type": "display_data"
    }
   ],
   "source": [
    "rownames(base2_pos2)=base2_pos2[,1]\n",
    "head(base2_pos2)"
   ]
  },
  {
   "cell_type": "code",
   "execution_count": 35,
   "metadata": {},
   "outputs": [
    {
     "name": "stderr",
     "output_type": "stream",
     "text": [
      "Warning message:\n",
      "\"'parallel' is deprecated.\n",
      "Use 'parallelplot' instead.\n",
      "See help(\"Deprecated\")\"Warning message:\n",
      "\"'parallel' is deprecated.\n",
      "Use 'parallelplot' instead.\n",
      "See help(\"Deprecated\")\""
     ]
    },
    {
     "data": {
      "image/png": "[encoded data removed]",
      "text/plain": [
       "plot without title"
      ]
     },
     "metadata": {},
     "output_type": "display_data"
    },
    {
     "data": {
      "image/png": "[encoded data removed]",
      "text/plain": [
       "plot without title"
      ]
     },
     "metadata": {},
     "output_type": "display_data"
    }
   ],
   "source": [
    "library(lattice)\n",
    "parallel(~bb2013[,4:11]|position,horizontal.axis=F, col=1)\n",
    "parallel(base2_pos2[,2:9],horizontal.axis=F, col=1)"
   ]
  },
  {
   "cell_type": "markdown",
   "metadata": {},
   "source": [
    "## 팀별평행좌표"
   ]
  },
  {
   "cell_type": "code",
   "execution_count": 36,
   "metadata": {},
   "outputs": [
    {
     "data": {
      "text/html": [
       "<ol class=list-inline>\n",
       "\t<li>LG</li>\n",
       "\t<li>롯데</li>\n",
       "\t<li>LG</li>\n",
       "\t<li>LG</li>\n",
       "\t<li>한화</li>\n",
       "\t<li>두산</li>\n",
       "</ol>\n",
       "\n",
       "<details>\n",
       "\t<summary style=display:list-item;cursor:pointer>\n",
       "\t\t<strong>Levels</strong>:\n",
       "\t</summary>\n",
       "\t<ol class=list-inline>\n",
       "\t\t<li>'KIA'</li>\n",
       "\t\t<li>'LG'</li>\n",
       "\t\t<li>'NC'</li>\n",
       "\t\t<li>'SK'</li>\n",
       "\t\t<li>'넥센'</li>\n",
       "\t\t<li>'두산'</li>\n",
       "\t\t<li>'롯데'</li>\n",
       "\t\t<li>'삼성'</li>\n",
       "\t\t<li>'한화'</li>\n",
       "\t</ol>\n",
       "</details>"
      ],
      "text/latex": [
       "\\begin{enumerate*}\n",
       "\\item LG\n",
       "\\item 롯데\n",
       "\\item LG\n",
       "\\item LG\n",
       "\\item 한화\n",
       "\\item 두산\n",
       "\\end{enumerate*}\n",
       "\n",
       "\\emph{Levels}: \\begin{enumerate*}\n",
       "\\item 'KIA'\n",
       "\\item 'LG'\n",
       "\\item 'NC'\n",
       "\\item 'SK'\n",
       "\\item '넥센'\n",
       "\\item '두산'\n",
       "\\item '롯데'\n",
       "\\item '삼성'\n",
       "\\item '한화'\n",
       "\\end{enumerate*}\n"
      ],
      "text/markdown": [
       "1. LG\n",
       "2. 롯데\n",
       "3. LG\n",
       "4. LG\n",
       "5. 한화\n",
       "6. 두산\n",
       "\n",
       "\n",
       "\n",
       "**Levels**: 1. 'KIA'\n",
       "2. 'LG'\n",
       "3. 'NC'\n",
       "4. 'SK'\n",
       "5. '넥센'\n",
       "6. '두산'\n",
       "7. '롯데'\n",
       "8. '삼성'\n",
       "9. '한화'\n",
       "\n",
       "\n"
      ],
      "text/plain": [
       "[1] LG   롯데 LG   LG   한화 두산\n",
       "Levels: KIA LG NC SK 넥센 두산 롯데 삼성 한화"
      ]
     },
     "metadata": {},
     "output_type": "display_data"
    }
   ],
   "source": [
    "team=bb2013$팀\n",
    "head(team)"
   ]
  },
  {
   "cell_type": "code",
   "execution_count": 38,
   "metadata": {},
   "outputs": [
    {
     "name": "stderr",
     "output_type": "stream",
     "text": [
      "Warning message:\n",
      "\"'parallel' is deprecated.\n",
      "Use 'parallelplot' instead.\n",
      "See help(\"Deprecated\")\""
     ]
    },
    {
     "data": {
      "image/png": "[encoded data removed]",
      "text/plain": [
       "plot without title"
      ]
     },
     "metadata": {},
     "output_type": "display_data"
    }
   ],
   "source": [
    "parallel(~bb2013[,4:11]|team,horizontal.axis=F, col=1)"
   ]
  },
  {
   "cell_type": "markdown",
   "metadata": {},
   "source": [
    "# 3번"
   ]
  },
  {
   "cell_type": "code",
   "execution_count": 43,
   "metadata": {},
   "outputs": [
    {
     "data": {
      "text/html": [
       "<ol class=list-inline>\n",
       "\t<li>'이병규'</li>\n",
       "\t<li>'손아섭'</li>\n",
       "\t<li>'이진영'</li>\n",
       "\t<li>'박용택'</li>\n",
       "\t<li>'김태균'</li>\n",
       "\t<li>'민병헌'</li>\n",
       "\t<li>'박석민'</li>\n",
       "\t<li>'박병호'</li>\n",
       "\t<li>'최정'</li>\n",
       "\t<li>'정성훈'</li>\n",
       "\t<li>'신종길'</li>\n",
       "\t<li>'이종욱'</li>\n",
       "\t<li>'최형우'</li>\n",
       "\t<li>'김현수'</li>\n",
       "\t<li>'김강민'</li>\n",
       "\t<li>'최진행'</li>\n",
       "\t<li>'홍성흔'</li>\n",
       "\t<li>'김상수'</li>\n",
       "\t<li>'배영섭'</li>\n",
       "\t<li>'이용규'</li>\n",
       "\t<li>'박정권'</li>\n",
       "\t<li>'강정호'</li>\n",
       "\t<li>'나지완'</li>\n",
       "\t<li>'이택근'</li>\n",
       "\t<li>'정현석'</li>\n",
       "\t<li>'박한이'</li>\n",
       "\t<li>'김민성'</li>\n",
       "\t<li>'조영훈'</li>\n",
       "\t<li>'정근우'</li>\n",
       "\t<li>'이호준'</li>\n",
       "\t<li>'김종호'</li>\n",
       "\t<li>'모창민'</li>\n",
       "\t<li>'전준우'</li>\n",
       "\t<li>'황재균'</li>\n",
       "\t<li>'정의윤'</li>\n",
       "\t<li>'손주인'</li>\n",
       "\t<li>'정훈'</li>\n",
       "\t<li>'이대수'</li>\n",
       "\t<li>'오지환'</li>\n",
       "\t<li>'조동화'</li>\n",
       "\t<li>'박종윤'</li>\n",
       "\t<li>'이승엽'</li>\n",
       "\t<li>'안치홍'</li>\n",
       "\t<li>'이범호'</li>\n",
       "\t<li>'나성범'</li>\n",
       "\t<li>'장기영'</li>\n",
       "\t<li>'강민호'</li>\n",
       "\t<li>'권희동'</li>\n",
       "</ol>\n"
      ],
      "text/latex": [
       "\\begin{enumerate*}\n",
       "\\item '이병규'\n",
       "\\item '손아섭'\n",
       "\\item '이진영'\n",
       "\\item '박용택'\n",
       "\\item '김태균'\n",
       "\\item '민병헌'\n",
       "\\item '박석민'\n",
       "\\item '박병호'\n",
       "\\item '최정'\n",
       "\\item '정성훈'\n",
       "\\item '신종길'\n",
       "\\item '이종욱'\n",
       "\\item '최형우'\n",
       "\\item '김현수'\n",
       "\\item '김강민'\n",
       "\\item '최진행'\n",
       "\\item '홍성흔'\n",
       "\\item '김상수'\n",
       "\\item '배영섭'\n",
       "\\item '이용규'\n",
       "\\item '박정권'\n",
       "\\item '강정호'\n",
       "\\item '나지완'\n",
       "\\item '이택근'\n",
       "\\item '정현석'\n",
       "\\item '박한이'\n",
       "\\item '김민성'\n",
       "\\item '조영훈'\n",
       "\\item '정근우'\n",
       "\\item '이호준'\n",
       "\\item '김종호'\n",
       "\\item '모창민'\n",
       "\\item '전준우'\n",
       "\\item '황재균'\n",
       "\\item '정의윤'\n",
       "\\item '손주인'\n",
       "\\item '정훈'\n",
       "\\item '이대수'\n",
       "\\item '오지환'\n",
       "\\item '조동화'\n",
       "\\item '박종윤'\n",
       "\\item '이승엽'\n",
       "\\item '안치홍'\n",
       "\\item '이범호'\n",
       "\\item '나성범'\n",
       "\\item '장기영'\n",
       "\\item '강민호'\n",
       "\\item '권희동'\n",
       "\\end{enumerate*}\n"
      ],
      "text/markdown": [
       "1. '이병규'\n",
       "2. '손아섭'\n",
       "3. '이진영'\n",
       "4. '박용택'\n",
       "5. '김태균'\n",
       "6. '민병헌'\n",
       "7. '박석민'\n",
       "8. '박병호'\n",
       "9. '최정'\n",
       "10. '정성훈'\n",
       "11. '신종길'\n",
       "12. '이종욱'\n",
       "13. '최형우'\n",
       "14. '김현수'\n",
       "15. '김강민'\n",
       "16. '최진행'\n",
       "17. '홍성흔'\n",
       "18. '김상수'\n",
       "19. '배영섭'\n",
       "20. '이용규'\n",
       "21. '박정권'\n",
       "22. '강정호'\n",
       "23. '나지완'\n",
       "24. '이택근'\n",
       "25. '정현석'\n",
       "26. '박한이'\n",
       "27. '김민성'\n",
       "28. '조영훈'\n",
       "29. '정근우'\n",
       "30. '이호준'\n",
       "31. '김종호'\n",
       "32. '모창민'\n",
       "33. '전준우'\n",
       "34. '황재균'\n",
       "35. '정의윤'\n",
       "36. '손주인'\n",
       "37. '정훈'\n",
       "38. '이대수'\n",
       "39. '오지환'\n",
       "40. '조동화'\n",
       "41. '박종윤'\n",
       "42. '이승엽'\n",
       "43. '안치홍'\n",
       "44. '이범호'\n",
       "45. '나성범'\n",
       "46. '장기영'\n",
       "47. '강민호'\n",
       "48. '권희동'\n",
       "\n",
       "\n"
      ],
      "text/plain": [
       " [1] \"이병규\" \"손아섭\" \"이진영\" \"박용택\" \"김태균\" \"민병헌\" \"박석민\" \"박병호\"\n",
       " [9] \"최정\"   \"정성훈\" \"신종길\" \"이종욱\" \"최형우\" \"김현수\" \"김강민\" \"최진행\"\n",
       "[17] \"홍성흔\" \"김상수\" \"배영섭\" \"이용규\" \"박정권\" \"강정호\" \"나지완\" \"이택근\"\n",
       "[25] \"정현석\" \"박한이\" \"김민성\" \"조영훈\" \"정근우\" \"이호준\" \"김종호\" \"모창민\"\n",
       "[33] \"전준우\" \"황재균\" \"정의윤\" \"손주인\" \"정훈\"   \"이대수\" \"오지환\" \"조동화\"\n",
       "[41] \"박종윤\" \"이승엽\" \"안치홍\" \"이범호\" \"나성범\" \"장기영\" \"강민호\" \"권희동\""
      ]
     },
     "metadata": {},
     "output_type": "display_data"
    },
    {
     "data": {
      "text/html": [
       "<table>\n",
       "<thead><tr><th></th><th scope=col>선수명</th><th scope=col>포지션</th><th scope=col>팀</th><th scope=col>홈런</th><th scope=col>타점</th><th scope=col>도루</th><th scope=col>볼넷</th><th scope=col>삼진</th><th scope=col>타율</th><th scope=col>장타율</th><th scope=col>출루율</th></tr></thead>\n",
       "<tbody>\n",
       "\t<tr><th scope=row>이병규</th><td>이병규</td><td>우익수</td><td>LG    </td><td> 5    </td><td>74    </td><td> 2    </td><td>22    </td><td>40    </td><td>0.348 </td><td>0.455 </td><td>0.384 </td></tr>\n",
       "\t<tr><th scope=row>손아섭</th><td>손아섭</td><td>우익수</td><td>롯데  </td><td>11    </td><td>69    </td><td>36    </td><td>64    </td><td>88    </td><td>0.345 </td><td>0.474 </td><td>0.421 </td></tr>\n",
       "\t<tr><th scope=row>이진영</th><td>이진영</td><td>우익수</td><td>LG    </td><td> 3    </td><td>62    </td><td> 6    </td><td>37    </td><td>42    </td><td>0.329 </td><td>0.429 </td><td>0.390 </td></tr>\n",
       "\t<tr><th scope=row>박용택</th><td>박용택</td><td>중견수</td><td>LG    </td><td> 7    </td><td>67    </td><td>13    </td><td>52    </td><td>71    </td><td>0.328 </td><td>0.435 </td><td>0.393 </td></tr>\n",
       "\t<tr><th scope=row>김태균</th><td>김태균</td><td>1루수 </td><td>한화  </td><td>10    </td><td>52    </td><td> 0    </td><td>73    </td><td>67    </td><td>0.319 </td><td>0.475 </td><td>0.444 </td></tr>\n",
       "\t<tr><th scope=row>민병헌</th><td>민병헌</td><td>우익수</td><td>두산  </td><td> 9    </td><td>65    </td><td>27    </td><td>40    </td><td>62    </td><td>0.319 </td><td>0.480 </td><td>0.387 </td></tr>\n",
       "</tbody>\n",
       "</table>\n"
      ],
      "text/latex": [
       "\\begin{tabular}{r|lllllllllll}\n",
       "  & 선수명 & 포지션 & 팀 & 홈런 & 타점 & 도루 & 볼넷 & 삼진 & 타율 & 장타율 & 출루율\\\\\n",
       "\\hline\n",
       "\t이병규 & 이병규 & 우익수 & LG     &  5     & 74     &  2     & 22     & 40     & 0.348  & 0.455  & 0.384 \\\\\n",
       "\t손아섭 & 손아섭 & 우익수 & 롯데   & 11     & 69     & 36     & 64     & 88     & 0.345  & 0.474  & 0.421 \\\\\n",
       "\t이진영 & 이진영 & 우익수 & LG     &  3     & 62     &  6     & 37     & 42     & 0.329  & 0.429  & 0.390 \\\\\n",
       "\t박용택 & 박용택 & 중견수 & LG     &  7     & 67     & 13     & 52     & 71     & 0.328  & 0.435  & 0.393 \\\\\n",
       "\t김태균 & 김태균 & 1루수  & 한화   & 10     & 52     &  0     & 73     & 67     & 0.319  & 0.475  & 0.444 \\\\\n",
       "\t민병헌 & 민병헌 & 우익수 & 두산   &  9     & 65     & 27     & 40     & 62     & 0.319  & 0.480  & 0.387 \\\\\n",
       "\\end{tabular}\n"
      ],
      "text/markdown": [
       "\n",
       "| <!--/--> | 선수명 | 포지션 | 팀 | 홈런 | 타점 | 도루 | 볼넷 | 삼진 | 타율 | 장타율 | 출루율 |\n",
       "|---|---|---|---|---|---|---|---|---|---|---|---|\n",
       "| 이병규 | 이병규 | 우익수 | LG     |  5     | 74     |  2     | 22     | 40     | 0.348  | 0.455  | 0.384  |\n",
       "| 손아섭 | 손아섭 | 우익수 | 롯데   | 11     | 69     | 36     | 64     | 88     | 0.345  | 0.474  | 0.421  |\n",
       "| 이진영 | 이진영 | 우익수 | LG     |  3     | 62     |  6     | 37     | 42     | 0.329  | 0.429  | 0.390  |\n",
       "| 박용택 | 박용택 | 중견수 | LG     |  7     | 67     | 13     | 52     | 71     | 0.328  | 0.435  | 0.393  |\n",
       "| 김태균 | 김태균 | 1루수  | 한화   | 10     | 52     |  0     | 73     | 67     | 0.319  | 0.475  | 0.444  |\n",
       "| 민병헌 | 민병헌 | 우익수 | 두산   |  9     | 65     | 27     | 40     | 62     | 0.319  | 0.480  | 0.387  |\n",
       "\n"
      ],
      "text/plain": [
       "       선수명 포지션 팀   홈런 타점 도루 볼넷 삼진 타율  장타율 출루율\n",
       "이병규 이병규 우익수 LG    5   74    2   22   40   0.348 0.455  0.384 \n",
       "손아섭 손아섭 우익수 롯데 11   69   36   64   88   0.345 0.474  0.421 \n",
       "이진영 이진영 우익수 LG    3   62    6   37   42   0.329 0.429  0.390 \n",
       "박용택 박용택 중견수 LG    7   67   13   52   71   0.328 0.435  0.393 \n",
       "김태균 김태균 1루수  한화 10   52    0   73   67   0.319 0.475  0.444 \n",
       "민병헌 민병헌 우익수 두산  9   65   27   40   62   0.319 0.480  0.387 "
      ]
     },
     "metadata": {},
     "output_type": "display_data"
    }
   ],
   "source": [
    "rownames(bb2013)=bb2013[,1]\n",
    "rownames(bb2013)\n",
    "head(bb2013)"
   ]
  },
  {
   "cell_type": "code",
   "execution_count": 49,
   "metadata": {
    "scrolled": false
   },
   "outputs": [
    {
     "data": {
      "text/plain": [
       "Importance of components:\n",
       "                          PC1    PC2    PC3     PC4     PC5     PC6     PC7\n",
       "Standard deviation     1.9984 1.2933 1.1273 0.76071 0.53276 0.37904 0.17280\n",
       "Proportion of Variance 0.4992 0.2091 0.1588 0.07234 0.03548 0.01796 0.00373\n",
       "Cumulative Proportion  0.4992 0.7083 0.8671 0.93949 0.97497 0.99292 0.99666\n",
       "                           PC8\n",
       "Standard deviation     0.16352\n",
       "Proportion of Variance 0.00334\n",
       "Cumulative Proportion  1.00000"
      ]
     },
     "metadata": {},
     "output_type": "display_data"
    },
    {
     "data": {
      "image/png": "[encoded data removed]",
      "text/plain": [
       "Plot with title \"model\""
      ]
     },
     "metadata": {},
     "output_type": "display_data"
    }
   ],
   "source": [
    "model=prcomp(bb2013[,4:11],scale=T)\n",
    "plot(model)\n",
    "summary(model)"
   ]
  },
  {
   "cell_type": "code",
   "execution_count": 51,
   "metadata": {},
   "outputs": [
    {
     "data": {
      "image/png": "[encoded data removed]",
      "text/plain": [
       "plot without title"
      ]
     },
     "metadata": {},
     "output_type": "display_data"
    }
   ],
   "source": [
    "biplot(model)"
   ]
  },
  {
   "cell_type": "code",
   "execution_count": null,
   "metadata": {},
   "outputs": [],
   "source": []
  }
 ],
 "metadata": {
  "kernelspec": {
   "display_name": "R",
   "language": "R",
   "name": "ir"
  },
  "language_info": {
   "codemirror_mode": "r",
   "file_extension": ".r",
   "mimetype": "text/x-r-source",
   "name": "R",
   "pygments_lexer": "r",
   "version": "3.6.1"
  }
 },
 "nbformat": 4,
 "nbformat_minor": 4
}
