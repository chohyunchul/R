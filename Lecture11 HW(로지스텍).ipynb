{
 "cells": [
  {
   "cell_type": "code",
   "execution_count": 9,
   "metadata": {},
   "outputs": [],
   "source": [
    "setwd(\"D:/Workspace/Rdata\")"
   ]
  },
  {
   "cell_type": "code",
   "execution_count": 10,
   "metadata": {},
   "outputs": [
    {
     "data": {
      "text/html": [
       "<table>\n",
       "<thead><tr><th scope=col>flushot</th><th scope=col>age</th><th scope=col>aware</th><th scope=col>gender</th></tr></thead>\n",
       "<tbody>\n",
       "\t<tr><td>0 </td><td>59</td><td>52</td><td>0 </td></tr>\n",
       "\t<tr><td>0 </td><td>61</td><td>55</td><td>1 </td></tr>\n",
       "\t<tr><td>1 </td><td>82</td><td>51</td><td>0 </td></tr>\n",
       "\t<tr><td>0 </td><td>51</td><td>70</td><td>0 </td></tr>\n",
       "\t<tr><td>0 </td><td>53</td><td>70</td><td>0 </td></tr>\n",
       "\t<tr><td>0 </td><td>62</td><td>49</td><td>1 </td></tr>\n",
       "</tbody>\n",
       "</table>\n"
      ],
      "text/latex": [
       "\\begin{tabular}{r|llll}\n",
       " flushot & age & aware & gender\\\\\n",
       "\\hline\n",
       "\t 0  & 59 & 52 & 0 \\\\\n",
       "\t 0  & 61 & 55 & 1 \\\\\n",
       "\t 1  & 82 & 51 & 0 \\\\\n",
       "\t 0  & 51 & 70 & 0 \\\\\n",
       "\t 0  & 53 & 70 & 0 \\\\\n",
       "\t 0  & 62 & 49 & 1 \\\\\n",
       "\\end{tabular}\n"
      ],
      "text/markdown": [
       "\n",
       "| flushot | age | aware | gender |\n",
       "|---|---|---|---|\n",
       "| 0  | 59 | 52 | 0  |\n",
       "| 0  | 61 | 55 | 1  |\n",
       "| 1  | 82 | 51 | 0  |\n",
       "| 0  | 51 | 70 | 0  |\n",
       "| 0  | 53 | 70 | 0  |\n",
       "| 0  | 62 | 49 | 1  |\n",
       "\n"
      ],
      "text/plain": [
       "  flushot age aware gender\n",
       "1 0       59  52    0     \n",
       "2 0       61  55    1     \n",
       "3 1       82  51    0     \n",
       "4 0       51  70    0     \n",
       "5 0       53  70    0     \n",
       "6 0       62  49    1     "
      ]
     },
     "metadata": {},
     "output_type": "display_data"
    }
   ],
   "source": [
    "data = read.csv('flushot.csv')\n",
    "head(data)"
   ]
  },
  {
   "cell_type": "code",
   "execution_count": 11,
   "metadata": {},
   "outputs": [
    {
     "data": {
      "text/plain": [
       "\n",
       "Call:\n",
       "glm(formula = flushot ~ ., family = binomial(logit), data = data)\n",
       "\n",
       "Deviance Residuals: \n",
       "    Min       1Q   Median       3Q      Max  \n",
       "-1.4037  -0.5637  -0.3352  -0.1542   2.9394  \n",
       "\n",
       "Coefficients:\n",
       "            Estimate Std. Error z value Pr(>|z|)   \n",
       "(Intercept) -1.17716    2.98242  -0.395  0.69307   \n",
       "age          0.07279    0.03038   2.396  0.01658 * \n",
       "aware       -0.09899    0.03348  -2.957  0.00311 **\n",
       "gender       0.43397    0.52179   0.832  0.40558   \n",
       "---\n",
       "Signif. codes:  0 '***' 0.001 '**' 0.01 '*' 0.05 '.' 0.1 ' ' 1\n",
       "\n",
       "(Dispersion parameter for binomial family taken to be 1)\n",
       "\n",
       "    Null deviance: 134.94  on 158  degrees of freedom\n",
       "Residual deviance: 105.09  on 155  degrees of freedom\n",
       "AIC: 113.09\n",
       "\n",
       "Number of Fisher Scoring iterations: 6\n"
      ]
     },
     "metadata": {},
     "output_type": "display_data"
    }
   ],
   "source": [
    "log_model=glm(flushot~.,data=data,family = binomial(logit))\n",
    "summary(log_model)\n",
    "# gender 독립적, 유효하지 않은 설명변수"
   ]
  },
  {
   "cell_type": "code",
   "execution_count": 12,
   "metadata": {},
   "outputs": [
    {
     "data": {
      "text/html": [
       "1.07550465722015"
      ],
      "text/latex": [
       "1.07550465722015"
      ],
      "text/markdown": [
       "1.07550465722015"
      ],
      "text/plain": [
       "[1] 1.075505"
      ]
     },
     "metadata": {},
     "output_type": "display_data"
    },
    {
     "data": {
      "text/html": [
       "1.10405525895109"
      ],
      "text/latex": [
       "1.10405525895109"
      ],
      "text/markdown": [
       "1.10405525895109"
      ],
      "text/plain": [
       "[1] 1.104055"
      ]
     },
     "metadata": {},
     "output_type": "display_data"
    },
    {
     "data": {
      "text/html": [
       "1.54337256624498"
      ],
      "text/latex": [
       "1.54337256624498"
      ],
      "text/markdown": [
       "1.54337256624498"
      ],
      "text/plain": [
       "[1] 1.543373"
      ]
     },
     "metadata": {},
     "output_type": "display_data"
    }
   ],
   "source": [
    "exp(0.07279)\n",
    "exp(0.09899)\n",
    "exp(0.43397)"
   ]
  },
  {
   "cell_type": "code",
   "execution_count": 13,
   "metadata": {},
   "outputs": [
    {
     "data": {
      "text/plain": [
       "\n",
       "Call:\n",
       "glm(formula = flushot ~ age + aware, family = binomial(), data = data)\n",
       "\n",
       "Deviance Residuals: \n",
       "    Min       1Q   Median       3Q      Max  \n",
       "-1.4479  -0.5708  -0.3390  -0.1629   2.8430  \n",
       "\n",
       "Coefficients:\n",
       "            Estimate Std. Error z value Pr(>|z|)   \n",
       "(Intercept) -1.45778    2.91534  -0.500  0.61705   \n",
       "age          0.07787    0.02970   2.622  0.00873 **\n",
       "aware       -0.09547    0.03241  -2.946  0.00322 **\n",
       "---\n",
       "Signif. codes:  0 '***' 0.001 '**' 0.01 '*' 0.05 '.' 0.1 ' ' 1\n",
       "\n",
       "(Dispersion parameter for binomial family taken to be 1)\n",
       "\n",
       "    Null deviance: 134.94  on 158  degrees of freedom\n",
       "Residual deviance: 105.80  on 156  degrees of freedom\n",
       "AIC: 111.8\n",
       "\n",
       "Number of Fisher Scoring iterations: 6\n"
      ]
     },
     "metadata": {},
     "output_type": "display_data"
    }
   ],
   "source": [
    "log_model2=glm(flushot~age+aware,data=data,family = binomial())\n",
    "summary(log_model2)"
   ]
  },
  {
   "cell_type": "code",
   "execution_count": 14,
   "metadata": {},
   "outputs": [
    {
     "data": {
      "text/plain": [
       "\n",
       "  0   1 \n",
       "135  24 "
      ]
     },
     "metadata": {},
     "output_type": "display_data"
    },
    {
     "data": {
      "text/html": [
       "0.151898734177215"
      ],
      "text/latex": [
       "0.151898734177215"
      ],
      "text/markdown": [
       "0.151898734177215"
      ],
      "text/plain": [
       "[1] 0.1518987"
      ]
     },
     "metadata": {},
     "output_type": "display_data"
    }
   ],
   "source": [
    "table(data$flushot)\n",
    "24/(134+24)"
   ]
  },
  {
   "cell_type": "code",
   "execution_count": 15,
   "metadata": {},
   "outputs": [],
   "source": [
    "tt=table(data$flushot,log_model2$fitted.values>0.151898)"
   ]
  },
  {
   "cell_type": "code",
   "execution_count": 16,
   "metadata": {},
   "outputs": [
    {
     "data": {
      "text/html": [
       "<dl class=dl-horizontal>\n",
       "\t<dt>민감도</dt>\n",
       "\t\t<dd>0.791666666666667</dd>\n",
       "\t<dt>특이도</dt>\n",
       "\t\t<dd>0.703703703703704</dd>\n",
       "\t<dt>에러율</dt>\n",
       "\t\t<dd>0.283018867924528</dd>\n",
       "</dl>\n"
      ],
      "text/latex": [
       "\\begin{description*}\n",
       "\\item[민감도] 0.791666666666667\n",
       "\\item[특이도] 0.703703703703704\n",
       "\\item[에러율] 0.283018867924528\n",
       "\\end{description*}\n"
      ],
      "text/markdown": [
       "민감도\n",
       ":   0.791666666666667특이도\n",
       ":   0.703703703703704에러율\n",
       ":   0.283018867924528\n",
       "\n"
      ],
      "text/plain": [
       "   민감도    특이도    에러율 \n",
       "0.7916667 0.7037037 0.2830189 "
      ]
     },
     "metadata": {},
     "output_type": "display_data"
    }
   ],
   "source": [
    "c('민감도'=19/(19+5), '특이도'=95/(95+40), '에러율'=45/sum(tt))"
   ]
  },
  {
   "cell_type": "code",
   "execution_count": 17,
   "metadata": {
    "scrolled": true
   },
   "outputs": [
    {
     "name": "stderr",
     "output_type": "stream",
     "text": [
      "Warning message:\n",
      "\"package 'Deducer' was built under R version 3.6.3\"Loading required package: ggplot2\n",
      "Registered S3 methods overwritten by 'ggplot2':\n",
      "  method         from \n",
      "  [.quosures     rlang\n",
      "  c.quosures     rlang\n",
      "  print.quosures rlang\n",
      "Loading required package: JGR\n",
      "Warning message:\n",
      "\"package 'JGR' was built under R version 3.6.3\"Loading required package: rJava\n",
      "Warning message:\n",
      "\"package 'rJava' was built under R version 3.6.3\"Loading required package: JavaGD\n",
      "Warning message:\n",
      "\"package 'JavaGD' was built under R version 3.6.3\"\n",
      "Please type JGR() to launch console. Platform specific launchers (.exe and .app) can also be obtained at http://www.rforge.net/JGR/files/.\n",
      "\n",
      "\n",
      "Loading required package: car\n",
      "Warning message:\n",
      "\"package 'car' was built under R version 3.6.3\"Loading required package: carData\n",
      "Warning message:\n",
      "\"package 'carData' was built under R version 3.6.3\"Loading required package: MASS\n",
      "Registered S3 methods overwritten by 'lme4':\n",
      "  method                          from\n",
      "  cooks.distance.influence.merMod car \n",
      "  influence.merMod                car \n",
      "  dfbeta.influence.merMod         car \n",
      "  dfbetas.influence.merMod        car \n",
      "\n",
      "\n",
      "Note Non-JGR console detected:\n",
      "\tDeducer is best used from within JGR (http://jgr.markushelbig.org/).\n",
      "\tTo Bring up GUI dialogs, type deducer().\n",
      "\n"
     ]
    }
   ],
   "source": [
    "library(Deducer)"
   ]
  },
  {
   "cell_type": "code",
   "execution_count": 18,
   "metadata": {
    "scrolled": true
   },
   "outputs": [
    {
     "data": {
      "image/png": "[encoded data removed]",
      "text/plain": [
       "plot without title"
      ]
     },
     "metadata": {},
     "output_type": "display_data"
    }
   ],
   "source": [
    "rocplot(log_model2)"
   ]
  },
  {
   "cell_type": "code",
   "execution_count": 19,
   "metadata": {},
   "outputs": [],
   "source": [
    "tab_01=table(data$flushot,log_model2$fitted.values>0.1)\n",
    "tab_015=table(data$flushot,log_model2$fitted.values>0.15)\n",
    "tab_02=table(data$flushot,log_model2$fitted.values>0.2)"
   ]
  },
  {
   "cell_type": "code",
   "execution_count": 20,
   "metadata": {},
   "outputs": [
    {
     "data": {
      "text/plain": [
       "   \n",
       "    FALSE TRUE\n",
       "  0    77   58\n",
       "  1     3   21"
      ]
     },
     "metadata": {},
     "output_type": "display_data"
    },
    {
     "data": {
      "text/plain": [
       "   \n",
       "    FALSE TRUE\n",
       "  0    95   40\n",
       "  1     4   20"
      ]
     },
     "metadata": {},
     "output_type": "display_data"
    },
    {
     "data": {
      "text/plain": [
       "   \n",
       "    FALSE TRUE\n",
       "  0   107   28\n",
       "  1    12   12"
      ]
     },
     "metadata": {},
     "output_type": "display_data"
    }
   ],
   "source": [
    "tab_01\n",
    "tab_015\n",
    "tab_02"
   ]
  },
  {
   "cell_type": "code",
   "execution_count": 21,
   "metadata": {},
   "outputs": [],
   "source": [
    "res01=c(민감도=tab_01[2,2]/sum(tab_01[2,]),\n",
    "        특이도=tab_01[1,1]/sum(tab_01[1,]),\n",
    "        에러율=(tab_01[1,2]+tab_01[2,1])/sum(tab_01))"
   ]
  },
  {
   "cell_type": "code",
   "execution_count": 22,
   "metadata": {},
   "outputs": [],
   "source": [
    "res015=c(민감도=tab_015[2,2]/sum(tab_015[2,]),\n",
    "        특이도=tab_015[1,1]/sum(tab_015[1,]),\n",
    "        에러율=(tab_015[1,2]+tab_015[2,1])/sum(tab_015))"
   ]
  },
  {
   "cell_type": "code",
   "execution_count": 23,
   "metadata": {},
   "outputs": [],
   "source": [
    "res02=c(민감도=tab_02[2,2]/sum(tab_02[2,]),\n",
    "        특이도=tab_02[1,1]/sum(tab_02[1,]),\n",
    "        에러율=(tab_02[1,2]+tab_02[2,1])/sum(tab_02))"
   ]
  },
  {
   "cell_type": "code",
   "execution_count": 24,
   "metadata": {},
   "outputs": [
    {
     "data": {
      "text/html": [
       "<dl class=dl-horizontal>\n",
       "\t<dt>민감도</dt>\n",
       "\t\t<dd>0.875</dd>\n",
       "\t<dt>특이도</dt>\n",
       "\t\t<dd>0.57037037037037</dd>\n",
       "\t<dt>에러율</dt>\n",
       "\t\t<dd>0.383647798742138</dd>\n",
       "</dl>\n"
      ],
      "text/latex": [
       "\\begin{description*}\n",
       "\\item[민감도] 0.875\n",
       "\\item[특이도] 0.57037037037037\n",
       "\\item[에러율] 0.383647798742138\n",
       "\\end{description*}\n"
      ],
      "text/markdown": [
       "민감도\n",
       ":   0.875특이도\n",
       ":   0.57037037037037에러율\n",
       ":   0.383647798742138\n",
       "\n"
      ],
      "text/plain": [
       "   민감도    특이도    에러율 \n",
       "0.8750000 0.5703704 0.3836478 "
      ]
     },
     "metadata": {},
     "output_type": "display_data"
    },
    {
     "data": {
      "text/html": [
       "<dl class=dl-horizontal>\n",
       "\t<dt>민감도</dt>\n",
       "\t\t<dd>0.833333333333333</dd>\n",
       "\t<dt>특이도</dt>\n",
       "\t\t<dd>0.703703703703704</dd>\n",
       "\t<dt>에러율</dt>\n",
       "\t\t<dd>0.276729559748428</dd>\n",
       "</dl>\n"
      ],
      "text/latex": [
       "\\begin{description*}\n",
       "\\item[민감도] 0.833333333333333\n",
       "\\item[특이도] 0.703703703703704\n",
       "\\item[에러율] 0.276729559748428\n",
       "\\end{description*}\n"
      ],
      "text/markdown": [
       "민감도\n",
       ":   0.833333333333333특이도\n",
       ":   0.703703703703704에러율\n",
       ":   0.276729559748428\n",
       "\n"
      ],
      "text/plain": [
       "   민감도    특이도    에러율 \n",
       "0.8333333 0.7037037 0.2767296 "
      ]
     },
     "metadata": {},
     "output_type": "display_data"
    },
    {
     "data": {
      "text/html": [
       "<dl class=dl-horizontal>\n",
       "\t<dt>민감도</dt>\n",
       "\t\t<dd>0.5</dd>\n",
       "\t<dt>특이도</dt>\n",
       "\t\t<dd>0.792592592592593</dd>\n",
       "\t<dt>에러율</dt>\n",
       "\t\t<dd>0.251572327044025</dd>\n",
       "</dl>\n"
      ],
      "text/latex": [
       "\\begin{description*}\n",
       "\\item[민감도] 0.5\n",
       "\\item[특이도] 0.792592592592593\n",
       "\\item[에러율] 0.251572327044025\n",
       "\\end{description*}\n"
      ],
      "text/markdown": [
       "민감도\n",
       ":   0.5특이도\n",
       ":   0.792592592592593에러율\n",
       ":   0.251572327044025\n",
       "\n"
      ],
      "text/plain": [
       "   민감도    특이도    에러율 \n",
       "0.5000000 0.7925926 0.2515723 "
      ]
     },
     "metadata": {},
     "output_type": "display_data"
    }
   ],
   "source": [
    "res01\n",
    "res015\n",
    "res02"
   ]
  },
  {
   "cell_type": "code",
   "execution_count": null,
   "metadata": {},
   "outputs": [],
   "source": []
  }
 ],
 "metadata": {
  "kernelspec": {
   "display_name": "R",
   "language": "R",
   "name": "ir"
  },
  "language_info": {
   "codemirror_mode": "r",
   "file_extension": ".r",
   "mimetype": "text/x-r-source",
   "name": "R",
   "pygments_lexer": "r",
   "version": "3.6.1"
  }
 },
 "nbformat": 4,
 "nbformat_minor": 4
}
