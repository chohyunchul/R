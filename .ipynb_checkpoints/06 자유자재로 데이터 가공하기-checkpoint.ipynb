{
 "cells": [
  {
   "cell_type": "code",
   "execution_count": 1,
   "metadata": {},
   "outputs": [
    {
     "name": "stderr",
     "output_type": "stream",
     "text": [
      "\n",
      "Attaching package: 'dplyr'\n",
      "\n",
      "The following objects are masked from 'package:stats':\n",
      "\n",
      "    filter, lag\n",
      "\n",
      "The following objects are masked from 'package:base':\n",
      "\n",
      "    intersect, setdiff, setequal, union\n",
      "\n"
     ]
    }
   ],
   "source": [
    "library(dplyr)"
   ]
  },
  {
   "cell_type": "code",
   "execution_count": 4,
   "metadata": {},
   "outputs": [],
   "source": [
    "setwd(\"c:/Rdata\")"
   ]
  },
  {
   "cell_type": "code",
   "execution_count": 6,
   "metadata": {},
   "outputs": [
    {
     "data": {
      "text/html": [
       "<table>\n",
       "<thead><tr><th scope=col>id</th><th scope=col>class</th><th scope=col>math</th><th scope=col>english</th><th scope=col>science</th></tr></thead>\n",
       "<tbody>\n",
       "\t<tr><td>1 </td><td>1 </td><td>50</td><td>98</td><td>50</td></tr>\n",
       "\t<tr><td>2 </td><td>1 </td><td>60</td><td>97</td><td>60</td></tr>\n",
       "\t<tr><td>3 </td><td>1 </td><td>45</td><td>86</td><td>78</td></tr>\n",
       "\t<tr><td>4 </td><td>1 </td><td>30</td><td>98</td><td>58</td></tr>\n",
       "\t<tr><td>5 </td><td>2 </td><td>25</td><td>80</td><td>65</td></tr>\n",
       "\t<tr><td>6 </td><td>2 </td><td>50</td><td>89</td><td>98</td></tr>\n",
       "</tbody>\n",
       "</table>\n"
      ],
      "text/latex": [
       "\\begin{tabular}{r|lllll}\n",
       " id & class & math & english & science\\\\\n",
       "\\hline\n",
       "\t 1  & 1  & 50 & 98 & 50\\\\\n",
       "\t 2  & 1  & 60 & 97 & 60\\\\\n",
       "\t 3  & 1  & 45 & 86 & 78\\\\\n",
       "\t 4  & 1  & 30 & 98 & 58\\\\\n",
       "\t 5  & 2  & 25 & 80 & 65\\\\\n",
       "\t 6  & 2  & 50 & 89 & 98\\\\\n",
       "\\end{tabular}\n"
      ],
      "text/markdown": [
       "\n",
       "| id | class | math | english | science |\n",
       "|---|---|---|---|---|\n",
       "| 1  | 1  | 50 | 98 | 50 |\n",
       "| 2  | 1  | 60 | 97 | 60 |\n",
       "| 3  | 1  | 45 | 86 | 78 |\n",
       "| 4  | 1  | 30 | 98 | 58 |\n",
       "| 5  | 2  | 25 | 80 | 65 |\n",
       "| 6  | 2  | 50 | 89 | 98 |\n",
       "\n"
      ],
      "text/plain": [
       "  id class math english science\n",
       "1 1  1     50   98      50     \n",
       "2 2  1     60   97      60     \n",
       "3 3  1     45   86      78     \n",
       "4 4  1     30   98      58     \n",
       "5 5  2     25   80      65     \n",
       "6 6  2     50   89      98     "
      ]
     },
     "metadata": {},
     "output_type": "display_data"
    }
   ],
   "source": [
    "exam <- read.csv ( \"csv_exam.csv\" )\n",
    "head(exam)"
   ]
  },
  {
   "cell_type": "code",
   "execution_count": 12,
   "metadata": {},
   "outputs": [
    {
     "data": {
      "text/html": [
       "<table>\n",
       "<thead><tr><th scope=col>id</th><th scope=col>class</th><th scope=col>math</th><th scope=col>english</th><th scope=col>science</th></tr></thead>\n",
       "<tbody>\n",
       "\t<tr><td> 1</td><td>1 </td><td>50</td><td>98</td><td>50</td></tr>\n",
       "\t<tr><td> 2</td><td>1 </td><td>60</td><td>97</td><td>60</td></tr>\n",
       "\t<tr><td> 3</td><td>1 </td><td>45</td><td>86</td><td>78</td></tr>\n",
       "\t<tr><td> 4</td><td>1 </td><td>30</td><td>98</td><td>58</td></tr>\n",
       "\t<tr><td> 9</td><td>3 </td><td>20</td><td>98</td><td>15</td></tr>\n",
       "\t<tr><td>10</td><td>3 </td><td>50</td><td>98</td><td>45</td></tr>\n",
       "\t<tr><td>11</td><td>3 </td><td>65</td><td>65</td><td>65</td></tr>\n",
       "\t<tr><td>12</td><td>3 </td><td>45</td><td>85</td><td>32</td></tr>\n",
       "</tbody>\n",
       "</table>\n"
      ],
      "text/latex": [
       "\\begin{tabular}{r|lllll}\n",
       " id & class & math & english & science\\\\\n",
       "\\hline\n",
       "\t  1 & 1  & 50 & 98 & 50\\\\\n",
       "\t  2 & 1  & 60 & 97 & 60\\\\\n",
       "\t  3 & 1  & 45 & 86 & 78\\\\\n",
       "\t  4 & 1  & 30 & 98 & 58\\\\\n",
       "\t  9 & 3  & 20 & 98 & 15\\\\\n",
       "\t 10 & 3  & 50 & 98 & 45\\\\\n",
       "\t 11 & 3  & 65 & 65 & 65\\\\\n",
       "\t 12 & 3  & 45 & 85 & 32\\\\\n",
       "\\end{tabular}\n"
      ],
      "text/markdown": [
       "\n",
       "| id | class | math | english | science |\n",
       "|---|---|---|---|---|\n",
       "|  1 | 1  | 50 | 98 | 50 |\n",
       "|  2 | 1  | 60 | 97 | 60 |\n",
       "|  3 | 1  | 45 | 86 | 78 |\n",
       "|  4 | 1  | 30 | 98 | 58 |\n",
       "|  9 | 3  | 20 | 98 | 15 |\n",
       "| 10 | 3  | 50 | 98 | 45 |\n",
       "| 11 | 3  | 65 | 65 | 65 |\n",
       "| 12 | 3  | 45 | 85 | 32 |\n",
       "\n"
      ],
      "text/plain": [
       "  id class math english science\n",
       "1  1 1     50   98      50     \n",
       "2  2 1     60   97      60     \n",
       "3  3 1     45   86      78     \n",
       "4  4 1     30   98      58     \n",
       "5  9 3     20   98      15     \n",
       "6 10 3     50   98      45     \n",
       "7 11 3     65   65      65     \n",
       "8 12 3     45   85      32     "
      ]
     },
     "metadata": {},
     "output_type": "display_data"
    }
   ],
   "source": [
    "# exam에서 class가 1,3인 경우만 추출하여 출력\n",
    "# [참고] 단축키 [Ctrl+Shit+M]으로 %>% 기호 입력\n",
    "exam %>% filter(class ==1 | class==3) "
   ]
  },
  {
   "cell_type": "code",
   "execution_count": 13,
   "metadata": {},
   "outputs": [
    {
     "data": {
      "text/html": [
       "<table>\n",
       "<thead><tr><th scope=col>id</th><th scope=col>class</th><th scope=col>math</th><th scope=col>english</th><th scope=col>science</th></tr></thead>\n",
       "<tbody>\n",
       "\t<tr><td>5 </td><td>2 </td><td>25</td><td>80</td><td>65</td></tr>\n",
       "\t<tr><td>6 </td><td>2 </td><td>50</td><td>89</td><td>98</td></tr>\n",
       "\t<tr><td>7 </td><td>2 </td><td>80</td><td>90</td><td>45</td></tr>\n",
       "\t<tr><td>8 </td><td>2 </td><td>90</td><td>78</td><td>25</td></tr>\n",
       "</tbody>\n",
       "</table>\n"
      ],
      "text/latex": [
       "\\begin{tabular}{r|lllll}\n",
       " id & class & math & english & science\\\\\n",
       "\\hline\n",
       "\t 5  & 2  & 25 & 80 & 65\\\\\n",
       "\t 6  & 2  & 50 & 89 & 98\\\\\n",
       "\t 7  & 2  & 80 & 90 & 45\\\\\n",
       "\t 8  & 2  & 90 & 78 & 25\\\\\n",
       "\\end{tabular}\n"
      ],
      "text/markdown": [
       "\n",
       "| id | class | math | english | science |\n",
       "|---|---|---|---|---|\n",
       "| 5  | 2  | 25 | 80 | 65 |\n",
       "| 6  | 2  | 50 | 89 | 98 |\n",
       "| 7  | 2  | 80 | 90 | 45 |\n",
       "| 8  | 2  | 90 | 78 | 25 |\n",
       "\n"
      ],
      "text/plain": [
       "  id class math english science\n",
       "1 5  2     25   80      65     \n",
       "2 6  2     50   89      98     \n",
       "3 7  2     80   90      45     \n",
       "4 8  2     90   78      25     "
      ]
     },
     "metadata": {},
     "output_type": "display_data"
    }
   ],
   "source": [
    "exam  %>% filter(class ==2) # 2반인 경우만 추출"
   ]
  },
  {
   "cell_type": "code",
   "execution_count": 15,
   "metadata": {},
   "outputs": [
    {
     "data": {
      "text/html": [
       "<table>\n",
       "<thead><tr><th scope=col>id</th><th scope=col>class</th><th scope=col>math</th><th scope=col>english</th><th scope=col>science</th></tr></thead>\n",
       "<tbody>\n",
       "\t<tr><td> 1</td><td>1 </td><td>50</td><td>98</td><td>50</td></tr>\n",
       "\t<tr><td> 2</td><td>1 </td><td>60</td><td>97</td><td>60</td></tr>\n",
       "\t<tr><td> 3</td><td>1 </td><td>45</td><td>86</td><td>78</td></tr>\n",
       "\t<tr><td> 4</td><td>1 </td><td>30</td><td>98</td><td>58</td></tr>\n",
       "\t<tr><td> 5</td><td>2 </td><td>25</td><td>80</td><td>65</td></tr>\n",
       "\t<tr><td> 6</td><td>2 </td><td>50</td><td>89</td><td>98</td></tr>\n",
       "\t<tr><td> 7</td><td>2 </td><td>80</td><td>90</td><td>45</td></tr>\n",
       "\t<tr><td> 8</td><td>2 </td><td>90</td><td>78</td><td>25</td></tr>\n",
       "\t<tr><td>13</td><td>4 </td><td>46</td><td>98</td><td>65</td></tr>\n",
       "\t<tr><td>14</td><td>4 </td><td>48</td><td>87</td><td>12</td></tr>\n",
       "\t<tr><td>15</td><td>4 </td><td>75</td><td>56</td><td>78</td></tr>\n",
       "\t<tr><td>16</td><td>4 </td><td>58</td><td>98</td><td>65</td></tr>\n",
       "\t<tr><td>17</td><td>5 </td><td>65</td><td>68</td><td>98</td></tr>\n",
       "\t<tr><td>18</td><td>5 </td><td>80</td><td>78</td><td>90</td></tr>\n",
       "\t<tr><td>19</td><td>5 </td><td>89</td><td>68</td><td>87</td></tr>\n",
       "\t<tr><td>20</td><td>5 </td><td>78</td><td>83</td><td>58</td></tr>\n",
       "</tbody>\n",
       "</table>\n"
      ],
      "text/latex": [
       "\\begin{tabular}{r|lllll}\n",
       " id & class & math & english & science\\\\\n",
       "\\hline\n",
       "\t  1 & 1  & 50 & 98 & 50\\\\\n",
       "\t  2 & 1  & 60 & 97 & 60\\\\\n",
       "\t  3 & 1  & 45 & 86 & 78\\\\\n",
       "\t  4 & 1  & 30 & 98 & 58\\\\\n",
       "\t  5 & 2  & 25 & 80 & 65\\\\\n",
       "\t  6 & 2  & 50 & 89 & 98\\\\\n",
       "\t  7 & 2  & 80 & 90 & 45\\\\\n",
       "\t  8 & 2  & 90 & 78 & 25\\\\\n",
       "\t 13 & 4  & 46 & 98 & 65\\\\\n",
       "\t 14 & 4  & 48 & 87 & 12\\\\\n",
       "\t 15 & 4  & 75 & 56 & 78\\\\\n",
       "\t 16 & 4  & 58 & 98 & 65\\\\\n",
       "\t 17 & 5  & 65 & 68 & 98\\\\\n",
       "\t 18 & 5  & 80 & 78 & 90\\\\\n",
       "\t 19 & 5  & 89 & 68 & 87\\\\\n",
       "\t 20 & 5  & 78 & 83 & 58\\\\\n",
       "\\end{tabular}\n"
      ],
      "text/markdown": [
       "\n",
       "| id | class | math | english | science |\n",
       "|---|---|---|---|---|\n",
       "|  1 | 1  | 50 | 98 | 50 |\n",
       "|  2 | 1  | 60 | 97 | 60 |\n",
       "|  3 | 1  | 45 | 86 | 78 |\n",
       "|  4 | 1  | 30 | 98 | 58 |\n",
       "|  5 | 2  | 25 | 80 | 65 |\n",
       "|  6 | 2  | 50 | 89 | 98 |\n",
       "|  7 | 2  | 80 | 90 | 45 |\n",
       "|  8 | 2  | 90 | 78 | 25 |\n",
       "| 13 | 4  | 46 | 98 | 65 |\n",
       "| 14 | 4  | 48 | 87 | 12 |\n",
       "| 15 | 4  | 75 | 56 | 78 |\n",
       "| 16 | 4  | 58 | 98 | 65 |\n",
       "| 17 | 5  | 65 | 68 | 98 |\n",
       "| 18 | 5  | 80 | 78 | 90 |\n",
       "| 19 | 5  | 89 | 68 | 87 |\n",
       "| 20 | 5  | 78 | 83 | 58 |\n",
       "\n"
      ],
      "text/plain": [
       "   id class math english science\n",
       "1   1 1     50   98      50     \n",
       "2   2 1     60   97      60     \n",
       "3   3 1     45   86      78     \n",
       "4   4 1     30   98      58     \n",
       "5   5 2     25   80      65     \n",
       "6   6 2     50   89      98     \n",
       "7   7 2     80   90      45     \n",
       "8   8 2     90   78      25     \n",
       "9  13 4     46   98      65     \n",
       "10 14 4     48   87      12     \n",
       "11 15 4     75   56      78     \n",
       "12 16 4     58   98      65     \n",
       "13 17 5     65   68      98     \n",
       "14 18 5     80   78      90     \n",
       "15 19 5     89   68      87     \n",
       "16 20 5     78   83      58     "
      ]
     },
     "metadata": {},
     "output_type": "display_data"
    }
   ],
   "source": [
    "exam  %>%  filter(class !=3) #3반이 아닌 경우"
   ]
  },
  {
   "cell_type": "code",
   "execution_count": 16,
   "metadata": {},
   "outputs": [
    {
     "data": {
      "text/html": [
       "<table>\n",
       "<thead><tr><th scope=col>id</th><th scope=col>class</th><th scope=col>math</th><th scope=col>english</th><th scope=col>science</th></tr></thead>\n",
       "<tbody>\n",
       "\t<tr><td> 2</td><td>1 </td><td>60</td><td>97</td><td>60</td></tr>\n",
       "\t<tr><td> 7</td><td>2 </td><td>80</td><td>90</td><td>45</td></tr>\n",
       "\t<tr><td> 8</td><td>2 </td><td>90</td><td>78</td><td>25</td></tr>\n",
       "\t<tr><td>11</td><td>3 </td><td>65</td><td>65</td><td>65</td></tr>\n",
       "\t<tr><td>15</td><td>4 </td><td>75</td><td>56</td><td>78</td></tr>\n",
       "\t<tr><td>16</td><td>4 </td><td>58</td><td>98</td><td>65</td></tr>\n",
       "\t<tr><td>17</td><td>5 </td><td>65</td><td>68</td><td>98</td></tr>\n",
       "\t<tr><td>18</td><td>5 </td><td>80</td><td>78</td><td>90</td></tr>\n",
       "\t<tr><td>19</td><td>5 </td><td>89</td><td>68</td><td>87</td></tr>\n",
       "\t<tr><td>20</td><td>5 </td><td>78</td><td>83</td><td>58</td></tr>\n",
       "</tbody>\n",
       "</table>\n"
      ],
      "text/latex": [
       "\\begin{tabular}{r|lllll}\n",
       " id & class & math & english & science\\\\\n",
       "\\hline\n",
       "\t  2 & 1  & 60 & 97 & 60\\\\\n",
       "\t  7 & 2  & 80 & 90 & 45\\\\\n",
       "\t  8 & 2  & 90 & 78 & 25\\\\\n",
       "\t 11 & 3  & 65 & 65 & 65\\\\\n",
       "\t 15 & 4  & 75 & 56 & 78\\\\\n",
       "\t 16 & 4  & 58 & 98 & 65\\\\\n",
       "\t 17 & 5  & 65 & 68 & 98\\\\\n",
       "\t 18 & 5  & 80 & 78 & 90\\\\\n",
       "\t 19 & 5  & 89 & 68 & 87\\\\\n",
       "\t 20 & 5  & 78 & 83 & 58\\\\\n",
       "\\end{tabular}\n"
      ],
      "text/markdown": [
       "\n",
       "| id | class | math | english | science |\n",
       "|---|---|---|---|---|\n",
       "|  2 | 1  | 60 | 97 | 60 |\n",
       "|  7 | 2  | 80 | 90 | 45 |\n",
       "|  8 | 2  | 90 | 78 | 25 |\n",
       "| 11 | 3  | 65 | 65 | 65 |\n",
       "| 15 | 4  | 75 | 56 | 78 |\n",
       "| 16 | 4  | 58 | 98 | 65 |\n",
       "| 17 | 5  | 65 | 68 | 98 |\n",
       "| 18 | 5  | 80 | 78 | 90 |\n",
       "| 19 | 5  | 89 | 68 | 87 |\n",
       "| 20 | 5  | 78 | 83 | 58 |\n",
       "\n"
      ],
      "text/plain": [
       "   id class math english science\n",
       "1   2 1     60   97      60     \n",
       "2   7 2     80   90      45     \n",
       "3   8 2     90   78      25     \n",
       "4  11 3     65   65      65     \n",
       "5  15 4     75   56      78     \n",
       "6  16 4     58   98      65     \n",
       "7  17 5     65   68      98     \n",
       "8  18 5     80   78      90     \n",
       "9  19 5     89   68      87     \n",
       "10 20 5     78   83      58     "
      ]
     },
     "metadata": {},
     "output_type": "display_data"
    }
   ],
   "source": [
    "exam  %>%  filter(math > 50) # 수학 점수가 50점을 초과한 경우"
   ]
  },
  {
   "cell_type": "code",
   "execution_count": 17,
   "metadata": {},
   "outputs": [
    {
     "data": {
      "text/html": [
       "<table>\n",
       "<thead><tr><th scope=col>id</th><th scope=col>class</th><th scope=col>math</th><th scope=col>english</th><th scope=col>science</th></tr></thead>\n",
       "<tbody>\n",
       "\t<tr><td> 3</td><td>1 </td><td>45</td><td>86</td><td>78</td></tr>\n",
       "\t<tr><td> 4</td><td>1 </td><td>30</td><td>98</td><td>58</td></tr>\n",
       "\t<tr><td> 5</td><td>2 </td><td>25</td><td>80</td><td>65</td></tr>\n",
       "\t<tr><td> 9</td><td>3 </td><td>20</td><td>98</td><td>15</td></tr>\n",
       "\t<tr><td>12</td><td>3 </td><td>45</td><td>85</td><td>32</td></tr>\n",
       "\t<tr><td>13</td><td>4 </td><td>46</td><td>98</td><td>65</td></tr>\n",
       "\t<tr><td>14</td><td>4 </td><td>48</td><td>87</td><td>12</td></tr>\n",
       "</tbody>\n",
       "</table>\n"
      ],
      "text/latex": [
       "\\begin{tabular}{r|lllll}\n",
       " id & class & math & english & science\\\\\n",
       "\\hline\n",
       "\t  3 & 1  & 45 & 86 & 78\\\\\n",
       "\t  4 & 1  & 30 & 98 & 58\\\\\n",
       "\t  5 & 2  & 25 & 80 & 65\\\\\n",
       "\t  9 & 3  & 20 & 98 & 15\\\\\n",
       "\t 12 & 3  & 45 & 85 & 32\\\\\n",
       "\t 13 & 4  & 46 & 98 & 65\\\\\n",
       "\t 14 & 4  & 48 & 87 & 12\\\\\n",
       "\\end{tabular}\n"
      ],
      "text/markdown": [
       "\n",
       "| id | class | math | english | science |\n",
       "|---|---|---|---|---|\n",
       "|  3 | 1  | 45 | 86 | 78 |\n",
       "|  4 | 1  | 30 | 98 | 58 |\n",
       "|  5 | 2  | 25 | 80 | 65 |\n",
       "|  9 | 3  | 20 | 98 | 15 |\n",
       "| 12 | 3  | 45 | 85 | 32 |\n",
       "| 13 | 4  | 46 | 98 | 65 |\n",
       "| 14 | 4  | 48 | 87 | 12 |\n",
       "\n"
      ],
      "text/plain": [
       "  id class math english science\n",
       "1  3 1     45   86      78     \n",
       "2  4 1     30   98      58     \n",
       "3  5 2     25   80      65     \n",
       "4  9 3     20   98      15     \n",
       "5 12 3     45   85      32     \n",
       "6 13 4     46   98      65     \n",
       "7 14 4     48   87      12     "
      ]
     },
     "metadata": {},
     "output_type": "display_data"
    }
   ],
   "source": [
    "exam  %>% filter(math < 50) # 수학 점수가 50점 미만인 경우"
   ]
  },
  {
   "cell_type": "code",
   "execution_count": 19,
   "metadata": {},
   "outputs": [
    {
     "data": {
      "text/html": [
       "<table>\n",
       "<thead><tr><th scope=col>id</th><th scope=col>class</th><th scope=col>math</th><th scope=col>english</th><th scope=col>science</th></tr></thead>\n",
       "<tbody>\n",
       "\t<tr><td> 1</td><td>1 </td><td>50</td><td>98</td><td>50</td></tr>\n",
       "\t<tr><td> 2</td><td>1 </td><td>60</td><td>97</td><td>60</td></tr>\n",
       "\t<tr><td> 3</td><td>1 </td><td>45</td><td>86</td><td>78</td></tr>\n",
       "\t<tr><td> 4</td><td>1 </td><td>30</td><td>98</td><td>58</td></tr>\n",
       "\t<tr><td> 5</td><td>2 </td><td>25</td><td>80</td><td>65</td></tr>\n",
       "\t<tr><td> 6</td><td>2 </td><td>50</td><td>89</td><td>98</td></tr>\n",
       "\t<tr><td> 7</td><td>2 </td><td>80</td><td>90</td><td>45</td></tr>\n",
       "\t<tr><td> 9</td><td>3 </td><td>20</td><td>98</td><td>15</td></tr>\n",
       "\t<tr><td>10</td><td>3 </td><td>50</td><td>98</td><td>45</td></tr>\n",
       "\t<tr><td>12</td><td>3 </td><td>45</td><td>85</td><td>32</td></tr>\n",
       "\t<tr><td>13</td><td>4 </td><td>46</td><td>98</td><td>65</td></tr>\n",
       "\t<tr><td>14</td><td>4 </td><td>48</td><td>87</td><td>12</td></tr>\n",
       "\t<tr><td>16</td><td>4 </td><td>58</td><td>98</td><td>65</td></tr>\n",
       "\t<tr><td>20</td><td>5 </td><td>78</td><td>83</td><td>58</td></tr>\n",
       "</tbody>\n",
       "</table>\n"
      ],
      "text/latex": [
       "\\begin{tabular}{r|lllll}\n",
       " id & class & math & english & science\\\\\n",
       "\\hline\n",
       "\t  1 & 1  & 50 & 98 & 50\\\\\n",
       "\t  2 & 1  & 60 & 97 & 60\\\\\n",
       "\t  3 & 1  & 45 & 86 & 78\\\\\n",
       "\t  4 & 1  & 30 & 98 & 58\\\\\n",
       "\t  5 & 2  & 25 & 80 & 65\\\\\n",
       "\t  6 & 2  & 50 & 89 & 98\\\\\n",
       "\t  7 & 2  & 80 & 90 & 45\\\\\n",
       "\t  9 & 3  & 20 & 98 & 15\\\\\n",
       "\t 10 & 3  & 50 & 98 & 45\\\\\n",
       "\t 12 & 3  & 45 & 85 & 32\\\\\n",
       "\t 13 & 4  & 46 & 98 & 65\\\\\n",
       "\t 14 & 4  & 48 & 87 & 12\\\\\n",
       "\t 16 & 4  & 58 & 98 & 65\\\\\n",
       "\t 20 & 5  & 78 & 83 & 58\\\\\n",
       "\\end{tabular}\n"
      ],
      "text/markdown": [
       "\n",
       "| id | class | math | english | science |\n",
       "|---|---|---|---|---|\n",
       "|  1 | 1  | 50 | 98 | 50 |\n",
       "|  2 | 1  | 60 | 97 | 60 |\n",
       "|  3 | 1  | 45 | 86 | 78 |\n",
       "|  4 | 1  | 30 | 98 | 58 |\n",
       "|  5 | 2  | 25 | 80 | 65 |\n",
       "|  6 | 2  | 50 | 89 | 98 |\n",
       "|  7 | 2  | 80 | 90 | 45 |\n",
       "|  9 | 3  | 20 | 98 | 15 |\n",
       "| 10 | 3  | 50 | 98 | 45 |\n",
       "| 12 | 3  | 45 | 85 | 32 |\n",
       "| 13 | 4  | 46 | 98 | 65 |\n",
       "| 14 | 4  | 48 | 87 | 12 |\n",
       "| 16 | 4  | 58 | 98 | 65 |\n",
       "| 20 | 5  | 78 | 83 | 58 |\n",
       "\n"
      ],
      "text/plain": [
       "   id class math english science\n",
       "1   1 1     50   98      50     \n",
       "2   2 1     60   97      60     \n",
       "3   3 1     45   86      78     \n",
       "4   4 1     30   98      58     \n",
       "5   5 2     25   80      65     \n",
       "6   6 2     50   89      98     \n",
       "7   7 2     80   90      45     \n",
       "8   9 3     20   98      15     \n",
       "9  10 3     50   98      45     \n",
       "10 12 3     45   85      32     \n",
       "11 13 4     46   98      65     \n",
       "12 14 4     48   87      12     \n",
       "13 16 4     58   98      65     \n",
       "14 20 5     78   83      58     "
      ]
     },
     "metadata": {},
     "output_type": "display_data"
    }
   ],
   "source": [
    "exam  %>% filter(english >= 80) ## 영어점수가 80점 이상인 경우"
   ]
  },
  {
   "cell_type": "code",
   "execution_count": 20,
   "metadata": {},
   "outputs": [
    {
     "data": {
      "text/html": [
       "<table>\n",
       "<thead><tr><th scope=col>id</th><th scope=col>class</th><th scope=col>math</th><th scope=col>english</th><th scope=col>science</th></tr></thead>\n",
       "<tbody>\n",
       "\t<tr><td> 5</td><td>2 </td><td>25</td><td>80</td><td>65</td></tr>\n",
       "\t<tr><td> 8</td><td>2 </td><td>90</td><td>78</td><td>25</td></tr>\n",
       "\t<tr><td>11</td><td>3 </td><td>65</td><td>65</td><td>65</td></tr>\n",
       "\t<tr><td>15</td><td>4 </td><td>75</td><td>56</td><td>78</td></tr>\n",
       "\t<tr><td>17</td><td>5 </td><td>65</td><td>68</td><td>98</td></tr>\n",
       "\t<tr><td>18</td><td>5 </td><td>80</td><td>78</td><td>90</td></tr>\n",
       "\t<tr><td>19</td><td>5 </td><td>89</td><td>68</td><td>87</td></tr>\n",
       "</tbody>\n",
       "</table>\n"
      ],
      "text/latex": [
       "\\begin{tabular}{r|lllll}\n",
       " id & class & math & english & science\\\\\n",
       "\\hline\n",
       "\t  5 & 2  & 25 & 80 & 65\\\\\n",
       "\t  8 & 2  & 90 & 78 & 25\\\\\n",
       "\t 11 & 3  & 65 & 65 & 65\\\\\n",
       "\t 15 & 4  & 75 & 56 & 78\\\\\n",
       "\t 17 & 5  & 65 & 68 & 98\\\\\n",
       "\t 18 & 5  & 80 & 78 & 90\\\\\n",
       "\t 19 & 5  & 89 & 68 & 87\\\\\n",
       "\\end{tabular}\n"
      ],
      "text/markdown": [
       "\n",
       "| id | class | math | english | science |\n",
       "|---|---|---|---|---|\n",
       "|  5 | 2  | 25 | 80 | 65 |\n",
       "|  8 | 2  | 90 | 78 | 25 |\n",
       "| 11 | 3  | 65 | 65 | 65 |\n",
       "| 15 | 4  | 75 | 56 | 78 |\n",
       "| 17 | 5  | 65 | 68 | 98 |\n",
       "| 18 | 5  | 80 | 78 | 90 |\n",
       "| 19 | 5  | 89 | 68 | 87 |\n",
       "\n"
      ],
      "text/plain": [
       "  id class math english science\n",
       "1  5 2     25   80      65     \n",
       "2  8 2     90   78      25     \n",
       "3 11 3     65   65      65     \n",
       "4 15 4     75   56      78     \n",
       "5 17 5     65   68      98     \n",
       "6 18 5     80   78      90     \n",
       "7 19 5     89   68      87     "
      ]
     },
     "metadata": {},
     "output_type": "display_data"
    }
   ],
   "source": [
    "exam  %>%  filter(english <= 80)"
   ]
  },
  {
   "cell_type": "code",
   "execution_count": 22,
   "metadata": {},
   "outputs": [
    {
     "data": {
      "text/html": [
       "<table>\n",
       "<thead><tr><th scope=col>id</th><th scope=col>class</th><th scope=col>math</th><th scope=col>english</th><th scope=col>science</th></tr></thead>\n",
       "<tbody>\n",
       "\t<tr><td>1 </td><td>1 </td><td>50</td><td>98</td><td>50</td></tr>\n",
       "\t<tr><td>2 </td><td>1 </td><td>60</td><td>97</td><td>60</td></tr>\n",
       "</tbody>\n",
       "</table>\n"
      ],
      "text/latex": [
       "\\begin{tabular}{r|lllll}\n",
       " id & class & math & english & science\\\\\n",
       "\\hline\n",
       "\t 1  & 1  & 50 & 98 & 50\\\\\n",
       "\t 2  & 1  & 60 & 97 & 60\\\\\n",
       "\\end{tabular}\n"
      ],
      "text/markdown": [
       "\n",
       "| id | class | math | english | science |\n",
       "|---|---|---|---|---|\n",
       "| 1  | 1  | 50 | 98 | 50 |\n",
       "| 2  | 1  | 60 | 97 | 60 |\n",
       "\n"
      ],
      "text/plain": [
       "  id class math english science\n",
       "1 1  1     50   98      50     \n",
       "2 2  1     60   97      60     "
      ]
     },
     "metadata": {},
     "output_type": "display_data"
    }
   ],
   "source": [
    "# 여러조건을 충족하는 행 추출하기\n",
    "# 1반 이면서 수학 점수가 50점 이상인 경우\n",
    "exam  %>% filter(class == 1 & math >= 50)"
   ]
  },
  {
   "cell_type": "code",
   "execution_count": 23,
   "metadata": {},
   "outputs": [
    {
     "data": {
      "text/html": [
       "<table>\n",
       "<thead><tr><th scope=col>id</th><th scope=col>class</th><th scope=col>math</th><th scope=col>english</th><th scope=col>science</th></tr></thead>\n",
       "<tbody>\n",
       "\t<tr><td>5 </td><td>2 </td><td>25</td><td>80</td><td>65</td></tr>\n",
       "\t<tr><td>6 </td><td>2 </td><td>50</td><td>89</td><td>98</td></tr>\n",
       "\t<tr><td>7 </td><td>2 </td><td>80</td><td>90</td><td>45</td></tr>\n",
       "</tbody>\n",
       "</table>\n"
      ],
      "text/latex": [
       "\\begin{tabular}{r|lllll}\n",
       " id & class & math & english & science\\\\\n",
       "\\hline\n",
       "\t 5  & 2  & 25 & 80 & 65\\\\\n",
       "\t 6  & 2  & 50 & 89 & 98\\\\\n",
       "\t 7  & 2  & 80 & 90 & 45\\\\\n",
       "\\end{tabular}\n"
      ],
      "text/markdown": [
       "\n",
       "| id | class | math | english | science |\n",
       "|---|---|---|---|---|\n",
       "| 5  | 2  | 25 | 80 | 65 |\n",
       "| 6  | 2  | 50 | 89 | 98 |\n",
       "| 7  | 2  | 80 | 90 | 45 |\n",
       "\n"
      ],
      "text/plain": [
       "  id class math english science\n",
       "1 5  2     25   80      65     \n",
       "2 6  2     50   89      98     \n",
       "3 7  2     80   90      45     "
      ]
     },
     "metadata": {},
     "output_type": "display_data"
    }
   ],
   "source": [
    "exam  %>%  filter(class == 2 & english >=80)"
   ]
  },
  {
   "cell_type": "code",
   "execution_count": 24,
   "metadata": {},
   "outputs": [
    {
     "data": {
      "text/html": [
       "<table>\n",
       "<thead><tr><th scope=col>id</th><th scope=col>class</th><th scope=col>math</th><th scope=col>english</th><th scope=col>science</th></tr></thead>\n",
       "<tbody>\n",
       "\t<tr><td> 1</td><td>1 </td><td>50</td><td>98</td><td>50</td></tr>\n",
       "\t<tr><td> 2</td><td>1 </td><td>60</td><td>97</td><td>60</td></tr>\n",
       "\t<tr><td> 4</td><td>1 </td><td>30</td><td>98</td><td>58</td></tr>\n",
       "\t<tr><td> 7</td><td>2 </td><td>80</td><td>90</td><td>45</td></tr>\n",
       "\t<tr><td> 8</td><td>2 </td><td>90</td><td>78</td><td>25</td></tr>\n",
       "\t<tr><td> 9</td><td>3 </td><td>20</td><td>98</td><td>15</td></tr>\n",
       "\t<tr><td>10</td><td>3 </td><td>50</td><td>98</td><td>45</td></tr>\n",
       "\t<tr><td>13</td><td>4 </td><td>46</td><td>98</td><td>65</td></tr>\n",
       "\t<tr><td>16</td><td>4 </td><td>58</td><td>98</td><td>65</td></tr>\n",
       "</tbody>\n",
       "</table>\n"
      ],
      "text/latex": [
       "\\begin{tabular}{r|lllll}\n",
       " id & class & math & english & science\\\\\n",
       "\\hline\n",
       "\t  1 & 1  & 50 & 98 & 50\\\\\n",
       "\t  2 & 1  & 60 & 97 & 60\\\\\n",
       "\t  4 & 1  & 30 & 98 & 58\\\\\n",
       "\t  7 & 2  & 80 & 90 & 45\\\\\n",
       "\t  8 & 2  & 90 & 78 & 25\\\\\n",
       "\t  9 & 3  & 20 & 98 & 15\\\\\n",
       "\t 10 & 3  & 50 & 98 & 45\\\\\n",
       "\t 13 & 4  & 46 & 98 & 65\\\\\n",
       "\t 16 & 4  & 58 & 98 & 65\\\\\n",
       "\\end{tabular}\n"
      ],
      "text/markdown": [
       "\n",
       "| id | class | math | english | science |\n",
       "|---|---|---|---|---|\n",
       "|  1 | 1  | 50 | 98 | 50 |\n",
       "|  2 | 1  | 60 | 97 | 60 |\n",
       "|  4 | 1  | 30 | 98 | 58 |\n",
       "|  7 | 2  | 80 | 90 | 45 |\n",
       "|  8 | 2  | 90 | 78 | 25 |\n",
       "|  9 | 3  | 20 | 98 | 15 |\n",
       "| 10 | 3  | 50 | 98 | 45 |\n",
       "| 13 | 4  | 46 | 98 | 65 |\n",
       "| 16 | 4  | 58 | 98 | 65 |\n",
       "\n"
      ],
      "text/plain": [
       "  id class math english science\n",
       "1  1 1     50   98      50     \n",
       "2  2 1     60   97      60     \n",
       "3  4 1     30   98      58     \n",
       "4  7 2     80   90      45     \n",
       "5  8 2     90   78      25     \n",
       "6  9 3     20   98      15     \n",
       "7 10 3     50   98      45     \n",
       "8 13 4     46   98      65     \n",
       "9 16 4     58   98      65     "
      ]
     },
     "metadata": {},
     "output_type": "display_data"
    }
   ],
   "source": [
    "exam %>% filter (math >= 90 | english >= 90 )"
   ]
  },
  {
   "cell_type": "code",
   "execution_count": 25,
   "metadata": {},
   "outputs": [
    {
     "data": {
      "text/html": [
       "<table>\n",
       "<thead><tr><th scope=col>id</th><th scope=col>class</th><th scope=col>math</th><th scope=col>english</th><th scope=col>science</th></tr></thead>\n",
       "<tbody>\n",
       "\t<tr><td> 3</td><td>1 </td><td>45</td><td>86</td><td>78</td></tr>\n",
       "\t<tr><td> 5</td><td>2 </td><td>25</td><td>80</td><td>65</td></tr>\n",
       "\t<tr><td> 6</td><td>2 </td><td>50</td><td>89</td><td>98</td></tr>\n",
       "\t<tr><td> 7</td><td>2 </td><td>80</td><td>90</td><td>45</td></tr>\n",
       "\t<tr><td> 8</td><td>2 </td><td>90</td><td>78</td><td>25</td></tr>\n",
       "\t<tr><td> 9</td><td>3 </td><td>20</td><td>98</td><td>15</td></tr>\n",
       "\t<tr><td>10</td><td>3 </td><td>50</td><td>98</td><td>45</td></tr>\n",
       "\t<tr><td>11</td><td>3 </td><td>65</td><td>65</td><td>65</td></tr>\n",
       "\t<tr><td>12</td><td>3 </td><td>45</td><td>85</td><td>32</td></tr>\n",
       "\t<tr><td>14</td><td>4 </td><td>48</td><td>87</td><td>12</td></tr>\n",
       "\t<tr><td>15</td><td>4 </td><td>75</td><td>56</td><td>78</td></tr>\n",
       "\t<tr><td>17</td><td>5 </td><td>65</td><td>68</td><td>98</td></tr>\n",
       "\t<tr><td>18</td><td>5 </td><td>80</td><td>78</td><td>90</td></tr>\n",
       "\t<tr><td>19</td><td>5 </td><td>89</td><td>68</td><td>87</td></tr>\n",
       "\t<tr><td>20</td><td>5 </td><td>78</td><td>83</td><td>58</td></tr>\n",
       "</tbody>\n",
       "</table>\n"
      ],
      "text/latex": [
       "\\begin{tabular}{r|lllll}\n",
       " id & class & math & english & science\\\\\n",
       "\\hline\n",
       "\t  3 & 1  & 45 & 86 & 78\\\\\n",
       "\t  5 & 2  & 25 & 80 & 65\\\\\n",
       "\t  6 & 2  & 50 & 89 & 98\\\\\n",
       "\t  7 & 2  & 80 & 90 & 45\\\\\n",
       "\t  8 & 2  & 90 & 78 & 25\\\\\n",
       "\t  9 & 3  & 20 & 98 & 15\\\\\n",
       "\t 10 & 3  & 50 & 98 & 45\\\\\n",
       "\t 11 & 3  & 65 & 65 & 65\\\\\n",
       "\t 12 & 3  & 45 & 85 & 32\\\\\n",
       "\t 14 & 4  & 48 & 87 & 12\\\\\n",
       "\t 15 & 4  & 75 & 56 & 78\\\\\n",
       "\t 17 & 5  & 65 & 68 & 98\\\\\n",
       "\t 18 & 5  & 80 & 78 & 90\\\\\n",
       "\t 19 & 5  & 89 & 68 & 87\\\\\n",
       "\t 20 & 5  & 78 & 83 & 58\\\\\n",
       "\\end{tabular}\n"
      ],
      "text/markdown": [
       "\n",
       "| id | class | math | english | science |\n",
       "|---|---|---|---|---|\n",
       "|  3 | 1  | 45 | 86 | 78 |\n",
       "|  5 | 2  | 25 | 80 | 65 |\n",
       "|  6 | 2  | 50 | 89 | 98 |\n",
       "|  7 | 2  | 80 | 90 | 45 |\n",
       "|  8 | 2  | 90 | 78 | 25 |\n",
       "|  9 | 3  | 20 | 98 | 15 |\n",
       "| 10 | 3  | 50 | 98 | 45 |\n",
       "| 11 | 3  | 65 | 65 | 65 |\n",
       "| 12 | 3  | 45 | 85 | 32 |\n",
       "| 14 | 4  | 48 | 87 | 12 |\n",
       "| 15 | 4  | 75 | 56 | 78 |\n",
       "| 17 | 5  | 65 | 68 | 98 |\n",
       "| 18 | 5  | 80 | 78 | 90 |\n",
       "| 19 | 5  | 89 | 68 | 87 |\n",
       "| 20 | 5  | 78 | 83 | 58 |\n",
       "\n"
      ],
      "text/plain": [
       "   id class math english science\n",
       "1   3 1     45   86      78     \n",
       "2   5 2     25   80      65     \n",
       "3   6 2     50   89      98     \n",
       "4   7 2     80   90      45     \n",
       "5   8 2     90   78      25     \n",
       "6   9 3     20   98      15     \n",
       "7  10 3     50   98      45     \n",
       "8  11 3     65   65      65     \n",
       "9  12 3     45   85      32     \n",
       "10 14 4     48   87      12     \n",
       "11 15 4     75   56      78     \n",
       "12 17 5     65   68      98     \n",
       "13 18 5     80   78      90     \n",
       "14 19 5     89   68      87     \n",
       "15 20 5     78   83      58     "
      ]
     },
     "metadata": {},
     "output_type": "display_data"
    }
   ],
   "source": [
    "exam %>% filter (english < 90 | science < 50 )"
   ]
  },
  {
   "cell_type": "code",
   "execution_count": 26,
   "metadata": {},
   "outputs": [
    {
     "data": {
      "text/html": [
       "<table>\n",
       "<thead><tr><th scope=col>id</th><th scope=col>class</th><th scope=col>math</th><th scope=col>english</th><th scope=col>science</th></tr></thead>\n",
       "<tbody>\n",
       "\t<tr><td> 1</td><td>1 </td><td>50</td><td>98</td><td>50</td></tr>\n",
       "\t<tr><td> 2</td><td>1 </td><td>60</td><td>97</td><td>60</td></tr>\n",
       "\t<tr><td> 3</td><td>1 </td><td>45</td><td>86</td><td>78</td></tr>\n",
       "\t<tr><td> 4</td><td>1 </td><td>30</td><td>98</td><td>58</td></tr>\n",
       "\t<tr><td> 9</td><td>3 </td><td>20</td><td>98</td><td>15</td></tr>\n",
       "\t<tr><td>10</td><td>3 </td><td>50</td><td>98</td><td>45</td></tr>\n",
       "\t<tr><td>11</td><td>3 </td><td>65</td><td>65</td><td>65</td></tr>\n",
       "\t<tr><td>12</td><td>3 </td><td>45</td><td>85</td><td>32</td></tr>\n",
       "\t<tr><td>17</td><td>5 </td><td>65</td><td>68</td><td>98</td></tr>\n",
       "\t<tr><td>18</td><td>5 </td><td>80</td><td>78</td><td>90</td></tr>\n",
       "\t<tr><td>19</td><td>5 </td><td>89</td><td>68</td><td>87</td></tr>\n",
       "\t<tr><td>20</td><td>5 </td><td>78</td><td>83</td><td>58</td></tr>\n",
       "</tbody>\n",
       "</table>\n"
      ],
      "text/latex": [
       "\\begin{tabular}{r|lllll}\n",
       " id & class & math & english & science\\\\\n",
       "\\hline\n",
       "\t  1 & 1  & 50 & 98 & 50\\\\\n",
       "\t  2 & 1  & 60 & 97 & 60\\\\\n",
       "\t  3 & 1  & 45 & 86 & 78\\\\\n",
       "\t  4 & 1  & 30 & 98 & 58\\\\\n",
       "\t  9 & 3  & 20 & 98 & 15\\\\\n",
       "\t 10 & 3  & 50 & 98 & 45\\\\\n",
       "\t 11 & 3  & 65 & 65 & 65\\\\\n",
       "\t 12 & 3  & 45 & 85 & 32\\\\\n",
       "\t 17 & 5  & 65 & 68 & 98\\\\\n",
       "\t 18 & 5  & 80 & 78 & 90\\\\\n",
       "\t 19 & 5  & 89 & 68 & 87\\\\\n",
       "\t 20 & 5  & 78 & 83 & 58\\\\\n",
       "\\end{tabular}\n"
      ],
      "text/markdown": [
       "\n",
       "| id | class | math | english | science |\n",
       "|---|---|---|---|---|\n",
       "|  1 | 1  | 50 | 98 | 50 |\n",
       "|  2 | 1  | 60 | 97 | 60 |\n",
       "|  3 | 1  | 45 | 86 | 78 |\n",
       "|  4 | 1  | 30 | 98 | 58 |\n",
       "|  9 | 3  | 20 | 98 | 15 |\n",
       "| 10 | 3  | 50 | 98 | 45 |\n",
       "| 11 | 3  | 65 | 65 | 65 |\n",
       "| 12 | 3  | 45 | 85 | 32 |\n",
       "| 17 | 5  | 65 | 68 | 98 |\n",
       "| 18 | 5  | 80 | 78 | 90 |\n",
       "| 19 | 5  | 89 | 68 | 87 |\n",
       "| 20 | 5  | 78 | 83 | 58 |\n",
       "\n"
      ],
      "text/plain": [
       "   id class math english science\n",
       "1   1 1     50   98      50     \n",
       "2   2 1     60   97      60     \n",
       "3   3 1     45   86      78     \n",
       "4   4 1     30   98      58     \n",
       "5   9 3     20   98      15     \n",
       "6  10 3     50   98      45     \n",
       "7  11 3     65   65      65     \n",
       "8  12 3     45   85      32     \n",
       "9  17 5     65   68      98     \n",
       "10 18 5     80   78      90     \n",
       "11 19 5     89   68      87     \n",
       "12 20 5     78   83      58     "
      ]
     },
     "metadata": {},
     "output_type": "display_data"
    }
   ],
   "source": [
    "exam %>% filter (class == 1 | class == 3 | class == 5 ) # 1, 3, 5 반에 해당되면 추출"
   ]
  },
  {
   "cell_type": "code",
   "execution_count": 27,
   "metadata": {},
   "outputs": [
    {
     "data": {
      "text/html": [
       "<table>\n",
       "<thead><tr><th scope=col>id</th><th scope=col>class</th><th scope=col>math</th><th scope=col>english</th><th scope=col>science</th></tr></thead>\n",
       "<tbody>\n",
       "\t<tr><td> 1</td><td>1 </td><td>50</td><td>98</td><td>50</td></tr>\n",
       "\t<tr><td> 2</td><td>1 </td><td>60</td><td>97</td><td>60</td></tr>\n",
       "\t<tr><td> 3</td><td>1 </td><td>45</td><td>86</td><td>78</td></tr>\n",
       "\t<tr><td> 4</td><td>1 </td><td>30</td><td>98</td><td>58</td></tr>\n",
       "\t<tr><td> 9</td><td>3 </td><td>20</td><td>98</td><td>15</td></tr>\n",
       "\t<tr><td>10</td><td>3 </td><td>50</td><td>98</td><td>45</td></tr>\n",
       "\t<tr><td>11</td><td>3 </td><td>65</td><td>65</td><td>65</td></tr>\n",
       "\t<tr><td>12</td><td>3 </td><td>45</td><td>85</td><td>32</td></tr>\n",
       "\t<tr><td>17</td><td>5 </td><td>65</td><td>68</td><td>98</td></tr>\n",
       "\t<tr><td>18</td><td>5 </td><td>80</td><td>78</td><td>90</td></tr>\n",
       "\t<tr><td>19</td><td>5 </td><td>89</td><td>68</td><td>87</td></tr>\n",
       "\t<tr><td>20</td><td>5 </td><td>78</td><td>83</td><td>58</td></tr>\n",
       "</tbody>\n",
       "</table>\n"
      ],
      "text/latex": [
       "\\begin{tabular}{r|lllll}\n",
       " id & class & math & english & science\\\\\n",
       "\\hline\n",
       "\t  1 & 1  & 50 & 98 & 50\\\\\n",
       "\t  2 & 1  & 60 & 97 & 60\\\\\n",
       "\t  3 & 1  & 45 & 86 & 78\\\\\n",
       "\t  4 & 1  & 30 & 98 & 58\\\\\n",
       "\t  9 & 3  & 20 & 98 & 15\\\\\n",
       "\t 10 & 3  & 50 & 98 & 45\\\\\n",
       "\t 11 & 3  & 65 & 65 & 65\\\\\n",
       "\t 12 & 3  & 45 & 85 & 32\\\\\n",
       "\t 17 & 5  & 65 & 68 & 98\\\\\n",
       "\t 18 & 5  & 80 & 78 & 90\\\\\n",
       "\t 19 & 5  & 89 & 68 & 87\\\\\n",
       "\t 20 & 5  & 78 & 83 & 58\\\\\n",
       "\\end{tabular}\n"
      ],
      "text/markdown": [
       "\n",
       "| id | class | math | english | science |\n",
       "|---|---|---|---|---|\n",
       "|  1 | 1  | 50 | 98 | 50 |\n",
       "|  2 | 1  | 60 | 97 | 60 |\n",
       "|  3 | 1  | 45 | 86 | 78 |\n",
       "|  4 | 1  | 30 | 98 | 58 |\n",
       "|  9 | 3  | 20 | 98 | 15 |\n",
       "| 10 | 3  | 50 | 98 | 45 |\n",
       "| 11 | 3  | 65 | 65 | 65 |\n",
       "| 12 | 3  | 45 | 85 | 32 |\n",
       "| 17 | 5  | 65 | 68 | 98 |\n",
       "| 18 | 5  | 80 | 78 | 90 |\n",
       "| 19 | 5  | 89 | 68 | 87 |\n",
       "| 20 | 5  | 78 | 83 | 58 |\n",
       "\n"
      ],
      "text/plain": [
       "   id class math english science\n",
       "1   1 1     50   98      50     \n",
       "2   2 1     60   97      60     \n",
       "3   3 1     45   86      78     \n",
       "4   4 1     30   98      58     \n",
       "5   9 3     20   98      15     \n",
       "6  10 3     50   98      45     \n",
       "7  11 3     65   65      65     \n",
       "8  12 3     45   85      32     \n",
       "9  17 5     65   68      98     \n",
       "10 18 5     80   78      90     \n",
       "11 19 5     89   68      87     \n",
       "12 20 5     78   83      58     "
      ]
     },
     "metadata": {},
     "output_type": "display_data"
    }
   ],
   "source": [
    "exam %>% filter (class %in% c ( 1 , 3 , 5 ))"
   ]
  },
  {
   "cell_type": "code",
   "execution_count": 30,
   "metadata": {},
   "outputs": [],
   "source": [
    "class1 = exam  %>%  filter(class == 1)\n",
    "class2 = exam  %>%  filter(class == 2)"
   ]
  },
  {
   "cell_type": "code",
   "execution_count": 31,
   "metadata": {},
   "outputs": [
    {
     "data": {
      "text/html": [
       "46.25"
      ],
      "text/latex": [
       "46.25"
      ],
      "text/markdown": [
       "46.25"
      ],
      "text/plain": [
       "[1] 46.25"
      ]
     },
     "metadata": {},
     "output_type": "display_data"
    }
   ],
   "source": [
    "mean(class1$math)"
   ]
  },
  {
   "cell_type": "code",
   "execution_count": 32,
   "metadata": {},
   "outputs": [
    {
     "data": {
      "text/html": [
       "61.25"
      ],
      "text/latex": [
       "61.25"
      ],
      "text/markdown": [
       "61.25"
      ],
      "text/plain": [
       "[1] 61.25"
      ]
     },
     "metadata": {},
     "output_type": "display_data"
    }
   ],
   "source": [
    "mean(class2$math)"
   ]
  },
  {
   "cell_type": "code",
   "execution_count": 34,
   "metadata": {},
   "outputs": [
    {
     "data": {
      "text/html": [
       "1"
      ],
      "text/latex": [
       "1"
      ],
      "text/markdown": [
       "1"
      ],
      "text/plain": [
       "[1] 1"
      ]
     },
     "metadata": {},
     "output_type": "display_data"
    }
   ],
   "source": [
    "10%%3"
   ]
  },
  {
   "cell_type": "code",
   "execution_count": 35,
   "metadata": {},
   "outputs": [
    {
     "data": {
      "text/html": [
       "3"
      ],
      "text/latex": [
       "3"
      ],
      "text/markdown": [
       "3"
      ],
      "text/plain": [
       "[1] 3"
      ]
     },
     "metadata": {},
     "output_type": "display_data"
    }
   ],
   "source": [
    "10%/%3"
   ]
  },
  {
   "cell_type": "code",
   "execution_count": 36,
   "metadata": {},
   "outputs": [
    {
     "name": "stderr",
     "output_type": "stream",
     "text": [
      "Registered S3 methods overwritten by 'ggplot2':\n",
      "  method         from \n",
      "  [.quosures     rlang\n",
      "  c.quosures     rlang\n",
      "  print.quosures rlang\n"
     ]
    }
   ],
   "source": [
    "mpg <- as.data.frame (ggplot2::mpg)"
   ]
  },
  {
   "cell_type": "code",
   "execution_count": 37,
   "metadata": {},
   "outputs": [
    {
     "data": {
      "text/html": [
       "<table>\n",
       "<thead><tr><th scope=col>manufacturer</th><th scope=col>model</th><th scope=col>displ</th><th scope=col>year</th><th scope=col>cyl</th><th scope=col>trans</th><th scope=col>drv</th><th scope=col>cty</th><th scope=col>hwy</th><th scope=col>fl</th><th scope=col>class</th></tr></thead>\n",
       "<tbody>\n",
       "\t<tr><td>audi      </td><td>a4        </td><td>1.8       </td><td>1999      </td><td>4         </td><td>auto(l5)  </td><td>f         </td><td>18        </td><td>29        </td><td>p         </td><td>compact   </td></tr>\n",
       "\t<tr><td>audi      </td><td>a4        </td><td>1.8       </td><td>1999      </td><td>4         </td><td>manual(m5)</td><td>f         </td><td>21        </td><td>29        </td><td>p         </td><td>compact   </td></tr>\n",
       "\t<tr><td>audi      </td><td>a4        </td><td>2.0       </td><td>2008      </td><td>4         </td><td>manual(m6)</td><td>f         </td><td>20        </td><td>31        </td><td>p         </td><td>compact   </td></tr>\n",
       "\t<tr><td>audi      </td><td>a4        </td><td>2.0       </td><td>2008      </td><td>4         </td><td>auto(av)  </td><td>f         </td><td>21        </td><td>30        </td><td>p         </td><td>compact   </td></tr>\n",
       "\t<tr><td>audi      </td><td>a4        </td><td>2.8       </td><td>1999      </td><td>6         </td><td>auto(l5)  </td><td>f         </td><td>16        </td><td>26        </td><td>p         </td><td>compact   </td></tr>\n",
       "\t<tr><td>audi      </td><td>a4        </td><td>2.8       </td><td>1999      </td><td>6         </td><td>manual(m5)</td><td>f         </td><td>18        </td><td>26        </td><td>p         </td><td>compact   </td></tr>\n",
       "</tbody>\n",
       "</table>\n"
      ],
      "text/latex": [
       "\\begin{tabular}{r|lllllllllll}\n",
       " manufacturer & model & displ & year & cyl & trans & drv & cty & hwy & fl & class\\\\\n",
       "\\hline\n",
       "\t audi       & a4         & 1.8        & 1999       & 4          & auto(l5)   & f          & 18         & 29         & p          & compact   \\\\\n",
       "\t audi       & a4         & 1.8        & 1999       & 4          & manual(m5) & f          & 21         & 29         & p          & compact   \\\\\n",
       "\t audi       & a4         & 2.0        & 2008       & 4          & manual(m6) & f          & 20         & 31         & p          & compact   \\\\\n",
       "\t audi       & a4         & 2.0        & 2008       & 4          & auto(av)   & f          & 21         & 30         & p          & compact   \\\\\n",
       "\t audi       & a4         & 2.8        & 1999       & 6          & auto(l5)   & f          & 16         & 26         & p          & compact   \\\\\n",
       "\t audi       & a4         & 2.8        & 1999       & 6          & manual(m5) & f          & 18         & 26         & p          & compact   \\\\\n",
       "\\end{tabular}\n"
      ],
      "text/markdown": [
       "\n",
       "| manufacturer | model | displ | year | cyl | trans | drv | cty | hwy | fl | class |\n",
       "|---|---|---|---|---|---|---|---|---|---|---|\n",
       "| audi       | a4         | 1.8        | 1999       | 4          | auto(l5)   | f          | 18         | 29         | p          | compact    |\n",
       "| audi       | a4         | 1.8        | 1999       | 4          | manual(m5) | f          | 21         | 29         | p          | compact    |\n",
       "| audi       | a4         | 2.0        | 2008       | 4          | manual(m6) | f          | 20         | 31         | p          | compact    |\n",
       "| audi       | a4         | 2.0        | 2008       | 4          | auto(av)   | f          | 21         | 30         | p          | compact    |\n",
       "| audi       | a4         | 2.8        | 1999       | 6          | auto(l5)   | f          | 16         | 26         | p          | compact    |\n",
       "| audi       | a4         | 2.8        | 1999       | 6          | manual(m5) | f          | 18         | 26         | p          | compact    |\n",
       "\n"
      ],
      "text/plain": [
       "  manufacturer model displ year cyl trans      drv cty hwy fl class  \n",
       "1 audi         a4    1.8   1999 4   auto(l5)   f   18  29  p  compact\n",
       "2 audi         a4    1.8   1999 4   manual(m5) f   21  29  p  compact\n",
       "3 audi         a4    2.0   2008 4   manual(m6) f   20  31  p  compact\n",
       "4 audi         a4    2.0   2008 4   auto(av)   f   21  30  p  compact\n",
       "5 audi         a4    2.8   1999 6   auto(l5)   f   16  26  p  compact\n",
       "6 audi         a4    2.8   1999 6   manual(m5) f   18  26  p  compact"
      ]
     },
     "metadata": {},
     "output_type": "display_data"
    }
   ],
   "source": [
    "head(mpg)"
   ]
  },
  {
   "cell_type": "code",
   "execution_count": 42,
   "metadata": {},
   "outputs": [],
   "source": [
    "mpg_a = mpg %>% filter(displ <= 4)\n",
    "mpg_b = mpg %>% filter(displ >= 5)"
   ]
  },
  {
   "cell_type": "code",
   "execution_count": 44,
   "metadata": {},
   "outputs": [
    {
     "data": {
      "text/html": [
       "25.9631901840491"
      ],
      "text/latex": [
       "25.9631901840491"
      ],
      "text/markdown": [
       "25.9631901840491"
      ],
      "text/plain": [
       "[1] 25.96319"
      ]
     },
     "metadata": {},
     "output_type": "display_data"
    }
   ],
   "source": [
    "mean(mpg_a$hwy)"
   ]
  },
  {
   "cell_type": "code",
   "execution_count": 45,
   "metadata": {},
   "outputs": [
    {
     "data": {
      "text/html": [
       "18.0789473684211"
      ],
      "text/latex": [
       "18.0789473684211"
      ],
      "text/markdown": [
       "18.0789473684211"
      ],
      "text/plain": [
       "[1] 18.07895"
      ]
     },
     "metadata": {},
     "output_type": "display_data"
    }
   ],
   "source": [
    "mean(mpg_b$hwy)"
   ]
  },
  {
   "cell_type": "code",
   "execution_count": 48,
   "metadata": {},
   "outputs": [],
   "source": [
    "mpg_audi = mpg %>% filter (manufacturer == \"audi\" ) \n",
    "mpg_toyota = mpg %>% filter (manufacturer == \"toyota\" )"
   ]
  },
  {
   "cell_type": "code",
   "execution_count": 49,
   "metadata": {},
   "outputs": [
    {
     "data": {
      "text/html": [
       "17.6111111111111"
      ],
      "text/latex": [
       "17.6111111111111"
      ],
      "text/markdown": [
       "17.6111111111111"
      ],
      "text/plain": [
       "[1] 17.61111"
      ]
     },
     "metadata": {},
     "output_type": "display_data"
    }
   ],
   "source": [
    "mean(mpg_audi$cty)"
   ]
  },
  {
   "cell_type": "code",
   "execution_count": 50,
   "metadata": {},
   "outputs": [
    {
     "data": {
      "text/html": [
       "18.5294117647059"
      ],
      "text/latex": [
       "18.5294117647059"
      ],
      "text/markdown": [
       "18.5294117647059"
      ],
      "text/plain": [
       "[1] 18.52941"
      ]
     },
     "metadata": {},
     "output_type": "display_data"
    }
   ],
   "source": [
    "mean(mpg_toyota$cty)"
   ]
  },
  {
   "cell_type": "code",
   "execution_count": 52,
   "metadata": {},
   "outputs": [],
   "source": [
    "mpg_a = mpg %>% filter (manufacturer %in% c('chevrolet','ford','honda'))"
   ]
  },
  {
   "cell_type": "code",
   "execution_count": 53,
   "metadata": {},
   "outputs": [
    {
     "data": {
      "text/html": [
       "22.5094339622642"
      ],
      "text/latex": [
       "22.5094339622642"
      ],
      "text/markdown": [
       "22.5094339622642"
      ],
      "text/plain": [
       "[1] 22.50943"
      ]
     },
     "metadata": {},
     "output_type": "display_data"
    }
   ],
   "source": [
    "mean(mpg_a$hwy)"
   ]
  },
  {
   "cell_type": "code",
   "execution_count": 57,
   "metadata": {},
   "outputs": [
    {
     "data": {
      "text/html": [
       "<table>\n",
       "<thead><tr><th scope=col>math</th><th scope=col>english</th><th scope=col>science</th></tr></thead>\n",
       "<tbody>\n",
       "\t<tr><td>50</td><td>98</td><td>50</td></tr>\n",
       "\t<tr><td>60</td><td>97</td><td>60</td></tr>\n",
       "\t<tr><td>45</td><td>86</td><td>78</td></tr>\n",
       "\t<tr><td>30</td><td>98</td><td>58</td></tr>\n",
       "\t<tr><td>25</td><td>80</td><td>65</td></tr>\n",
       "</tbody>\n",
       "</table>\n"
      ],
      "text/latex": [
       "\\begin{tabular}{r|lll}\n",
       " math & english & science\\\\\n",
       "\\hline\n",
       "\t 50 & 98 & 50\\\\\n",
       "\t 60 & 97 & 60\\\\\n",
       "\t 45 & 86 & 78\\\\\n",
       "\t 30 & 98 & 58\\\\\n",
       "\t 25 & 80 & 65\\\\\n",
       "\\end{tabular}\n"
      ],
      "text/markdown": [
       "\n",
       "| math | english | science |\n",
       "|---|---|---|\n",
       "| 50 | 98 | 50 |\n",
       "| 60 | 97 | 60 |\n",
       "| 45 | 86 | 78 |\n",
       "| 30 | 98 | 58 |\n",
       "| 25 | 80 | 65 |\n",
       "\n"
      ],
      "text/plain": [
       "  math english science\n",
       "1 50   98      50     \n",
       "2 60   97      60     \n",
       "3 45   86      78     \n",
       "4 30   98      58     \n",
       "5 25   80      65     "
      ]
     },
     "metadata": {},
     "output_type": "display_data"
    }
   ],
   "source": [
    "exam %>% select(math, english,science) %>% \n",
    "head(5)"
   ]
  },
  {
   "cell_type": "code",
   "execution_count": 67,
   "metadata": {},
   "outputs": [
    {
     "data": {
      "text/html": [
       "<table>\n",
       "<thead><tr><th scope=col>id</th><th scope=col>class</th><th scope=col>english</th><th scope=col>science</th></tr></thead>\n",
       "<tbody>\n",
       "\t<tr><td> 1</td><td>1 </td><td>98</td><td>50</td></tr>\n",
       "\t<tr><td> 2</td><td>1 </td><td>97</td><td>60</td></tr>\n",
       "\t<tr><td> 3</td><td>1 </td><td>86</td><td>78</td></tr>\n",
       "\t<tr><td> 4</td><td>1 </td><td>98</td><td>58</td></tr>\n",
       "\t<tr><td> 5</td><td>2 </td><td>80</td><td>65</td></tr>\n",
       "\t<tr><td> 6</td><td>2 </td><td>89</td><td>98</td></tr>\n",
       "\t<tr><td> 7</td><td>2 </td><td>90</td><td>45</td></tr>\n",
       "\t<tr><td> 8</td><td>2 </td><td>78</td><td>25</td></tr>\n",
       "\t<tr><td> 9</td><td>3 </td><td>98</td><td>15</td></tr>\n",
       "\t<tr><td>10</td><td>3 </td><td>98</td><td>45</td></tr>\n",
       "\t<tr><td>11</td><td>3 </td><td>65</td><td>65</td></tr>\n",
       "\t<tr><td>12</td><td>3 </td><td>85</td><td>32</td></tr>\n",
       "\t<tr><td>13</td><td>4 </td><td>98</td><td>65</td></tr>\n",
       "\t<tr><td>14</td><td>4 </td><td>87</td><td>12</td></tr>\n",
       "\t<tr><td>15</td><td>4 </td><td>56</td><td>78</td></tr>\n",
       "\t<tr><td>16</td><td>4 </td><td>98</td><td>65</td></tr>\n",
       "\t<tr><td>17</td><td>5 </td><td>68</td><td>98</td></tr>\n",
       "\t<tr><td>18</td><td>5 </td><td>78</td><td>90</td></tr>\n",
       "\t<tr><td>19</td><td>5 </td><td>68</td><td>87</td></tr>\n",
       "\t<tr><td>20</td><td>5 </td><td>83</td><td>58</td></tr>\n",
       "</tbody>\n",
       "</table>\n"
      ],
      "text/latex": [
       "\\begin{tabular}{r|llll}\n",
       " id & class & english & science\\\\\n",
       "\\hline\n",
       "\t  1 & 1  & 98 & 50\\\\\n",
       "\t  2 & 1  & 97 & 60\\\\\n",
       "\t  3 & 1  & 86 & 78\\\\\n",
       "\t  4 & 1  & 98 & 58\\\\\n",
       "\t  5 & 2  & 80 & 65\\\\\n",
       "\t  6 & 2  & 89 & 98\\\\\n",
       "\t  7 & 2  & 90 & 45\\\\\n",
       "\t  8 & 2  & 78 & 25\\\\\n",
       "\t  9 & 3  & 98 & 15\\\\\n",
       "\t 10 & 3  & 98 & 45\\\\\n",
       "\t 11 & 3  & 65 & 65\\\\\n",
       "\t 12 & 3  & 85 & 32\\\\\n",
       "\t 13 & 4  & 98 & 65\\\\\n",
       "\t 14 & 4  & 87 & 12\\\\\n",
       "\t 15 & 4  & 56 & 78\\\\\n",
       "\t 16 & 4  & 98 & 65\\\\\n",
       "\t 17 & 5  & 68 & 98\\\\\n",
       "\t 18 & 5  & 78 & 90\\\\\n",
       "\t 19 & 5  & 68 & 87\\\\\n",
       "\t 20 & 5  & 83 & 58\\\\\n",
       "\\end{tabular}\n"
      ],
      "text/markdown": [
       "\n",
       "| id | class | english | science |\n",
       "|---|---|---|---|\n",
       "|  1 | 1  | 98 | 50 |\n",
       "|  2 | 1  | 97 | 60 |\n",
       "|  3 | 1  | 86 | 78 |\n",
       "|  4 | 1  | 98 | 58 |\n",
       "|  5 | 2  | 80 | 65 |\n",
       "|  6 | 2  | 89 | 98 |\n",
       "|  7 | 2  | 90 | 45 |\n",
       "|  8 | 2  | 78 | 25 |\n",
       "|  9 | 3  | 98 | 15 |\n",
       "| 10 | 3  | 98 | 45 |\n",
       "| 11 | 3  | 65 | 65 |\n",
       "| 12 | 3  | 85 | 32 |\n",
       "| 13 | 4  | 98 | 65 |\n",
       "| 14 | 4  | 87 | 12 |\n",
       "| 15 | 4  | 56 | 78 |\n",
       "| 16 | 4  | 98 | 65 |\n",
       "| 17 | 5  | 68 | 98 |\n",
       "| 18 | 5  | 78 | 90 |\n",
       "| 19 | 5  | 68 | 87 |\n",
       "| 20 | 5  | 83 | 58 |\n",
       "\n"
      ],
      "text/plain": [
       "   id class english science\n",
       "1   1 1     98      50     \n",
       "2   2 1     97      60     \n",
       "3   3 1     86      78     \n",
       "4   4 1     98      58     \n",
       "5   5 2     80      65     \n",
       "6   6 2     89      98     \n",
       "7   7 2     90      45     \n",
       "8   8 2     78      25     \n",
       "9   9 3     98      15     \n",
       "10 10 3     98      45     \n",
       "11 11 3     65      65     \n",
       "12 12 3     85      32     \n",
       "13 13 4     98      65     \n",
       "14 14 4     87      12     \n",
       "15 15 4     56      78     \n",
       "16 16 4     98      65     \n",
       "17 17 5     68      98     \n",
       "18 18 5     78      90     \n",
       "19 19 5     68      87     \n",
       "20 20 5     83      58     "
      ]
     },
     "metadata": {},
     "output_type": "display_data"
    },
    {
     "data": {
      "text/html": [
       "3"
      ],
      "text/latex": [
       "3"
      ],
      "text/markdown": [
       "3"
      ],
      "text/plain": [
       "[1] 3"
      ]
     },
     "metadata": {},
     "output_type": "display_data"
    }
   ],
   "source": [
    "exam %>% select(-math) "
   ]
  },
  {
   "cell_type": "code",
   "execution_count": 66,
   "metadata": {},
   "outputs": [
    {
     "data": {
      "text/html": [
       "<table>\n",
       "<thead><tr><th scope=col>english</th><th scope=col>science</th></tr></thead>\n",
       "<tbody>\n",
       "\t<tr><td>98</td><td>15</td></tr>\n",
       "\t<tr><td>98</td><td>45</td></tr>\n",
       "\t<tr><td>65</td><td>65</td></tr>\n",
       "</tbody>\n",
       "</table>\n"
      ],
      "text/latex": [
       "\\begin{tabular}{r|ll}\n",
       " english & science\\\\\n",
       "\\hline\n",
       "\t 98 & 15\\\\\n",
       "\t 98 & 45\\\\\n",
       "\t 65 & 65\\\\\n",
       "\\end{tabular}\n"
      ],
      "text/markdown": [
       "\n",
       "| english | science |\n",
       "|---|---|\n",
       "| 98 | 15 |\n",
       "| 98 | 45 |\n",
       "| 65 | 65 |\n",
       "\n"
      ],
      "text/plain": [
       "  english science\n",
       "1 98      15     \n",
       "2 98      45     \n",
       "3 65      65     "
      ]
     },
     "metadata": {},
     "output_type": "display_data"
    }
   ],
   "source": [
    "exam %>% \n",
    "    filter(class==3) %>% \n",
    "    select(english,science) %>% \n",
    "    head(3)"
   ]
  },
  {
   "cell_type": "markdown",
   "metadata": {},
   "source": [
    "## 6-4 순서대로 정렬하기"
   ]
  },
  {
   "cell_type": "code",
   "execution_count": 70,
   "metadata": {},
   "outputs": [
    {
     "data": {
      "text/html": [
       "<table>\n",
       "<thead><tr><th scope=col>id</th><th scope=col>class</th><th scope=col>math</th><th scope=col>english</th><th scope=col>science</th></tr></thead>\n",
       "<tbody>\n",
       "\t<tr><td> 8</td><td>2 </td><td>90</td><td>78</td><td>25</td></tr>\n",
       "\t<tr><td>19</td><td>5 </td><td>89</td><td>68</td><td>87</td></tr>\n",
       "\t<tr><td> 7</td><td>2 </td><td>80</td><td>90</td><td>45</td></tr>\n",
       "\t<tr><td>18</td><td>5 </td><td>80</td><td>78</td><td>90</td></tr>\n",
       "\t<tr><td>20</td><td>5 </td><td>78</td><td>83</td><td>58</td></tr>\n",
       "\t<tr><td>15</td><td>4 </td><td>75</td><td>56</td><td>78</td></tr>\n",
       "\t<tr><td>11</td><td>3 </td><td>65</td><td>65</td><td>65</td></tr>\n",
       "\t<tr><td>17</td><td>5 </td><td>65</td><td>68</td><td>98</td></tr>\n",
       "\t<tr><td> 2</td><td>1 </td><td>60</td><td>97</td><td>60</td></tr>\n",
       "\t<tr><td>16</td><td>4 </td><td>58</td><td>98</td><td>65</td></tr>\n",
       "\t<tr><td> 1</td><td>1 </td><td>50</td><td>98</td><td>50</td></tr>\n",
       "\t<tr><td> 6</td><td>2 </td><td>50</td><td>89</td><td>98</td></tr>\n",
       "\t<tr><td>10</td><td>3 </td><td>50</td><td>98</td><td>45</td></tr>\n",
       "\t<tr><td>14</td><td>4 </td><td>48</td><td>87</td><td>12</td></tr>\n",
       "\t<tr><td>13</td><td>4 </td><td>46</td><td>98</td><td>65</td></tr>\n",
       "\t<tr><td> 3</td><td>1 </td><td>45</td><td>86</td><td>78</td></tr>\n",
       "\t<tr><td>12</td><td>3 </td><td>45</td><td>85</td><td>32</td></tr>\n",
       "\t<tr><td> 4</td><td>1 </td><td>30</td><td>98</td><td>58</td></tr>\n",
       "\t<tr><td> 5</td><td>2 </td><td>25</td><td>80</td><td>65</td></tr>\n",
       "\t<tr><td> 9</td><td>3 </td><td>20</td><td>98</td><td>15</td></tr>\n",
       "</tbody>\n",
       "</table>\n"
      ],
      "text/latex": [
       "\\begin{tabular}{r|lllll}\n",
       " id & class & math & english & science\\\\\n",
       "\\hline\n",
       "\t  8 & 2  & 90 & 78 & 25\\\\\n",
       "\t 19 & 5  & 89 & 68 & 87\\\\\n",
       "\t  7 & 2  & 80 & 90 & 45\\\\\n",
       "\t 18 & 5  & 80 & 78 & 90\\\\\n",
       "\t 20 & 5  & 78 & 83 & 58\\\\\n",
       "\t 15 & 4  & 75 & 56 & 78\\\\\n",
       "\t 11 & 3  & 65 & 65 & 65\\\\\n",
       "\t 17 & 5  & 65 & 68 & 98\\\\\n",
       "\t  2 & 1  & 60 & 97 & 60\\\\\n",
       "\t 16 & 4  & 58 & 98 & 65\\\\\n",
       "\t  1 & 1  & 50 & 98 & 50\\\\\n",
       "\t  6 & 2  & 50 & 89 & 98\\\\\n",
       "\t 10 & 3  & 50 & 98 & 45\\\\\n",
       "\t 14 & 4  & 48 & 87 & 12\\\\\n",
       "\t 13 & 4  & 46 & 98 & 65\\\\\n",
       "\t  3 & 1  & 45 & 86 & 78\\\\\n",
       "\t 12 & 3  & 45 & 85 & 32\\\\\n",
       "\t  4 & 1  & 30 & 98 & 58\\\\\n",
       "\t  5 & 2  & 25 & 80 & 65\\\\\n",
       "\t  9 & 3  & 20 & 98 & 15\\\\\n",
       "\\end{tabular}\n"
      ],
      "text/markdown": [
       "\n",
       "| id | class | math | english | science |\n",
       "|---|---|---|---|---|\n",
       "|  8 | 2  | 90 | 78 | 25 |\n",
       "| 19 | 5  | 89 | 68 | 87 |\n",
       "|  7 | 2  | 80 | 90 | 45 |\n",
       "| 18 | 5  | 80 | 78 | 90 |\n",
       "| 20 | 5  | 78 | 83 | 58 |\n",
       "| 15 | 4  | 75 | 56 | 78 |\n",
       "| 11 | 3  | 65 | 65 | 65 |\n",
       "| 17 | 5  | 65 | 68 | 98 |\n",
       "|  2 | 1  | 60 | 97 | 60 |\n",
       "| 16 | 4  | 58 | 98 | 65 |\n",
       "|  1 | 1  | 50 | 98 | 50 |\n",
       "|  6 | 2  | 50 | 89 | 98 |\n",
       "| 10 | 3  | 50 | 98 | 45 |\n",
       "| 14 | 4  | 48 | 87 | 12 |\n",
       "| 13 | 4  | 46 | 98 | 65 |\n",
       "|  3 | 1  | 45 | 86 | 78 |\n",
       "| 12 | 3  | 45 | 85 | 32 |\n",
       "|  4 | 1  | 30 | 98 | 58 |\n",
       "|  5 | 2  | 25 | 80 | 65 |\n",
       "|  9 | 3  | 20 | 98 | 15 |\n",
       "\n"
      ],
      "text/plain": [
       "   id class math english science\n",
       "1   8 2     90   78      25     \n",
       "2  19 5     89   68      87     \n",
       "3   7 2     80   90      45     \n",
       "4  18 5     80   78      90     \n",
       "5  20 5     78   83      58     \n",
       "6  15 4     75   56      78     \n",
       "7  11 3     65   65      65     \n",
       "8  17 5     65   68      98     \n",
       "9   2 1     60   97      60     \n",
       "10 16 4     58   98      65     \n",
       "11  1 1     50   98      50     \n",
       "12  6 2     50   89      98     \n",
       "13 10 3     50   98      45     \n",
       "14 14 4     48   87      12     \n",
       "15 13 4     46   98      65     \n",
       "16  3 1     45   86      78     \n",
       "17 12 3     45   85      32     \n",
       "18  4 1     30   98      58     \n",
       "19  5 2     25   80      65     \n",
       "20  9 3     20   98      15     "
      ]
     },
     "metadata": {},
     "output_type": "display_data"
    }
   ],
   "source": [
    "exam %>% arrange(desc(math)) "
   ]
  },
  {
   "cell_type": "code",
   "execution_count": 72,
   "metadata": {},
   "outputs": [
    {
     "data": {
      "text/html": [
       "<table>\n",
       "<thead><tr><th scope=col>id</th><th scope=col>class</th><th scope=col>math</th><th scope=col>english</th><th scope=col>science</th></tr></thead>\n",
       "<tbody>\n",
       "\t<tr><td> 4</td><td>1 </td><td>30</td><td>98</td><td>58</td></tr>\n",
       "\t<tr><td> 3</td><td>1 </td><td>45</td><td>86</td><td>78</td></tr>\n",
       "\t<tr><td> 1</td><td>1 </td><td>50</td><td>98</td><td>50</td></tr>\n",
       "\t<tr><td> 2</td><td>1 </td><td>60</td><td>97</td><td>60</td></tr>\n",
       "\t<tr><td> 5</td><td>2 </td><td>25</td><td>80</td><td>65</td></tr>\n",
       "\t<tr><td> 6</td><td>2 </td><td>50</td><td>89</td><td>98</td></tr>\n",
       "\t<tr><td> 7</td><td>2 </td><td>80</td><td>90</td><td>45</td></tr>\n",
       "\t<tr><td> 8</td><td>2 </td><td>90</td><td>78</td><td>25</td></tr>\n",
       "\t<tr><td> 9</td><td>3 </td><td>20</td><td>98</td><td>15</td></tr>\n",
       "\t<tr><td>12</td><td>3 </td><td>45</td><td>85</td><td>32</td></tr>\n",
       "\t<tr><td>10</td><td>3 </td><td>50</td><td>98</td><td>45</td></tr>\n",
       "\t<tr><td>11</td><td>3 </td><td>65</td><td>65</td><td>65</td></tr>\n",
       "\t<tr><td>13</td><td>4 </td><td>46</td><td>98</td><td>65</td></tr>\n",
       "\t<tr><td>14</td><td>4 </td><td>48</td><td>87</td><td>12</td></tr>\n",
       "\t<tr><td>16</td><td>4 </td><td>58</td><td>98</td><td>65</td></tr>\n",
       "\t<tr><td>15</td><td>4 </td><td>75</td><td>56</td><td>78</td></tr>\n",
       "\t<tr><td>17</td><td>5 </td><td>65</td><td>68</td><td>98</td></tr>\n",
       "\t<tr><td>20</td><td>5 </td><td>78</td><td>83</td><td>58</td></tr>\n",
       "\t<tr><td>18</td><td>5 </td><td>80</td><td>78</td><td>90</td></tr>\n",
       "\t<tr><td>19</td><td>5 </td><td>89</td><td>68</td><td>87</td></tr>\n",
       "</tbody>\n",
       "</table>\n"
      ],
      "text/latex": [
       "\\begin{tabular}{r|lllll}\n",
       " id & class & math & english & science\\\\\n",
       "\\hline\n",
       "\t  4 & 1  & 30 & 98 & 58\\\\\n",
       "\t  3 & 1  & 45 & 86 & 78\\\\\n",
       "\t  1 & 1  & 50 & 98 & 50\\\\\n",
       "\t  2 & 1  & 60 & 97 & 60\\\\\n",
       "\t  5 & 2  & 25 & 80 & 65\\\\\n",
       "\t  6 & 2  & 50 & 89 & 98\\\\\n",
       "\t  7 & 2  & 80 & 90 & 45\\\\\n",
       "\t  8 & 2  & 90 & 78 & 25\\\\\n",
       "\t  9 & 3  & 20 & 98 & 15\\\\\n",
       "\t 12 & 3  & 45 & 85 & 32\\\\\n",
       "\t 10 & 3  & 50 & 98 & 45\\\\\n",
       "\t 11 & 3  & 65 & 65 & 65\\\\\n",
       "\t 13 & 4  & 46 & 98 & 65\\\\\n",
       "\t 14 & 4  & 48 & 87 & 12\\\\\n",
       "\t 16 & 4  & 58 & 98 & 65\\\\\n",
       "\t 15 & 4  & 75 & 56 & 78\\\\\n",
       "\t 17 & 5  & 65 & 68 & 98\\\\\n",
       "\t 20 & 5  & 78 & 83 & 58\\\\\n",
       "\t 18 & 5  & 80 & 78 & 90\\\\\n",
       "\t 19 & 5  & 89 & 68 & 87\\\\\n",
       "\\end{tabular}\n"
      ],
      "text/markdown": [
       "\n",
       "| id | class | math | english | science |\n",
       "|---|---|---|---|---|\n",
       "|  4 | 1  | 30 | 98 | 58 |\n",
       "|  3 | 1  | 45 | 86 | 78 |\n",
       "|  1 | 1  | 50 | 98 | 50 |\n",
       "|  2 | 1  | 60 | 97 | 60 |\n",
       "|  5 | 2  | 25 | 80 | 65 |\n",
       "|  6 | 2  | 50 | 89 | 98 |\n",
       "|  7 | 2  | 80 | 90 | 45 |\n",
       "|  8 | 2  | 90 | 78 | 25 |\n",
       "|  9 | 3  | 20 | 98 | 15 |\n",
       "| 12 | 3  | 45 | 85 | 32 |\n",
       "| 10 | 3  | 50 | 98 | 45 |\n",
       "| 11 | 3  | 65 | 65 | 65 |\n",
       "| 13 | 4  | 46 | 98 | 65 |\n",
       "| 14 | 4  | 48 | 87 | 12 |\n",
       "| 16 | 4  | 58 | 98 | 65 |\n",
       "| 15 | 4  | 75 | 56 | 78 |\n",
       "| 17 | 5  | 65 | 68 | 98 |\n",
       "| 20 | 5  | 78 | 83 | 58 |\n",
       "| 18 | 5  | 80 | 78 | 90 |\n",
       "| 19 | 5  | 89 | 68 | 87 |\n",
       "\n"
      ],
      "text/plain": [
       "   id class math english science\n",
       "1   4 1     30   98      58     \n",
       "2   3 1     45   86      78     \n",
       "3   1 1     50   98      50     \n",
       "4   2 1     60   97      60     \n",
       "5   5 2     25   80      65     \n",
       "6   6 2     50   89      98     \n",
       "7   7 2     80   90      45     \n",
       "8   8 2     90   78      25     \n",
       "9   9 3     20   98      15     \n",
       "10 12 3     45   85      32     \n",
       "11 10 3     50   98      45     \n",
       "12 11 3     65   65      65     \n",
       "13 13 4     46   98      65     \n",
       "14 14 4     48   87      12     \n",
       "15 16 4     58   98      65     \n",
       "16 15 4     75   56      78     \n",
       "17 17 5     65   68      98     \n",
       "18 20 5     78   83      58     \n",
       "19 18 5     80   78      90     \n",
       "20 19 5     89   68      87     "
      ]
     },
     "metadata": {},
     "output_type": "display_data"
    }
   ],
   "source": [
    "exam %>% arrange(class, math) "
   ]
  },
  {
   "cell_type": "code",
   "execution_count": 74,
   "metadata": {},
   "outputs": [
    {
     "data": {
      "text/html": [
       "<table>\n",
       "<thead><tr><th scope=col>math</th><th scope=col>english</th><th scope=col>science</th></tr></thead>\n",
       "<tbody>\n",
       "\t<tr><td>90</td><td>78</td><td>25</td></tr>\n",
       "\t<tr><td>89</td><td>68</td><td>87</td></tr>\n",
       "\t<tr><td>80</td><td>90</td><td>45</td></tr>\n",
       "</tbody>\n",
       "</table>\n"
      ],
      "text/latex": [
       "\\begin{tabular}{r|lll}\n",
       " math & english & science\\\\\n",
       "\\hline\n",
       "\t 90 & 78 & 25\\\\\n",
       "\t 89 & 68 & 87\\\\\n",
       "\t 80 & 90 & 45\\\\\n",
       "\\end{tabular}\n"
      ],
      "text/markdown": [
       "\n",
       "| math | english | science |\n",
       "|---|---|---|\n",
       "| 90 | 78 | 25 |\n",
       "| 89 | 68 | 87 |\n",
       "| 80 | 90 | 45 |\n",
       "\n"
      ],
      "text/plain": [
       "  math english science\n",
       "1 90   78      25     \n",
       "2 89   68      87     \n",
       "3 80   90      45     "
      ]
     },
     "metadata": {},
     "output_type": "display_data"
    }
   ],
   "source": [
    "exam %>% \n",
    "    select(math,english,science) %>% \n",
    "    arrange(desc(math)) %>% \n",
    "    head(3)"
   ]
  },
  {
   "cell_type": "code",
   "execution_count": 75,
   "metadata": {},
   "outputs": [
    {
     "data": {
      "text/html": [
       "<table>\n",
       "<thead><tr><th scope=col>class</th><th scope=col>math</th><th scope=col>english</th><th scope=col>science</th></tr></thead>\n",
       "<tbody>\n",
       "\t<tr><td>1 </td><td>60</td><td>97</td><td>60</td></tr>\n",
       "\t<tr><td>1 </td><td>50</td><td>98</td><td>50</td></tr>\n",
       "\t<tr><td>1 </td><td>45</td><td>86</td><td>78</td></tr>\n",
       "</tbody>\n",
       "</table>\n"
      ],
      "text/latex": [
       "\\begin{tabular}{r|llll}\n",
       " class & math & english & science\\\\\n",
       "\\hline\n",
       "\t 1  & 60 & 97 & 60\\\\\n",
       "\t 1  & 50 & 98 & 50\\\\\n",
       "\t 1  & 45 & 86 & 78\\\\\n",
       "\\end{tabular}\n"
      ],
      "text/markdown": [
       "\n",
       "| class | math | english | science |\n",
       "|---|---|---|---|\n",
       "| 1  | 60 | 97 | 60 |\n",
       "| 1  | 50 | 98 | 50 |\n",
       "| 1  | 45 | 86 | 78 |\n",
       "\n"
      ],
      "text/plain": [
       "  class math english science\n",
       "1 1     60   97      60     \n",
       "2 1     50   98      50     \n",
       "3 1     45   86      78     "
      ]
     },
     "metadata": {},
     "output_type": "display_data"
    }
   ],
   "source": [
    "exam %>% \n",
    "    select(class,math,english,science) %>% \n",
    "    arrange(class,desc(math)) %>% \n",
    "    head(3)"
   ]
  },
  {
   "cell_type": "markdown",
   "metadata": {},
   "source": [
    "## 06.5 파생변수 추가하기"
   ]
  },
  {
   "cell_type": "code",
   "execution_count": 88,
   "metadata": {},
   "outputs": [
    {
     "data": {
      "text/html": [
       "<table>\n",
       "<thead><tr><th scope=col>id</th><th scope=col>class</th><th scope=col>math</th><th scope=col>english</th><th scope=col>science</th><th scope=col>tatal</th></tr></thead>\n",
       "<tbody>\n",
       "\t<tr><td> 1 </td><td>1  </td><td>50 </td><td>98 </td><td>50 </td><td>148</td></tr>\n",
       "\t<tr><td> 2 </td><td>1  </td><td>60 </td><td>97 </td><td>60 </td><td>157</td></tr>\n",
       "\t<tr><td> 3 </td><td>1  </td><td>45 </td><td>86 </td><td>78 </td><td>131</td></tr>\n",
       "\t<tr><td> 4 </td><td>1  </td><td>30 </td><td>98 </td><td>58 </td><td>128</td></tr>\n",
       "\t<tr><td> 5 </td><td>2  </td><td>25 </td><td>80 </td><td>65 </td><td>105</td></tr>\n",
       "\t<tr><td> 6 </td><td>2  </td><td>50 </td><td>89 </td><td>98 </td><td>139</td></tr>\n",
       "\t<tr><td> 7 </td><td>2  </td><td>80 </td><td>90 </td><td>45 </td><td>170</td></tr>\n",
       "\t<tr><td> 8 </td><td>2  </td><td>90 </td><td>78 </td><td>25 </td><td>168</td></tr>\n",
       "\t<tr><td> 9 </td><td>3  </td><td>20 </td><td>98 </td><td>15 </td><td>118</td></tr>\n",
       "\t<tr><td>10 </td><td>3  </td><td>50 </td><td>98 </td><td>45 </td><td>148</td></tr>\n",
       "</tbody>\n",
       "</table>\n"
      ],
      "text/latex": [
       "\\begin{tabular}{r|llllll}\n",
       " id & class & math & english & science & tatal\\\\\n",
       "\\hline\n",
       "\t  1  & 1   & 50  & 98  & 50  & 148\\\\\n",
       "\t  2  & 1   & 60  & 97  & 60  & 157\\\\\n",
       "\t  3  & 1   & 45  & 86  & 78  & 131\\\\\n",
       "\t  4  & 1   & 30  & 98  & 58  & 128\\\\\n",
       "\t  5  & 2   & 25  & 80  & 65  & 105\\\\\n",
       "\t  6  & 2   & 50  & 89  & 98  & 139\\\\\n",
       "\t  7  & 2   & 80  & 90  & 45  & 170\\\\\n",
       "\t  8  & 2   & 90  & 78  & 25  & 168\\\\\n",
       "\t  9  & 3   & 20  & 98  & 15  & 118\\\\\n",
       "\t 10  & 3   & 50  & 98  & 45  & 148\\\\\n",
       "\\end{tabular}\n"
      ],
      "text/markdown": [
       "\n",
       "| id | class | math | english | science | tatal |\n",
       "|---|---|---|---|---|---|\n",
       "|  1  | 1   | 50  | 98  | 50  | 148 |\n",
       "|  2  | 1   | 60  | 97  | 60  | 157 |\n",
       "|  3  | 1   | 45  | 86  | 78  | 131 |\n",
       "|  4  | 1   | 30  | 98  | 58  | 128 |\n",
       "|  5  | 2   | 25  | 80  | 65  | 105 |\n",
       "|  6  | 2   | 50  | 89  | 98  | 139 |\n",
       "|  7  | 2   | 80  | 90  | 45  | 170 |\n",
       "|  8  | 2   | 90  | 78  | 25  | 168 |\n",
       "|  9  | 3   | 20  | 98  | 15  | 118 |\n",
       "| 10  | 3   | 50  | 98  | 45  | 148 |\n",
       "\n"
      ],
      "text/plain": [
       "   id class math english science tatal\n",
       "1   1 1     50   98      50      148  \n",
       "2   2 1     60   97      60      157  \n",
       "3   3 1     45   86      78      131  \n",
       "4   4 1     30   98      58      128  \n",
       "5   5 2     25   80      65      105  \n",
       "6   6 2     50   89      98      139  \n",
       "7   7 2     80   90      45      170  \n",
       "8   8 2     90   78      25      168  \n",
       "9   9 3     20   98      15      118  \n",
       "10 10 3     50   98      45      148  "
      ]
     },
     "metadata": {},
     "output_type": "display_data"
    }
   ],
   "source": [
    "exam %>%\n",
    "    mutate(tatal = math + english, science) %>%\n",
    "    head(10)"
   ]
  },
  {
   "cell_type": "code",
   "execution_count": 89,
   "metadata": {},
   "outputs": [
    {
     "data": {
      "text/html": [
       "<table>\n",
       "<thead><tr><th scope=col>id</th><th scope=col>class</th><th scope=col>math</th><th scope=col>english</th><th scope=col>science</th><th scope=col>total</th><th scope=col>mean</th></tr></thead>\n",
       "<tbody>\n",
       "\t<tr><td>1       </td><td>1       </td><td>50      </td><td>98      </td><td>50      </td><td>198     </td><td>66.00000</td></tr>\n",
       "\t<tr><td>2       </td><td>1       </td><td>60      </td><td>97      </td><td>60      </td><td>217     </td><td>72.33333</td></tr>\n",
       "\t<tr><td>3       </td><td>1       </td><td>45      </td><td>86      </td><td>78      </td><td>209     </td><td>69.66667</td></tr>\n",
       "\t<tr><td>4       </td><td>1       </td><td>30      </td><td>98      </td><td>58      </td><td>186     </td><td>62.00000</td></tr>\n",
       "\t<tr><td>5       </td><td>2       </td><td>25      </td><td>80      </td><td>65      </td><td>170     </td><td>56.66667</td></tr>\n",
       "\t<tr><td>6       </td><td>2       </td><td>50      </td><td>89      </td><td>98      </td><td>237     </td><td>79.00000</td></tr>\n",
       "</tbody>\n",
       "</table>\n"
      ],
      "text/latex": [
       "\\begin{tabular}{r|lllllll}\n",
       " id & class & math & english & science & total & mean\\\\\n",
       "\\hline\n",
       "\t 1        & 1        & 50       & 98       & 50       & 198      & 66.00000\\\\\n",
       "\t 2        & 1        & 60       & 97       & 60       & 217      & 72.33333\\\\\n",
       "\t 3        & 1        & 45       & 86       & 78       & 209      & 69.66667\\\\\n",
       "\t 4        & 1        & 30       & 98       & 58       & 186      & 62.00000\\\\\n",
       "\t 5        & 2        & 25       & 80       & 65       & 170      & 56.66667\\\\\n",
       "\t 6        & 2        & 50       & 89       & 98       & 237      & 79.00000\\\\\n",
       "\\end{tabular}\n"
      ],
      "text/markdown": [
       "\n",
       "| id | class | math | english | science | total | mean |\n",
       "|---|---|---|---|---|---|---|\n",
       "| 1        | 1        | 50       | 98       | 50       | 198      | 66.00000 |\n",
       "| 2        | 1        | 60       | 97       | 60       | 217      | 72.33333 |\n",
       "| 3        | 1        | 45       | 86       | 78       | 209      | 69.66667 |\n",
       "| 4        | 1        | 30       | 98       | 58       | 186      | 62.00000 |\n",
       "| 5        | 2        | 25       | 80       | 65       | 170      | 56.66667 |\n",
       "| 6        | 2        | 50       | 89       | 98       | 237      | 79.00000 |\n",
       "\n"
      ],
      "text/plain": [
       "  id class math english science total mean    \n",
       "1 1  1     50   98      50      198   66.00000\n",
       "2 2  1     60   97      60      217   72.33333\n",
       "3 3  1     45   86      78      209   69.66667\n",
       "4 4  1     30   98      58      186   62.00000\n",
       "5 5  2     25   80      65      170   56.66667\n",
       "6 6  2     50   89      98      237   79.00000"
      ]
     },
     "metadata": {},
     "output_type": "display_data"
    }
   ],
   "source": [
    "exam  %>% \n",
    "    mutate(total = math + english +science,\n",
    "          mean = (math + english + science)/3) %>% \n",
    "    head"
   ]
  },
  {
   "cell_type": "markdown",
   "metadata": {},
   "source": [
    "## 06-3 집단별 요약하기"
   ]
  },
  {
   "cell_type": "code",
   "execution_count": 90,
   "metadata": {},
   "outputs": [
    {
     "data": {
      "text/html": [
       "<table>\n",
       "<thead><tr><th scope=col>mean_math</th></tr></thead>\n",
       "<tbody>\n",
       "\t<tr><td>57.45</td></tr>\n",
       "</tbody>\n",
       "</table>\n"
      ],
      "text/latex": [
       "\\begin{tabular}{r|l}\n",
       " mean\\_math\\\\\n",
       "\\hline\n",
       "\t 57.45\\\\\n",
       "\\end{tabular}\n"
      ],
      "text/markdown": [
       "\n",
       "| mean_math |\n",
       "|---|\n",
       "| 57.45 |\n",
       "\n"
      ],
      "text/plain": [
       "  mean_math\n",
       "1 57.45    "
      ]
     },
     "metadata": {},
     "output_type": "display_data"
    }
   ],
   "source": [
    "exam %>% summarise(mean_math = mean(math))"
   ]
  },
  {
   "cell_type": "code",
   "execution_count": 91,
   "metadata": {},
   "outputs": [
    {
     "data": {
      "text/html": [
       "<table>\n",
       "<thead><tr><th scope=col>class</th><th scope=col>mean_math</th></tr></thead>\n",
       "<tbody>\n",
       "\t<tr><td>1    </td><td>46.25</td></tr>\n",
       "\t<tr><td>2    </td><td>61.25</td></tr>\n",
       "\t<tr><td>3    </td><td>45.00</td></tr>\n",
       "\t<tr><td>4    </td><td>56.75</td></tr>\n",
       "\t<tr><td>5    </td><td>78.00</td></tr>\n",
       "</tbody>\n",
       "</table>\n"
      ],
      "text/latex": [
       "\\begin{tabular}{r|ll}\n",
       " class & mean\\_math\\\\\n",
       "\\hline\n",
       "\t 1     & 46.25\\\\\n",
       "\t 2     & 61.25\\\\\n",
       "\t 3     & 45.00\\\\\n",
       "\t 4     & 56.75\\\\\n",
       "\t 5     & 78.00\\\\\n",
       "\\end{tabular}\n"
      ],
      "text/markdown": [
       "\n",
       "| class | mean_math |\n",
       "|---|---|\n",
       "| 1     | 46.25 |\n",
       "| 2     | 61.25 |\n",
       "| 3     | 45.00 |\n",
       "| 4     | 56.75 |\n",
       "| 5     | 78.00 |\n",
       "\n"
      ],
      "text/plain": [
       "  class mean_math\n",
       "1 1     46.25    \n",
       "2 2     61.25    \n",
       "3 3     45.00    \n",
       "4 4     56.75    \n",
       "5 5     78.00    "
      ]
     },
     "metadata": {},
     "output_type": "display_data"
    }
   ],
   "source": [
    "exam %>% \n",
    "    group_by(class) %>%\n",
    "    summarise(mean_math = mean(math))"
   ]
  },
  {
   "cell_type": "code",
   "execution_count": 92,
   "metadata": {},
   "outputs": [
    {
     "data": {
      "text/html": [
       "<table>\n",
       "<thead><tr><th scope=col>class</th><th scope=col>mean_math</th><th scope=col>sum_math</th><th scope=col>median_math</th><th scope=col>n</th></tr></thead>\n",
       "<tbody>\n",
       "\t<tr><td>1    </td><td>46.25</td><td>185  </td><td>47.5 </td><td>4    </td></tr>\n",
       "\t<tr><td>2    </td><td>61.25</td><td>245  </td><td>65.0 </td><td>4    </td></tr>\n",
       "\t<tr><td>3    </td><td>45.00</td><td>180  </td><td>47.5 </td><td>4    </td></tr>\n",
       "\t<tr><td>4    </td><td>56.75</td><td>227  </td><td>53.0 </td><td>4    </td></tr>\n",
       "\t<tr><td>5    </td><td>78.00</td><td>312  </td><td>79.0 </td><td>4    </td></tr>\n",
       "</tbody>\n",
       "</table>\n"
      ],
      "text/latex": [
       "\\begin{tabular}{r|lllll}\n",
       " class & mean\\_math & sum\\_math & median\\_math & n\\\\\n",
       "\\hline\n",
       "\t 1     & 46.25 & 185   & 47.5  & 4    \\\\\n",
       "\t 2     & 61.25 & 245   & 65.0  & 4    \\\\\n",
       "\t 3     & 45.00 & 180   & 47.5  & 4    \\\\\n",
       "\t 4     & 56.75 & 227   & 53.0  & 4    \\\\\n",
       "\t 5     & 78.00 & 312   & 79.0  & 4    \\\\\n",
       "\\end{tabular}\n"
      ],
      "text/markdown": [
       "\n",
       "| class | mean_math | sum_math | median_math | n |\n",
       "|---|---|---|---|---|\n",
       "| 1     | 46.25 | 185   | 47.5  | 4     |\n",
       "| 2     | 61.25 | 245   | 65.0  | 4     |\n",
       "| 3     | 45.00 | 180   | 47.5  | 4     |\n",
       "| 4     | 56.75 | 227   | 53.0  | 4     |\n",
       "| 5     | 78.00 | 312   | 79.0  | 4     |\n",
       "\n"
      ],
      "text/plain": [
       "  class mean_math sum_math median_math n\n",
       "1 1     46.25     185      47.5        4\n",
       "2 2     61.25     245      65.0        4\n",
       "3 3     45.00     180      47.5        4\n",
       "4 4     56.75     227      53.0        4\n",
       "5 5     78.00     312      79.0        4"
      ]
     },
     "metadata": {},
     "output_type": "display_data"
    }
   ],
   "source": [
    "exam %>% \n",
    "    group_by(class) %>% \n",
    "    summarise(mean_math = mean(math),\n",
    "             sum_math = sum(math),\n",
    "             median_math = median(math),\n",
    "             n = n())"
   ]
  },
  {
   "cell_type": "code",
   "execution_count": 98,
   "metadata": {},
   "outputs": [
    {
     "data": {
      "text/html": [
       "<table>\n",
       "<thead><tr><th scope=col>manufacturer</th><th scope=col>drv</th><th scope=col>mean_cty</th></tr></thead>\n",
       "<tbody>\n",
       "\t<tr><td>honda     </td><td>f         </td><td>24.44444  </td></tr>\n",
       "\t<tr><td>toyota    </td><td>f         </td><td>21.36842  </td></tr>\n",
       "\t<tr><td>volkswagen</td><td>f         </td><td>20.92593  </td></tr>\n",
       "\t<tr><td>nissan    </td><td>f         </td><td>20.00000  </td></tr>\n",
       "\t<tr><td>subaru    </td><td>4         </td><td>19.28571  </td></tr>\n",
       "\t<tr><td>audi      </td><td>f         </td><td>18.85714  </td></tr>\n",
       "\t<tr><td>chevrolet </td><td>f         </td><td>18.80000  </td></tr>\n",
       "\t<tr><td>hyundai   </td><td>f         </td><td>18.64286  </td></tr>\n",
       "\t<tr><td>pontiac   </td><td>f         </td><td>17.00000  </td></tr>\n",
       "\t<tr><td>audi      </td><td>4         </td><td>16.81818  </td></tr>\n",
       "\t<tr><td>dodge     </td><td>f         </td><td>15.81818  </td></tr>\n",
       "\t<tr><td>toyota    </td><td>4         </td><td>14.93333  </td></tr>\n",
       "\t<tr><td>ford      </td><td>r         </td><td>14.75000  </td></tr>\n",
       "\t<tr><td>chevrolet </td><td>r         </td><td>14.10000  </td></tr>\n",
       "\t<tr><td>nissan    </td><td>4         </td><td>13.75000  </td></tr>\n",
       "\t<tr><td>jeep      </td><td>4         </td><td>13.50000  </td></tr>\n",
       "\t<tr><td>ford      </td><td>4         </td><td>13.30769  </td></tr>\n",
       "\t<tr><td>mercury   </td><td>4         </td><td>13.25000  </td></tr>\n",
       "\t<tr><td>chevrolet </td><td>4         </td><td>12.50000  </td></tr>\n",
       "\t<tr><td>dodge     </td><td>4         </td><td>12.00000  </td></tr>\n",
       "\t<tr><td>land rover</td><td>4         </td><td>11.50000  </td></tr>\n",
       "\t<tr><td>lincoln   </td><td>r         </td><td>11.33333  </td></tr>\n",
       "</tbody>\n",
       "</table>\n"
      ],
      "text/latex": [
       "\\begin{tabular}{r|lll}\n",
       " manufacturer & drv & mean\\_cty\\\\\n",
       "\\hline\n",
       "\t honda      & f          & 24.44444  \\\\\n",
       "\t toyota     & f          & 21.36842  \\\\\n",
       "\t volkswagen & f          & 20.92593  \\\\\n",
       "\t nissan     & f          & 20.00000  \\\\\n",
       "\t subaru     & 4          & 19.28571  \\\\\n",
       "\t audi       & f          & 18.85714  \\\\\n",
       "\t chevrolet  & f          & 18.80000  \\\\\n",
       "\t hyundai    & f          & 18.64286  \\\\\n",
       "\t pontiac    & f          & 17.00000  \\\\\n",
       "\t audi       & 4          & 16.81818  \\\\\n",
       "\t dodge      & f          & 15.81818  \\\\\n",
       "\t toyota     & 4          & 14.93333  \\\\\n",
       "\t ford       & r          & 14.75000  \\\\\n",
       "\t chevrolet  & r          & 14.10000  \\\\\n",
       "\t nissan     & 4          & 13.75000  \\\\\n",
       "\t jeep       & 4          & 13.50000  \\\\\n",
       "\t ford       & 4          & 13.30769  \\\\\n",
       "\t mercury    & 4          & 13.25000  \\\\\n",
       "\t chevrolet  & 4          & 12.50000  \\\\\n",
       "\t dodge      & 4          & 12.00000  \\\\\n",
       "\t land rover & 4          & 11.50000  \\\\\n",
       "\t lincoln    & r          & 11.33333  \\\\\n",
       "\\end{tabular}\n"
      ],
      "text/markdown": [
       "\n",
       "| manufacturer | drv | mean_cty |\n",
       "|---|---|---|\n",
       "| honda      | f          | 24.44444   |\n",
       "| toyota     | f          | 21.36842   |\n",
       "| volkswagen | f          | 20.92593   |\n",
       "| nissan     | f          | 20.00000   |\n",
       "| subaru     | 4          | 19.28571   |\n",
       "| audi       | f          | 18.85714   |\n",
       "| chevrolet  | f          | 18.80000   |\n",
       "| hyundai    | f          | 18.64286   |\n",
       "| pontiac    | f          | 17.00000   |\n",
       "| audi       | 4          | 16.81818   |\n",
       "| dodge      | f          | 15.81818   |\n",
       "| toyota     | 4          | 14.93333   |\n",
       "| ford       | r          | 14.75000   |\n",
       "| chevrolet  | r          | 14.10000   |\n",
       "| nissan     | 4          | 13.75000   |\n",
       "| jeep       | 4          | 13.50000   |\n",
       "| ford       | 4          | 13.30769   |\n",
       "| mercury    | 4          | 13.25000   |\n",
       "| chevrolet  | 4          | 12.50000   |\n",
       "| dodge      | 4          | 12.00000   |\n",
       "| land rover | 4          | 11.50000   |\n",
       "| lincoln    | r          | 11.33333   |\n",
       "\n"
      ],
      "text/plain": [
       "   manufacturer drv mean_cty\n",
       "1  honda        f   24.44444\n",
       "2  toyota       f   21.36842\n",
       "3  volkswagen   f   20.92593\n",
       "4  nissan       f   20.00000\n",
       "5  subaru       4   19.28571\n",
       "6  audi         f   18.85714\n",
       "7  chevrolet    f   18.80000\n",
       "8  hyundai      f   18.64286\n",
       "9  pontiac      f   17.00000\n",
       "10 audi         4   16.81818\n",
       "11 dodge        f   15.81818\n",
       "12 toyota       4   14.93333\n",
       "13 ford         r   14.75000\n",
       "14 chevrolet    r   14.10000\n",
       "15 nissan       4   13.75000\n",
       "16 jeep         4   13.50000\n",
       "17 ford         4   13.30769\n",
       "18 mercury      4   13.25000\n",
       "19 chevrolet    4   12.50000\n",
       "20 dodge        4   12.00000\n",
       "21 land rover   4   11.50000\n",
       "22 lincoln      r   11.33333"
      ]
     },
     "metadata": {},
     "output_type": "display_data"
    },
    {
     "data": {
      "text/html": [
       "10"
      ],
      "text/latex": [
       "10"
      ],
      "text/markdown": [
       "10"
      ],
      "text/plain": [
       "[1] 10"
      ]
     },
     "metadata": {},
     "output_type": "display_data"
    }
   ],
   "source": [
    "mpg %>% \n",
    "    group_by(manufacturer, drv) %>% \n",
    "    summarise(mean_cty = mean(cty)) %>% \n",
    "    arrange(desc(mean_cty))\n",
    "    head(10)"
   ]
  },
  {
   "cell_type": "code",
   "execution_count": 112,
   "metadata": {},
   "outputs": [],
   "source": [
    "name <- data.frame ( class = c ( 1 , 2 , 3 , 4 , 5 ),\n",
    "teacher = c ( \"kim\" , \"lee\" , \"park\" , \"choi\" , \"jung\" ))"
   ]
  },
  {
   "cell_type": "code",
   "execution_count": 113,
   "metadata": {},
   "outputs": [
    {
     "data": {
      "text/html": [
       "<table>\n",
       "<thead><tr><th scope=col>class</th><th scope=col>teacher</th></tr></thead>\n",
       "<tbody>\n",
       "\t<tr><td>1   </td><td>kim </td></tr>\n",
       "\t<tr><td>2   </td><td>lee </td></tr>\n",
       "\t<tr><td>3   </td><td>park</td></tr>\n",
       "\t<tr><td>4   </td><td>choi</td></tr>\n",
       "\t<tr><td>5   </td><td>jung</td></tr>\n",
       "</tbody>\n",
       "</table>\n"
      ],
      "text/latex": [
       "\\begin{tabular}{r|ll}\n",
       " class & teacher\\\\\n",
       "\\hline\n",
       "\t 1    & kim \\\\\n",
       "\t 2    & lee \\\\\n",
       "\t 3    & park\\\\\n",
       "\t 4    & choi\\\\\n",
       "\t 5    & jung\\\\\n",
       "\\end{tabular}\n"
      ],
      "text/markdown": [
       "\n",
       "| class | teacher |\n",
       "|---|---|\n",
       "| 1    | kim  |\n",
       "| 2    | lee  |\n",
       "| 3    | park |\n",
       "| 4    | choi |\n",
       "| 5    | jung |\n",
       "\n"
      ],
      "text/plain": [
       "  class teacher\n",
       "1 1     kim    \n",
       "2 2     lee    \n",
       "3 3     park   \n",
       "4 4     choi   \n",
       "5 5     jung   "
      ]
     },
     "metadata": {},
     "output_type": "display_data"
    }
   ],
   "source": [
    "name"
   ]
  },
  {
   "cell_type": "code",
   "execution_count": 114,
   "metadata": {},
   "outputs": [
    {
     "data": {
      "text/html": [
       "<table>\n",
       "<thead><tr><th scope=col>id</th><th scope=col>class</th><th scope=col>math</th><th scope=col>english</th><th scope=col>science</th><th scope=col>teacher</th></tr></thead>\n",
       "<tbody>\n",
       "\t<tr><td> 1  </td><td>1   </td><td>50  </td><td>98  </td><td>50  </td><td>kim </td></tr>\n",
       "\t<tr><td> 2  </td><td>1   </td><td>60  </td><td>97  </td><td>60  </td><td>kim </td></tr>\n",
       "\t<tr><td> 3  </td><td>1   </td><td>45  </td><td>86  </td><td>78  </td><td>kim </td></tr>\n",
       "\t<tr><td> 4  </td><td>1   </td><td>30  </td><td>98  </td><td>58  </td><td>kim </td></tr>\n",
       "\t<tr><td> 5  </td><td>2   </td><td>25  </td><td>80  </td><td>65  </td><td>lee </td></tr>\n",
       "\t<tr><td> 6  </td><td>2   </td><td>50  </td><td>89  </td><td>98  </td><td>lee </td></tr>\n",
       "\t<tr><td> 7  </td><td>2   </td><td>80  </td><td>90  </td><td>45  </td><td>lee </td></tr>\n",
       "\t<tr><td> 8  </td><td>2   </td><td>90  </td><td>78  </td><td>25  </td><td>lee </td></tr>\n",
       "\t<tr><td> 9  </td><td>3   </td><td>20  </td><td>98  </td><td>15  </td><td>park</td></tr>\n",
       "\t<tr><td>10  </td><td>3   </td><td>50  </td><td>98  </td><td>45  </td><td>park</td></tr>\n",
       "\t<tr><td>11  </td><td>3   </td><td>65  </td><td>65  </td><td>65  </td><td>park</td></tr>\n",
       "\t<tr><td>12  </td><td>3   </td><td>45  </td><td>85  </td><td>32  </td><td>park</td></tr>\n",
       "\t<tr><td>13  </td><td>4   </td><td>46  </td><td>98  </td><td>65  </td><td>choi</td></tr>\n",
       "\t<tr><td>14  </td><td>4   </td><td>48  </td><td>87  </td><td>12  </td><td>choi</td></tr>\n",
       "\t<tr><td>15  </td><td>4   </td><td>75  </td><td>56  </td><td>78  </td><td>choi</td></tr>\n",
       "\t<tr><td>16  </td><td>4   </td><td>58  </td><td>98  </td><td>65  </td><td>choi</td></tr>\n",
       "\t<tr><td>17  </td><td>5   </td><td>65  </td><td>68  </td><td>98  </td><td>jung</td></tr>\n",
       "\t<tr><td>18  </td><td>5   </td><td>80  </td><td>78  </td><td>90  </td><td>jung</td></tr>\n",
       "\t<tr><td>19  </td><td>5   </td><td>89  </td><td>68  </td><td>87  </td><td>jung</td></tr>\n",
       "\t<tr><td>20  </td><td>5   </td><td>78  </td><td>83  </td><td>58  </td><td>jung</td></tr>\n",
       "</tbody>\n",
       "</table>\n"
      ],
      "text/latex": [
       "\\begin{tabular}{r|llllll}\n",
       " id & class & math & english & science & teacher\\\\\n",
       "\\hline\n",
       "\t  1   & 1    & 50   & 98   & 50   & kim \\\\\n",
       "\t  2   & 1    & 60   & 97   & 60   & kim \\\\\n",
       "\t  3   & 1    & 45   & 86   & 78   & kim \\\\\n",
       "\t  4   & 1    & 30   & 98   & 58   & kim \\\\\n",
       "\t  5   & 2    & 25   & 80   & 65   & lee \\\\\n",
       "\t  6   & 2    & 50   & 89   & 98   & lee \\\\\n",
       "\t  7   & 2    & 80   & 90   & 45   & lee \\\\\n",
       "\t  8   & 2    & 90   & 78   & 25   & lee \\\\\n",
       "\t  9   & 3    & 20   & 98   & 15   & park\\\\\n",
       "\t 10   & 3    & 50   & 98   & 45   & park\\\\\n",
       "\t 11   & 3    & 65   & 65   & 65   & park\\\\\n",
       "\t 12   & 3    & 45   & 85   & 32   & park\\\\\n",
       "\t 13   & 4    & 46   & 98   & 65   & choi\\\\\n",
       "\t 14   & 4    & 48   & 87   & 12   & choi\\\\\n",
       "\t 15   & 4    & 75   & 56   & 78   & choi\\\\\n",
       "\t 16   & 4    & 58   & 98   & 65   & choi\\\\\n",
       "\t 17   & 5    & 65   & 68   & 98   & jung\\\\\n",
       "\t 18   & 5    & 80   & 78   & 90   & jung\\\\\n",
       "\t 19   & 5    & 89   & 68   & 87   & jung\\\\\n",
       "\t 20   & 5    & 78   & 83   & 58   & jung\\\\\n",
       "\\end{tabular}\n"
      ],
      "text/markdown": [
       "\n",
       "| id | class | math | english | science | teacher |\n",
       "|---|---|---|---|---|---|\n",
       "|  1   | 1    | 50   | 98   | 50   | kim  |\n",
       "|  2   | 1    | 60   | 97   | 60   | kim  |\n",
       "|  3   | 1    | 45   | 86   | 78   | kim  |\n",
       "|  4   | 1    | 30   | 98   | 58   | kim  |\n",
       "|  5   | 2    | 25   | 80   | 65   | lee  |\n",
       "|  6   | 2    | 50   | 89   | 98   | lee  |\n",
       "|  7   | 2    | 80   | 90   | 45   | lee  |\n",
       "|  8   | 2    | 90   | 78   | 25   | lee  |\n",
       "|  9   | 3    | 20   | 98   | 15   | park |\n",
       "| 10   | 3    | 50   | 98   | 45   | park |\n",
       "| 11   | 3    | 65   | 65   | 65   | park |\n",
       "| 12   | 3    | 45   | 85   | 32   | park |\n",
       "| 13   | 4    | 46   | 98   | 65   | choi |\n",
       "| 14   | 4    | 48   | 87   | 12   | choi |\n",
       "| 15   | 4    | 75   | 56   | 78   | choi |\n",
       "| 16   | 4    | 58   | 98   | 65   | choi |\n",
       "| 17   | 5    | 65   | 68   | 98   | jung |\n",
       "| 18   | 5    | 80   | 78   | 90   | jung |\n",
       "| 19   | 5    | 89   | 68   | 87   | jung |\n",
       "| 20   | 5    | 78   | 83   | 58   | jung |\n",
       "\n"
      ],
      "text/plain": [
       "   id class math english science teacher\n",
       "1   1 1     50   98      50      kim    \n",
       "2   2 1     60   97      60      kim    \n",
       "3   3 1     45   86      78      kim    \n",
       "4   4 1     30   98      58      kim    \n",
       "5   5 2     25   80      65      lee    \n",
       "6   6 2     50   89      98      lee    \n",
       "7   7 2     80   90      45      lee    \n",
       "8   8 2     90   78      25      lee    \n",
       "9   9 3     20   98      15      park   \n",
       "10 10 3     50   98      45      park   \n",
       "11 11 3     65   65      65      park   \n",
       "12 12 3     45   85      32      park   \n",
       "13 13 4     46   98      65      choi   \n",
       "14 14 4     48   87      12      choi   \n",
       "15 15 4     75   56      78      choi   \n",
       "16 16 4     58   98      65      choi   \n",
       "17 17 5     65   68      98      jung   \n",
       "18 18 5     80   78      90      jung   \n",
       "19 19 5     89   68      87      jung   \n",
       "20 20 5     78   83      58      jung   "
      ]
     },
     "metadata": {},
     "output_type": "display_data"
    }
   ],
   "source": [
    "exam_new = left_join(exam, name, by = 'class')\n",
    "exam_new"
   ]
  },
  {
   "cell_type": "code",
   "execution_count": 107,
   "metadata": {},
   "outputs": [],
   "source": [
    "group_a <- data.frame ( id = c ( 1 , 2 , 3 , 4 , 5 ),\n",
    "test = c ( 60 , 80 , 70 , 90 , 85 ))"
   ]
  },
  {
   "cell_type": "code",
   "execution_count": 108,
   "metadata": {},
   "outputs": [],
   "source": [
    "group_b <- data.frame ( id = c ( 6 , 7 , 8 , 9 , 10 ),\n",
    "test = c ( 70 , 83 , 65 , 95 , 80 ))"
   ]
  },
  {
   "cell_type": "code",
   "execution_count": 109,
   "metadata": {},
   "outputs": [
    {
     "data": {
      "text/html": [
       "<table>\n",
       "<thead><tr><th scope=col>id</th><th scope=col>test</th></tr></thead>\n",
       "<tbody>\n",
       "\t<tr><td>1 </td><td>60</td></tr>\n",
       "\t<tr><td>2 </td><td>80</td></tr>\n",
       "\t<tr><td>3 </td><td>70</td></tr>\n",
       "\t<tr><td>4 </td><td>90</td></tr>\n",
       "\t<tr><td>5 </td><td>85</td></tr>\n",
       "</tbody>\n",
       "</table>\n"
      ],
      "text/latex": [
       "\\begin{tabular}{r|ll}\n",
       " id & test\\\\\n",
       "\\hline\n",
       "\t 1  & 60\\\\\n",
       "\t 2  & 80\\\\\n",
       "\t 3  & 70\\\\\n",
       "\t 4  & 90\\\\\n",
       "\t 5  & 85\\\\\n",
       "\\end{tabular}\n"
      ],
      "text/markdown": [
       "\n",
       "| id | test |\n",
       "|---|---|\n",
       "| 1  | 60 |\n",
       "| 2  | 80 |\n",
       "| 3  | 70 |\n",
       "| 4  | 90 |\n",
       "| 5  | 85 |\n",
       "\n"
      ],
      "text/plain": [
       "  id test\n",
       "1 1  60  \n",
       "2 2  80  \n",
       "3 3  70  \n",
       "4 4  90  \n",
       "5 5  85  "
      ]
     },
     "metadata": {},
     "output_type": "display_data"
    }
   ],
   "source": [
    "group_a"
   ]
  },
  {
   "cell_type": "code",
   "execution_count": 110,
   "metadata": {},
   "outputs": [
    {
     "data": {
      "text/html": [
       "<table>\n",
       "<thead><tr><th scope=col>id</th><th scope=col>test</th></tr></thead>\n",
       "<tbody>\n",
       "\t<tr><td> 6</td><td>70</td></tr>\n",
       "\t<tr><td> 7</td><td>83</td></tr>\n",
       "\t<tr><td> 8</td><td>65</td></tr>\n",
       "\t<tr><td> 9</td><td>95</td></tr>\n",
       "\t<tr><td>10</td><td>80</td></tr>\n",
       "</tbody>\n",
       "</table>\n"
      ],
      "text/latex": [
       "\\begin{tabular}{r|ll}\n",
       " id & test\\\\\n",
       "\\hline\n",
       "\t  6 & 70\\\\\n",
       "\t  7 & 83\\\\\n",
       "\t  8 & 65\\\\\n",
       "\t  9 & 95\\\\\n",
       "\t 10 & 80\\\\\n",
       "\\end{tabular}\n"
      ],
      "text/markdown": [
       "\n",
       "| id | test |\n",
       "|---|---|\n",
       "|  6 | 70 |\n",
       "|  7 | 83 |\n",
       "|  8 | 65 |\n",
       "|  9 | 95 |\n",
       "| 10 | 80 |\n",
       "\n"
      ],
      "text/plain": [
       "  id test\n",
       "1  6 70  \n",
       "2  7 83  \n",
       "3  8 65  \n",
       "4  9 95  \n",
       "5 10 80  "
      ]
     },
     "metadata": {},
     "output_type": "display_data"
    }
   ],
   "source": [
    "group_b"
   ]
  },
  {
   "cell_type": "code",
   "execution_count": 111,
   "metadata": {},
   "outputs": [
    {
     "data": {
      "text/html": [
       "<table>\n",
       "<thead><tr><th scope=col>id</th><th scope=col>test</th></tr></thead>\n",
       "<tbody>\n",
       "\t<tr><td> 1</td><td>60</td></tr>\n",
       "\t<tr><td> 2</td><td>80</td></tr>\n",
       "\t<tr><td> 3</td><td>70</td></tr>\n",
       "\t<tr><td> 4</td><td>90</td></tr>\n",
       "\t<tr><td> 5</td><td>85</td></tr>\n",
       "\t<tr><td> 6</td><td>70</td></tr>\n",
       "\t<tr><td> 7</td><td>83</td></tr>\n",
       "\t<tr><td> 8</td><td>65</td></tr>\n",
       "\t<tr><td> 9</td><td>95</td></tr>\n",
       "\t<tr><td>10</td><td>80</td></tr>\n",
       "</tbody>\n",
       "</table>\n"
      ],
      "text/latex": [
       "\\begin{tabular}{r|ll}\n",
       " id & test\\\\\n",
       "\\hline\n",
       "\t  1 & 60\\\\\n",
       "\t  2 & 80\\\\\n",
       "\t  3 & 70\\\\\n",
       "\t  4 & 90\\\\\n",
       "\t  5 & 85\\\\\n",
       "\t  6 & 70\\\\\n",
       "\t  7 & 83\\\\\n",
       "\t  8 & 65\\\\\n",
       "\t  9 & 95\\\\\n",
       "\t 10 & 80\\\\\n",
       "\\end{tabular}\n"
      ],
      "text/markdown": [
       "\n",
       "| id | test |\n",
       "|---|---|\n",
       "|  1 | 60 |\n",
       "|  2 | 80 |\n",
       "|  3 | 70 |\n",
       "|  4 | 90 |\n",
       "|  5 | 85 |\n",
       "|  6 | 70 |\n",
       "|  7 | 83 |\n",
       "|  8 | 65 |\n",
       "|  9 | 95 |\n",
       "| 10 | 80 |\n",
       "\n"
      ],
      "text/plain": [
       "   id test\n",
       "1   1 60  \n",
       "2   2 80  \n",
       "3   3 70  \n",
       "4   4 90  \n",
       "5   5 85  \n",
       "6   6 70  \n",
       "7   7 83  \n",
       "8   8 65  \n",
       "9   9 95  \n",
       "10 10 80  "
      ]
     },
     "metadata": {},
     "output_type": "display_data"
    }
   ],
   "source": [
    "group_all = bind_rows(group_a, group_b)\n",
    "group_all"
   ]
  },
  {
   "cell_type": "code",
   "execution_count": 119,
   "metadata": {},
   "outputs": [],
   "source": [
    "library(dplyr)\n",
    "library(readxl)"
   ]
  },
  {
   "cell_type": "code",
   "execution_count": 120,
   "metadata": {
    "collapsed": true
   },
   "outputs": [
    {
     "data": {
      "text/html": [
       "<table>\n",
       "<thead><tr><th scope=col>YM</th><th scope=col>CATEGORY</th><th scope=col>ITEM_CNT</th><th scope=col>QTY</th><th scope=col>PRICE</th><th scope=col>MAXTEMP</th><th scope=col>SALEDAY</th><th scope=col>RAIN_DAY</th><th scope=col>HOLIDAY</th></tr></thead>\n",
       "<tbody>\n",
       "\t<tr><td>200901  </td><td>건강음료</td><td>37      </td><td>1410    </td><td>1543    </td><td> 4      </td><td>126753  </td><td> 151    </td><td>12      </td></tr>\n",
       "\t<tr><td>200902  </td><td>건강음료</td><td>37      </td><td>1209    </td><td>1543    </td><td> 9      </td><td>113399  </td><td>3014    </td><td> 8      </td></tr>\n",
       "\t<tr><td>200903  </td><td>건강음료</td><td>38      </td><td>1348    </td><td>1547    </td><td>12      </td><td>129162  </td><td>1383    </td><td> 9      </td></tr>\n",
       "\t<tr><td>200904  </td><td>건강음료</td><td>38      </td><td>1377    </td><td>1500    </td><td>19      </td><td>126277  </td><td>3564    </td><td> 8      </td></tr>\n",
       "\t<tr><td>200905  </td><td>건강음료</td><td>40      </td><td>1406    </td><td>1528    </td><td>25      </td><td>129584  </td><td>9288    </td><td>12      </td></tr>\n",
       "\t<tr><td>200906  </td><td>건강음료</td><td>39      </td><td>1343    </td><td>1623    </td><td>27      </td><td>123218  </td><td>9998    </td><td> 8      </td></tr>\n",
       "</tbody>\n",
       "</table>\n"
      ],
      "text/latex": [
       "\\begin{tabular}{r|lllllllll}\n",
       " YM & CATEGORY & ITEM\\_CNT & QTY & PRICE & MAXTEMP & SALEDAY & RAIN\\_DAY & HOLIDAY\\\\\n",
       "\\hline\n",
       "\t 200901   & 건강음료 & 37       & 1410     & 1543     &  4       & 126753   &  151     & 12      \\\\\n",
       "\t 200902   & 건강음료 & 37       & 1209     & 1543     &  9       & 113399   & 3014     &  8      \\\\\n",
       "\t 200903   & 건강음료 & 38       & 1348     & 1547     & 12       & 129162   & 1383     &  9      \\\\\n",
       "\t 200904   & 건강음료 & 38       & 1377     & 1500     & 19       & 126277   & 3564     &  8      \\\\\n",
       "\t 200905   & 건강음료 & 40       & 1406     & 1528     & 25       & 129584   & 9288     & 12      \\\\\n",
       "\t 200906   & 건강음료 & 39       & 1343     & 1623     & 27       & 123218   & 9998     &  8      \\\\\n",
       "\\end{tabular}\n"
      ],
      "text/markdown": [
       "\n",
       "| YM | CATEGORY | ITEM_CNT | QTY | PRICE | MAXTEMP | SALEDAY | RAIN_DAY | HOLIDAY |\n",
       "|---|---|---|---|---|---|---|---|---|\n",
       "| 200901   | 건강음료 | 37       | 1410     | 1543     |  4       | 126753   |  151     | 12       |\n",
       "| 200902   | 건강음료 | 37       | 1209     | 1543     |  9       | 113399   | 3014     |  8       |\n",
       "| 200903   | 건강음료 | 38       | 1348     | 1547     | 12       | 129162   | 1383     |  9       |\n",
       "| 200904   | 건강음료 | 38       | 1377     | 1500     | 19       | 126277   | 3564     |  8       |\n",
       "| 200905   | 건강음료 | 40       | 1406     | 1528     | 25       | 129584   | 9288     | 12       |\n",
       "| 200906   | 건강음료 | 39       | 1343     | 1623     | 27       | 123218   | 9998     |  8       |\n",
       "\n"
      ],
      "text/plain": [
       "  YM     CATEGORY ITEM_CNT QTY  PRICE MAXTEMP SALEDAY RAIN_DAY HOLIDAY\n",
       "1 200901 건강음료 37       1410 1543   4      126753   151     12     \n",
       "2 200902 건강음료 37       1209 1543   9      113399  3014      8     \n",
       "3 200903 건강음료 38       1348 1547  12      129162  1383      9     \n",
       "4 200904 건강음료 38       1377 1500  19      126277  3564      8     \n",
       "5 200905 건강음료 40       1406 1528  25      129584  9288     12     \n",
       "6 200906 건강음료 39       1343 1623  27      123218  9998      8     "
      ]
     },
     "metadata": {},
     "output_type": "display_data"
    }
   ],
   "source": [
    "exam = read.csv ( \"sales_data.csv\" )\n",
    "head(exam)"
   ]
  },
  {
   "cell_type": "code",
   "execution_count": 126,
   "metadata": {
    "scrolled": true
   },
   "outputs": [
    {
     "data": {
      "text/html": [
       "<table>\n",
       "<thead><tr><th scope=col>YM</th><th scope=col>CATEGORY</th><th scope=col>ITEM_CNT</th><th scope=col>QTY</th><th scope=col>PRICE</th><th scope=col>MAXTEMP</th><th scope=col>SALEDAY</th><th scope=col>RAIN_DAY</th><th scope=col>HOLIDAY</th></tr></thead>\n",
       "<tbody>\n",
       "\t<tr><td>200901  </td><td>건강음료</td><td>37      </td><td>1410    </td><td>1543    </td><td> 4      </td><td>126753  </td><td>  151   </td><td>12      </td></tr>\n",
       "\t<tr><td>200902  </td><td>건강음료</td><td>37      </td><td>1209    </td><td>1543    </td><td> 9      </td><td>113399  </td><td> 3014   </td><td> 8      </td></tr>\n",
       "\t<tr><td>200903  </td><td>건강음료</td><td>38      </td><td>1348    </td><td>1547    </td><td>12      </td><td>129162  </td><td> 1383   </td><td> 9      </td></tr>\n",
       "\t<tr><td>200904  </td><td>건강음료</td><td>38      </td><td>1377    </td><td>1500    </td><td>19      </td><td>126277  </td><td> 3564   </td><td> 8      </td></tr>\n",
       "\t<tr><td>200905  </td><td>건강음료</td><td>40      </td><td>1406    </td><td>1528    </td><td>25      </td><td>129584  </td><td> 9288   </td><td>12      </td></tr>\n",
       "\t<tr><td>200906  </td><td>건강음료</td><td>39      </td><td>1343    </td><td>1623    </td><td>27      </td><td>123218  </td><td> 9998   </td><td> 8      </td></tr>\n",
       "\t<tr><td>200907  </td><td>건강음료</td><td>38      </td><td>1313    </td><td>1600    </td><td>28      </td><td>131083  </td><td>17405   </td><td> 8      </td></tr>\n",
       "\t<tr><td>200908  </td><td>건강음료</td><td>39      </td><td>1448    </td><td>1577    </td><td>29      </td><td>130040  </td><td> 7704   </td><td>10      </td></tr>\n",
       "\t<tr><td>200909  </td><td>건강음료</td><td>41      </td><td>1531    </td><td>1559    </td><td>27      </td><td>131989  </td><td> 4096   </td><td> 8      </td></tr>\n",
       "\t<tr><td>200910  </td><td>건강음료</td><td>43      </td><td>1670    </td><td>1586    </td><td>22      </td><td>136095  </td><td> 2824   </td><td>10      </td></tr>\n",
       "\t<tr><td>200911  </td><td>건강음료</td><td>44      </td><td>1572    </td><td>1573    </td><td>12      </td><td>136152  </td><td> 3684   </td><td> 9      </td></tr>\n",
       "\t<tr><td>200912  </td><td>건강음료</td><td>46      </td><td>1595    </td><td>1789    </td><td> 5      </td><td>137391  </td><td>  216   </td><td> 9      </td></tr>\n",
       "\t<tr><td>201001  </td><td>건강음료</td><td>45      </td><td>1432    </td><td>1796    </td><td> 2      </td><td>141145  </td><td>  792   </td><td>11      </td></tr>\n",
       "\t<tr><td>201002  </td><td>건강음료</td><td>45      </td><td>1287    </td><td>1796    </td><td> 7      </td><td>128528  </td><td> 4384   </td><td> 9      </td></tr>\n",
       "\t<tr><td>201003  </td><td>건강음료</td><td>45      </td><td>1430    </td><td>1796    </td><td>10      </td><td>145771  </td><td> 2940   </td><td> 9      </td></tr>\n",
       "\t<tr><td>201004  </td><td>건강음료</td><td>45      </td><td>1503    </td><td>1796    </td><td>15      </td><td>130412  </td><td> 5973   </td><td> 8      </td></tr>\n",
       "\t<tr><td>201005  </td><td>건강음료</td><td>44      </td><td>1526    </td><td>1877    </td><td>23      </td><td>143681  </td><td> 8656   </td><td>12      </td></tr>\n",
       "\t<tr><td>201006  </td><td>건강음료</td><td>40      </td><td>1409    </td><td>1940    </td><td>28      </td><td>145035  </td><td> 6325   </td><td> 8      </td></tr>\n",
       "\t<tr><td>201007  </td><td>건강음료</td><td>40      </td><td>1380    </td><td>1940    </td><td>29      </td><td>148561  </td><td>14930   </td><td> 9      </td></tr>\n",
       "\t<tr><td>201008  </td><td>건강음료</td><td>40      </td><td>1372    </td><td>1940    </td><td>31      </td><td>153056  </td><td>30531   </td><td> 9      </td></tr>\n",
       "\t<tr><td>201009  </td><td>건강음료</td><td>41      </td><td>1519    </td><td>1971    </td><td>27      </td><td>147804  </td><td>23150   </td><td>11      </td></tr>\n",
       "\t<tr><td>201010  </td><td>건강음료</td><td>41      </td><td>2052    </td><td>1988    </td><td>20      </td><td>155952  </td><td> 1337   </td><td>10      </td></tr>\n",
       "\t<tr><td>201011  </td><td>건강음료</td><td>41      </td><td>1655    </td><td>1988    </td><td>13      </td><td>154482  </td><td>    0   </td><td> 8      </td></tr>\n",
       "\t<tr><td>201012  </td><td>건강음료</td><td>41      </td><td>1762    </td><td>1988    </td><td> 5      </td><td>161292  </td><td>  886   </td><td> 8      </td></tr>\n",
       "\t<tr><td>201101  </td><td>건강음료</td><td>42      </td><td>1626    </td><td>1957    </td><td>-1      </td><td>163610  </td><td>   82   </td><td>10      </td></tr>\n",
       "\t<tr><td>201102  </td><td>건강음료</td><td>41      </td><td>1496    </td><td>1988    </td><td> 7      </td><td>149737  </td><td> 5587   </td><td>11      </td></tr>\n",
       "\t<tr><td>201103  </td><td>건강음료</td><td>41      </td><td>1678    </td><td>1988    </td><td>10      </td><td>169838  </td><td>  919   </td><td> 9      </td></tr>\n",
       "\t<tr><td>201104  </td><td>건강음료</td><td>41      </td><td>1653    </td><td>1988    </td><td>17      </td><td>167577  </td><td> 8244   </td><td> 9      </td></tr>\n",
       "\t<tr><td>201105  </td><td>건강음료</td><td>38      </td><td>1654    </td><td>2051    </td><td>23      </td><td>176452  </td><td> 7345   </td><td>10      </td></tr>\n",
       "\t<tr><td>201106  </td><td>건강음료</td><td>37      </td><td>1580    </td><td>2012    </td><td>27      </td><td>173664  </td><td>25001   </td><td> 9      </td></tr>\n",
       "\t<tr><td>...</td><td>...</td><td>...</td><td>...</td><td>...</td><td>...</td><td>...</td><td>...</td><td>...</td></tr>\n",
       "\t<tr><td>201107  </td><td>과즙음료</td><td>74      </td><td>2593    </td><td>3039    </td><td>29      </td><td>182676  </td><td>43058   </td><td>10      </td></tr>\n",
       "\t<tr><td>201108  </td><td>과즙음료</td><td>79      </td><td>2765    </td><td>2792    </td><td>29      </td><td>186850  </td><td>20554   </td><td> 9      </td></tr>\n",
       "\t<tr><td>201109  </td><td>과즙음료</td><td>77      </td><td>2971    </td><td>2817    </td><td>26      </td><td>184270  </td><td> 5373   </td><td>10      </td></tr>\n",
       "\t<tr><td>201110  </td><td>과즙음료</td><td>76      </td><td>2459    </td><td>2838    </td><td>20      </td><td>194286  </td><td> 4146   </td><td>11      </td></tr>\n",
       "\t<tr><td>201111  </td><td>과즙음료</td><td>75      </td><td>2299    </td><td>2876    </td><td>16      </td><td>191703  </td><td>10027   </td><td> 8      </td></tr>\n",
       "\t<tr><td>201112  </td><td>과즙음료</td><td>75      </td><td>1823    </td><td>2876    </td><td> 5      </td><td>201541  </td><td>  489   </td><td> 9      </td></tr>\n",
       "\t<tr><td>201201  </td><td>과즙음료</td><td>71      </td><td>1402    </td><td>2942    </td><td> 3      </td><td>203133  </td><td>  362   </td><td>11      </td></tr>\n",
       "\t<tr><td>201202  </td><td>과즙음료</td><td>72      </td><td>1859    </td><td>2907    </td><td> 5      </td><td>186880  </td><td>  377   </td><td> 8      </td></tr>\n",
       "\t<tr><td>201203  </td><td>과즙음료</td><td>70      </td><td>2566    </td><td>2941    </td><td>11      </td><td>212945  </td><td> 6556   </td><td>10      </td></tr>\n",
       "\t<tr><td>201204  </td><td>과즙음료</td><td>77      </td><td>2475    </td><td>2818    </td><td>18      </td><td>209151  </td><td>17042   </td><td> 9      </td></tr>\n",
       "\t<tr><td>201205  </td><td>과즙음료</td><td>80      </td><td>3653    </td><td>3146    </td><td>24      </td><td>215673  </td><td> 2095   </td><td>10      </td></tr>\n",
       "\t<tr><td>201206  </td><td>과즙음료</td><td>83      </td><td>3474    </td><td>3251    </td><td>28      </td><td>215525  </td><td> 8865   </td><td>10      </td></tr>\n",
       "\t<tr><td>201207  </td><td>과즙음료</td><td>76      </td><td>2568    </td><td>2205    </td><td>29      </td><td>203590  </td><td>25076   </td><td> 9      </td></tr>\n",
       "\t<tr><td>201208  </td><td>과즙음료</td><td>73      </td><td>2854    </td><td>2218    </td><td>30      </td><td>228142  </td><td>32385   </td><td> 9      </td></tr>\n",
       "\t<tr><td>201209  </td><td>과즙음료</td><td>69      </td><td>2744    </td><td>2269    </td><td>25      </td><td>223581  </td><td>23569   </td><td>10      </td></tr>\n",
       "\t<tr><td>201210  </td><td>과즙음료</td><td>71      </td><td>2369    </td><td>2246    </td><td>21      </td><td>233331  </td><td>11111   </td><td>10      </td></tr>\n",
       "\t<tr><td>201211  </td><td>과즙음료</td><td>67      </td><td>1833    </td><td>2299    </td><td>11      </td><td>229144  </td><td> 4805   </td><td> 8      </td></tr>\n",
       "\t<tr><td>201212  </td><td>과즙음료</td><td>64      </td><td>1621    </td><td>2158    </td><td> 2      </td><td>239129  </td><td> 3706   </td><td>11      </td></tr>\n",
       "\t<tr><td>201301  </td><td>과즙음료</td><td>63      </td><td>1627    </td><td>2184    </td><td> 2      </td><td>240416  </td><td> 2528   </td><td> 9      </td></tr>\n",
       "\t<tr><td>201302  </td><td>과즙음료</td><td>65      </td><td>1624    </td><td>2337    </td><td> 5      </td><td>217015  </td><td> 6667   </td><td> 9      </td></tr>\n",
       "\t<tr><td>201303  </td><td>과즙음료</td><td>63      </td><td>2103    </td><td>2376    </td><td>12      </td><td>243648  </td><td> 4364   </td><td>11      </td></tr>\n",
       "\t<tr><td>201304  </td><td>과즙음료</td><td>60      </td><td>2117    </td><td>2445    </td><td>15      </td><td>237340  </td><td> 6727   </td><td> 8      </td></tr>\n",
       "\t<tr><td>201305  </td><td>과즙음료</td><td>62      </td><td>2606    </td><td>2419    </td><td>23      </td><td>245068  </td><td>17217   </td><td>10      </td></tr>\n",
       "\t<tr><td>201306  </td><td>과즙음료</td><td>56      </td><td>2621    </td><td>1962    </td><td>28      </td><td>236180  </td><td> 7360   </td><td>11      </td></tr>\n",
       "\t<tr><td>201307  </td><td>과즙음료</td><td>59      </td><td>2336    </td><td>1936    </td><td>29      </td><td>241687  </td><td>41344   </td><td> 8      </td></tr>\n",
       "\t<tr><td>201308  </td><td>과즙음료</td><td>61      </td><td>2755    </td><td>1957    </td><td>31      </td><td>240142  </td><td>22284   </td><td>10      </td></tr>\n",
       "\t<tr><td>201309  </td><td>과즙음료</td><td>59      </td><td>2992    </td><td>1928    </td><td>26      </td><td>231662  </td><td>13699   </td><td>12      </td></tr>\n",
       "\t<tr><td>201310  </td><td>과즙음료</td><td>64      </td><td>2563    </td><td>1898    </td><td>21      </td><td>239981  </td><td> 3011   </td><td>10      </td></tr>\n",
       "\t<tr><td>201311  </td><td>과즙음료</td><td>68      </td><td>1878    </td><td>1923    </td><td>12      </td><td>232854  </td><td> 2944   </td><td> 9      </td></tr>\n",
       "\t<tr><td>201312  </td><td>과즙음료</td><td>65      </td><td>1770    </td><td>1939    </td><td> 5      </td><td>240458  </td><td>  202   </td><td>10      </td></tr>\n",
       "</tbody>\n",
       "</table>\n"
      ],
      "text/latex": [
       "\\begin{tabular}{r|lllllllll}\n",
       " YM & CATEGORY & ITEM\\_CNT & QTY & PRICE & MAXTEMP & SALEDAY & RAIN\\_DAY & HOLIDAY\\\\\n",
       "\\hline\n",
       "\t 200901   & 건강음료 & 37       & 1410     & 1543     &  4       & 126753   &   151    & 12      \\\\\n",
       "\t 200902   & 건강음료 & 37       & 1209     & 1543     &  9       & 113399   &  3014    &  8      \\\\\n",
       "\t 200903   & 건강음료 & 38       & 1348     & 1547     & 12       & 129162   &  1383    &  9      \\\\\n",
       "\t 200904   & 건강음료 & 38       & 1377     & 1500     & 19       & 126277   &  3564    &  8      \\\\\n",
       "\t 200905   & 건강음료 & 40       & 1406     & 1528     & 25       & 129584   &  9288    & 12      \\\\\n",
       "\t 200906   & 건강음료 & 39       & 1343     & 1623     & 27       & 123218   &  9998    &  8      \\\\\n",
       "\t 200907   & 건강음료 & 38       & 1313     & 1600     & 28       & 131083   & 17405    &  8      \\\\\n",
       "\t 200908   & 건강음료 & 39       & 1448     & 1577     & 29       & 130040   &  7704    & 10      \\\\\n",
       "\t 200909   & 건강음료 & 41       & 1531     & 1559     & 27       & 131989   &  4096    &  8      \\\\\n",
       "\t 200910   & 건강음료 & 43       & 1670     & 1586     & 22       & 136095   &  2824    & 10      \\\\\n",
       "\t 200911   & 건강음료 & 44       & 1572     & 1573     & 12       & 136152   &  3684    &  9      \\\\\n",
       "\t 200912   & 건강음료 & 46       & 1595     & 1789     &  5       & 137391   &   216    &  9      \\\\\n",
       "\t 201001   & 건강음료 & 45       & 1432     & 1796     &  2       & 141145   &   792    & 11      \\\\\n",
       "\t 201002   & 건강음료 & 45       & 1287     & 1796     &  7       & 128528   &  4384    &  9      \\\\\n",
       "\t 201003   & 건강음료 & 45       & 1430     & 1796     & 10       & 145771   &  2940    &  9      \\\\\n",
       "\t 201004   & 건강음료 & 45       & 1503     & 1796     & 15       & 130412   &  5973    &  8      \\\\\n",
       "\t 201005   & 건강음료 & 44       & 1526     & 1877     & 23       & 143681   &  8656    & 12      \\\\\n",
       "\t 201006   & 건강음료 & 40       & 1409     & 1940     & 28       & 145035   &  6325    &  8      \\\\\n",
       "\t 201007   & 건강음료 & 40       & 1380     & 1940     & 29       & 148561   & 14930    &  9      \\\\\n",
       "\t 201008   & 건강음료 & 40       & 1372     & 1940     & 31       & 153056   & 30531    &  9      \\\\\n",
       "\t 201009   & 건강음료 & 41       & 1519     & 1971     & 27       & 147804   & 23150    & 11      \\\\\n",
       "\t 201010   & 건강음료 & 41       & 2052     & 1988     & 20       & 155952   &  1337    & 10      \\\\\n",
       "\t 201011   & 건강음료 & 41       & 1655     & 1988     & 13       & 154482   &     0    &  8      \\\\\n",
       "\t 201012   & 건강음료 & 41       & 1762     & 1988     &  5       & 161292   &   886    &  8      \\\\\n",
       "\t 201101   & 건강음료 & 42       & 1626     & 1957     & -1       & 163610   &    82    & 10      \\\\\n",
       "\t 201102   & 건강음료 & 41       & 1496     & 1988     &  7       & 149737   &  5587    & 11      \\\\\n",
       "\t 201103   & 건강음료 & 41       & 1678     & 1988     & 10       & 169838   &   919    &  9      \\\\\n",
       "\t 201104   & 건강음료 & 41       & 1653     & 1988     & 17       & 167577   &  8244    &  9      \\\\\n",
       "\t 201105   & 건강음료 & 38       & 1654     & 2051     & 23       & 176452   &  7345    & 10      \\\\\n",
       "\t 201106   & 건강음료 & 37       & 1580     & 2012     & 27       & 173664   & 25001    &  9      \\\\\n",
       "\t ... & ... & ... & ... & ... & ... & ... & ... & ...\\\\\n",
       "\t 201107   & 과즙음료 & 74       & 2593     & 3039     & 29       & 182676   & 43058    & 10      \\\\\n",
       "\t 201108   & 과즙음료 & 79       & 2765     & 2792     & 29       & 186850   & 20554    &  9      \\\\\n",
       "\t 201109   & 과즙음료 & 77       & 2971     & 2817     & 26       & 184270   &  5373    & 10      \\\\\n",
       "\t 201110   & 과즙음료 & 76       & 2459     & 2838     & 20       & 194286   &  4146    & 11      \\\\\n",
       "\t 201111   & 과즙음료 & 75       & 2299     & 2876     & 16       & 191703   & 10027    &  8      \\\\\n",
       "\t 201112   & 과즙음료 & 75       & 1823     & 2876     &  5       & 201541   &   489    &  9      \\\\\n",
       "\t 201201   & 과즙음료 & 71       & 1402     & 2942     &  3       & 203133   &   362    & 11      \\\\\n",
       "\t 201202   & 과즙음료 & 72       & 1859     & 2907     &  5       & 186880   &   377    &  8      \\\\\n",
       "\t 201203   & 과즙음료 & 70       & 2566     & 2941     & 11       & 212945   &  6556    & 10      \\\\\n",
       "\t 201204   & 과즙음료 & 77       & 2475     & 2818     & 18       & 209151   & 17042    &  9      \\\\\n",
       "\t 201205   & 과즙음료 & 80       & 3653     & 3146     & 24       & 215673   &  2095    & 10      \\\\\n",
       "\t 201206   & 과즙음료 & 83       & 3474     & 3251     & 28       & 215525   &  8865    & 10      \\\\\n",
       "\t 201207   & 과즙음료 & 76       & 2568     & 2205     & 29       & 203590   & 25076    &  9      \\\\\n",
       "\t 201208   & 과즙음료 & 73       & 2854     & 2218     & 30       & 228142   & 32385    &  9      \\\\\n",
       "\t 201209   & 과즙음료 & 69       & 2744     & 2269     & 25       & 223581   & 23569    & 10      \\\\\n",
       "\t 201210   & 과즙음료 & 71       & 2369     & 2246     & 21       & 233331   & 11111    & 10      \\\\\n",
       "\t 201211   & 과즙음료 & 67       & 1833     & 2299     & 11       & 229144   &  4805    &  8      \\\\\n",
       "\t 201212   & 과즙음료 & 64       & 1621     & 2158     &  2       & 239129   &  3706    & 11      \\\\\n",
       "\t 201301   & 과즙음료 & 63       & 1627     & 2184     &  2       & 240416   &  2528    &  9      \\\\\n",
       "\t 201302   & 과즙음료 & 65       & 1624     & 2337     &  5       & 217015   &  6667    &  9      \\\\\n",
       "\t 201303   & 과즙음료 & 63       & 2103     & 2376     & 12       & 243648   &  4364    & 11      \\\\\n",
       "\t 201304   & 과즙음료 & 60       & 2117     & 2445     & 15       & 237340   &  6727    &  8      \\\\\n",
       "\t 201305   & 과즙음료 & 62       & 2606     & 2419     & 23       & 245068   & 17217    & 10      \\\\\n",
       "\t 201306   & 과즙음료 & 56       & 2621     & 1962     & 28       & 236180   &  7360    & 11      \\\\\n",
       "\t 201307   & 과즙음료 & 59       & 2336     & 1936     & 29       & 241687   & 41344    &  8      \\\\\n",
       "\t 201308   & 과즙음료 & 61       & 2755     & 1957     & 31       & 240142   & 22284    & 10      \\\\\n",
       "\t 201309   & 과즙음료 & 59       & 2992     & 1928     & 26       & 231662   & 13699    & 12      \\\\\n",
       "\t 201310   & 과즙음료 & 64       & 2563     & 1898     & 21       & 239981   &  3011    & 10      \\\\\n",
       "\t 201311   & 과즙음료 & 68       & 1878     & 1923     & 12       & 232854   &  2944    &  9      \\\\\n",
       "\t 201312   & 과즙음료 & 65       & 1770     & 1939     &  5       & 240458   &   202    & 10      \\\\\n",
       "\\end{tabular}\n"
      ],
      "text/markdown": [
       "\n",
       "| YM | CATEGORY | ITEM_CNT | QTY | PRICE | MAXTEMP | SALEDAY | RAIN_DAY | HOLIDAY |\n",
       "|---|---|---|---|---|---|---|---|---|\n",
       "| 200901   | 건강음료 | 37       | 1410     | 1543     |  4       | 126753   |   151    | 12       |\n",
       "| 200902   | 건강음료 | 37       | 1209     | 1543     |  9       | 113399   |  3014    |  8       |\n",
       "| 200903   | 건강음료 | 38       | 1348     | 1547     | 12       | 129162   |  1383    |  9       |\n",
       "| 200904   | 건강음료 | 38       | 1377     | 1500     | 19       | 126277   |  3564    |  8       |\n",
       "| 200905   | 건강음료 | 40       | 1406     | 1528     | 25       | 129584   |  9288    | 12       |\n",
       "| 200906   | 건강음료 | 39       | 1343     | 1623     | 27       | 123218   |  9998    |  8       |\n",
       "| 200907   | 건강음료 | 38       | 1313     | 1600     | 28       | 131083   | 17405    |  8       |\n",
       "| 200908   | 건강음료 | 39       | 1448     | 1577     | 29       | 130040   |  7704    | 10       |\n",
       "| 200909   | 건강음료 | 41       | 1531     | 1559     | 27       | 131989   |  4096    |  8       |\n",
       "| 200910   | 건강음료 | 43       | 1670     | 1586     | 22       | 136095   |  2824    | 10       |\n",
       "| 200911   | 건강음료 | 44       | 1572     | 1573     | 12       | 136152   |  3684    |  9       |\n",
       "| 200912   | 건강음료 | 46       | 1595     | 1789     |  5       | 137391   |   216    |  9       |\n",
       "| 201001   | 건강음료 | 45       | 1432     | 1796     |  2       | 141145   |   792    | 11       |\n",
       "| 201002   | 건강음료 | 45       | 1287     | 1796     |  7       | 128528   |  4384    |  9       |\n",
       "| 201003   | 건강음료 | 45       | 1430     | 1796     | 10       | 145771   |  2940    |  9       |\n",
       "| 201004   | 건강음료 | 45       | 1503     | 1796     | 15       | 130412   |  5973    |  8       |\n",
       "| 201005   | 건강음료 | 44       | 1526     | 1877     | 23       | 143681   |  8656    | 12       |\n",
       "| 201006   | 건강음료 | 40       | 1409     | 1940     | 28       | 145035   |  6325    |  8       |\n",
       "| 201007   | 건강음료 | 40       | 1380     | 1940     | 29       | 148561   | 14930    |  9       |\n",
       "| 201008   | 건강음료 | 40       | 1372     | 1940     | 31       | 153056   | 30531    |  9       |\n",
       "| 201009   | 건강음료 | 41       | 1519     | 1971     | 27       | 147804   | 23150    | 11       |\n",
       "| 201010   | 건강음료 | 41       | 2052     | 1988     | 20       | 155952   |  1337    | 10       |\n",
       "| 201011   | 건강음료 | 41       | 1655     | 1988     | 13       | 154482   |     0    |  8       |\n",
       "| 201012   | 건강음료 | 41       | 1762     | 1988     |  5       | 161292   |   886    |  8       |\n",
       "| 201101   | 건강음료 | 42       | 1626     | 1957     | -1       | 163610   |    82    | 10       |\n",
       "| 201102   | 건강음료 | 41       | 1496     | 1988     |  7       | 149737   |  5587    | 11       |\n",
       "| 201103   | 건강음료 | 41       | 1678     | 1988     | 10       | 169838   |   919    |  9       |\n",
       "| 201104   | 건강음료 | 41       | 1653     | 1988     | 17       | 167577   |  8244    |  9       |\n",
       "| 201105   | 건강음료 | 38       | 1654     | 2051     | 23       | 176452   |  7345    | 10       |\n",
       "| 201106   | 건강음료 | 37       | 1580     | 2012     | 27       | 173664   | 25001    |  9       |\n",
       "| ... | ... | ... | ... | ... | ... | ... | ... | ... |\n",
       "| 201107   | 과즙음료 | 74       | 2593     | 3039     | 29       | 182676   | 43058    | 10       |\n",
       "| 201108   | 과즙음료 | 79       | 2765     | 2792     | 29       | 186850   | 20554    |  9       |\n",
       "| 201109   | 과즙음료 | 77       | 2971     | 2817     | 26       | 184270   |  5373    | 10       |\n",
       "| 201110   | 과즙음료 | 76       | 2459     | 2838     | 20       | 194286   |  4146    | 11       |\n",
       "| 201111   | 과즙음료 | 75       | 2299     | 2876     | 16       | 191703   | 10027    |  8       |\n",
       "| 201112   | 과즙음료 | 75       | 1823     | 2876     |  5       | 201541   |   489    |  9       |\n",
       "| 201201   | 과즙음료 | 71       | 1402     | 2942     |  3       | 203133   |   362    | 11       |\n",
       "| 201202   | 과즙음료 | 72       | 1859     | 2907     |  5       | 186880   |   377    |  8       |\n",
       "| 201203   | 과즙음료 | 70       | 2566     | 2941     | 11       | 212945   |  6556    | 10       |\n",
       "| 201204   | 과즙음료 | 77       | 2475     | 2818     | 18       | 209151   | 17042    |  9       |\n",
       "| 201205   | 과즙음료 | 80       | 3653     | 3146     | 24       | 215673   |  2095    | 10       |\n",
       "| 201206   | 과즙음료 | 83       | 3474     | 3251     | 28       | 215525   |  8865    | 10       |\n",
       "| 201207   | 과즙음료 | 76       | 2568     | 2205     | 29       | 203590   | 25076    |  9       |\n",
       "| 201208   | 과즙음료 | 73       | 2854     | 2218     | 30       | 228142   | 32385    |  9       |\n",
       "| 201209   | 과즙음료 | 69       | 2744     | 2269     | 25       | 223581   | 23569    | 10       |\n",
       "| 201210   | 과즙음료 | 71       | 2369     | 2246     | 21       | 233331   | 11111    | 10       |\n",
       "| 201211   | 과즙음료 | 67       | 1833     | 2299     | 11       | 229144   |  4805    |  8       |\n",
       "| 201212   | 과즙음료 | 64       | 1621     | 2158     |  2       | 239129   |  3706    | 11       |\n",
       "| 201301   | 과즙음료 | 63       | 1627     | 2184     |  2       | 240416   |  2528    |  9       |\n",
       "| 201302   | 과즙음료 | 65       | 1624     | 2337     |  5       | 217015   |  6667    |  9       |\n",
       "| 201303   | 과즙음료 | 63       | 2103     | 2376     | 12       | 243648   |  4364    | 11       |\n",
       "| 201304   | 과즙음료 | 60       | 2117     | 2445     | 15       | 237340   |  6727    |  8       |\n",
       "| 201305   | 과즙음료 | 62       | 2606     | 2419     | 23       | 245068   | 17217    | 10       |\n",
       "| 201306   | 과즙음료 | 56       | 2621     | 1962     | 28       | 236180   |  7360    | 11       |\n",
       "| 201307   | 과즙음료 | 59       | 2336     | 1936     | 29       | 241687   | 41344    |  8       |\n",
       "| 201308   | 과즙음료 | 61       | 2755     | 1957     | 31       | 240142   | 22284    | 10       |\n",
       "| 201309   | 과즙음료 | 59       | 2992     | 1928     | 26       | 231662   | 13699    | 12       |\n",
       "| 201310   | 과즙음료 | 64       | 2563     | 1898     | 21       | 239981   |  3011    | 10       |\n",
       "| 201311   | 과즙음료 | 68       | 1878     | 1923     | 12       | 232854   |  2944    |  9       |\n",
       "| 201312   | 과즙음료 | 65       | 1770     | 1939     |  5       | 240458   |   202    | 10       |\n",
       "\n"
      ],
      "text/plain": [
       "    YM     CATEGORY ITEM_CNT QTY  PRICE MAXTEMP SALEDAY RAIN_DAY HOLIDAY\n",
       "1   200901 건강음료 37       1410 1543   4      126753    151    12     \n",
       "2   200902 건강음료 37       1209 1543   9      113399   3014     8     \n",
       "3   200903 건강음료 38       1348 1547  12      129162   1383     9     \n",
       "4   200904 건강음료 38       1377 1500  19      126277   3564     8     \n",
       "5   200905 건강음료 40       1406 1528  25      129584   9288    12     \n",
       "6   200906 건강음료 39       1343 1623  27      123218   9998     8     \n",
       "7   200907 건강음료 38       1313 1600  28      131083  17405     8     \n",
       "8   200908 건강음료 39       1448 1577  29      130040   7704    10     \n",
       "9   200909 건강음료 41       1531 1559  27      131989   4096     8     \n",
       "10  200910 건강음료 43       1670 1586  22      136095   2824    10     \n",
       "11  200911 건강음료 44       1572 1573  12      136152   3684     9     \n",
       "12  200912 건강음료 46       1595 1789   5      137391    216     9     \n",
       "13  201001 건강음료 45       1432 1796   2      141145    792    11     \n",
       "14  201002 건강음료 45       1287 1796   7      128528   4384     9     \n",
       "15  201003 건강음료 45       1430 1796  10      145771   2940     9     \n",
       "16  201004 건강음료 45       1503 1796  15      130412   5973     8     \n",
       "17  201005 건강음료 44       1526 1877  23      143681   8656    12     \n",
       "18  201006 건강음료 40       1409 1940  28      145035   6325     8     \n",
       "19  201007 건강음료 40       1380 1940  29      148561  14930     9     \n",
       "20  201008 건강음료 40       1372 1940  31      153056  30531     9     \n",
       "21  201009 건강음료 41       1519 1971  27      147804  23150    11     \n",
       "22  201010 건강음료 41       2052 1988  20      155952   1337    10     \n",
       "23  201011 건강음료 41       1655 1988  13      154482      0     8     \n",
       "24  201012 건강음료 41       1762 1988   5      161292    886     8     \n",
       "25  201101 건강음료 42       1626 1957  -1      163610     82    10     \n",
       "26  201102 건강음료 41       1496 1988   7      149737   5587    11     \n",
       "27  201103 건강음료 41       1678 1988  10      169838    919     9     \n",
       "28  201104 건강음료 41       1653 1988  17      167577   8244     9     \n",
       "29  201105 건강음료 38       1654 2051  23      176452   7345    10     \n",
       "30  201106 건강음료 37       1580 2012  27      173664  25001     9     \n",
       "... ...    ...      ...      ...  ...   ...     ...     ...      ...    \n",
       "91  201107 과즙음료 74       2593 3039  29      182676  43058    10     \n",
       "92  201108 과즙음료 79       2765 2792  29      186850  20554     9     \n",
       "93  201109 과즙음료 77       2971 2817  26      184270   5373    10     \n",
       "94  201110 과즙음료 76       2459 2838  20      194286   4146    11     \n",
       "95  201111 과즙음료 75       2299 2876  16      191703  10027     8     \n",
       "96  201112 과즙음료 75       1823 2876   5      201541    489     9     \n",
       "97  201201 과즙음료 71       1402 2942   3      203133    362    11     \n",
       "98  201202 과즙음료 72       1859 2907   5      186880    377     8     \n",
       "99  201203 과즙음료 70       2566 2941  11      212945   6556    10     \n",
       "100 201204 과즙음료 77       2475 2818  18      209151  17042     9     \n",
       "101 201205 과즙음료 80       3653 3146  24      215673   2095    10     \n",
       "102 201206 과즙음료 83       3474 3251  28      215525   8865    10     \n",
       "103 201207 과즙음료 76       2568 2205  29      203590  25076     9     \n",
       "104 201208 과즙음료 73       2854 2218  30      228142  32385     9     \n",
       "105 201209 과즙음료 69       2744 2269  25      223581  23569    10     \n",
       "106 201210 과즙음료 71       2369 2246  21      233331  11111    10     \n",
       "107 201211 과즙음료 67       1833 2299  11      229144   4805     8     \n",
       "108 201212 과즙음료 64       1621 2158   2      239129   3706    11     \n",
       "109 201301 과즙음료 63       1627 2184   2      240416   2528     9     \n",
       "110 201302 과즙음료 65       1624 2337   5      217015   6667     9     \n",
       "111 201303 과즙음료 63       2103 2376  12      243648   4364    11     \n",
       "112 201304 과즙음료 60       2117 2445  15      237340   6727     8     \n",
       "113 201305 과즙음료 62       2606 2419  23      245068  17217    10     \n",
       "114 201306 과즙음료 56       2621 1962  28      236180   7360    11     \n",
       "115 201307 과즙음료 59       2336 1936  29      241687  41344     8     \n",
       "116 201308 과즙음료 61       2755 1957  31      240142  22284    10     \n",
       "117 201309 과즙음료 59       2992 1928  26      231662  13699    12     \n",
       "118 201310 과즙음료 64       2563 1898  21      239981   3011    10     \n",
       "119 201311 과즙음료 68       1878 1923  12      232854   2944     9     \n",
       "120 201312 과즙음료 65       1770 1939   5      240458    202    10     "
      ]
     },
     "metadata": {},
     "output_type": "display_data"
    }
   ],
   "source": [
    "exam %>% filter(CATEGORY %in% c('건강음료','과즙음료'))"
   ]
  },
  {
   "cell_type": "code",
   "execution_count": 127,
   "metadata": {},
   "outputs": [],
   "source": [
    "write.csv(exam, '123456.csv')"
   ]
  },
  {
   "cell_type": "code",
   "execution_count": null,
   "metadata": {},
   "outputs": [],
   "source": []
  }
 ],
 "metadata": {
  "kernelspec": {
   "display_name": "R",
   "language": "R",
   "name": "ir"
  },
  "language_info": {
   "codemirror_mode": "r",
   "file_extension": ".r",
   "mimetype": "text/x-r-source",
   "name": "R",
   "pygments_lexer": "r",
   "version": "3.6.1"
  }
 },
 "nbformat": 4,
 "nbformat_minor": 4
}
