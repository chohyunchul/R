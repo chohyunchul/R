{
 "cells": [
  {
   "cell_type": "code",
   "execution_count": 1,
   "metadata": {},
   "outputs": [],
   "source": [
    "setwd('c:/rdata')"
   ]
  },
  {
   "cell_type": "code",
   "execution_count": 2,
   "metadata": {
    "scrolled": true
   },
   "outputs": [
    {
     "data": {
      "text/html": [
       "<table>\n",
       "<thead><tr><th scope=col>rating</th><th scope=col>complaints</th><th scope=col>privileges</th><th scope=col>learning</th><th scope=col>raises</th><th scope=col>critical</th><th scope=col>advance</th></tr></thead>\n",
       "<tbody>\n",
       "\t<tr><td>43</td><td>51</td><td>30</td><td>39</td><td>61</td><td>92</td><td>45</td></tr>\n",
       "\t<tr><td>63</td><td>64</td><td>51</td><td>54</td><td>63</td><td>73</td><td>47</td></tr>\n",
       "\t<tr><td>71</td><td>70</td><td>68</td><td>69</td><td>76</td><td>86</td><td>48</td></tr>\n",
       "\t<tr><td>61</td><td>63</td><td>45</td><td>47</td><td>54</td><td>84</td><td>35</td></tr>\n",
       "\t<tr><td>81</td><td>78</td><td>56</td><td>66</td><td>71</td><td>83</td><td>47</td></tr>\n",
       "\t<tr><td>43</td><td>55</td><td>49</td><td>44</td><td>54</td><td>49</td><td>34</td></tr>\n",
       "\t<tr><td>58</td><td>67</td><td>42</td><td>56</td><td>66</td><td>68</td><td>35</td></tr>\n",
       "\t<tr><td>71</td><td>75</td><td>50</td><td>55</td><td>70</td><td>66</td><td>41</td></tr>\n",
       "\t<tr><td>72</td><td>82</td><td>72</td><td>67</td><td>71</td><td>83</td><td>31</td></tr>\n",
       "\t<tr><td>67</td><td>61</td><td>45</td><td>47</td><td>62</td><td>80</td><td>41</td></tr>\n",
       "\t<tr><td>64</td><td>53</td><td>53</td><td>58</td><td>58</td><td>67</td><td>34</td></tr>\n",
       "\t<tr><td>67</td><td>60</td><td>47</td><td>39</td><td>59</td><td>74</td><td>41</td></tr>\n",
       "\t<tr><td>69</td><td>62</td><td>57</td><td>42</td><td>55</td><td>63</td><td>25</td></tr>\n",
       "\t<tr><td>68</td><td>83</td><td>83</td><td>45</td><td>59</td><td>77</td><td>35</td></tr>\n",
       "\t<tr><td>77</td><td>77</td><td>54</td><td>72</td><td>79</td><td>77</td><td>46</td></tr>\n",
       "\t<tr><td>81</td><td>90</td><td>50</td><td>72</td><td>60</td><td>54</td><td>36</td></tr>\n",
       "\t<tr><td>74</td><td>85</td><td>64</td><td>69</td><td>79</td><td>79</td><td>63</td></tr>\n",
       "\t<tr><td>65</td><td>60</td><td>65</td><td>75</td><td>55</td><td>80</td><td>60</td></tr>\n",
       "\t<tr><td>65</td><td>70</td><td>46</td><td>57</td><td>75</td><td>85</td><td>46</td></tr>\n",
       "\t<tr><td>50</td><td>58</td><td>68</td><td>54</td><td>64</td><td>78</td><td>52</td></tr>\n",
       "\t<tr><td>50</td><td>40</td><td>33</td><td>34</td><td>43</td><td>64</td><td>33</td></tr>\n",
       "\t<tr><td>64</td><td>61</td><td>52</td><td>62</td><td>66</td><td>80</td><td>41</td></tr>\n",
       "\t<tr><td>53</td><td>66</td><td>52</td><td>50</td><td>63</td><td>80</td><td>37</td></tr>\n",
       "\t<tr><td>40</td><td>37</td><td>42</td><td>58</td><td>50</td><td>57</td><td>49</td></tr>\n",
       "\t<tr><td>63</td><td>54</td><td>42</td><td>48</td><td>66</td><td>75</td><td>33</td></tr>\n",
       "\t<tr><td>66</td><td>77</td><td>66</td><td>63</td><td>88</td><td>76</td><td>72</td></tr>\n",
       "\t<tr><td>78</td><td>75</td><td>58</td><td>74</td><td>80</td><td>78</td><td>49</td></tr>\n",
       "\t<tr><td>48</td><td>57</td><td>44</td><td>45</td><td>51</td><td>83</td><td>38</td></tr>\n",
       "\t<tr><td>85</td><td>85</td><td>71</td><td>71</td><td>77</td><td>74</td><td>55</td></tr>\n",
       "\t<tr><td>82</td><td>82</td><td>39</td><td>59</td><td>64</td><td>78</td><td>39</td></tr>\n",
       "</tbody>\n",
       "</table>\n"
      ],
      "text/latex": [
       "\\begin{tabular}{r|lllllll}\n",
       " rating & complaints & privileges & learning & raises & critical & advance\\\\\n",
       "\\hline\n",
       "\t 43 & 51 & 30 & 39 & 61 & 92 & 45\\\\\n",
       "\t 63 & 64 & 51 & 54 & 63 & 73 & 47\\\\\n",
       "\t 71 & 70 & 68 & 69 & 76 & 86 & 48\\\\\n",
       "\t 61 & 63 & 45 & 47 & 54 & 84 & 35\\\\\n",
       "\t 81 & 78 & 56 & 66 & 71 & 83 & 47\\\\\n",
       "\t 43 & 55 & 49 & 44 & 54 & 49 & 34\\\\\n",
       "\t 58 & 67 & 42 & 56 & 66 & 68 & 35\\\\\n",
       "\t 71 & 75 & 50 & 55 & 70 & 66 & 41\\\\\n",
       "\t 72 & 82 & 72 & 67 & 71 & 83 & 31\\\\\n",
       "\t 67 & 61 & 45 & 47 & 62 & 80 & 41\\\\\n",
       "\t 64 & 53 & 53 & 58 & 58 & 67 & 34\\\\\n",
       "\t 67 & 60 & 47 & 39 & 59 & 74 & 41\\\\\n",
       "\t 69 & 62 & 57 & 42 & 55 & 63 & 25\\\\\n",
       "\t 68 & 83 & 83 & 45 & 59 & 77 & 35\\\\\n",
       "\t 77 & 77 & 54 & 72 & 79 & 77 & 46\\\\\n",
       "\t 81 & 90 & 50 & 72 & 60 & 54 & 36\\\\\n",
       "\t 74 & 85 & 64 & 69 & 79 & 79 & 63\\\\\n",
       "\t 65 & 60 & 65 & 75 & 55 & 80 & 60\\\\\n",
       "\t 65 & 70 & 46 & 57 & 75 & 85 & 46\\\\\n",
       "\t 50 & 58 & 68 & 54 & 64 & 78 & 52\\\\\n",
       "\t 50 & 40 & 33 & 34 & 43 & 64 & 33\\\\\n",
       "\t 64 & 61 & 52 & 62 & 66 & 80 & 41\\\\\n",
       "\t 53 & 66 & 52 & 50 & 63 & 80 & 37\\\\\n",
       "\t 40 & 37 & 42 & 58 & 50 & 57 & 49\\\\\n",
       "\t 63 & 54 & 42 & 48 & 66 & 75 & 33\\\\\n",
       "\t 66 & 77 & 66 & 63 & 88 & 76 & 72\\\\\n",
       "\t 78 & 75 & 58 & 74 & 80 & 78 & 49\\\\\n",
       "\t 48 & 57 & 44 & 45 & 51 & 83 & 38\\\\\n",
       "\t 85 & 85 & 71 & 71 & 77 & 74 & 55\\\\\n",
       "\t 82 & 82 & 39 & 59 & 64 & 78 & 39\\\\\n",
       "\\end{tabular}\n"
      ],
      "text/markdown": [
       "\n",
       "| rating | complaints | privileges | learning | raises | critical | advance |\n",
       "|---|---|---|---|---|---|---|\n",
       "| 43 | 51 | 30 | 39 | 61 | 92 | 45 |\n",
       "| 63 | 64 | 51 | 54 | 63 | 73 | 47 |\n",
       "| 71 | 70 | 68 | 69 | 76 | 86 | 48 |\n",
       "| 61 | 63 | 45 | 47 | 54 | 84 | 35 |\n",
       "| 81 | 78 | 56 | 66 | 71 | 83 | 47 |\n",
       "| 43 | 55 | 49 | 44 | 54 | 49 | 34 |\n",
       "| 58 | 67 | 42 | 56 | 66 | 68 | 35 |\n",
       "| 71 | 75 | 50 | 55 | 70 | 66 | 41 |\n",
       "| 72 | 82 | 72 | 67 | 71 | 83 | 31 |\n",
       "| 67 | 61 | 45 | 47 | 62 | 80 | 41 |\n",
       "| 64 | 53 | 53 | 58 | 58 | 67 | 34 |\n",
       "| 67 | 60 | 47 | 39 | 59 | 74 | 41 |\n",
       "| 69 | 62 | 57 | 42 | 55 | 63 | 25 |\n",
       "| 68 | 83 | 83 | 45 | 59 | 77 | 35 |\n",
       "| 77 | 77 | 54 | 72 | 79 | 77 | 46 |\n",
       "| 81 | 90 | 50 | 72 | 60 | 54 | 36 |\n",
       "| 74 | 85 | 64 | 69 | 79 | 79 | 63 |\n",
       "| 65 | 60 | 65 | 75 | 55 | 80 | 60 |\n",
       "| 65 | 70 | 46 | 57 | 75 | 85 | 46 |\n",
       "| 50 | 58 | 68 | 54 | 64 | 78 | 52 |\n",
       "| 50 | 40 | 33 | 34 | 43 | 64 | 33 |\n",
       "| 64 | 61 | 52 | 62 | 66 | 80 | 41 |\n",
       "| 53 | 66 | 52 | 50 | 63 | 80 | 37 |\n",
       "| 40 | 37 | 42 | 58 | 50 | 57 | 49 |\n",
       "| 63 | 54 | 42 | 48 | 66 | 75 | 33 |\n",
       "| 66 | 77 | 66 | 63 | 88 | 76 | 72 |\n",
       "| 78 | 75 | 58 | 74 | 80 | 78 | 49 |\n",
       "| 48 | 57 | 44 | 45 | 51 | 83 | 38 |\n",
       "| 85 | 85 | 71 | 71 | 77 | 74 | 55 |\n",
       "| 82 | 82 | 39 | 59 | 64 | 78 | 39 |\n",
       "\n"
      ],
      "text/plain": [
       "   rating complaints privileges learning raises critical advance\n",
       "1  43     51         30         39       61     92       45     \n",
       "2  63     64         51         54       63     73       47     \n",
       "3  71     70         68         69       76     86       48     \n",
       "4  61     63         45         47       54     84       35     \n",
       "5  81     78         56         66       71     83       47     \n",
       "6  43     55         49         44       54     49       34     \n",
       "7  58     67         42         56       66     68       35     \n",
       "8  71     75         50         55       70     66       41     \n",
       "9  72     82         72         67       71     83       31     \n",
       "10 67     61         45         47       62     80       41     \n",
       "11 64     53         53         58       58     67       34     \n",
       "12 67     60         47         39       59     74       41     \n",
       "13 69     62         57         42       55     63       25     \n",
       "14 68     83         83         45       59     77       35     \n",
       "15 77     77         54         72       79     77       46     \n",
       "16 81     90         50         72       60     54       36     \n",
       "17 74     85         64         69       79     79       63     \n",
       "18 65     60         65         75       55     80       60     \n",
       "19 65     70         46         57       75     85       46     \n",
       "20 50     58         68         54       64     78       52     \n",
       "21 50     40         33         34       43     64       33     \n",
       "22 64     61         52         62       66     80       41     \n",
       "23 53     66         52         50       63     80       37     \n",
       "24 40     37         42         58       50     57       49     \n",
       "25 63     54         42         48       66     75       33     \n",
       "26 66     77         66         63       88     76       72     \n",
       "27 78     75         58         74       80     78       49     \n",
       "28 48     57         44         45       51     83       38     \n",
       "29 85     85         71         71       77     74       55     \n",
       "30 82     82         39         59       64     78       39     "
      ]
     },
     "metadata": {},
     "output_type": "display_data"
    }
   ],
   "source": [
    "attitude"
   ]
  },
  {
   "cell_type": "code",
   "execution_count": 3,
   "metadata": {},
   "outputs": [
    {
     "data": {
      "text/html": [
       "<table>\n",
       "<thead><tr><th></th><th scope=col>rating</th><th scope=col>complaints</th><th scope=col>privileges</th><th scope=col>learning</th><th scope=col>raises</th><th scope=col>critical</th><th scope=col>advance</th></tr></thead>\n",
       "<tbody>\n",
       "\t<tr><th scope=row>rating</th><td>148.17126</td><td>133.77931</td><td> 63.46437</td><td> 89.10460</td><td> 74.68851</td><td>18.84253 </td><td> 19.42299</td></tr>\n",
       "\t<tr><th scope=row>complaints</th><td>133.77931</td><td>177.28276</td><td> 90.95172</td><td> 93.25517</td><td> 92.64138</td><td>24.73103 </td><td> 30.76552</td></tr>\n",
       "\t<tr><th scope=row>privileges</th><td> 63.46437</td><td> 90.95172</td><td>149.70575</td><td> 70.84598</td><td> 56.67126</td><td>17.82529 </td><td> 43.21609</td></tr>\n",
       "\t<tr><th scope=row>learning</th><td> 89.10460</td><td> 93.25517</td><td> 70.84598</td><td>137.75747</td><td> 78.13908</td><td>13.46782 </td><td> 64.19770</td></tr>\n",
       "\t<tr><th scope=row>raises</th><td> 74.68851</td><td> 92.64138</td><td> 56.67126</td><td> 78.13908</td><td>108.10230</td><td>38.77356 </td><td> 61.42299</td></tr>\n",
       "\t<tr><th scope=row>critical</th><td> 18.84253</td><td> 24.73103</td><td> 17.82529</td><td> 13.46782</td><td> 38.77356</td><td>97.90920 </td><td> 28.84598</td></tr>\n",
       "\t<tr><th scope=row>advance</th><td> 19.42299</td><td> 30.76552</td><td> 43.21609</td><td> 64.19770</td><td> 61.42299</td><td>28.84598 </td><td>105.85747</td></tr>\n",
       "</tbody>\n",
       "</table>\n"
      ],
      "text/latex": [
       "\\begin{tabular}{r|lllllll}\n",
       "  & rating & complaints & privileges & learning & raises & critical & advance\\\\\n",
       "\\hline\n",
       "\trating & 148.17126 & 133.77931 &  63.46437 &  89.10460 &  74.68851 & 18.84253  &  19.42299\\\\\n",
       "\tcomplaints & 133.77931 & 177.28276 &  90.95172 &  93.25517 &  92.64138 & 24.73103  &  30.76552\\\\\n",
       "\tprivileges &  63.46437 &  90.95172 & 149.70575 &  70.84598 &  56.67126 & 17.82529  &  43.21609\\\\\n",
       "\tlearning &  89.10460 &  93.25517 &  70.84598 & 137.75747 &  78.13908 & 13.46782  &  64.19770\\\\\n",
       "\traises &  74.68851 &  92.64138 &  56.67126 &  78.13908 & 108.10230 & 38.77356  &  61.42299\\\\\n",
       "\tcritical &  18.84253 &  24.73103 &  17.82529 &  13.46782 &  38.77356 & 97.90920  &  28.84598\\\\\n",
       "\tadvance &  19.42299 &  30.76552 &  43.21609 &  64.19770 &  61.42299 & 28.84598  & 105.85747\\\\\n",
       "\\end{tabular}\n"
      ],
      "text/markdown": [
       "\n",
       "| <!--/--> | rating | complaints | privileges | learning | raises | critical | advance |\n",
       "|---|---|---|---|---|---|---|---|\n",
       "| rating | 148.17126 | 133.77931 |  63.46437 |  89.10460 |  74.68851 | 18.84253  |  19.42299 |\n",
       "| complaints | 133.77931 | 177.28276 |  90.95172 |  93.25517 |  92.64138 | 24.73103  |  30.76552 |\n",
       "| privileges |  63.46437 |  90.95172 | 149.70575 |  70.84598 |  56.67126 | 17.82529  |  43.21609 |\n",
       "| learning |  89.10460 |  93.25517 |  70.84598 | 137.75747 |  78.13908 | 13.46782  |  64.19770 |\n",
       "| raises |  74.68851 |  92.64138 |  56.67126 |  78.13908 | 108.10230 | 38.77356  |  61.42299 |\n",
       "| critical |  18.84253 |  24.73103 |  17.82529 |  13.46782 |  38.77356 | 97.90920  |  28.84598 |\n",
       "| advance |  19.42299 |  30.76552 |  43.21609 |  64.19770 |  61.42299 | 28.84598  | 105.85747 |\n",
       "\n"
      ],
      "text/plain": [
       "           rating    complaints privileges learning  raises    critical\n",
       "rating     148.17126 133.77931   63.46437   89.10460  74.68851 18.84253\n",
       "complaints 133.77931 177.28276   90.95172   93.25517  92.64138 24.73103\n",
       "privileges  63.46437  90.95172  149.70575   70.84598  56.67126 17.82529\n",
       "learning    89.10460  93.25517   70.84598  137.75747  78.13908 13.46782\n",
       "raises      74.68851  92.64138   56.67126   78.13908 108.10230 38.77356\n",
       "critical    18.84253  24.73103   17.82529   13.46782  38.77356 97.90920\n",
       "advance     19.42299  30.76552   43.21609   64.19770  61.42299 28.84598\n",
       "           advance  \n",
       "rating      19.42299\n",
       "complaints  30.76552\n",
       "privileges  43.21609\n",
       "learning    64.19770\n",
       "raises      61.42299\n",
       "critical    28.84598\n",
       "advance    105.85747"
      ]
     },
     "metadata": {},
     "output_type": "display_data"
    }
   ],
   "source": [
    "cov(attitude)"
   ]
  },
  {
   "cell_type": "code",
   "execution_count": 4,
   "metadata": {},
   "outputs": [
    {
     "data": {
      "text/html": [
       "<table>\n",
       "<thead><tr><th></th><th scope=col>rating</th><th scope=col>complaints</th><th scope=col>privileges</th><th scope=col>learning</th><th scope=col>raises</th><th scope=col>critical</th><th scope=col>advance</th></tr></thead>\n",
       "<tbody>\n",
       "\t<tr><th scope=row>rating</th><td>1.0000000</td><td>0.8254176</td><td>0.4261169</td><td>0.6236782</td><td>0.5901390</td><td>0.1564392</td><td>0.1550863</td></tr>\n",
       "\t<tr><th scope=row>complaints</th><td>0.8254176</td><td>1.0000000</td><td>0.5582882</td><td>0.5967358</td><td>0.6691975</td><td>0.1877143</td><td>0.2245796</td></tr>\n",
       "\t<tr><th scope=row>privileges</th><td>0.4261169</td><td>0.5582882</td><td>1.0000000</td><td>0.4933310</td><td>0.4454779</td><td>0.1472331</td><td>0.3432934</td></tr>\n",
       "\t<tr><th scope=row>learning</th><td>0.6236782</td><td>0.5967358</td><td>0.4933310</td><td>1.0000000</td><td>0.6403144</td><td>0.1159652</td><td>0.5316198</td></tr>\n",
       "\t<tr><th scope=row>raises</th><td>0.5901390</td><td>0.6691975</td><td>0.4454779</td><td>0.6403144</td><td>1.0000000</td><td>0.3768830</td><td>0.5741862</td></tr>\n",
       "\t<tr><th scope=row>critical</th><td>0.1564392</td><td>0.1877143</td><td>0.1472331</td><td>0.1159652</td><td>0.3768830</td><td>1.0000000</td><td>0.2833432</td></tr>\n",
       "\t<tr><th scope=row>advance</th><td>0.1550863</td><td>0.2245796</td><td>0.3432934</td><td>0.5316198</td><td>0.5741862</td><td>0.2833432</td><td>1.0000000</td></tr>\n",
       "</tbody>\n",
       "</table>\n"
      ],
      "text/latex": [
       "\\begin{tabular}{r|lllllll}\n",
       "  & rating & complaints & privileges & learning & raises & critical & advance\\\\\n",
       "\\hline\n",
       "\trating & 1.0000000 & 0.8254176 & 0.4261169 & 0.6236782 & 0.5901390 & 0.1564392 & 0.1550863\\\\\n",
       "\tcomplaints & 0.8254176 & 1.0000000 & 0.5582882 & 0.5967358 & 0.6691975 & 0.1877143 & 0.2245796\\\\\n",
       "\tprivileges & 0.4261169 & 0.5582882 & 1.0000000 & 0.4933310 & 0.4454779 & 0.1472331 & 0.3432934\\\\\n",
       "\tlearning & 0.6236782 & 0.5967358 & 0.4933310 & 1.0000000 & 0.6403144 & 0.1159652 & 0.5316198\\\\\n",
       "\traises & 0.5901390 & 0.6691975 & 0.4454779 & 0.6403144 & 1.0000000 & 0.3768830 & 0.5741862\\\\\n",
       "\tcritical & 0.1564392 & 0.1877143 & 0.1472331 & 0.1159652 & 0.3768830 & 1.0000000 & 0.2833432\\\\\n",
       "\tadvance & 0.1550863 & 0.2245796 & 0.3432934 & 0.5316198 & 0.5741862 & 0.2833432 & 1.0000000\\\\\n",
       "\\end{tabular}\n"
      ],
      "text/markdown": [
       "\n",
       "| <!--/--> | rating | complaints | privileges | learning | raises | critical | advance |\n",
       "|---|---|---|---|---|---|---|---|\n",
       "| rating | 1.0000000 | 0.8254176 | 0.4261169 | 0.6236782 | 0.5901390 | 0.1564392 | 0.1550863 |\n",
       "| complaints | 0.8254176 | 1.0000000 | 0.5582882 | 0.5967358 | 0.6691975 | 0.1877143 | 0.2245796 |\n",
       "| privileges | 0.4261169 | 0.5582882 | 1.0000000 | 0.4933310 | 0.4454779 | 0.1472331 | 0.3432934 |\n",
       "| learning | 0.6236782 | 0.5967358 | 0.4933310 | 1.0000000 | 0.6403144 | 0.1159652 | 0.5316198 |\n",
       "| raises | 0.5901390 | 0.6691975 | 0.4454779 | 0.6403144 | 1.0000000 | 0.3768830 | 0.5741862 |\n",
       "| critical | 0.1564392 | 0.1877143 | 0.1472331 | 0.1159652 | 0.3768830 | 1.0000000 | 0.2833432 |\n",
       "| advance | 0.1550863 | 0.2245796 | 0.3432934 | 0.5316198 | 0.5741862 | 0.2833432 | 1.0000000 |\n",
       "\n"
      ],
      "text/plain": [
       "           rating    complaints privileges learning  raises    critical \n",
       "rating     1.0000000 0.8254176  0.4261169  0.6236782 0.5901390 0.1564392\n",
       "complaints 0.8254176 1.0000000  0.5582882  0.5967358 0.6691975 0.1877143\n",
       "privileges 0.4261169 0.5582882  1.0000000  0.4933310 0.4454779 0.1472331\n",
       "learning   0.6236782 0.5967358  0.4933310  1.0000000 0.6403144 0.1159652\n",
       "raises     0.5901390 0.6691975  0.4454779  0.6403144 1.0000000 0.3768830\n",
       "critical   0.1564392 0.1877143  0.1472331  0.1159652 0.3768830 1.0000000\n",
       "advance    0.1550863 0.2245796  0.3432934  0.5316198 0.5741862 0.2833432\n",
       "           advance  \n",
       "rating     0.1550863\n",
       "complaints 0.2245796\n",
       "privileges 0.3432934\n",
       "learning   0.5316198\n",
       "raises     0.5741862\n",
       "critical   0.2833432\n",
       "advance    1.0000000"
      ]
     },
     "metadata": {},
     "output_type": "display_data"
    }
   ],
   "source": [
    "cor(attitude)"
   ]
  },
  {
   "cell_type": "code",
   "execution_count": 5,
   "metadata": {
    "scrolled": true
   },
   "outputs": [
    {
     "data": {
      "text/plain": [
       "\n",
       "\tPearson's product-moment correlation\n",
       "\n",
       "data:  rating and complaints\n",
       "t = 7.737, df = 28, p-value = 1.988e-08\n",
       "alternative hypothesis: true correlation is not equal to 0\n",
       "95 percent confidence interval:\n",
       " 0.6620128 0.9139139\n",
       "sample estimates:\n",
       "      cor \n",
       "0.8254176 \n"
      ]
     },
     "metadata": {},
     "output_type": "display_data"
    },
    {
     "data": {
      "text/plain": [
       "\n",
       "\tPearson's product-moment correlation\n",
       "\n",
       "data:  attitude$rating and attitude$complaints\n",
       "t = 7.737, df = 28, p-value = 1.988e-08\n",
       "alternative hypothesis: true correlation is not equal to 0\n",
       "95 percent confidence interval:\n",
       " 0.6620128 0.9139139\n",
       "sample estimates:\n",
       "      cor \n",
       "0.8254176 \n"
      ]
     },
     "metadata": {},
     "output_type": "display_data"
    },
    {
     "data": {
      "image/png": "[encoded data removed]",
      "text/plain": [
       "plot without title"
      ]
     },
     "metadata": {},
     "output_type": "display_data"
    }
   ],
   "source": [
    "with(attitude, cor.test(rating, complaints))\n",
    "cor.test(attitude$rating, attitude$complaints)\n",
    "plot(attitude$rating, attitude$complaints)"
   ]
  },
  {
   "cell_type": "code",
   "execution_count": 6,
   "metadata": {},
   "outputs": [
    {
     "data": {
      "text/html": [
       "<table>\n",
       "<thead><tr><th scope=col>speed</th><th scope=col>dist</th></tr></thead>\n",
       "<tbody>\n",
       "\t<tr><td>4 </td><td> 2</td></tr>\n",
       "\t<tr><td>4 </td><td>10</td></tr>\n",
       "\t<tr><td>7 </td><td> 4</td></tr>\n",
       "\t<tr><td>7 </td><td>22</td></tr>\n",
       "\t<tr><td>8 </td><td>16</td></tr>\n",
       "\t<tr><td>9 </td><td>10</td></tr>\n",
       "</tbody>\n",
       "</table>\n"
      ],
      "text/latex": [
       "\\begin{tabular}{r|ll}\n",
       " speed & dist\\\\\n",
       "\\hline\n",
       "\t 4  &  2\\\\\n",
       "\t 4  & 10\\\\\n",
       "\t 7  &  4\\\\\n",
       "\t 7  & 22\\\\\n",
       "\t 8  & 16\\\\\n",
       "\t 9  & 10\\\\\n",
       "\\end{tabular}\n"
      ],
      "text/markdown": [
       "\n",
       "| speed | dist |\n",
       "|---|---|\n",
       "| 4  |  2 |\n",
       "| 4  | 10 |\n",
       "| 7  |  4 |\n",
       "| 7  | 22 |\n",
       "| 8  | 16 |\n",
       "| 9  | 10 |\n",
       "\n"
      ],
      "text/plain": [
       "  speed dist\n",
       "1 4      2  \n",
       "2 4     10  \n",
       "3 7      4  \n",
       "4 7     22  \n",
       "5 8     16  \n",
       "6 9     10  "
      ]
     },
     "metadata": {},
     "output_type": "display_data"
    }
   ],
   "source": [
    "data=read.csv(\"cars.csv\")\n",
    "head(data)"
   ]
  },
  {
   "cell_type": "code",
   "execution_count": 7,
   "metadata": {},
   "outputs": [
    {
     "data": {
      "text/plain": [
       "\n",
       "Call:\n",
       "lm(formula = dist ~ speed, data = data)\n",
       "\n",
       "Residuals:\n",
       "    Min      1Q  Median      3Q     Max \n",
       "-29.069  -9.525  -2.272   9.215  43.201 \n",
       "\n",
       "Coefficients:\n",
       "            Estimate Std. Error t value Pr(>|t|)    \n",
       "(Intercept) -17.5791     6.7584  -2.601   0.0123 *  \n",
       "speed         3.9324     0.4155   9.464 1.49e-12 ***\n",
       "---\n",
       "Signif. codes:  0 '***' 0.001 '**' 0.01 '*' 0.05 '.' 0.1 ' ' 1\n",
       "\n",
       "Residual standard error: 15.38 on 48 degrees of freedom\n",
       "Multiple R-squared:  0.6511,\tAdjusted R-squared:  0.6438 \n",
       "F-statistic: 89.57 on 1 and 48 DF,  p-value: 1.49e-12\n"
      ]
     },
     "metadata": {},
     "output_type": "display_data"
    }
   ],
   "source": [
    "out = lm(dist~speed, data=data)\n",
    "summary(out)"
   ]
  },
  {
   "cell_type": "code",
   "execution_count": 8,
   "metadata": {},
   "outputs": [
    {
     "data": {
      "image/png": "[encoded data removed]",
      "text/plain": [
       "plot without title"
      ]
     },
     "metadata": {},
     "output_type": "display_data"
    }
   ],
   "source": [
    "plot(dist~speed,data=cars,col=\"blue\")\n",
    "abline(out,col=\"red\")"
   ]
  },
  {
   "cell_type": "code",
   "execution_count": 10,
   "metadata": {},
   "outputs": [
    {
     "data": {
      "text/plain": [
       "\n",
       "Call:\n",
       "lm(formula = dist ~ speed + 0, data = data)\n",
       "\n",
       "Residuals:\n",
       "    Min      1Q  Median      3Q     Max \n",
       "-26.183 -12.637  -5.455   4.590  50.181 \n",
       "\n",
       "Coefficients:\n",
       "      Estimate Std. Error t value Pr(>|t|)    \n",
       "speed   2.9091     0.1414   20.58   <2e-16 ***\n",
       "---\n",
       "Signif. codes:  0 '***' 0.001 '**' 0.01 '*' 0.05 '.' 0.1 ' ' 1\n",
       "\n",
       "Residual standard error: 16.26 on 49 degrees of freedom\n",
       "Multiple R-squared:  0.8963,\tAdjusted R-squared:  0.8942 \n",
       "F-statistic: 423.5 on 1 and 49 DF,  p-value: < 2.2e-16\n"
      ]
     },
     "metadata": {},
     "output_type": "display_data"
    },
    {
     "data": {
      "image/png": "[encoded data removed]",
      "text/plain": [
       "Plot with title \"\""
      ]
     },
     "metadata": {},
     "output_type": "display_data"
    },
    {
     "data": {
      "image/png": "[encoded data removed]",
      "text/plain": [
       "Plot with title \"\""
      ]
     },
     "metadata": {},
     "output_type": "display_data"
    },
    {
     "data": {
      "image/png": "[encoded data removed]",
      "text/plain": [
       "Plot with title \"\""
      ]
     },
     "metadata": {},
     "output_type": "display_data"
    },
    {
     "data": {
      "image/png": "[encoded data removed]",
      "text/plain": [
       "Plot with title \"\""
      ]
     },
     "metadata": {},
     "output_type": "display_data"
    }
   ],
   "source": [
    "out1 = lm(dist~speed+0, data=data)\n",
    "summary(lm(dist~speed+0, data=data))\n",
    "plot(out1)"
   ]
  },
  {
   "cell_type": "code",
   "execution_count": 12,
   "metadata": {},
   "outputs": [
    {
     "data": {
      "image/png": "[encoded data removed]",
      "text/plain": [
       "Plot with title \"\""
      ]
     },
     "metadata": {},
     "output_type": "display_data"
    }
   ],
   "source": [
    "par(mfrow=c(2, 2))\n",
    "plot(out1)"
   ]
  },
  {
   "cell_type": "code",
   "execution_count": 15,
   "metadata": {
    "scrolled": true
   },
   "outputs": [
    {
     "data": {
      "text/plain": [
       "\n",
       "\tShapiro-Wilk normality test\n",
       "\n",
       "data:  data$dist\n",
       "W = 0.95144, p-value = 0.0391\n"
      ]
     },
     "metadata": {},
     "output_type": "display_data"
    },
    {
     "data": {
      "text/plain": [
       "\n",
       "\tShapiro-Wilk normality test\n",
       "\n",
       "data:  log(data$dist)\n",
       "W = 0.91024, p-value = 0.001066\n"
      ]
     },
     "metadata": {},
     "output_type": "display_data"
    },
    {
     "data": {
      "text/plain": [
       "\n",
       "\tShapiro-Wilk normality test\n",
       "\n",
       "data:  sqrt(data$dist)\n",
       "W = 0.99347, p-value = 0.9941\n"
      ]
     },
     "metadata": {},
     "output_type": "display_data"
    },
    {
     "data": {
      "text/plain": [
       "\n",
       "Call:\n",
       "lm(formula = sqrt(dist) ~ speed + 0, data = data)\n",
       "\n",
       "Residuals:\n",
       "    Min      1Q  Median      3Q     Max \n",
       "-2.2781 -0.6972  0.0208  0.7965  3.3898 \n",
       "\n",
       "Coefficients:\n",
       "      Estimate Std. Error t value Pr(>|t|)    \n",
       "speed  0.39675    0.01015   39.09   <2e-16 ***\n",
       "---\n",
       "Signif. codes:  0 '***' 0.001 '**' 0.01 '*' 0.05 '.' 0.1 ' ' 1\n",
       "\n",
       "Residual standard error: 1.167 on 49 degrees of freedom\n",
       "Multiple R-squared:  0.9689,\tAdjusted R-squared:  0.9683 \n",
       "F-statistic:  1528 on 1 and 49 DF,  p-value: < 2.2e-16\n"
      ]
     },
     "metadata": {},
     "output_type": "display_data"
    },
    {
     "data": {
      "image/png": "[encoded data removed]",
      "text/plain": [
       "Plot with title \"\""
      ]
     },
     "metadata": {},
     "output_type": "display_data"
    },
    {
     "data": {
      "image/png": "[encoded data removed]",
      "text/plain": [
       "Plot with title \"\""
      ]
     },
     "metadata": {},
     "output_type": "display_data"
    },
    {
     "data": {
      "image/png": "[encoded data removed]",
      "text/plain": [
       "Plot with title \"\""
      ]
     },
     "metadata": {},
     "output_type": "display_data"
    },
    {
     "data": {
      "image/png": "[encoded data removed]",
      "text/plain": [
       "Plot with title \"\""
      ]
     },
     "metadata": {},
     "output_type": "display_data"
    }
   ],
   "source": [
    "shapiro.test(data$dist)\n",
    "shapiro.test(log(data$dist))\n",
    "shapiro.test(sqrt(data$dist))\n",
    "out3 = lm(sqrt(dist)~speed+0,data=data)\n",
    "\n",
    "summary(out3)\n",
    "plot(out3)"
   ]
  },
  {
   "cell_type": "code",
   "execution_count": 16,
   "metadata": {
    "scrolled": true
   },
   "outputs": [
    {
     "data": {
      "text/html": [
       "<dl class=dl-horizontal>\n",
       "\t<dt>1</dt>\n",
       "\t\t<dd>1.58699767632028</dd>\n",
       "\t<dt>2</dt>\n",
       "\t\t<dd>1.58699767632027</dd>\n",
       "\t<dt>3</dt>\n",
       "\t\t<dd>2.77724593356047</dd>\n",
       "\t<dt>4</dt>\n",
       "\t\t<dd>2.77724593356047</dd>\n",
       "\t<dt>5</dt>\n",
       "\t\t<dd>3.17399535264054</dd>\n",
       "\t<dt>6</dt>\n",
       "\t\t<dd>3.57074477172061</dd>\n",
       "\t<dt>7</dt>\n",
       "\t\t<dd>3.96749419080067</dd>\n",
       "\t<dt>8</dt>\n",
       "\t\t<dd>3.96749419080067</dd>\n",
       "\t<dt>9</dt>\n",
       "\t\t<dd>3.96749419080067</dd>\n",
       "\t<dt>10</dt>\n",
       "\t\t<dd>4.36424360988074</dd>\n",
       "\t<dt>11</dt>\n",
       "\t\t<dd>4.36424360988074</dd>\n",
       "\t<dt>12</dt>\n",
       "\t\t<dd>4.76099302896081</dd>\n",
       "\t<dt>13</dt>\n",
       "\t\t<dd>4.76099302896081</dd>\n",
       "\t<dt>14</dt>\n",
       "\t\t<dd>4.76099302896081</dd>\n",
       "\t<dt>15</dt>\n",
       "\t\t<dd>4.76099302896081</dd>\n",
       "\t<dt>16</dt>\n",
       "\t\t<dd>5.15774244804087</dd>\n",
       "\t<dt>17</dt>\n",
       "\t\t<dd>5.15774244804087</dd>\n",
       "\t<dt>18</dt>\n",
       "\t\t<dd>5.15774244804087</dd>\n",
       "\t<dt>19</dt>\n",
       "\t\t<dd>5.15774244804087</dd>\n",
       "\t<dt>20</dt>\n",
       "\t\t<dd>5.55449186712094</dd>\n",
       "\t<dt>21</dt>\n",
       "\t\t<dd>5.55449186712094</dd>\n",
       "\t<dt>22</dt>\n",
       "\t\t<dd>5.55449186712094</dd>\n",
       "\t<dt>23</dt>\n",
       "\t\t<dd>5.55449186712094</dd>\n",
       "\t<dt>24</dt>\n",
       "\t\t<dd>5.95124128620101</dd>\n",
       "\t<dt>25</dt>\n",
       "\t\t<dd>5.95124128620101</dd>\n",
       "\t<dt>26</dt>\n",
       "\t\t<dd>5.95124128620101</dd>\n",
       "\t<dt>27</dt>\n",
       "\t\t<dd>6.34799070528108</dd>\n",
       "\t<dt>28</dt>\n",
       "\t\t<dd>6.34799070528108</dd>\n",
       "\t<dt>29</dt>\n",
       "\t\t<dd>6.74474012436114</dd>\n",
       "\t<dt>30</dt>\n",
       "\t\t<dd>6.74474012436114</dd>\n",
       "\t<dt>31</dt>\n",
       "\t\t<dd>6.74474012436114</dd>\n",
       "\t<dt>32</dt>\n",
       "\t\t<dd>7.14148954344121</dd>\n",
       "\t<dt>33</dt>\n",
       "\t\t<dd>7.14148954344121</dd>\n",
       "\t<dt>34</dt>\n",
       "\t\t<dd>7.14148954344121</dd>\n",
       "\t<dt>35</dt>\n",
       "\t\t<dd>7.14148954344121</dd>\n",
       "\t<dt>36</dt>\n",
       "\t\t<dd>7.53823896252128</dd>\n",
       "\t<dt>37</dt>\n",
       "\t\t<dd>7.53823896252128</dd>\n",
       "\t<dt>38</dt>\n",
       "\t\t<dd>7.53823896252128</dd>\n",
       "\t<dt>39</dt>\n",
       "\t\t<dd>7.93498838160134</dd>\n",
       "\t<dt>40</dt>\n",
       "\t\t<dd>7.93498838160134</dd>\n",
       "\t<dt>41</dt>\n",
       "\t\t<dd>7.93498838160134</dd>\n",
       "\t<dt>42</dt>\n",
       "\t\t<dd>7.93498838160134</dd>\n",
       "\t<dt>43</dt>\n",
       "\t\t<dd>7.93498838160134</dd>\n",
       "\t<dt>44</dt>\n",
       "\t\t<dd>8.72848721976148</dd>\n",
       "\t<dt>45</dt>\n",
       "\t\t<dd>9.12523663884155</dd>\n",
       "\t<dt>46</dt>\n",
       "\t\t<dd>9.52198605792161</dd>\n",
       "\t<dt>47</dt>\n",
       "\t\t<dd>9.52198605792161</dd>\n",
       "\t<dt>48</dt>\n",
       "\t\t<dd>9.52198605792161</dd>\n",
       "\t<dt>49</dt>\n",
       "\t\t<dd>9.52198605792161</dd>\n",
       "\t<dt>50</dt>\n",
       "\t\t<dd>9.91873547700168</dd>\n",
       "</dl>\n"
      ],
      "text/latex": [
       "\\begin{description*}\n",
       "\\item[1] 1.58699767632028\n",
       "\\item[2] 1.58699767632027\n",
       "\\item[3] 2.77724593356047\n",
       "\\item[4] 2.77724593356047\n",
       "\\item[5] 3.17399535264054\n",
       "\\item[6] 3.57074477172061\n",
       "\\item[7] 3.96749419080067\n",
       "\\item[8] 3.96749419080067\n",
       "\\item[9] 3.96749419080067\n",
       "\\item[10] 4.36424360988074\n",
       "\\item[11] 4.36424360988074\n",
       "\\item[12] 4.76099302896081\n",
       "\\item[13] 4.76099302896081\n",
       "\\item[14] 4.76099302896081\n",
       "\\item[15] 4.76099302896081\n",
       "\\item[16] 5.15774244804087\n",
       "\\item[17] 5.15774244804087\n",
       "\\item[18] 5.15774244804087\n",
       "\\item[19] 5.15774244804087\n",
       "\\item[20] 5.55449186712094\n",
       "\\item[21] 5.55449186712094\n",
       "\\item[22] 5.55449186712094\n",
       "\\item[23] 5.55449186712094\n",
       "\\item[24] 5.95124128620101\n",
       "\\item[25] 5.95124128620101\n",
       "\\item[26] 5.95124128620101\n",
       "\\item[27] 6.34799070528108\n",
       "\\item[28] 6.34799070528108\n",
       "\\item[29] 6.74474012436114\n",
       "\\item[30] 6.74474012436114\n",
       "\\item[31] 6.74474012436114\n",
       "\\item[32] 7.14148954344121\n",
       "\\item[33] 7.14148954344121\n",
       "\\item[34] 7.14148954344121\n",
       "\\item[35] 7.14148954344121\n",
       "\\item[36] 7.53823896252128\n",
       "\\item[37] 7.53823896252128\n",
       "\\item[38] 7.53823896252128\n",
       "\\item[39] 7.93498838160134\n",
       "\\item[40] 7.93498838160134\n",
       "\\item[41] 7.93498838160134\n",
       "\\item[42] 7.93498838160134\n",
       "\\item[43] 7.93498838160134\n",
       "\\item[44] 8.72848721976148\n",
       "\\item[45] 9.12523663884155\n",
       "\\item[46] 9.52198605792161\n",
       "\\item[47] 9.52198605792161\n",
       "\\item[48] 9.52198605792161\n",
       "\\item[49] 9.52198605792161\n",
       "\\item[50] 9.91873547700168\n",
       "\\end{description*}\n"
      ],
      "text/markdown": [
       "1\n",
       ":   1.586997676320282\n",
       ":   1.586997676320273\n",
       ":   2.777245933560474\n",
       ":   2.777245933560475\n",
       ":   3.173995352640546\n",
       ":   3.570744771720617\n",
       ":   3.967494190800678\n",
       ":   3.967494190800679\n",
       ":   3.9674941908006710\n",
       ":   4.3642436098807411\n",
       ":   4.3642436098807412\n",
       ":   4.7609930289608113\n",
       ":   4.7609930289608114\n",
       ":   4.7609930289608115\n",
       ":   4.7609930289608116\n",
       ":   5.1577424480408717\n",
       ":   5.1577424480408718\n",
       ":   5.1577424480408719\n",
       ":   5.1577424480408720\n",
       ":   5.5544918671209421\n",
       ":   5.5544918671209422\n",
       ":   5.5544918671209423\n",
       ":   5.5544918671209424\n",
       ":   5.9512412862010125\n",
       ":   5.9512412862010126\n",
       ":   5.9512412862010127\n",
       ":   6.3479907052810828\n",
       ":   6.3479907052810829\n",
       ":   6.7447401243611430\n",
       ":   6.7447401243611431\n",
       ":   6.7447401243611432\n",
       ":   7.1414895434412133\n",
       ":   7.1414895434412134\n",
       ":   7.1414895434412135\n",
       ":   7.1414895434412136\n",
       ":   7.5382389625212837\n",
       ":   7.5382389625212838\n",
       ":   7.5382389625212839\n",
       ":   7.9349883816013440\n",
       ":   7.9349883816013441\n",
       ":   7.9349883816013442\n",
       ":   7.9349883816013443\n",
       ":   7.9349883816013444\n",
       ":   8.7284872197614845\n",
       ":   9.1252366388415546\n",
       ":   9.5219860579216147\n",
       ":   9.5219860579216148\n",
       ":   9.5219860579216149\n",
       ":   9.5219860579216150\n",
       ":   9.91873547700168\n",
       "\n"
      ],
      "text/plain": [
       "       1        2        3        4        5        6        7        8 \n",
       "1.586998 1.586998 2.777246 2.777246 3.173995 3.570745 3.967494 3.967494 \n",
       "       9       10       11       12       13       14       15       16 \n",
       "3.967494 4.364244 4.364244 4.760993 4.760993 4.760993 4.760993 5.157742 \n",
       "      17       18       19       20       21       22       23       24 \n",
       "5.157742 5.157742 5.157742 5.554492 5.554492 5.554492 5.554492 5.951241 \n",
       "      25       26       27       28       29       30       31       32 \n",
       "5.951241 5.951241 6.347991 6.347991 6.744740 6.744740 6.744740 7.141490 \n",
       "      33       34       35       36       37       38       39       40 \n",
       "7.141490 7.141490 7.141490 7.538239 7.538239 7.538239 7.934988 7.934988 \n",
       "      41       42       43       44       45       46       47       48 \n",
       "7.934988 7.934988 7.934988 8.728487 9.125237 9.521986 9.521986 9.521986 \n",
       "      49       50 \n",
       "9.521986 9.918735 "
      ]
     },
     "metadata": {},
     "output_type": "display_data"
    },
    {
     "data": {
      "text/html": [
       "<table>\n",
       "<tbody>\n",
       "\t<tr><td> 4      </td><td>1.586998</td></tr>\n",
       "\t<tr><td> 4      </td><td>1.586998</td></tr>\n",
       "\t<tr><td> 7      </td><td>2.777246</td></tr>\n",
       "\t<tr><td> 7      </td><td>2.777246</td></tr>\n",
       "\t<tr><td> 8      </td><td>3.173995</td></tr>\n",
       "\t<tr><td> 9      </td><td>3.570745</td></tr>\n",
       "\t<tr><td>10      </td><td>3.967494</td></tr>\n",
       "\t<tr><td>10      </td><td>3.967494</td></tr>\n",
       "\t<tr><td>10      </td><td>3.967494</td></tr>\n",
       "\t<tr><td>11      </td><td>4.364244</td></tr>\n",
       "\t<tr><td>11      </td><td>4.364244</td></tr>\n",
       "\t<tr><td>12      </td><td>4.760993</td></tr>\n",
       "\t<tr><td>12      </td><td>4.760993</td></tr>\n",
       "\t<tr><td>12      </td><td>4.760993</td></tr>\n",
       "\t<tr><td>12      </td><td>4.760993</td></tr>\n",
       "\t<tr><td>13      </td><td>5.157742</td></tr>\n",
       "\t<tr><td>13      </td><td>5.157742</td></tr>\n",
       "\t<tr><td>13      </td><td>5.157742</td></tr>\n",
       "\t<tr><td>13      </td><td>5.157742</td></tr>\n",
       "\t<tr><td>14      </td><td>5.554492</td></tr>\n",
       "\t<tr><td>14      </td><td>5.554492</td></tr>\n",
       "\t<tr><td>14      </td><td>5.554492</td></tr>\n",
       "\t<tr><td>14      </td><td>5.554492</td></tr>\n",
       "\t<tr><td>15      </td><td>5.951241</td></tr>\n",
       "\t<tr><td>15      </td><td>5.951241</td></tr>\n",
       "\t<tr><td>15      </td><td>5.951241</td></tr>\n",
       "\t<tr><td>16      </td><td>6.347991</td></tr>\n",
       "\t<tr><td>16      </td><td>6.347991</td></tr>\n",
       "\t<tr><td>17      </td><td>6.744740</td></tr>\n",
       "\t<tr><td>17      </td><td>6.744740</td></tr>\n",
       "\t<tr><td>17      </td><td>6.744740</td></tr>\n",
       "\t<tr><td>18      </td><td>7.141490</td></tr>\n",
       "\t<tr><td>18      </td><td>7.141490</td></tr>\n",
       "\t<tr><td>18      </td><td>7.141490</td></tr>\n",
       "\t<tr><td>18      </td><td>7.141490</td></tr>\n",
       "\t<tr><td>19      </td><td>7.538239</td></tr>\n",
       "\t<tr><td>19      </td><td>7.538239</td></tr>\n",
       "\t<tr><td>19      </td><td>7.538239</td></tr>\n",
       "\t<tr><td>20      </td><td>7.934988</td></tr>\n",
       "\t<tr><td>20      </td><td>7.934988</td></tr>\n",
       "\t<tr><td>20      </td><td>7.934988</td></tr>\n",
       "\t<tr><td>20      </td><td>7.934988</td></tr>\n",
       "\t<tr><td>20      </td><td>7.934988</td></tr>\n",
       "\t<tr><td>22      </td><td>8.728487</td></tr>\n",
       "\t<tr><td>23      </td><td>9.125237</td></tr>\n",
       "\t<tr><td>24      </td><td>9.521986</td></tr>\n",
       "\t<tr><td>24      </td><td>9.521986</td></tr>\n",
       "\t<tr><td>24      </td><td>9.521986</td></tr>\n",
       "\t<tr><td>24      </td><td>9.521986</td></tr>\n",
       "\t<tr><td>25      </td><td>9.918735</td></tr>\n",
       "</tbody>\n",
       "</table>\n"
      ],
      "text/latex": [
       "\\begin{tabular}{r|ll}\n",
       "\t  4       & 1.586998\\\\\n",
       "\t  4       & 1.586998\\\\\n",
       "\t  7       & 2.777246\\\\\n",
       "\t  7       & 2.777246\\\\\n",
       "\t  8       & 3.173995\\\\\n",
       "\t  9       & 3.570745\\\\\n",
       "\t 10       & 3.967494\\\\\n",
       "\t 10       & 3.967494\\\\\n",
       "\t 10       & 3.967494\\\\\n",
       "\t 11       & 4.364244\\\\\n",
       "\t 11       & 4.364244\\\\\n",
       "\t 12       & 4.760993\\\\\n",
       "\t 12       & 4.760993\\\\\n",
       "\t 12       & 4.760993\\\\\n",
       "\t 12       & 4.760993\\\\\n",
       "\t 13       & 5.157742\\\\\n",
       "\t 13       & 5.157742\\\\\n",
       "\t 13       & 5.157742\\\\\n",
       "\t 13       & 5.157742\\\\\n",
       "\t 14       & 5.554492\\\\\n",
       "\t 14       & 5.554492\\\\\n",
       "\t 14       & 5.554492\\\\\n",
       "\t 14       & 5.554492\\\\\n",
       "\t 15       & 5.951241\\\\\n",
       "\t 15       & 5.951241\\\\\n",
       "\t 15       & 5.951241\\\\\n",
       "\t 16       & 6.347991\\\\\n",
       "\t 16       & 6.347991\\\\\n",
       "\t 17       & 6.744740\\\\\n",
       "\t 17       & 6.744740\\\\\n",
       "\t 17       & 6.744740\\\\\n",
       "\t 18       & 7.141490\\\\\n",
       "\t 18       & 7.141490\\\\\n",
       "\t 18       & 7.141490\\\\\n",
       "\t 18       & 7.141490\\\\\n",
       "\t 19       & 7.538239\\\\\n",
       "\t 19       & 7.538239\\\\\n",
       "\t 19       & 7.538239\\\\\n",
       "\t 20       & 7.934988\\\\\n",
       "\t 20       & 7.934988\\\\\n",
       "\t 20       & 7.934988\\\\\n",
       "\t 20       & 7.934988\\\\\n",
       "\t 20       & 7.934988\\\\\n",
       "\t 22       & 8.728487\\\\\n",
       "\t 23       & 9.125237\\\\\n",
       "\t 24       & 9.521986\\\\\n",
       "\t 24       & 9.521986\\\\\n",
       "\t 24       & 9.521986\\\\\n",
       "\t 24       & 9.521986\\\\\n",
       "\t 25       & 9.918735\\\\\n",
       "\\end{tabular}\n"
      ],
      "text/markdown": [
       "\n",
       "|  4       | 1.586998 |\n",
       "|  4       | 1.586998 |\n",
       "|  7       | 2.777246 |\n",
       "|  7       | 2.777246 |\n",
       "|  8       | 3.173995 |\n",
       "|  9       | 3.570745 |\n",
       "| 10       | 3.967494 |\n",
       "| 10       | 3.967494 |\n",
       "| 10       | 3.967494 |\n",
       "| 11       | 4.364244 |\n",
       "| 11       | 4.364244 |\n",
       "| 12       | 4.760993 |\n",
       "| 12       | 4.760993 |\n",
       "| 12       | 4.760993 |\n",
       "| 12       | 4.760993 |\n",
       "| 13       | 5.157742 |\n",
       "| 13       | 5.157742 |\n",
       "| 13       | 5.157742 |\n",
       "| 13       | 5.157742 |\n",
       "| 14       | 5.554492 |\n",
       "| 14       | 5.554492 |\n",
       "| 14       | 5.554492 |\n",
       "| 14       | 5.554492 |\n",
       "| 15       | 5.951241 |\n",
       "| 15       | 5.951241 |\n",
       "| 15       | 5.951241 |\n",
       "| 16       | 6.347991 |\n",
       "| 16       | 6.347991 |\n",
       "| 17       | 6.744740 |\n",
       "| 17       | 6.744740 |\n",
       "| 17       | 6.744740 |\n",
       "| 18       | 7.141490 |\n",
       "| 18       | 7.141490 |\n",
       "| 18       | 7.141490 |\n",
       "| 18       | 7.141490 |\n",
       "| 19       | 7.538239 |\n",
       "| 19       | 7.538239 |\n",
       "| 19       | 7.538239 |\n",
       "| 20       | 7.934988 |\n",
       "| 20       | 7.934988 |\n",
       "| 20       | 7.934988 |\n",
       "| 20       | 7.934988 |\n",
       "| 20       | 7.934988 |\n",
       "| 22       | 8.728487 |\n",
       "| 23       | 9.125237 |\n",
       "| 24       | 9.521986 |\n",
       "| 24       | 9.521986 |\n",
       "| 24       | 9.521986 |\n",
       "| 24       | 9.521986 |\n",
       "| 25       | 9.918735 |\n",
       "\n"
      ],
      "text/plain": [
       "   [,1] [,2]    \n",
       "1   4   1.586998\n",
       "2   4   1.586998\n",
       "3   7   2.777246\n",
       "4   7   2.777246\n",
       "5   8   3.173995\n",
       "6   9   3.570745\n",
       "7  10   3.967494\n",
       "8  10   3.967494\n",
       "9  10   3.967494\n",
       "10 11   4.364244\n",
       "11 11   4.364244\n",
       "12 12   4.760993\n",
       "13 12   4.760993\n",
       "14 12   4.760993\n",
       "15 12   4.760993\n",
       "16 13   5.157742\n",
       "17 13   5.157742\n",
       "18 13   5.157742\n",
       "19 13   5.157742\n",
       "20 14   5.554492\n",
       "21 14   5.554492\n",
       "22 14   5.554492\n",
       "23 14   5.554492\n",
       "24 15   5.951241\n",
       "25 15   5.951241\n",
       "26 15   5.951241\n",
       "27 16   6.347991\n",
       "28 16   6.347991\n",
       "29 17   6.744740\n",
       "30 17   6.744740\n",
       "31 17   6.744740\n",
       "32 18   7.141490\n",
       "33 18   7.141490\n",
       "34 18   7.141490\n",
       "35 18   7.141490\n",
       "36 19   7.538239\n",
       "37 19   7.538239\n",
       "38 19   7.538239\n",
       "39 20   7.934988\n",
       "40 20   7.934988\n",
       "41 20   7.934988\n",
       "42 20   7.934988\n",
       "43 20   7.934988\n",
       "44 22   8.728487\n",
       "45 23   9.125237\n",
       "46 24   9.521986\n",
       "47 24   9.521986\n",
       "48 24   9.521986\n",
       "49 24   9.521986\n",
       "50 25   9.918735"
      ]
     },
     "metadata": {},
     "output_type": "display_data"
    },
    {
     "data": {
      "text/html": [
       "<table>\n",
       "<thead><tr><th scope=col></th><th scope=col>fit</th><th scope=col>lwr</th><th scope=col>upr</th></tr></thead>\n",
       "<tbody>\n",
       "\t<tr><td> 4       </td><td>1.586998 </td><td>1.505407 </td><td> 1.668588</td></tr>\n",
       "\t<tr><td> 4       </td><td>1.586998 </td><td>1.505407 </td><td> 1.668588</td></tr>\n",
       "\t<tr><td> 7       </td><td>2.777246 </td><td>2.634463 </td><td> 2.920029</td></tr>\n",
       "\t<tr><td> 7       </td><td>2.777246 </td><td>2.634463 </td><td> 2.920029</td></tr>\n",
       "\t<tr><td> 8       </td><td>3.173995 </td><td>3.010814 </td><td> 3.337176</td></tr>\n",
       "\t<tr><td> 9       </td><td>3.570745 </td><td>3.387166 </td><td> 3.754323</td></tr>\n",
       "\t<tr><td>10       </td><td>3.967494 </td><td>3.763518 </td><td> 4.171470</td></tr>\n",
       "\t<tr><td>10       </td><td>3.967494 </td><td>3.763518 </td><td> 4.171470</td></tr>\n",
       "\t<tr><td>10       </td><td>3.967494 </td><td>3.763518 </td><td> 4.171470</td></tr>\n",
       "\t<tr><td>11       </td><td>4.364244 </td><td>4.139870 </td><td> 4.588618</td></tr>\n",
       "\t<tr><td>11       </td><td>4.364244 </td><td>4.139870 </td><td> 4.588618</td></tr>\n",
       "\t<tr><td>12       </td><td>4.760993 </td><td>4.516221 </td><td> 5.005765</td></tr>\n",
       "\t<tr><td>12       </td><td>4.760993 </td><td>4.516221 </td><td> 5.005765</td></tr>\n",
       "\t<tr><td>12       </td><td>4.760993 </td><td>4.516221 </td><td> 5.005765</td></tr>\n",
       "\t<tr><td>12       </td><td>4.760993 </td><td>4.516221 </td><td> 5.005765</td></tr>\n",
       "\t<tr><td>13       </td><td>5.157742 </td><td>4.892573 </td><td> 5.422912</td></tr>\n",
       "\t<tr><td>13       </td><td>5.157742 </td><td>4.892573 </td><td> 5.422912</td></tr>\n",
       "\t<tr><td>13       </td><td>5.157742 </td><td>4.892573 </td><td> 5.422912</td></tr>\n",
       "\t<tr><td>13       </td><td>5.157742 </td><td>4.892573 </td><td> 5.422912</td></tr>\n",
       "\t<tr><td>14       </td><td>5.554492 </td><td>5.268925 </td><td> 5.840059</td></tr>\n",
       "\t<tr><td>14       </td><td>5.554492 </td><td>5.268925 </td><td> 5.840059</td></tr>\n",
       "\t<tr><td>14       </td><td>5.554492 </td><td>5.268925 </td><td> 5.840059</td></tr>\n",
       "\t<tr><td>14       </td><td>5.554492 </td><td>5.268925 </td><td> 5.840059</td></tr>\n",
       "\t<tr><td>15       </td><td>5.951241 </td><td>5.645277 </td><td> 6.257206</td></tr>\n",
       "\t<tr><td>15       </td><td>5.951241 </td><td>5.645277 </td><td> 6.257206</td></tr>\n",
       "\t<tr><td>15       </td><td>5.951241 </td><td>5.645277 </td><td> 6.257206</td></tr>\n",
       "\t<tr><td>16       </td><td>6.347991 </td><td>6.021629 </td><td> 6.674353</td></tr>\n",
       "\t<tr><td>16       </td><td>6.347991 </td><td>6.021629 </td><td> 6.674353</td></tr>\n",
       "\t<tr><td>17       </td><td>6.744740 </td><td>6.397980 </td><td> 7.091500</td></tr>\n",
       "\t<tr><td>17       </td><td>6.744740 </td><td>6.397980 </td><td> 7.091500</td></tr>\n",
       "\t<tr><td>17       </td><td>6.744740 </td><td>6.397980 </td><td> 7.091500</td></tr>\n",
       "\t<tr><td>18       </td><td>7.141490 </td><td>6.774332 </td><td> 7.508647</td></tr>\n",
       "\t<tr><td>18       </td><td>7.141490 </td><td>6.774332 </td><td> 7.508647</td></tr>\n",
       "\t<tr><td>18       </td><td>7.141490 </td><td>6.774332 </td><td> 7.508647</td></tr>\n",
       "\t<tr><td>18       </td><td>7.141490 </td><td>6.774332 </td><td> 7.508647</td></tr>\n",
       "\t<tr><td>19       </td><td>7.538239 </td><td>7.150684 </td><td> 7.925794</td></tr>\n",
       "\t<tr><td>19       </td><td>7.538239 </td><td>7.150684 </td><td> 7.925794</td></tr>\n",
       "\t<tr><td>19       </td><td>7.538239 </td><td>7.150684 </td><td> 7.925794</td></tr>\n",
       "\t<tr><td>20       </td><td>7.934988 </td><td>7.527036 </td><td> 8.342941</td></tr>\n",
       "\t<tr><td>20       </td><td>7.934988 </td><td>7.527036 </td><td> 8.342941</td></tr>\n",
       "\t<tr><td>20       </td><td>7.934988 </td><td>7.527036 </td><td> 8.342941</td></tr>\n",
       "\t<tr><td>20       </td><td>7.934988 </td><td>7.527036 </td><td> 8.342941</td></tr>\n",
       "\t<tr><td>20       </td><td>7.934988 </td><td>7.527036 </td><td> 8.342941</td></tr>\n",
       "\t<tr><td>22       </td><td>8.728487 </td><td>8.279739 </td><td> 9.177235</td></tr>\n",
       "\t<tr><td>23       </td><td>9.125237 </td><td>8.656091 </td><td> 9.594382</td></tr>\n",
       "\t<tr><td>24       </td><td>9.521986 </td><td>9.032443 </td><td>10.011529</td></tr>\n",
       "\t<tr><td>24       </td><td>9.521986 </td><td>9.032443 </td><td>10.011529</td></tr>\n",
       "\t<tr><td>24       </td><td>9.521986 </td><td>9.032443 </td><td>10.011529</td></tr>\n",
       "\t<tr><td>24       </td><td>9.521986 </td><td>9.032443 </td><td>10.011529</td></tr>\n",
       "\t<tr><td>25       </td><td>9.918735 </td><td>9.408795 </td><td>10.428676</td></tr>\n",
       "</tbody>\n",
       "</table>\n"
      ],
      "text/latex": [
       "\\begin{tabular}{r|llll}\n",
       "  & fit & lwr & upr\\\\\n",
       "\\hline\n",
       "\t  4        & 1.586998  & 1.505407  &  1.668588\\\\\n",
       "\t  4        & 1.586998  & 1.505407  &  1.668588\\\\\n",
       "\t  7        & 2.777246  & 2.634463  &  2.920029\\\\\n",
       "\t  7        & 2.777246  & 2.634463  &  2.920029\\\\\n",
       "\t  8        & 3.173995  & 3.010814  &  3.337176\\\\\n",
       "\t  9        & 3.570745  & 3.387166  &  3.754323\\\\\n",
       "\t 10        & 3.967494  & 3.763518  &  4.171470\\\\\n",
       "\t 10        & 3.967494  & 3.763518  &  4.171470\\\\\n",
       "\t 10        & 3.967494  & 3.763518  &  4.171470\\\\\n",
       "\t 11        & 4.364244  & 4.139870  &  4.588618\\\\\n",
       "\t 11        & 4.364244  & 4.139870  &  4.588618\\\\\n",
       "\t 12        & 4.760993  & 4.516221  &  5.005765\\\\\n",
       "\t 12        & 4.760993  & 4.516221  &  5.005765\\\\\n",
       "\t 12        & 4.760993  & 4.516221  &  5.005765\\\\\n",
       "\t 12        & 4.760993  & 4.516221  &  5.005765\\\\\n",
       "\t 13        & 5.157742  & 4.892573  &  5.422912\\\\\n",
       "\t 13        & 5.157742  & 4.892573  &  5.422912\\\\\n",
       "\t 13        & 5.157742  & 4.892573  &  5.422912\\\\\n",
       "\t 13        & 5.157742  & 4.892573  &  5.422912\\\\\n",
       "\t 14        & 5.554492  & 5.268925  &  5.840059\\\\\n",
       "\t 14        & 5.554492  & 5.268925  &  5.840059\\\\\n",
       "\t 14        & 5.554492  & 5.268925  &  5.840059\\\\\n",
       "\t 14        & 5.554492  & 5.268925  &  5.840059\\\\\n",
       "\t 15        & 5.951241  & 5.645277  &  6.257206\\\\\n",
       "\t 15        & 5.951241  & 5.645277  &  6.257206\\\\\n",
       "\t 15        & 5.951241  & 5.645277  &  6.257206\\\\\n",
       "\t 16        & 6.347991  & 6.021629  &  6.674353\\\\\n",
       "\t 16        & 6.347991  & 6.021629  &  6.674353\\\\\n",
       "\t 17        & 6.744740  & 6.397980  &  7.091500\\\\\n",
       "\t 17        & 6.744740  & 6.397980  &  7.091500\\\\\n",
       "\t 17        & 6.744740  & 6.397980  &  7.091500\\\\\n",
       "\t 18        & 7.141490  & 6.774332  &  7.508647\\\\\n",
       "\t 18        & 7.141490  & 6.774332  &  7.508647\\\\\n",
       "\t 18        & 7.141490  & 6.774332  &  7.508647\\\\\n",
       "\t 18        & 7.141490  & 6.774332  &  7.508647\\\\\n",
       "\t 19        & 7.538239  & 7.150684  &  7.925794\\\\\n",
       "\t 19        & 7.538239  & 7.150684  &  7.925794\\\\\n",
       "\t 19        & 7.538239  & 7.150684  &  7.925794\\\\\n",
       "\t 20        & 7.934988  & 7.527036  &  8.342941\\\\\n",
       "\t 20        & 7.934988  & 7.527036  &  8.342941\\\\\n",
       "\t 20        & 7.934988  & 7.527036  &  8.342941\\\\\n",
       "\t 20        & 7.934988  & 7.527036  &  8.342941\\\\\n",
       "\t 20        & 7.934988  & 7.527036  &  8.342941\\\\\n",
       "\t 22        & 8.728487  & 8.279739  &  9.177235\\\\\n",
       "\t 23        & 9.125237  & 8.656091  &  9.594382\\\\\n",
       "\t 24        & 9.521986  & 9.032443  & 10.011529\\\\\n",
       "\t 24        & 9.521986  & 9.032443  & 10.011529\\\\\n",
       "\t 24        & 9.521986  & 9.032443  & 10.011529\\\\\n",
       "\t 24        & 9.521986  & 9.032443  & 10.011529\\\\\n",
       "\t 25        & 9.918735  & 9.408795  & 10.428676\\\\\n",
       "\\end{tabular}\n"
      ],
      "text/markdown": [
       "\n",
       "|  | fit | lwr | upr |\n",
       "|---|---|---|---|\n",
       "|  4        | 1.586998  | 1.505407  |  1.668588 |\n",
       "|  4        | 1.586998  | 1.505407  |  1.668588 |\n",
       "|  7        | 2.777246  | 2.634463  |  2.920029 |\n",
       "|  7        | 2.777246  | 2.634463  |  2.920029 |\n",
       "|  8        | 3.173995  | 3.010814  |  3.337176 |\n",
       "|  9        | 3.570745  | 3.387166  |  3.754323 |\n",
       "| 10        | 3.967494  | 3.763518  |  4.171470 |\n",
       "| 10        | 3.967494  | 3.763518  |  4.171470 |\n",
       "| 10        | 3.967494  | 3.763518  |  4.171470 |\n",
       "| 11        | 4.364244  | 4.139870  |  4.588618 |\n",
       "| 11        | 4.364244  | 4.139870  |  4.588618 |\n",
       "| 12        | 4.760993  | 4.516221  |  5.005765 |\n",
       "| 12        | 4.760993  | 4.516221  |  5.005765 |\n",
       "| 12        | 4.760993  | 4.516221  |  5.005765 |\n",
       "| 12        | 4.760993  | 4.516221  |  5.005765 |\n",
       "| 13        | 5.157742  | 4.892573  |  5.422912 |\n",
       "| 13        | 5.157742  | 4.892573  |  5.422912 |\n",
       "| 13        | 5.157742  | 4.892573  |  5.422912 |\n",
       "| 13        | 5.157742  | 4.892573  |  5.422912 |\n",
       "| 14        | 5.554492  | 5.268925  |  5.840059 |\n",
       "| 14        | 5.554492  | 5.268925  |  5.840059 |\n",
       "| 14        | 5.554492  | 5.268925  |  5.840059 |\n",
       "| 14        | 5.554492  | 5.268925  |  5.840059 |\n",
       "| 15        | 5.951241  | 5.645277  |  6.257206 |\n",
       "| 15        | 5.951241  | 5.645277  |  6.257206 |\n",
       "| 15        | 5.951241  | 5.645277  |  6.257206 |\n",
       "| 16        | 6.347991  | 6.021629  |  6.674353 |\n",
       "| 16        | 6.347991  | 6.021629  |  6.674353 |\n",
       "| 17        | 6.744740  | 6.397980  |  7.091500 |\n",
       "| 17        | 6.744740  | 6.397980  |  7.091500 |\n",
       "| 17        | 6.744740  | 6.397980  |  7.091500 |\n",
       "| 18        | 7.141490  | 6.774332  |  7.508647 |\n",
       "| 18        | 7.141490  | 6.774332  |  7.508647 |\n",
       "| 18        | 7.141490  | 6.774332  |  7.508647 |\n",
       "| 18        | 7.141490  | 6.774332  |  7.508647 |\n",
       "| 19        | 7.538239  | 7.150684  |  7.925794 |\n",
       "| 19        | 7.538239  | 7.150684  |  7.925794 |\n",
       "| 19        | 7.538239  | 7.150684  |  7.925794 |\n",
       "| 20        | 7.934988  | 7.527036  |  8.342941 |\n",
       "| 20        | 7.934988  | 7.527036  |  8.342941 |\n",
       "| 20        | 7.934988  | 7.527036  |  8.342941 |\n",
       "| 20        | 7.934988  | 7.527036  |  8.342941 |\n",
       "| 20        | 7.934988  | 7.527036  |  8.342941 |\n",
       "| 22        | 8.728487  | 8.279739  |  9.177235 |\n",
       "| 23        | 9.125237  | 8.656091  |  9.594382 |\n",
       "| 24        | 9.521986  | 9.032443  | 10.011529 |\n",
       "| 24        | 9.521986  | 9.032443  | 10.011529 |\n",
       "| 24        | 9.521986  | 9.032443  | 10.011529 |\n",
       "| 24        | 9.521986  | 9.032443  | 10.011529 |\n",
       "| 25        | 9.918735  | 9.408795  | 10.428676 |\n",
       "\n"
      ],
      "text/plain": [
       "      fit      lwr      upr      \n",
       "1   4 1.586998 1.505407  1.668588\n",
       "2   4 1.586998 1.505407  1.668588\n",
       "3   7 2.777246 2.634463  2.920029\n",
       "4   7 2.777246 2.634463  2.920029\n",
       "5   8 3.173995 3.010814  3.337176\n",
       "6   9 3.570745 3.387166  3.754323\n",
       "7  10 3.967494 3.763518  4.171470\n",
       "8  10 3.967494 3.763518  4.171470\n",
       "9  10 3.967494 3.763518  4.171470\n",
       "10 11 4.364244 4.139870  4.588618\n",
       "11 11 4.364244 4.139870  4.588618\n",
       "12 12 4.760993 4.516221  5.005765\n",
       "13 12 4.760993 4.516221  5.005765\n",
       "14 12 4.760993 4.516221  5.005765\n",
       "15 12 4.760993 4.516221  5.005765\n",
       "16 13 5.157742 4.892573  5.422912\n",
       "17 13 5.157742 4.892573  5.422912\n",
       "18 13 5.157742 4.892573  5.422912\n",
       "19 13 5.157742 4.892573  5.422912\n",
       "20 14 5.554492 5.268925  5.840059\n",
       "21 14 5.554492 5.268925  5.840059\n",
       "22 14 5.554492 5.268925  5.840059\n",
       "23 14 5.554492 5.268925  5.840059\n",
       "24 15 5.951241 5.645277  6.257206\n",
       "25 15 5.951241 5.645277  6.257206\n",
       "26 15 5.951241 5.645277  6.257206\n",
       "27 16 6.347991 6.021629  6.674353\n",
       "28 16 6.347991 6.021629  6.674353\n",
       "29 17 6.744740 6.397980  7.091500\n",
       "30 17 6.744740 6.397980  7.091500\n",
       "31 17 6.744740 6.397980  7.091500\n",
       "32 18 7.141490 6.774332  7.508647\n",
       "33 18 7.141490 6.774332  7.508647\n",
       "34 18 7.141490 6.774332  7.508647\n",
       "35 18 7.141490 6.774332  7.508647\n",
       "36 19 7.538239 7.150684  7.925794\n",
       "37 19 7.538239 7.150684  7.925794\n",
       "38 19 7.538239 7.150684  7.925794\n",
       "39 20 7.934988 7.527036  8.342941\n",
       "40 20 7.934988 7.527036  8.342941\n",
       "41 20 7.934988 7.527036  8.342941\n",
       "42 20 7.934988 7.527036  8.342941\n",
       "43 20 7.934988 7.527036  8.342941\n",
       "44 22 8.728487 8.279739  9.177235\n",
       "45 23 9.125237 8.656091  9.594382\n",
       "46 24 9.521986 9.032443 10.011529\n",
       "47 24 9.521986 9.032443 10.011529\n",
       "48 24 9.521986 9.032443 10.011529\n",
       "49 24 9.521986 9.032443 10.011529\n",
       "50 25 9.918735 9.408795 10.428676"
      ]
     },
     "metadata": {},
     "output_type": "display_data"
    },
    {
     "data": {
      "text/html": [
       "<table>\n",
       "<thead><tr><th scope=col></th><th scope=col>fit</th><th scope=col>lwr</th><th scope=col>upr</th></tr></thead>\n",
       "<tbody>\n",
       "\t<tr><td> 4        </td><td>1.586998  </td><td>-0.7604140</td><td> 3.934409 </td></tr>\n",
       "\t<tr><td> 4        </td><td>1.586998  </td><td>-0.7604140</td><td> 3.934409 </td></tr>\n",
       "\t<tr><td> 7        </td><td>2.777246  </td><td> 0.4269116</td><td> 5.127580 </td></tr>\n",
       "\t<tr><td> 7        </td><td>2.777246  </td><td> 0.4269116</td><td> 5.127580 </td></tr>\n",
       "\t<tr><td> 8        </td><td>3.173995  </td><td> 0.8223337</td><td> 5.525657 </td></tr>\n",
       "\t<tr><td> 9        </td><td>3.570745  </td><td> 1.2175798</td><td> 5.923910 </td></tr>\n",
       "\t<tr><td>10        </td><td>3.967494  </td><td> 1.6126501</td><td> 6.322338 </td></tr>\n",
       "\t<tr><td>10        </td><td>3.967494  </td><td> 1.6126501</td><td> 6.322338 </td></tr>\n",
       "\t<tr><td>10        </td><td>3.967494  </td><td> 1.6126501</td><td> 6.322338 </td></tr>\n",
       "\t<tr><td>11        </td><td>4.364244  </td><td> 2.0075451</td><td> 6.720942 </td></tr>\n",
       "\t<tr><td>11        </td><td>4.364244  </td><td> 2.0075451</td><td> 6.720942 </td></tr>\n",
       "\t<tr><td>12        </td><td>4.760993  </td><td> 2.4022651</td><td> 7.119721 </td></tr>\n",
       "\t<tr><td>12        </td><td>4.760993  </td><td> 2.4022651</td><td> 7.119721 </td></tr>\n",
       "\t<tr><td>12        </td><td>4.760993  </td><td> 2.4022651</td><td> 7.119721 </td></tr>\n",
       "\t<tr><td>12        </td><td>4.760993  </td><td> 2.4022651</td><td> 7.119721 </td></tr>\n",
       "\t<tr><td>13        </td><td>5.157742  </td><td> 2.7968106</td><td> 7.518674 </td></tr>\n",
       "\t<tr><td>13        </td><td>5.157742  </td><td> 2.7968106</td><td> 7.518674 </td></tr>\n",
       "\t<tr><td>13        </td><td>5.157742  </td><td> 2.7968106</td><td> 7.518674 </td></tr>\n",
       "\t<tr><td>13        </td><td>5.157742  </td><td> 2.7968106</td><td> 7.518674 </td></tr>\n",
       "\t<tr><td>14        </td><td>5.554492  </td><td> 3.1911822</td><td> 7.917802 </td></tr>\n",
       "\t<tr><td>14        </td><td>5.554492  </td><td> 3.1911822</td><td> 7.917802 </td></tr>\n",
       "\t<tr><td>14        </td><td>5.554492  </td><td> 3.1911822</td><td> 7.917802 </td></tr>\n",
       "\t<tr><td>14        </td><td>5.554492  </td><td> 3.1911822</td><td> 7.917802 </td></tr>\n",
       "\t<tr><td>15        </td><td>5.951241  </td><td> 3.5853802</td><td> 8.317102 </td></tr>\n",
       "\t<tr><td>15        </td><td>5.951241  </td><td> 3.5853802</td><td> 8.317102 </td></tr>\n",
       "\t<tr><td>15        </td><td>5.951241  </td><td> 3.5853802</td><td> 8.317102 </td></tr>\n",
       "\t<tr><td>16        </td><td>6.347991  </td><td> 3.9794053</td><td> 8.716576 </td></tr>\n",
       "\t<tr><td>16        </td><td>6.347991  </td><td> 3.9794053</td><td> 8.716576 </td></tr>\n",
       "\t<tr><td>17        </td><td>6.744740  </td><td> 4.3732582</td><td> 9.116222 </td></tr>\n",
       "\t<tr><td>17        </td><td>6.744740  </td><td> 4.3732582</td><td> 9.116222 </td></tr>\n",
       "\t<tr><td>17        </td><td>6.744740  </td><td> 4.3732582</td><td> 9.116222 </td></tr>\n",
       "\t<tr><td>18        </td><td>7.141490  </td><td> 4.7669393</td><td> 9.516040 </td></tr>\n",
       "\t<tr><td>18        </td><td>7.141490  </td><td> 4.7669393</td><td> 9.516040 </td></tr>\n",
       "\t<tr><td>18        </td><td>7.141490  </td><td> 4.7669393</td><td> 9.516040 </td></tr>\n",
       "\t<tr><td>18        </td><td>7.141490  </td><td> 4.7669393</td><td> 9.516040 </td></tr>\n",
       "\t<tr><td>19        </td><td>7.538239  </td><td> 5.1604494</td><td> 9.916029 </td></tr>\n",
       "\t<tr><td>19        </td><td>7.538239  </td><td> 5.1604494</td><td> 9.916029 </td></tr>\n",
       "\t<tr><td>19        </td><td>7.538239  </td><td> 5.1604494</td><td> 9.916029 </td></tr>\n",
       "\t<tr><td>20        </td><td>7.934988  </td><td> 5.5537892</td><td>10.316188 </td></tr>\n",
       "\t<tr><td>20        </td><td>7.934988  </td><td> 5.5537892</td><td>10.316188 </td></tr>\n",
       "\t<tr><td>20        </td><td>7.934988  </td><td> 5.5537892</td><td>10.316188 </td></tr>\n",
       "\t<tr><td>20        </td><td>7.934988  </td><td> 5.5537892</td><td>10.316188 </td></tr>\n",
       "\t<tr><td>20        </td><td>7.934988  </td><td> 5.5537892</td><td>10.316188 </td></tr>\n",
       "\t<tr><td>22        </td><td>8.728487  </td><td> 6.3399607</td><td>11.117014 </td></tr>\n",
       "\t<tr><td>23        </td><td>9.125237  </td><td> 6.7327940</td><td>11.517679 </td></tr>\n",
       "\t<tr><td>24        </td><td>9.521986  </td><td> 7.1254601</td><td>11.918512 </td></tr>\n",
       "\t<tr><td>24        </td><td>9.521986  </td><td> 7.1254601</td><td>11.918512 </td></tr>\n",
       "\t<tr><td>24        </td><td>9.521986  </td><td> 7.1254601</td><td>11.918512 </td></tr>\n",
       "\t<tr><td>24        </td><td>9.521986  </td><td> 7.1254601</td><td>11.918512 </td></tr>\n",
       "\t<tr><td>25        </td><td>9.918735  </td><td> 7.5179598</td><td>12.319511 </td></tr>\n",
       "</tbody>\n",
       "</table>\n"
      ],
      "text/latex": [
       "\\begin{tabular}{r|llll}\n",
       "  & fit & lwr & upr\\\\\n",
       "\\hline\n",
       "\t  4         & 1.586998   & -0.7604140 &  3.934409 \\\\\n",
       "\t  4         & 1.586998   & -0.7604140 &  3.934409 \\\\\n",
       "\t  7         & 2.777246   &  0.4269116 &  5.127580 \\\\\n",
       "\t  7         & 2.777246   &  0.4269116 &  5.127580 \\\\\n",
       "\t  8         & 3.173995   &  0.8223337 &  5.525657 \\\\\n",
       "\t  9         & 3.570745   &  1.2175798 &  5.923910 \\\\\n",
       "\t 10         & 3.967494   &  1.6126501 &  6.322338 \\\\\n",
       "\t 10         & 3.967494   &  1.6126501 &  6.322338 \\\\\n",
       "\t 10         & 3.967494   &  1.6126501 &  6.322338 \\\\\n",
       "\t 11         & 4.364244   &  2.0075451 &  6.720942 \\\\\n",
       "\t 11         & 4.364244   &  2.0075451 &  6.720942 \\\\\n",
       "\t 12         & 4.760993   &  2.4022651 &  7.119721 \\\\\n",
       "\t 12         & 4.760993   &  2.4022651 &  7.119721 \\\\\n",
       "\t 12         & 4.760993   &  2.4022651 &  7.119721 \\\\\n",
       "\t 12         & 4.760993   &  2.4022651 &  7.119721 \\\\\n",
       "\t 13         & 5.157742   &  2.7968106 &  7.518674 \\\\\n",
       "\t 13         & 5.157742   &  2.7968106 &  7.518674 \\\\\n",
       "\t 13         & 5.157742   &  2.7968106 &  7.518674 \\\\\n",
       "\t 13         & 5.157742   &  2.7968106 &  7.518674 \\\\\n",
       "\t 14         & 5.554492   &  3.1911822 &  7.917802 \\\\\n",
       "\t 14         & 5.554492   &  3.1911822 &  7.917802 \\\\\n",
       "\t 14         & 5.554492   &  3.1911822 &  7.917802 \\\\\n",
       "\t 14         & 5.554492   &  3.1911822 &  7.917802 \\\\\n",
       "\t 15         & 5.951241   &  3.5853802 &  8.317102 \\\\\n",
       "\t 15         & 5.951241   &  3.5853802 &  8.317102 \\\\\n",
       "\t 15         & 5.951241   &  3.5853802 &  8.317102 \\\\\n",
       "\t 16         & 6.347991   &  3.9794053 &  8.716576 \\\\\n",
       "\t 16         & 6.347991   &  3.9794053 &  8.716576 \\\\\n",
       "\t 17         & 6.744740   &  4.3732582 &  9.116222 \\\\\n",
       "\t 17         & 6.744740   &  4.3732582 &  9.116222 \\\\\n",
       "\t 17         & 6.744740   &  4.3732582 &  9.116222 \\\\\n",
       "\t 18         & 7.141490   &  4.7669393 &  9.516040 \\\\\n",
       "\t 18         & 7.141490   &  4.7669393 &  9.516040 \\\\\n",
       "\t 18         & 7.141490   &  4.7669393 &  9.516040 \\\\\n",
       "\t 18         & 7.141490   &  4.7669393 &  9.516040 \\\\\n",
       "\t 19         & 7.538239   &  5.1604494 &  9.916029 \\\\\n",
       "\t 19         & 7.538239   &  5.1604494 &  9.916029 \\\\\n",
       "\t 19         & 7.538239   &  5.1604494 &  9.916029 \\\\\n",
       "\t 20         & 7.934988   &  5.5537892 & 10.316188 \\\\\n",
       "\t 20         & 7.934988   &  5.5537892 & 10.316188 \\\\\n",
       "\t 20         & 7.934988   &  5.5537892 & 10.316188 \\\\\n",
       "\t 20         & 7.934988   &  5.5537892 & 10.316188 \\\\\n",
       "\t 20         & 7.934988   &  5.5537892 & 10.316188 \\\\\n",
       "\t 22         & 8.728487   &  6.3399607 & 11.117014 \\\\\n",
       "\t 23         & 9.125237   &  6.7327940 & 11.517679 \\\\\n",
       "\t 24         & 9.521986   &  7.1254601 & 11.918512 \\\\\n",
       "\t 24         & 9.521986   &  7.1254601 & 11.918512 \\\\\n",
       "\t 24         & 9.521986   &  7.1254601 & 11.918512 \\\\\n",
       "\t 24         & 9.521986   &  7.1254601 & 11.918512 \\\\\n",
       "\t 25         & 9.918735   &  7.5179598 & 12.319511 \\\\\n",
       "\\end{tabular}\n"
      ],
      "text/markdown": [
       "\n",
       "|  | fit | lwr | upr |\n",
       "|---|---|---|---|\n",
       "|  4         | 1.586998   | -0.7604140 |  3.934409  |\n",
       "|  4         | 1.586998   | -0.7604140 |  3.934409  |\n",
       "|  7         | 2.777246   |  0.4269116 |  5.127580  |\n",
       "|  7         | 2.777246   |  0.4269116 |  5.127580  |\n",
       "|  8         | 3.173995   |  0.8223337 |  5.525657  |\n",
       "|  9         | 3.570745   |  1.2175798 |  5.923910  |\n",
       "| 10         | 3.967494   |  1.6126501 |  6.322338  |\n",
       "| 10         | 3.967494   |  1.6126501 |  6.322338  |\n",
       "| 10         | 3.967494   |  1.6126501 |  6.322338  |\n",
       "| 11         | 4.364244   |  2.0075451 |  6.720942  |\n",
       "| 11         | 4.364244   |  2.0075451 |  6.720942  |\n",
       "| 12         | 4.760993   |  2.4022651 |  7.119721  |\n",
       "| 12         | 4.760993   |  2.4022651 |  7.119721  |\n",
       "| 12         | 4.760993   |  2.4022651 |  7.119721  |\n",
       "| 12         | 4.760993   |  2.4022651 |  7.119721  |\n",
       "| 13         | 5.157742   |  2.7968106 |  7.518674  |\n",
       "| 13         | 5.157742   |  2.7968106 |  7.518674  |\n",
       "| 13         | 5.157742   |  2.7968106 |  7.518674  |\n",
       "| 13         | 5.157742   |  2.7968106 |  7.518674  |\n",
       "| 14         | 5.554492   |  3.1911822 |  7.917802  |\n",
       "| 14         | 5.554492   |  3.1911822 |  7.917802  |\n",
       "| 14         | 5.554492   |  3.1911822 |  7.917802  |\n",
       "| 14         | 5.554492   |  3.1911822 |  7.917802  |\n",
       "| 15         | 5.951241   |  3.5853802 |  8.317102  |\n",
       "| 15         | 5.951241   |  3.5853802 |  8.317102  |\n",
       "| 15         | 5.951241   |  3.5853802 |  8.317102  |\n",
       "| 16         | 6.347991   |  3.9794053 |  8.716576  |\n",
       "| 16         | 6.347991   |  3.9794053 |  8.716576  |\n",
       "| 17         | 6.744740   |  4.3732582 |  9.116222  |\n",
       "| 17         | 6.744740   |  4.3732582 |  9.116222  |\n",
       "| 17         | 6.744740   |  4.3732582 |  9.116222  |\n",
       "| 18         | 7.141490   |  4.7669393 |  9.516040  |\n",
       "| 18         | 7.141490   |  4.7669393 |  9.516040  |\n",
       "| 18         | 7.141490   |  4.7669393 |  9.516040  |\n",
       "| 18         | 7.141490   |  4.7669393 |  9.516040  |\n",
       "| 19         | 7.538239   |  5.1604494 |  9.916029  |\n",
       "| 19         | 7.538239   |  5.1604494 |  9.916029  |\n",
       "| 19         | 7.538239   |  5.1604494 |  9.916029  |\n",
       "| 20         | 7.934988   |  5.5537892 | 10.316188  |\n",
       "| 20         | 7.934988   |  5.5537892 | 10.316188  |\n",
       "| 20         | 7.934988   |  5.5537892 | 10.316188  |\n",
       "| 20         | 7.934988   |  5.5537892 | 10.316188  |\n",
       "| 20         | 7.934988   |  5.5537892 | 10.316188  |\n",
       "| 22         | 8.728487   |  6.3399607 | 11.117014  |\n",
       "| 23         | 9.125237   |  6.7327940 | 11.517679  |\n",
       "| 24         | 9.521986   |  7.1254601 | 11.918512  |\n",
       "| 24         | 9.521986   |  7.1254601 | 11.918512  |\n",
       "| 24         | 9.521986   |  7.1254601 | 11.918512  |\n",
       "| 24         | 9.521986   |  7.1254601 | 11.918512  |\n",
       "| 25         | 9.918735   |  7.5179598 | 12.319511  |\n",
       "\n"
      ],
      "text/plain": [
       "      fit      lwr        upr      \n",
       "1   4 1.586998 -0.7604140  3.934409\n",
       "2   4 1.586998 -0.7604140  3.934409\n",
       "3   7 2.777246  0.4269116  5.127580\n",
       "4   7 2.777246  0.4269116  5.127580\n",
       "5   8 3.173995  0.8223337  5.525657\n",
       "6   9 3.570745  1.2175798  5.923910\n",
       "7  10 3.967494  1.6126501  6.322338\n",
       "8  10 3.967494  1.6126501  6.322338\n",
       "9  10 3.967494  1.6126501  6.322338\n",
       "10 11 4.364244  2.0075451  6.720942\n",
       "11 11 4.364244  2.0075451  6.720942\n",
       "12 12 4.760993  2.4022651  7.119721\n",
       "13 12 4.760993  2.4022651  7.119721\n",
       "14 12 4.760993  2.4022651  7.119721\n",
       "15 12 4.760993  2.4022651  7.119721\n",
       "16 13 5.157742  2.7968106  7.518674\n",
       "17 13 5.157742  2.7968106  7.518674\n",
       "18 13 5.157742  2.7968106  7.518674\n",
       "19 13 5.157742  2.7968106  7.518674\n",
       "20 14 5.554492  3.1911822  7.917802\n",
       "21 14 5.554492  3.1911822  7.917802\n",
       "22 14 5.554492  3.1911822  7.917802\n",
       "23 14 5.554492  3.1911822  7.917802\n",
       "24 15 5.951241  3.5853802  8.317102\n",
       "25 15 5.951241  3.5853802  8.317102\n",
       "26 15 5.951241  3.5853802  8.317102\n",
       "27 16 6.347991  3.9794053  8.716576\n",
       "28 16 6.347991  3.9794053  8.716576\n",
       "29 17 6.744740  4.3732582  9.116222\n",
       "30 17 6.744740  4.3732582  9.116222\n",
       "31 17 6.744740  4.3732582  9.116222\n",
       "32 18 7.141490  4.7669393  9.516040\n",
       "33 18 7.141490  4.7669393  9.516040\n",
       "34 18 7.141490  4.7669393  9.516040\n",
       "35 18 7.141490  4.7669393  9.516040\n",
       "36 19 7.538239  5.1604494  9.916029\n",
       "37 19 7.538239  5.1604494  9.916029\n",
       "38 19 7.538239  5.1604494  9.916029\n",
       "39 20 7.934988  5.5537892 10.316188\n",
       "40 20 7.934988  5.5537892 10.316188\n",
       "41 20 7.934988  5.5537892 10.316188\n",
       "42 20 7.934988  5.5537892 10.316188\n",
       "43 20 7.934988  5.5537892 10.316188\n",
       "44 22 8.728487  6.3399607 11.117014\n",
       "45 23 9.125237  6.7327940 11.517679\n",
       "46 24 9.521986  7.1254601 11.918512\n",
       "47 24 9.521986  7.1254601 11.918512\n",
       "48 24 9.521986  7.1254601 11.918512\n",
       "49 24 9.521986  7.1254601 11.918512\n",
       "50 25 9.918735  7.5179598 12.319511"
      ]
     },
     "metadata": {},
     "output_type": "display_data"
    }
   ],
   "source": [
    "out3$fitted.values\n",
    "\n",
    "cbind(data$speed, out3$fitted.values)\n",
    "new=data.frame(speed=data$speed)\n",
    "cbind(new$spee,predict(out3,new,interval = 'confidence'))\n",
    "cbind(new$spee,predict(out3,new,interval = 'prediction'))"
   ]
  },
  {
   "cell_type": "markdown",
   "metadata": {},
   "source": [
    "## 다중회귀분석"
   ]
  },
  {
   "cell_type": "code",
   "execution_count": 17,
   "metadata": {},
   "outputs": [
    {
     "data": {
      "text/html": [
       "<table>\n",
       "<thead><tr><th scope=col>experience</th><th scope=col>score</th><th scope=col>salary</th></tr></thead>\n",
       "<tbody>\n",
       "\t<tr><td> 4  </td><td> 78 </td><td>24.0</td></tr>\n",
       "\t<tr><td> 7  </td><td>100 </td><td>43.0</td></tr>\n",
       "\t<tr><td> 1  </td><td> 86 </td><td>23.7</td></tr>\n",
       "\t<tr><td> 5  </td><td> 82 </td><td>34.3</td></tr>\n",
       "\t<tr><td> 8  </td><td> 86 </td><td>35.8</td></tr>\n",
       "\t<tr><td>10  </td><td> 84 </td><td>38.0</td></tr>\n",
       "</tbody>\n",
       "</table>\n"
      ],
      "text/latex": [
       "\\begin{tabular}{r|lll}\n",
       " experience & score & salary\\\\\n",
       "\\hline\n",
       "\t  4   &  78  & 24.0\\\\\n",
       "\t  7   & 100  & 43.0\\\\\n",
       "\t  1   &  86  & 23.7\\\\\n",
       "\t  5   &  82  & 34.3\\\\\n",
       "\t  8   &  86  & 35.8\\\\\n",
       "\t 10   &  84  & 38.0\\\\\n",
       "\\end{tabular}\n"
      ],
      "text/markdown": [
       "\n",
       "| experience | score | salary |\n",
       "|---|---|---|\n",
       "|  4   |  78  | 24.0 |\n",
       "|  7   | 100  | 43.0 |\n",
       "|  1   |  86  | 23.7 |\n",
       "|  5   |  82  | 34.3 |\n",
       "|  8   |  86  | 35.8 |\n",
       "| 10   |  84  | 38.0 |\n",
       "\n"
      ],
      "text/plain": [
       "  experience score salary\n",
       "1  4          78   24.0  \n",
       "2  7         100   43.0  \n",
       "3  1          86   23.7  \n",
       "4  5          82   34.3  \n",
       "5  8          86   35.8  \n",
       "6 10          84   38.0  "
      ]
     },
     "metadata": {},
     "output_type": "display_data"
    },
    {
     "data": {
      "text/plain": [
       "\n",
       "Call:\n",
       "lm(formula = salary ~ experience + score, data = data)\n",
       "\n",
       "Residuals:\n",
       "    Min      1Q  Median      3Q     Max \n",
       "-4.3586 -1.4581 -0.0341  1.1862  4.9102 \n",
       "\n",
       "Coefficients:\n",
       "            Estimate Std. Error t value Pr(>|t|)    \n",
       "(Intercept)  3.17394    6.15607   0.516  0.61279    \n",
       "experience   1.40390    0.19857   7.070 1.88e-06 ***\n",
       "score        0.25089    0.07735   3.243  0.00478 ** \n",
       "---\n",
       "Signif. codes:  0 '***' 0.001 '**' 0.01 '*' 0.05 '.' 0.1 ' ' 1\n",
       "\n",
       "Residual standard error: 2.419 on 17 degrees of freedom\n",
       "Multiple R-squared:  0.8342,\tAdjusted R-squared:  0.8147 \n",
       "F-statistic: 42.76 on 2 and 17 DF,  p-value: 2.328e-07\n"
      ]
     },
     "metadata": {},
     "output_type": "display_data"
    },
    {
     "data": {
      "image/png": "[encoded data removed]",
      "text/plain": [
       "Plot with title \"\""
      ]
     },
     "metadata": {},
     "output_type": "display_data"
    },
    {
     "data": {
      "image/png": "[encoded data removed]",
      "text/plain": [
       "Plot with title \"\""
      ]
     },
     "metadata": {},
     "output_type": "display_data"
    },
    {
     "data": {
      "image/png": "[encoded data removed]",
      "text/plain": [
       "Plot with title \"\""
      ]
     },
     "metadata": {},
     "output_type": "display_data"
    },
    {
     "data": {
      "text/html": [
       "<table>\n",
       "<tbody>\n",
       "\t<tr><td> 4      </td><td> 78     </td><td>28.35861</td></tr>\n",
       "\t<tr><td> 7      </td><td>100     </td><td>38.08980</td></tr>\n",
       "\t<tr><td> 1      </td><td> 86     </td><td>26.15399</td></tr>\n",
       "\t<tr><td> 5      </td><td> 82     </td><td>30.76606</td></tr>\n",
       "\t<tr><td> 8      </td><td> 86     </td><td>35.98130</td></tr>\n",
       "\t<tr><td>10      </td><td> 84     </td><td>38.28734</td></tr>\n",
       "\t<tr><td> 0      </td><td> 75     </td><td>21.99034</td></tr>\n",
       "\t<tr><td> 1      </td><td> 80     </td><td>24.64867</td></tr>\n",
       "\t<tr><td> 6      </td><td> 83     </td><td>32.42084</td></tr>\n",
       "\t<tr><td> 6      </td><td> 91     </td><td>34.42793</td></tr>\n",
       "\t<tr><td> 9      </td><td> 88     </td><td>37.88698</td></tr>\n",
       "\t<tr><td> 2      </td><td> 73     </td><td>24.29638</td></tr>\n",
       "\t<tr><td>10      </td><td> 75     </td><td>36.02937</td></tr>\n",
       "\t<tr><td> 5      </td><td> 81     </td><td>30.51517</td></tr>\n",
       "\t<tr><td> 6      </td><td> 74     </td><td>30.16287</td></tr>\n",
       "\t<tr><td> 8      </td><td> 87     </td><td>36.23219</td></tr>\n",
       "\t<tr><td> 4      </td><td> 79     </td><td>28.60950</td></tr>\n",
       "\t<tr><td> 6      </td><td> 94     </td><td>35.18058</td></tr>\n",
       "\t<tr><td> 3      </td><td> 70     </td><td>24.94763</td></tr>\n",
       "\t<tr><td> 3      </td><td> 89     </td><td>29.71445</td></tr>\n",
       "</tbody>\n",
       "</table>\n"
      ],
      "text/latex": [
       "\\begin{tabular}{r|lll}\n",
       "\t  4       &  78      & 28.35861\\\\\n",
       "\t  7       & 100      & 38.08980\\\\\n",
       "\t  1       &  86      & 26.15399\\\\\n",
       "\t  5       &  82      & 30.76606\\\\\n",
       "\t  8       &  86      & 35.98130\\\\\n",
       "\t 10       &  84      & 38.28734\\\\\n",
       "\t  0       &  75      & 21.99034\\\\\n",
       "\t  1       &  80      & 24.64867\\\\\n",
       "\t  6       &  83      & 32.42084\\\\\n",
       "\t  6       &  91      & 34.42793\\\\\n",
       "\t  9       &  88      & 37.88698\\\\\n",
       "\t  2       &  73      & 24.29638\\\\\n",
       "\t 10       &  75      & 36.02937\\\\\n",
       "\t  5       &  81      & 30.51517\\\\\n",
       "\t  6       &  74      & 30.16287\\\\\n",
       "\t  8       &  87      & 36.23219\\\\\n",
       "\t  4       &  79      & 28.60950\\\\\n",
       "\t  6       &  94      & 35.18058\\\\\n",
       "\t  3       &  70      & 24.94763\\\\\n",
       "\t  3       &  89      & 29.71445\\\\\n",
       "\\end{tabular}\n"
      ],
      "text/markdown": [
       "\n",
       "|  4       |  78      | 28.35861 |\n",
       "|  7       | 100      | 38.08980 |\n",
       "|  1       |  86      | 26.15399 |\n",
       "|  5       |  82      | 30.76606 |\n",
       "|  8       |  86      | 35.98130 |\n",
       "| 10       |  84      | 38.28734 |\n",
       "|  0       |  75      | 21.99034 |\n",
       "|  1       |  80      | 24.64867 |\n",
       "|  6       |  83      | 32.42084 |\n",
       "|  6       |  91      | 34.42793 |\n",
       "|  9       |  88      | 37.88698 |\n",
       "|  2       |  73      | 24.29638 |\n",
       "| 10       |  75      | 36.02937 |\n",
       "|  5       |  81      | 30.51517 |\n",
       "|  6       |  74      | 30.16287 |\n",
       "|  8       |  87      | 36.23219 |\n",
       "|  4       |  79      | 28.60950 |\n",
       "|  6       |  94      | 35.18058 |\n",
       "|  3       |  70      | 24.94763 |\n",
       "|  3       |  89      | 29.71445 |\n",
       "\n"
      ],
      "text/plain": [
       "   [,1] [,2] [,3]    \n",
       "1   4    78  28.35861\n",
       "2   7   100  38.08980\n",
       "3   1    86  26.15399\n",
       "4   5    82  30.76606\n",
       "5   8    86  35.98130\n",
       "6  10    84  38.28734\n",
       "7   0    75  21.99034\n",
       "8   1    80  24.64867\n",
       "9   6    83  32.42084\n",
       "10  6    91  34.42793\n",
       "11  9    88  37.88698\n",
       "12  2    73  24.29638\n",
       "13 10    75  36.02937\n",
       "14  5    81  30.51517\n",
       "15  6    74  30.16287\n",
       "16  8    87  36.23219\n",
       "17  4    79  28.60950\n",
       "18  6    94  35.18058\n",
       "19  3    70  24.94763\n",
       "20  3    89  29.71445"
      ]
     },
     "metadata": {},
     "output_type": "display_data"
    },
    {
     "data": {
      "image/png": "[encoded data removed]",
      "text/plain": [
       "Plot with title \"\""
      ]
     },
     "metadata": {},
     "output_type": "display_data"
    }
   ],
   "source": [
    "data=read.csv('salary.csv')\n",
    "head(data)      \n",
    "out=lm(salary~experience+score,data=data)\n",
    "summary(out)\n",
    "plot(out)\n",
    "cbind(data$experience, data$score, out$fitted.values)"
   ]
  },
  {
   "cell_type": "code",
   "execution_count": 19,
   "metadata": {},
   "outputs": [
    {
     "data": {
      "text/plain": [
       "\n",
       "Call:\n",
       "lm(formula = rating ~ complaints + learning, data = attitude)\n",
       "\n",
       "Residuals:\n",
       "     Min       1Q   Median       3Q      Max \n",
       "-11.5568  -5.7331   0.6701   6.5341  10.3610 \n",
       "\n",
       "Coefficients:\n",
       "            Estimate Std. Error t value Pr(>|t|)    \n",
       "(Intercept)   9.8709     7.0612   1.398    0.174    \n",
       "complaints    0.6435     0.1185   5.432 9.57e-06 ***\n",
       "learning      0.2112     0.1344   1.571    0.128    \n",
       "---\n",
       "Signif. codes:  0 '***' 0.001 '**' 0.01 '*' 0.05 '.' 0.1 ' ' 1\n",
       "\n",
       "Residual standard error: 6.817 on 27 degrees of freedom\n",
       "Multiple R-squared:  0.708,\tAdjusted R-squared:  0.6864 \n",
       "F-statistic: 32.74 on 2 and 27 DF,  p-value: 6.058e-08\n"
      ]
     },
     "metadata": {},
     "output_type": "display_data"
    },
    {
     "data": {
      "text/plain": [
       "\n",
       "Call:\n",
       "lm(formula = rating ~ learning, data = attitude)\n",
       "\n",
       "Residuals:\n",
       "     Min       1Q   Median       3Q      Max \n",
       "-25.6898  -5.8664   0.2229   7.0017  15.6634 \n",
       "\n",
       "Coefficients:\n",
       "            Estimate Std. Error t value Pr(>|t|)    \n",
       "(Intercept)  28.1741     8.8148   3.196 0.003438 ** \n",
       "learning      0.6468     0.1532   4.222 0.000231 ***\n",
       "---\n",
       "Signif. codes:  0 '***' 0.001 '**' 0.01 '*' 0.05 '.' 0.1 ' ' 1\n",
       "\n",
       "Residual standard error: 9.683 on 28 degrees of freedom\n",
       "Multiple R-squared:  0.389,\tAdjusted R-squared:  0.3672 \n",
       "F-statistic: 17.82 on 1 and 28 DF,  p-value: 0.0002311\n"
      ]
     },
     "metadata": {},
     "output_type": "display_data"
    }
   ],
   "source": [
    "summary(lm(rating~complaints+learning,data=attitude))\n",
    "summary(lm(rating~learning,data=attitude))"
   ]
  },
  {
   "cell_type": "code",
   "execution_count": 22,
   "metadata": {},
   "outputs": [
    {
     "data": {
      "text/plain": [
       "\n",
       "Call:\n",
       "lm(formula = rating ~ . - critical, data = attitude)\n",
       "\n",
       "Residuals:\n",
       "     Min       1Q   Median       3Q      Max \n",
       "-11.8088  -4.8353   0.4199   5.5775  11.5276 \n",
       "\n",
       "Coefficients:\n",
       "            Estimate Std. Error t value Pr(>|t|)    \n",
       "(Intercept) 12.79791    8.49061   1.507 0.144785    \n",
       "complaints   0.61315    0.15783   3.885 0.000704 ***\n",
       "privileges  -0.07224    0.13303  -0.543 0.592122    \n",
       "learning     0.31172    0.16202   1.924 0.066300 .  \n",
       "raises       0.09795    0.20842   0.470 0.642621    \n",
       "advance     -0.21111    0.17328  -1.218 0.234956    \n",
       "---\n",
       "Signif. codes:  0 '***' 0.001 '**' 0.01 '*' 0.05 '.' 0.1 ' ' 1\n",
       "\n",
       "Residual standard error: 6.929 on 24 degrees of freedom\n",
       "Multiple R-squared:  0.7318,\tAdjusted R-squared:  0.6759 \n",
       "F-statistic:  13.1 on 5 and 24 DF,  p-value: 3.278e-06\n"
      ]
     },
     "metadata": {},
     "output_type": "display_data"
    }
   ],
   "source": [
    "out=lm(rating~.-critical,data=attitude)\n",
    "summary(out)"
   ]
  },
  {
   "cell_type": "code",
   "execution_count": 24,
   "metadata": {},
   "outputs": [
    {
     "data": {
      "text/plain": [
       "\n",
       "Call:\n",
       "lm(formula = rating ~ complaints + learning, data = attitude)\n",
       "\n",
       "Residuals:\n",
       "     Min       1Q   Median       3Q      Max \n",
       "-11.5568  -5.7331   0.6701   6.5341  10.3610 \n",
       "\n",
       "Coefficients:\n",
       "            Estimate Std. Error t value Pr(>|t|)    \n",
       "(Intercept)   9.8709     7.0612   1.398    0.174    \n",
       "complaints    0.6435     0.1185   5.432 9.57e-06 ***\n",
       "learning      0.2112     0.1344   1.571    0.128    \n",
       "---\n",
       "Signif. codes:  0 '***' 0.001 '**' 0.01 '*' 0.05 '.' 0.1 ' ' 1\n",
       "\n",
       "Residual standard error: 6.817 on 27 degrees of freedom\n",
       "Multiple R-squared:  0.708,\tAdjusted R-squared:  0.6864 \n",
       "F-statistic: 32.74 on 2 and 27 DF,  p-value: 6.058e-08\n"
      ]
     },
     "metadata": {},
     "output_type": "display_data"
    }
   ],
   "source": [
    "backward=step(out,direction='backward',trace=FALSE)\n",
    "summary(backward)"
   ]
  },
  {
   "cell_type": "code",
   "execution_count": 25,
   "metadata": {},
   "outputs": [
    {
     "data": {
      "text/plain": [
       "\n",
       "Call:\n",
       "lm(formula = rating ~ complaints + learning, data = attitude)\n",
       "\n",
       "Residuals:\n",
       "     Min       1Q   Median       3Q      Max \n",
       "-11.5568  -5.7331   0.6701   6.5341  10.3610 \n",
       "\n",
       "Coefficients:\n",
       "            Estimate Std. Error t value Pr(>|t|)    \n",
       "(Intercept)   9.8709     7.0612   1.398    0.174    \n",
       "complaints    0.6435     0.1185   5.432 9.57e-06 ***\n",
       "learning      0.2112     0.1344   1.571    0.128    \n",
       "---\n",
       "Signif. codes:  0 '***' 0.001 '**' 0.01 '*' 0.05 '.' 0.1 ' ' 1\n",
       "\n",
       "Residual standard error: 6.817 on 27 degrees of freedom\n",
       "Multiple R-squared:  0.708,\tAdjusted R-squared:  0.6864 \n",
       "F-statistic: 32.74 on 2 and 27 DF,  p-value: 6.058e-08\n"
      ]
     },
     "metadata": {},
     "output_type": "display_data"
    }
   ],
   "source": [
    "both=step(out,direction='both', trace=FALSE)\n",
    "summary(both)"
   ]
  },
  {
   "cell_type": "markdown",
   "metadata": {},
   "source": [
    "## ALL subset method"
   ]
  },
  {
   "cell_type": "code",
   "execution_count": 29,
   "metadata": {},
   "outputs": [
    {
     "name": "stdout",
     "output_type": "stream",
     "text": [
      "package 'leaps' successfully unpacked and MD5 sums checked\n",
      "\n",
      "The downloaded binary packages are in\n",
      "\tC:\\Users\\16\\AppData\\Local\\Temp\\RtmpGE0KeS\\downloaded_packages\n"
     ]
    }
   ],
   "source": [
    "install.packages('leaps')"
   ]
  },
  {
   "cell_type": "code",
   "execution_count": 30,
   "metadata": {},
   "outputs": [
    {
     "name": "stderr",
     "output_type": "stream",
     "text": [
      "Warning message:\n",
      "\"package 'leaps' was built under R version 3.6.3\""
     ]
    }
   ],
   "source": [
    "library(leaps)"
   ]
  },
  {
   "cell_type": "code",
   "execution_count": 33,
   "metadata": {
    "scrolled": false
   },
   "outputs": [
    {
     "data": {
      "text/plain": [
       "Subset selection object\n",
       "Call: regsubsets.formula(rating ~ ., data = attitude, nbest = 5)\n",
       "6 Variables  (and intercept)\n",
       "           Forced in Forced out\n",
       "complaints     FALSE      FALSE\n",
       "privileges     FALSE      FALSE\n",
       "learning       FALSE      FALSE\n",
       "raises         FALSE      FALSE\n",
       "critical       FALSE      FALSE\n",
       "advance        FALSE      FALSE\n",
       "5 subsets of each size up to 6\n",
       "Selection Algorithm: exhaustive\n",
       "         complaints privileges learning raises critical advance\n",
       "1  ( 1 ) \"*\"        \" \"        \" \"      \" \"    \" \"      \" \"    \n",
       "1  ( 2 ) \" \"        \" \"        \"*\"      \" \"    \" \"      \" \"    \n",
       "1  ( 3 ) \" \"        \" \"        \" \"      \"*\"    \" \"      \" \"    \n",
       "1  ( 4 ) \" \"        \"*\"        \" \"      \" \"    \" \"      \" \"    \n",
       "1  ( 5 ) \" \"        \" \"        \" \"      \" \"    \"*\"      \" \"    \n",
       "2  ( 1 ) \"*\"        \" \"        \"*\"      \" \"    \" \"      \" \"    \n",
       "2  ( 2 ) \"*\"        \" \"        \" \"      \"*\"    \" \"      \" \"    \n",
       "2  ( 3 ) \"*\"        \"*\"        \" \"      \" \"    \" \"      \" \"    \n",
       "2  ( 4 ) \"*\"        \" \"        \" \"      \" \"    \" \"      \"*\"    \n",
       "2  ( 5 ) \"*\"        \" \"        \" \"      \" \"    \"*\"      \" \"    \n",
       "3  ( 1 ) \"*\"        \" \"        \"*\"      \" \"    \" \"      \"*\"    \n",
       "3  ( 2 ) \"*\"        \"*\"        \"*\"      \" \"    \" \"      \" \"    \n",
       "3  ( 3 ) \"*\"        \" \"        \"*\"      \"*\"    \" \"      \" \"    \n",
       "3  ( 4 ) \"*\"        \" \"        \"*\"      \" \"    \"*\"      \" \"    \n",
       "3  ( 5 ) \"*\"        \" \"        \" \"      \"*\"    \" \"      \"*\"    \n",
       "4  ( 1 ) \"*\"        \"*\"        \"*\"      \" \"    \" \"      \"*\"    \n",
       "4  ( 2 ) \"*\"        \" \"        \"*\"      \"*\"    \" \"      \"*\"    \n",
       "4  ( 3 ) \"*\"        \" \"        \"*\"      \" \"    \"*\"      \"*\"    \n",
       "4  ( 4 ) \"*\"        \"*\"        \"*\"      \"*\"    \" \"      \" \"    \n",
       "4  ( 5 ) \"*\"        \"*\"        \"*\"      \" \"    \"*\"      \" \"    \n",
       "5  ( 1 ) \"*\"        \"*\"        \"*\"      \"*\"    \" \"      \"*\"    \n",
       "5  ( 2 ) \"*\"        \"*\"        \"*\"      \" \"    \"*\"      \"*\"    \n",
       "5  ( 3 ) \"*\"        \" \"        \"*\"      \"*\"    \"*\"      \"*\"    \n",
       "5  ( 4 ) \"*\"        \"*\"        \"*\"      \"*\"    \"*\"      \" \"    \n",
       "5  ( 5 ) \"*\"        \"*\"        \" \"      \"*\"    \"*\"      \"*\"    \n",
       "6  ( 1 ) \"*\"        \"*\"        \"*\"      \"*\"    \"*\"      \"*\"    "
      ]
     },
     "metadata": {},
     "output_type": "display_data"
    }
   ],
   "source": [
    "leaps=regsubsets(rating~.,data=attitude,nbest=5)\n",
    "summary(leaps)"
   ]
  },
  {
   "cell_type": "code",
   "execution_count": 48,
   "metadata": {},
   "outputs": [
    {
     "data": {
      "image/png": "[encoded data removed]",
      "text/plain": [
       "plot without title"
      ]
     },
     "metadata": {},
     "output_type": "display_data"
    },
    {
     "data": {
      "image/png": "[encoded data removed]",
      "text/plain": [
       "plot without title"
      ]
     },
     "metadata": {},
     "output_type": "display_data"
    },
    {
     "data": {
      "image/png": "[encoded data removed]",
      "text/plain": [
       "plot without title"
      ]
     },
     "metadata": {},
     "output_type": "display_data"
    }
   ],
   "source": [
    "plot(leaps)\n",
    "plot(leaps,scale='adjr2')\n",
    "plot(leaps,scale='Cp')"
   ]
  },
  {
   "cell_type": "code",
   "execution_count": 51,
   "metadata": {},
   "outputs": [
    {
     "data": {
      "text/html": [
       "11"
      ],
      "text/latex": [
       "11"
      ],
      "text/markdown": [
       "11"
      ],
      "text/plain": [
       "[1] 11"
      ]
     },
     "metadata": {},
     "output_type": "display_data"
    },
    {
     "data": {
      "text/html": [
       "TRUE"
      ],
      "text/latex": [
       "TRUE"
      ],
      "text/markdown": [
       "TRUE"
      ],
      "text/plain": [
       "[1] TRUE"
      ]
     },
     "metadata": {},
     "output_type": "display_data"
    }
   ],
   "source": [
    "summary.out=summary(leaps)\n",
    "which.max(summary.out$adjr2)\n",
    "summary.out$which[11,1]"
   ]
  },
  {
   "cell_type": "code",
   "execution_count": 54,
   "metadata": {
    "scrolled": true
   },
   "outputs": [
    {
     "data": {
      "text/plain": [
       "\n",
       "Call:\n",
       "lm(formula = rating ~ complaints + learning + advance, data = attitude)\n",
       "\n",
       "Residuals:\n",
       "    Min      1Q  Median      3Q     Max \n",
       "-12.217  -5.377   0.967   6.078  11.540 \n",
       "\n",
       "Coefficients:\n",
       "            Estimate Std. Error t value Pr(>|t|)    \n",
       "(Intercept)  13.5777     7.5439   1.800   0.0835 .  \n",
       "complaints    0.6227     0.1181   5.271 1.65e-05 ***\n",
       "learning      0.3124     0.1542   2.026   0.0532 .  \n",
       "advance      -0.1870     0.1449  -1.291   0.2082    \n",
       "---\n",
       "Signif. codes:  0 '***' 0.001 '**' 0.01 '*' 0.05 '.' 0.1 ' ' 1\n",
       "\n",
       "Residual standard error: 6.734 on 26 degrees of freedom\n",
       "Multiple R-squared:  0.7256,\tAdjusted R-squared:  0.6939 \n",
       "F-statistic: 22.92 on 3 and 26 DF,  p-value: 1.807e-07\n"
      ]
     },
     "metadata": {},
     "output_type": "display_data"
    }
   ],
   "source": [
    "out3=lm(rating~complaints+learning+advance,data=attitude)\n",
    "summary(out3)"
   ]
  },
  {
   "cell_type": "code",
   "execution_count": null,
   "metadata": {},
   "outputs": [],
   "source": []
  }
 ],
 "metadata": {
  "kernelspec": {
   "display_name": "R",
   "language": "R",
   "name": "ir"
  },
  "language_info": {
   "codemirror_mode": "r",
   "file_extension": ".r",
   "mimetype": "text/x-r-source",
   "name": "R",
   "pygments_lexer": "r",
   "version": "3.6.1"
  }
 },
 "nbformat": 4,
 "nbformat_minor": 4
}
