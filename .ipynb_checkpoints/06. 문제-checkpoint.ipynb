{
 "cells": [
  {
   "cell_type": "code",
   "execution_count": 25,
   "metadata": {
    "scrolled": true
   },
   "outputs": [
    {
     "name": "stderr",
     "output_type": "stream",
     "text": [
      "\n",
      "Attaching package: 'dplyr'\n",
      "\n",
      "The following objects are masked from 'package:stats':\n",
      "\n",
      "    filter, lag\n",
      "\n",
      "The following objects are masked from 'package:base':\n",
      "\n",
      "    intersect, setdiff, setequal, union\n",
      "\n"
     ]
    }
   ],
   "source": [
    "library(dplyr)\n",
    "library (readxl)"
   ]
  },
  {
   "cell_type": "markdown",
   "metadata": {},
   "source": [
    "# 6.3"
   ]
  },
  {
   "cell_type": "code",
   "execution_count": 26,
   "metadata": {},
   "outputs": [],
   "source": [
    "mpg = as.data.frame(ggplot2::mpg)"
   ]
  },
  {
   "cell_type": "code",
   "execution_count": 34,
   "metadata": {},
   "outputs": [
    {
     "data": {
      "text/html": [
       "<table>\n",
       "<thead><tr><th scope=col>manufacturer</th><th scope=col>model</th><th scope=col>displ</th><th scope=col>year</th><th scope=col>cyl</th><th scope=col>trans</th><th scope=col>drv</th><th scope=col>cty</th><th scope=col>hwy</th><th scope=col>fl</th><th scope=col>class</th></tr></thead>\n",
       "<tbody>\n",
       "\t<tr><td>audi      </td><td>a4        </td><td>1.8       </td><td>1999      </td><td>4         </td><td>auto(l5)  </td><td>f         </td><td>18        </td><td>29        </td><td>p         </td><td>compact   </td></tr>\n",
       "\t<tr><td>audi      </td><td>a4        </td><td>1.8       </td><td>1999      </td><td>4         </td><td>manual(m5)</td><td>f         </td><td>21        </td><td>29        </td><td>p         </td><td>compact   </td></tr>\n",
       "\t<tr><td>audi      </td><td>a4        </td><td>2.0       </td><td>2008      </td><td>4         </td><td>manual(m6)</td><td>f         </td><td>20        </td><td>31        </td><td>p         </td><td>compact   </td></tr>\n",
       "\t<tr><td>audi      </td><td>a4        </td><td>2.0       </td><td>2008      </td><td>4         </td><td>auto(av)  </td><td>f         </td><td>21        </td><td>30        </td><td>p         </td><td>compact   </td></tr>\n",
       "\t<tr><td>audi      </td><td>a4        </td><td>2.8       </td><td>1999      </td><td>6         </td><td>auto(l5)  </td><td>f         </td><td>16        </td><td>26        </td><td>p         </td><td>compact   </td></tr>\n",
       "\t<tr><td>audi      </td><td>a4        </td><td>2.8       </td><td>1999      </td><td>6         </td><td>manual(m5)</td><td>f         </td><td>18        </td><td>26        </td><td>p         </td><td>compact   </td></tr>\n",
       "</tbody>\n",
       "</table>\n"
      ],
      "text/latex": [
       "\\begin{tabular}{r|lllllllllll}\n",
       " manufacturer & model & displ & year & cyl & trans & drv & cty & hwy & fl & class\\\\\n",
       "\\hline\n",
       "\t audi       & a4         & 1.8        & 1999       & 4          & auto(l5)   & f          & 18         & 29         & p          & compact   \\\\\n",
       "\t audi       & a4         & 1.8        & 1999       & 4          & manual(m5) & f          & 21         & 29         & p          & compact   \\\\\n",
       "\t audi       & a4         & 2.0        & 2008       & 4          & manual(m6) & f          & 20         & 31         & p          & compact   \\\\\n",
       "\t audi       & a4         & 2.0        & 2008       & 4          & auto(av)   & f          & 21         & 30         & p          & compact   \\\\\n",
       "\t audi       & a4         & 2.8        & 1999       & 6          & auto(l5)   & f          & 16         & 26         & p          & compact   \\\\\n",
       "\t audi       & a4         & 2.8        & 1999       & 6          & manual(m5) & f          & 18         & 26         & p          & compact   \\\\\n",
       "\\end{tabular}\n"
      ],
      "text/markdown": [
       "\n",
       "| manufacturer | model | displ | year | cyl | trans | drv | cty | hwy | fl | class |\n",
       "|---|---|---|---|---|---|---|---|---|---|---|\n",
       "| audi       | a4         | 1.8        | 1999       | 4          | auto(l5)   | f          | 18         | 29         | p          | compact    |\n",
       "| audi       | a4         | 1.8        | 1999       | 4          | manual(m5) | f          | 21         | 29         | p          | compact    |\n",
       "| audi       | a4         | 2.0        | 2008       | 4          | manual(m6) | f          | 20         | 31         | p          | compact    |\n",
       "| audi       | a4         | 2.0        | 2008       | 4          | auto(av)   | f          | 21         | 30         | p          | compact    |\n",
       "| audi       | a4         | 2.8        | 1999       | 6          | auto(l5)   | f          | 16         | 26         | p          | compact    |\n",
       "| audi       | a4         | 2.8        | 1999       | 6          | manual(m5) | f          | 18         | 26         | p          | compact    |\n",
       "\n"
      ],
      "text/plain": [
       "  manufacturer model displ year cyl trans      drv cty hwy fl class  \n",
       "1 audi         a4    1.8   1999 4   auto(l5)   f   18  29  p  compact\n",
       "2 audi         a4    1.8   1999 4   manual(m5) f   21  29  p  compact\n",
       "3 audi         a4    2.0   2008 4   manual(m6) f   20  31  p  compact\n",
       "4 audi         a4    2.0   2008 4   auto(av)   f   21  30  p  compact\n",
       "5 audi         a4    2.8   1999 6   auto(l5)   f   16  26  p  compact\n",
       "6 audi         a4    2.8   1999 6   manual(m5) f   18  26  p  compact"
      ]
     },
     "metadata": {},
     "output_type": "display_data"
    }
   ],
   "source": [
    "head(mpg)"
   ]
  },
  {
   "cell_type": "code",
   "execution_count": 29,
   "metadata": {},
   "outputs": [
    {
     "data": {
      "text/html": [
       "<table>\n",
       "<thead><tr><th scope=col>class</th><th scope=col>cty</th></tr></thead>\n",
       "<tbody>\n",
       "\t<tr><td>compact</td><td>18     </td></tr>\n",
       "\t<tr><td>compact</td><td>21     </td></tr>\n",
       "\t<tr><td>compact</td><td>20     </td></tr>\n",
       "\t<tr><td>compact</td><td>21     </td></tr>\n",
       "\t<tr><td>compact</td><td>16     </td></tr>\n",
       "\t<tr><td>compact</td><td>18     </td></tr>\n",
       "</tbody>\n",
       "</table>\n"
      ],
      "text/latex": [
       "\\begin{tabular}{r|ll}\n",
       " class & cty\\\\\n",
       "\\hline\n",
       "\t compact & 18     \\\\\n",
       "\t compact & 21     \\\\\n",
       "\t compact & 20     \\\\\n",
       "\t compact & 21     \\\\\n",
       "\t compact & 16     \\\\\n",
       "\t compact & 18     \\\\\n",
       "\\end{tabular}\n"
      ],
      "text/markdown": [
       "\n",
       "| class | cty |\n",
       "|---|---|\n",
       "| compact | 18      |\n",
       "| compact | 21      |\n",
       "| compact | 20      |\n",
       "| compact | 21      |\n",
       "| compact | 16      |\n",
       "| compact | 18      |\n",
       "\n"
      ],
      "text/plain": [
       "  class   cty\n",
       "1 compact 18 \n",
       "2 compact 21 \n",
       "3 compact 20 \n",
       "4 compact 21 \n",
       "5 compact 16 \n",
       "6 compact 18 "
      ]
     },
     "metadata": {},
     "output_type": "display_data"
    }
   ],
   "source": [
    "df = mpg %>% select (class, cty)\n",
    "head(df)"
   ]
  },
  {
   "cell_type": "code",
   "execution_count": 36,
   "metadata": {},
   "outputs": [],
   "source": [
    "df_suv = mpg %>% filter(class == 'suv')\n",
    "df_compat = mpg  %>% filter(class == 'compact')"
   ]
  },
  {
   "cell_type": "code",
   "execution_count": 37,
   "metadata": {},
   "outputs": [
    {
     "data": {
      "text/html": [
       "13.5"
      ],
      "text/latex": [
       "13.5"
      ],
      "text/markdown": [
       "13.5"
      ],
      "text/plain": [
       "[1] 13.5"
      ]
     },
     "metadata": {},
     "output_type": "display_data"
    }
   ],
   "source": [
    "mean(df_suv$cty)"
   ]
  },
  {
   "cell_type": "code",
   "execution_count": 38,
   "metadata": {},
   "outputs": [
    {
     "data": {
      "text/html": [
       "20.1276595744681"
      ],
      "text/latex": [
       "20.1276595744681"
      ],
      "text/markdown": [
       "20.1276595744681"
      ],
      "text/plain": [
       "[1] 20.12766"
      ]
     },
     "metadata": {},
     "output_type": "display_data"
    }
   ],
   "source": [
    "mean(df_compat$cty)"
   ]
  },
  {
   "cell_type": "markdown",
   "metadata": {},
   "source": [
    "# 6-4"
   ]
  },
  {
   "cell_type": "code",
   "execution_count": 39,
   "metadata": {},
   "outputs": [],
   "source": [
    "mpg = as.data.frame(ggplot2::mpg)"
   ]
  },
  {
   "cell_type": "code",
   "execution_count": 40,
   "metadata": {},
   "outputs": [
    {
     "data": {
      "text/html": [
       "<table>\n",
       "<thead><tr><th scope=col>manufacturer</th><th scope=col>model</th><th scope=col>displ</th><th scope=col>year</th><th scope=col>cyl</th><th scope=col>trans</th><th scope=col>drv</th><th scope=col>cty</th><th scope=col>hwy</th><th scope=col>fl</th><th scope=col>class</th></tr></thead>\n",
       "<tbody>\n",
       "\t<tr><td>audi      </td><td>a4        </td><td>1.8       </td><td>1999      </td><td>4         </td><td>auto(l5)  </td><td>f         </td><td>18        </td><td>29        </td><td>p         </td><td>compact   </td></tr>\n",
       "\t<tr><td>audi      </td><td>a4        </td><td>1.8       </td><td>1999      </td><td>4         </td><td>manual(m5)</td><td>f         </td><td>21        </td><td>29        </td><td>p         </td><td>compact   </td></tr>\n",
       "\t<tr><td>audi      </td><td>a4        </td><td>2.0       </td><td>2008      </td><td>4         </td><td>manual(m6)</td><td>f         </td><td>20        </td><td>31        </td><td>p         </td><td>compact   </td></tr>\n",
       "\t<tr><td>audi      </td><td>a4        </td><td>2.0       </td><td>2008      </td><td>4         </td><td>auto(av)  </td><td>f         </td><td>21        </td><td>30        </td><td>p         </td><td>compact   </td></tr>\n",
       "\t<tr><td>audi      </td><td>a4        </td><td>2.8       </td><td>1999      </td><td>6         </td><td>auto(l5)  </td><td>f         </td><td>16        </td><td>26        </td><td>p         </td><td>compact   </td></tr>\n",
       "\t<tr><td>audi      </td><td>a4        </td><td>2.8       </td><td>1999      </td><td>6         </td><td>manual(m5)</td><td>f         </td><td>18        </td><td>26        </td><td>p         </td><td>compact   </td></tr>\n",
       "</tbody>\n",
       "</table>\n"
      ],
      "text/latex": [
       "\\begin{tabular}{r|lllllllllll}\n",
       " manufacturer & model & displ & year & cyl & trans & drv & cty & hwy & fl & class\\\\\n",
       "\\hline\n",
       "\t audi       & a4         & 1.8        & 1999       & 4          & auto(l5)   & f          & 18         & 29         & p          & compact   \\\\\n",
       "\t audi       & a4         & 1.8        & 1999       & 4          & manual(m5) & f          & 21         & 29         & p          & compact   \\\\\n",
       "\t audi       & a4         & 2.0        & 2008       & 4          & manual(m6) & f          & 20         & 31         & p          & compact   \\\\\n",
       "\t audi       & a4         & 2.0        & 2008       & 4          & auto(av)   & f          & 21         & 30         & p          & compact   \\\\\n",
       "\t audi       & a4         & 2.8        & 1999       & 6          & auto(l5)   & f          & 16         & 26         & p          & compact   \\\\\n",
       "\t audi       & a4         & 2.8        & 1999       & 6          & manual(m5) & f          & 18         & 26         & p          & compact   \\\\\n",
       "\\end{tabular}\n"
      ],
      "text/markdown": [
       "\n",
       "| manufacturer | model | displ | year | cyl | trans | drv | cty | hwy | fl | class |\n",
       "|---|---|---|---|---|---|---|---|---|---|---|\n",
       "| audi       | a4         | 1.8        | 1999       | 4          | auto(l5)   | f          | 18         | 29         | p          | compact    |\n",
       "| audi       | a4         | 1.8        | 1999       | 4          | manual(m5) | f          | 21         | 29         | p          | compact    |\n",
       "| audi       | a4         | 2.0        | 2008       | 4          | manual(m6) | f          | 20         | 31         | p          | compact    |\n",
       "| audi       | a4         | 2.0        | 2008       | 4          | auto(av)   | f          | 21         | 30         | p          | compact    |\n",
       "| audi       | a4         | 2.8        | 1999       | 6          | auto(l5)   | f          | 16         | 26         | p          | compact    |\n",
       "| audi       | a4         | 2.8        | 1999       | 6          | manual(m5) | f          | 18         | 26         | p          | compact    |\n",
       "\n"
      ],
      "text/plain": [
       "  manufacturer model displ year cyl trans      drv cty hwy fl class  \n",
       "1 audi         a4    1.8   1999 4   auto(l5)   f   18  29  p  compact\n",
       "2 audi         a4    1.8   1999 4   manual(m5) f   21  29  p  compact\n",
       "3 audi         a4    2.0   2008 4   manual(m6) f   20  31  p  compact\n",
       "4 audi         a4    2.0   2008 4   auto(av)   f   21  30  p  compact\n",
       "5 audi         a4    2.8   1999 6   auto(l5)   f   16  26  p  compact\n",
       "6 audi         a4    2.8   1999 6   manual(m5) f   18  26  p  compact"
      ]
     },
     "metadata": {},
     "output_type": "display_data"
    }
   ],
   "source": [
    "head(mpg)"
   ]
  },
  {
   "cell_type": "code",
   "execution_count": 47,
   "metadata": {},
   "outputs": [
    {
     "data": {
      "text/html": [
       "<table>\n",
       "<thead><tr><th scope=col>manufacturer</th><th scope=col>model</th><th scope=col>displ</th><th scope=col>year</th><th scope=col>cyl</th><th scope=col>trans</th><th scope=col>drv</th><th scope=col>cty</th><th scope=col>hwy</th><th scope=col>fl</th><th scope=col>class</th></tr></thead>\n",
       "<tbody>\n",
       "\t<tr><td>audi      </td><td>a4        </td><td>2.0       </td><td>2008      </td><td>4         </td><td>manual(m6)</td><td>f         </td><td>20        </td><td>31        </td><td>p         </td><td>compact   </td></tr>\n",
       "\t<tr><td>audi      </td><td>a4        </td><td>2.0       </td><td>2008      </td><td>4         </td><td>auto(av)  </td><td>f         </td><td>21        </td><td>30        </td><td>p         </td><td>compact   </td></tr>\n",
       "\t<tr><td>audi      </td><td>a4        </td><td>1.8       </td><td>1999      </td><td>4         </td><td>auto(l5)  </td><td>f         </td><td>18        </td><td>29        </td><td>p         </td><td>compact   </td></tr>\n",
       "\t<tr><td>audi      </td><td>a4        </td><td>1.8       </td><td>1999      </td><td>4         </td><td>manual(m5)</td><td>f         </td><td>21        </td><td>29        </td><td>p         </td><td>compact   </td></tr>\n",
       "\t<tr><td>audi      </td><td>a4 quattro</td><td>2.0       </td><td>2008      </td><td>4         </td><td>manual(m6)</td><td>4         </td><td>20        </td><td>28        </td><td>p         </td><td>compact   </td></tr>\n",
       "</tbody>\n",
       "</table>\n"
      ],
      "text/latex": [
       "\\begin{tabular}{r|lllllllllll}\n",
       " manufacturer & model & displ & year & cyl & trans & drv & cty & hwy & fl & class\\\\\n",
       "\\hline\n",
       "\t audi       & a4         & 2.0        & 2008       & 4          & manual(m6) & f          & 20         & 31         & p          & compact   \\\\\n",
       "\t audi       & a4         & 2.0        & 2008       & 4          & auto(av)   & f          & 21         & 30         & p          & compact   \\\\\n",
       "\t audi       & a4         & 1.8        & 1999       & 4          & auto(l5)   & f          & 18         & 29         & p          & compact   \\\\\n",
       "\t audi       & a4         & 1.8        & 1999       & 4          & manual(m5) & f          & 21         & 29         & p          & compact   \\\\\n",
       "\t audi       & a4 quattro & 2.0        & 2008       & 4          & manual(m6) & 4          & 20         & 28         & p          & compact   \\\\\n",
       "\\end{tabular}\n"
      ],
      "text/markdown": [
       "\n",
       "| manufacturer | model | displ | year | cyl | trans | drv | cty | hwy | fl | class |\n",
       "|---|---|---|---|---|---|---|---|---|---|---|\n",
       "| audi       | a4         | 2.0        | 2008       | 4          | manual(m6) | f          | 20         | 31         | p          | compact    |\n",
       "| audi       | a4         | 2.0        | 2008       | 4          | auto(av)   | f          | 21         | 30         | p          | compact    |\n",
       "| audi       | a4         | 1.8        | 1999       | 4          | auto(l5)   | f          | 18         | 29         | p          | compact    |\n",
       "| audi       | a4         | 1.8        | 1999       | 4          | manual(m5) | f          | 21         | 29         | p          | compact    |\n",
       "| audi       | a4 quattro | 2.0        | 2008       | 4          | manual(m6) | 4          | 20         | 28         | p          | compact    |\n",
       "\n"
      ],
      "text/plain": [
       "  manufacturer model      displ year cyl trans      drv cty hwy fl class  \n",
       "1 audi         a4         2.0   2008 4   manual(m6) f   20  31  p  compact\n",
       "2 audi         a4         2.0   2008 4   auto(av)   f   21  30  p  compact\n",
       "3 audi         a4         1.8   1999 4   auto(l5)   f   18  29  p  compact\n",
       "4 audi         a4         1.8   1999 4   manual(m5) f   21  29  p  compact\n",
       "5 audi         a4 quattro 2.0   2008 4   manual(m6) 4   20  28  p  compact"
      ]
     },
     "metadata": {},
     "output_type": "display_data"
    }
   ],
   "source": [
    "mpg %>% filter(manufacturer == 'audi') %>% \n",
    "    arrange(desc(hwy)) %>% \n",
    "    head(5)"
   ]
  },
  {
   "cell_type": "markdown",
   "metadata": {},
   "source": [
    "# 6-5"
   ]
  },
  {
   "cell_type": "code",
   "execution_count": 48,
   "metadata": {},
   "outputs": [],
   "source": [
    "mpg = as.data.frame(ggplot2::mpg)"
   ]
  },
  {
   "cell_type": "code",
   "execution_count": 50,
   "metadata": {},
   "outputs": [],
   "source": [
    "mpg_new = mpg"
   ]
  },
  {
   "cell_type": "code",
   "execution_count": 54,
   "metadata": {},
   "outputs": [
    {
     "data": {
      "text/html": [
       "<table>\n",
       "<thead><tr><th scope=col>manufacturer</th><th scope=col>model</th><th scope=col>displ</th><th scope=col>year</th><th scope=col>cyl</th><th scope=col>trans</th><th scope=col>drv</th><th scope=col>cty</th><th scope=col>hwy</th><th scope=col>fl</th><th scope=col>class</th><th scope=col>total</th></tr></thead>\n",
       "<tbody>\n",
       "\t<tr><td>audi      </td><td>a4        </td><td>1.8       </td><td>1999      </td><td>4         </td><td>auto(l5)  </td><td>f         </td><td>18        </td><td>29        </td><td>p         </td><td>compact   </td><td>47        </td></tr>\n",
       "\t<tr><td>audi      </td><td>a4        </td><td>1.8       </td><td>1999      </td><td>4         </td><td>manual(m5)</td><td>f         </td><td>21        </td><td>29        </td><td>p         </td><td>compact   </td><td>50        </td></tr>\n",
       "\t<tr><td>audi      </td><td>a4        </td><td>2.0       </td><td>2008      </td><td>4         </td><td>manual(m6)</td><td>f         </td><td>20        </td><td>31        </td><td>p         </td><td>compact   </td><td>51        </td></tr>\n",
       "\t<tr><td>audi      </td><td>a4        </td><td>2.0       </td><td>2008      </td><td>4         </td><td>auto(av)  </td><td>f         </td><td>21        </td><td>30        </td><td>p         </td><td>compact   </td><td>51        </td></tr>\n",
       "\t<tr><td>audi      </td><td>a4        </td><td>2.8       </td><td>1999      </td><td>6         </td><td>auto(l5)  </td><td>f         </td><td>16        </td><td>26        </td><td>p         </td><td>compact   </td><td>42        </td></tr>\n",
       "\t<tr><td>audi      </td><td>a4        </td><td>2.8       </td><td>1999      </td><td>6         </td><td>manual(m5)</td><td>f         </td><td>18        </td><td>26        </td><td>p         </td><td>compact   </td><td>44        </td></tr>\n",
       "</tbody>\n",
       "</table>\n"
      ],
      "text/latex": [
       "\\begin{tabular}{r|llllllllllll}\n",
       " manufacturer & model & displ & year & cyl & trans & drv & cty & hwy & fl & class & total\\\\\n",
       "\\hline\n",
       "\t audi       & a4         & 1.8        & 1999       & 4          & auto(l5)   & f          & 18         & 29         & p          & compact    & 47        \\\\\n",
       "\t audi       & a4         & 1.8        & 1999       & 4          & manual(m5) & f          & 21         & 29         & p          & compact    & 50        \\\\\n",
       "\t audi       & a4         & 2.0        & 2008       & 4          & manual(m6) & f          & 20         & 31         & p          & compact    & 51        \\\\\n",
       "\t audi       & a4         & 2.0        & 2008       & 4          & auto(av)   & f          & 21         & 30         & p          & compact    & 51        \\\\\n",
       "\t audi       & a4         & 2.8        & 1999       & 6          & auto(l5)   & f          & 16         & 26         & p          & compact    & 42        \\\\\n",
       "\t audi       & a4         & 2.8        & 1999       & 6          & manual(m5) & f          & 18         & 26         & p          & compact    & 44        \\\\\n",
       "\\end{tabular}\n"
      ],
      "text/markdown": [
       "\n",
       "| manufacturer | model | displ | year | cyl | trans | drv | cty | hwy | fl | class | total |\n",
       "|---|---|---|---|---|---|---|---|---|---|---|---|\n",
       "| audi       | a4         | 1.8        | 1999       | 4          | auto(l5)   | f          | 18         | 29         | p          | compact    | 47         |\n",
       "| audi       | a4         | 1.8        | 1999       | 4          | manual(m5) | f          | 21         | 29         | p          | compact    | 50         |\n",
       "| audi       | a4         | 2.0        | 2008       | 4          | manual(m6) | f          | 20         | 31         | p          | compact    | 51         |\n",
       "| audi       | a4         | 2.0        | 2008       | 4          | auto(av)   | f          | 21         | 30         | p          | compact    | 51         |\n",
       "| audi       | a4         | 2.8        | 1999       | 6          | auto(l5)   | f          | 16         | 26         | p          | compact    | 42         |\n",
       "| audi       | a4         | 2.8        | 1999       | 6          | manual(m5) | f          | 18         | 26         | p          | compact    | 44         |\n",
       "\n"
      ],
      "text/plain": [
       "  manufacturer model displ year cyl trans      drv cty hwy fl class   total\n",
       "1 audi         a4    1.8   1999 4   auto(l5)   f   18  29  p  compact 47   \n",
       "2 audi         a4    1.8   1999 4   manual(m5) f   21  29  p  compact 50   \n",
       "3 audi         a4    2.0   2008 4   manual(m6) f   20  31  p  compact 51   \n",
       "4 audi         a4    2.0   2008 4   auto(av)   f   21  30  p  compact 51   \n",
       "5 audi         a4    2.8   1999 6   auto(l5)   f   16  26  p  compact 42   \n",
       "6 audi         a4    2.8   1999 6   manual(m5) f   18  26  p  compact 44   "
      ]
     },
     "metadata": {},
     "output_type": "display_data"
    }
   ],
   "source": [
    "mpg_new = mpg_new %>% mutate(total = cty + hwy)\n",
    "head(mpg_new)"
   ]
  },
  {
   "cell_type": "code",
   "execution_count": 58,
   "metadata": {},
   "outputs": [
    {
     "data": {
      "text/html": [
       "<table>\n",
       "<thead><tr><th scope=col>manufacturer</th><th scope=col>model</th><th scope=col>displ</th><th scope=col>year</th><th scope=col>cyl</th><th scope=col>trans</th><th scope=col>drv</th><th scope=col>cty</th><th scope=col>hwy</th><th scope=col>fl</th><th scope=col>class</th><th scope=col>total</th><th scope=col>mean</th></tr></thead>\n",
       "<tbody>\n",
       "\t<tr><td>audi      </td><td>a4        </td><td>1.8       </td><td>1999      </td><td>4         </td><td>auto(l5)  </td><td>f         </td><td>18        </td><td>29        </td><td>p         </td><td>compact   </td><td>47        </td><td>23.5      </td></tr>\n",
       "\t<tr><td>audi      </td><td>a4        </td><td>1.8       </td><td>1999      </td><td>4         </td><td>manual(m5)</td><td>f         </td><td>21        </td><td>29        </td><td>p         </td><td>compact   </td><td>50        </td><td>25.0      </td></tr>\n",
       "\t<tr><td>audi      </td><td>a4        </td><td>2.0       </td><td>2008      </td><td>4         </td><td>manual(m6)</td><td>f         </td><td>20        </td><td>31        </td><td>p         </td><td>compact   </td><td>51        </td><td>25.5      </td></tr>\n",
       "\t<tr><td>audi      </td><td>a4        </td><td>2.0       </td><td>2008      </td><td>4         </td><td>auto(av)  </td><td>f         </td><td>21        </td><td>30        </td><td>p         </td><td>compact   </td><td>51        </td><td>25.5      </td></tr>\n",
       "\t<tr><td>audi      </td><td>a4        </td><td>2.8       </td><td>1999      </td><td>6         </td><td>auto(l5)  </td><td>f         </td><td>16        </td><td>26        </td><td>p         </td><td>compact   </td><td>42        </td><td>21.0      </td></tr>\n",
       "\t<tr><td>audi      </td><td>a4        </td><td>2.8       </td><td>1999      </td><td>6         </td><td>manual(m5)</td><td>f         </td><td>18        </td><td>26        </td><td>p         </td><td>compact   </td><td>44        </td><td>22.0      </td></tr>\n",
       "</tbody>\n",
       "</table>\n"
      ],
      "text/latex": [
       "\\begin{tabular}{r|lllllllllllll}\n",
       " manufacturer & model & displ & year & cyl & trans & drv & cty & hwy & fl & class & total & mean\\\\\n",
       "\\hline\n",
       "\t audi       & a4         & 1.8        & 1999       & 4          & auto(l5)   & f          & 18         & 29         & p          & compact    & 47         & 23.5      \\\\\n",
       "\t audi       & a4         & 1.8        & 1999       & 4          & manual(m5) & f          & 21         & 29         & p          & compact    & 50         & 25.0      \\\\\n",
       "\t audi       & a4         & 2.0        & 2008       & 4          & manual(m6) & f          & 20         & 31         & p          & compact    & 51         & 25.5      \\\\\n",
       "\t audi       & a4         & 2.0        & 2008       & 4          & auto(av)   & f          & 21         & 30         & p          & compact    & 51         & 25.5      \\\\\n",
       "\t audi       & a4         & 2.8        & 1999       & 6          & auto(l5)   & f          & 16         & 26         & p          & compact    & 42         & 21.0      \\\\\n",
       "\t audi       & a4         & 2.8        & 1999       & 6          & manual(m5) & f          & 18         & 26         & p          & compact    & 44         & 22.0      \\\\\n",
       "\\end{tabular}\n"
      ],
      "text/markdown": [
       "\n",
       "| manufacturer | model | displ | year | cyl | trans | drv | cty | hwy | fl | class | total | mean |\n",
       "|---|---|---|---|---|---|---|---|---|---|---|---|---|\n",
       "| audi       | a4         | 1.8        | 1999       | 4          | auto(l5)   | f          | 18         | 29         | p          | compact    | 47         | 23.5       |\n",
       "| audi       | a4         | 1.8        | 1999       | 4          | manual(m5) | f          | 21         | 29         | p          | compact    | 50         | 25.0       |\n",
       "| audi       | a4         | 2.0        | 2008       | 4          | manual(m6) | f          | 20         | 31         | p          | compact    | 51         | 25.5       |\n",
       "| audi       | a4         | 2.0        | 2008       | 4          | auto(av)   | f          | 21         | 30         | p          | compact    | 51         | 25.5       |\n",
       "| audi       | a4         | 2.8        | 1999       | 6          | auto(l5)   | f          | 16         | 26         | p          | compact    | 42         | 21.0       |\n",
       "| audi       | a4         | 2.8        | 1999       | 6          | manual(m5) | f          | 18         | 26         | p          | compact    | 44         | 22.0       |\n",
       "\n"
      ],
      "text/plain": [
       "  manufacturer model displ year cyl trans      drv cty hwy fl class   total\n",
       "1 audi         a4    1.8   1999 4   auto(l5)   f   18  29  p  compact 47   \n",
       "2 audi         a4    1.8   1999 4   manual(m5) f   21  29  p  compact 50   \n",
       "3 audi         a4    2.0   2008 4   manual(m6) f   20  31  p  compact 51   \n",
       "4 audi         a4    2.0   2008 4   auto(av)   f   21  30  p  compact 51   \n",
       "5 audi         a4    2.8   1999 6   auto(l5)   f   16  26  p  compact 42   \n",
       "6 audi         a4    2.8   1999 6   manual(m5) f   18  26  p  compact 44   \n",
       "  mean\n",
       "1 23.5\n",
       "2 25.0\n",
       "3 25.5\n",
       "4 25.5\n",
       "5 21.0\n",
       "6 22.0"
      ]
     },
     "metadata": {},
     "output_type": "display_data"
    }
   ],
   "source": [
    "a = mpg_new %>% mutate(mean = total/2)\n",
    "head(a)"
   ]
  },
  {
   "cell_type": "code",
   "execution_count": 68,
   "metadata": {},
   "outputs": [
    {
     "data": {
      "text/html": [
       "<table>\n",
       "<thead><tr><th scope=col>manufacturer</th><th scope=col>model</th><th scope=col>displ</th><th scope=col>year</th><th scope=col>cyl</th><th scope=col>trans</th><th scope=col>drv</th><th scope=col>cty</th><th scope=col>hwy</th><th scope=col>fl</th><th scope=col>class</th><th scope=col>total</th><th scope=col>mean</th></tr></thead>\n",
       "<tbody>\n",
       "\t<tr><td>volkswagen</td><td>new beetle</td><td>1.9       </td><td>1999      </td><td>4         </td><td>manual(m5)</td><td>f         </td><td>35        </td><td>44        </td><td>d         </td><td>subcompact</td><td>79        </td><td>39.5      </td></tr>\n",
       "\t<tr><td>volkswagen</td><td>jetta     </td><td>1.9       </td><td>1999      </td><td>4         </td><td>manual(m5)</td><td>f         </td><td>33        </td><td>44        </td><td>d         </td><td>compact   </td><td>77        </td><td>38.5      </td></tr>\n",
       "\t<tr><td>volkswagen</td><td>new beetle</td><td>1.9       </td><td>1999      </td><td>4         </td><td>auto(l4)  </td><td>f         </td><td>29        </td><td>41        </td><td>d         </td><td>subcompact</td><td>70        </td><td>35.0      </td></tr>\n",
       "</tbody>\n",
       "</table>\n"
      ],
      "text/latex": [
       "\\begin{tabular}{r|lllllllllllll}\n",
       " manufacturer & model & displ & year & cyl & trans & drv & cty & hwy & fl & class & total & mean\\\\\n",
       "\\hline\n",
       "\t volkswagen & new beetle & 1.9        & 1999       & 4          & manual(m5) & f          & 35         & 44         & d          & subcompact & 79         & 39.5      \\\\\n",
       "\t volkswagen & jetta      & 1.9        & 1999       & 4          & manual(m5) & f          & 33         & 44         & d          & compact    & 77         & 38.5      \\\\\n",
       "\t volkswagen & new beetle & 1.9        & 1999       & 4          & auto(l4)   & f          & 29         & 41         & d          & subcompact & 70         & 35.0      \\\\\n",
       "\\end{tabular}\n"
      ],
      "text/markdown": [
       "\n",
       "| manufacturer | model | displ | year | cyl | trans | drv | cty | hwy | fl | class | total | mean |\n",
       "|---|---|---|---|---|---|---|---|---|---|---|---|---|\n",
       "| volkswagen | new beetle | 1.9        | 1999       | 4          | manual(m5) | f          | 35         | 44         | d          | subcompact | 79         | 39.5       |\n",
       "| volkswagen | jetta      | 1.9        | 1999       | 4          | manual(m5) | f          | 33         | 44         | d          | compact    | 77         | 38.5       |\n",
       "| volkswagen | new beetle | 1.9        | 1999       | 4          | auto(l4)   | f          | 29         | 41         | d          | subcompact | 70         | 35.0       |\n",
       "\n"
      ],
      "text/plain": [
       "  manufacturer model      displ year cyl trans      drv cty hwy fl class     \n",
       "1 volkswagen   new beetle 1.9   1999 4   manual(m5) f   35  44  d  subcompact\n",
       "2 volkswagen   jetta      1.9   1999 4   manual(m5) f   33  44  d  compact   \n",
       "3 volkswagen   new beetle 1.9   1999 4   auto(l4)   f   29  41  d  subcompact\n",
       "  total mean\n",
       "1 79    39.5\n",
       "2 77    38.5\n",
       "3 70    35.0"
      ]
     },
     "metadata": {},
     "output_type": "display_data"
    }
   ],
   "source": [
    "a %>%\n",
    "    arrange(desc(mean)) %>% \n",
    "    head (3)"
   ]
  },
  {
   "cell_type": "code",
   "execution_count": 69,
   "metadata": {},
   "outputs": [
    {
     "data": {
      "text/html": [
       "<table>\n",
       "<thead><tr><th scope=col>manufacturer</th><th scope=col>model</th><th scope=col>displ</th><th scope=col>year</th><th scope=col>cyl</th><th scope=col>trans</th><th scope=col>drv</th><th scope=col>cty</th><th scope=col>hwy</th><th scope=col>fl</th><th scope=col>class</th><th scope=col>total</th><th scope=col>mean</th></tr></thead>\n",
       "<tbody>\n",
       "\t<tr><td>volkswagen</td><td>new beetle</td><td>1.9       </td><td>1999      </td><td>4         </td><td>manual(m5)</td><td>f         </td><td>35        </td><td>44        </td><td>d         </td><td>subcompact</td><td>79        </td><td>39.5      </td></tr>\n",
       "\t<tr><td>volkswagen</td><td>jetta     </td><td>1.9       </td><td>1999      </td><td>4         </td><td>manual(m5)</td><td>f         </td><td>33        </td><td>44        </td><td>d         </td><td>compact   </td><td>77        </td><td>38.5      </td></tr>\n",
       "\t<tr><td>volkswagen</td><td>new beetle</td><td>1.9       </td><td>1999      </td><td>4         </td><td>auto(l4)  </td><td>f         </td><td>29        </td><td>41        </td><td>d         </td><td>subcompact</td><td>70        </td><td>35.0      </td></tr>\n",
       "</tbody>\n",
       "</table>\n"
      ],
      "text/latex": [
       "\\begin{tabular}{r|lllllllllllll}\n",
       " manufacturer & model & displ & year & cyl & trans & drv & cty & hwy & fl & class & total & mean\\\\\n",
       "\\hline\n",
       "\t volkswagen & new beetle & 1.9        & 1999       & 4          & manual(m5) & f          & 35         & 44         & d          & subcompact & 79         & 39.5      \\\\\n",
       "\t volkswagen & jetta      & 1.9        & 1999       & 4          & manual(m5) & f          & 33         & 44         & d          & compact    & 77         & 38.5      \\\\\n",
       "\t volkswagen & new beetle & 1.9        & 1999       & 4          & auto(l4)   & f          & 29         & 41         & d          & subcompact & 70         & 35.0      \\\\\n",
       "\\end{tabular}\n"
      ],
      "text/markdown": [
       "\n",
       "| manufacturer | model | displ | year | cyl | trans | drv | cty | hwy | fl | class | total | mean |\n",
       "|---|---|---|---|---|---|---|---|---|---|---|---|---|\n",
       "| volkswagen | new beetle | 1.9        | 1999       | 4          | manual(m5) | f          | 35         | 44         | d          | subcompact | 79         | 39.5       |\n",
       "| volkswagen | jetta      | 1.9        | 1999       | 4          | manual(m5) | f          | 33         | 44         | d          | compact    | 77         | 38.5       |\n",
       "| volkswagen | new beetle | 1.9        | 1999       | 4          | auto(l4)   | f          | 29         | 41         | d          | subcompact | 70         | 35.0       |\n",
       "\n"
      ],
      "text/plain": [
       "  manufacturer model      displ year cyl trans      drv cty hwy fl class     \n",
       "1 volkswagen   new beetle 1.9   1999 4   manual(m5) f   35  44  d  subcompact\n",
       "2 volkswagen   jetta      1.9   1999 4   manual(m5) f   33  44  d  compact   \n",
       "3 volkswagen   new beetle 1.9   1999 4   auto(l4)   f   29  41  d  subcompact\n",
       "  total mean\n",
       "1 79    39.5\n",
       "2 77    38.5\n",
       "3 70    35.0"
      ]
     },
     "metadata": {},
     "output_type": "display_data"
    }
   ],
   "source": [
    "mpg_new %>%\n",
    "    mutate(total = cty + hwy) %>% \n",
    "    mutate(mean = total/2) %>% \n",
    "    arrange(desc(mean)) %>% \n",
    "    head (3)    "
   ]
  },
  {
   "cell_type": "markdown",
   "metadata": {},
   "source": [
    "# 6-6"
   ]
  },
  {
   "cell_type": "code",
   "execution_count": 71,
   "metadata": {},
   "outputs": [
    {
     "data": {
      "text/html": [
       "<table>\n",
       "<thead><tr><th scope=col>manufacturer</th><th scope=col>model</th><th scope=col>displ</th><th scope=col>year</th><th scope=col>cyl</th><th scope=col>trans</th><th scope=col>drv</th><th scope=col>cty</th><th scope=col>hwy</th><th scope=col>fl</th><th scope=col>class</th></tr></thead>\n",
       "<tbody>\n",
       "\t<tr><td>audi      </td><td>a4        </td><td>1.8       </td><td>1999      </td><td>4         </td><td>auto(l5)  </td><td>f         </td><td>18        </td><td>29        </td><td>p         </td><td>compact   </td></tr>\n",
       "\t<tr><td>audi      </td><td>a4        </td><td>1.8       </td><td>1999      </td><td>4         </td><td>manual(m5)</td><td>f         </td><td>21        </td><td>29        </td><td>p         </td><td>compact   </td></tr>\n",
       "\t<tr><td>audi      </td><td>a4        </td><td>2.0       </td><td>2008      </td><td>4         </td><td>manual(m6)</td><td>f         </td><td>20        </td><td>31        </td><td>p         </td><td>compact   </td></tr>\n",
       "\t<tr><td>audi      </td><td>a4        </td><td>2.0       </td><td>2008      </td><td>4         </td><td>auto(av)  </td><td>f         </td><td>21        </td><td>30        </td><td>p         </td><td>compact   </td></tr>\n",
       "\t<tr><td>audi      </td><td>a4        </td><td>2.8       </td><td>1999      </td><td>6         </td><td>auto(l5)  </td><td>f         </td><td>16        </td><td>26        </td><td>p         </td><td>compact   </td></tr>\n",
       "\t<tr><td>audi      </td><td>a4        </td><td>2.8       </td><td>1999      </td><td>6         </td><td>manual(m5)</td><td>f         </td><td>18        </td><td>26        </td><td>p         </td><td>compact   </td></tr>\n",
       "</tbody>\n",
       "</table>\n"
      ],
      "text/latex": [
       "\\begin{tabular}{r|lllllllllll}\n",
       " manufacturer & model & displ & year & cyl & trans & drv & cty & hwy & fl & class\\\\\n",
       "\\hline\n",
       "\t audi       & a4         & 1.8        & 1999       & 4          & auto(l5)   & f          & 18         & 29         & p          & compact   \\\\\n",
       "\t audi       & a4         & 1.8        & 1999       & 4          & manual(m5) & f          & 21         & 29         & p          & compact   \\\\\n",
       "\t audi       & a4         & 2.0        & 2008       & 4          & manual(m6) & f          & 20         & 31         & p          & compact   \\\\\n",
       "\t audi       & a4         & 2.0        & 2008       & 4          & auto(av)   & f          & 21         & 30         & p          & compact   \\\\\n",
       "\t audi       & a4         & 2.8        & 1999       & 6          & auto(l5)   & f          & 16         & 26         & p          & compact   \\\\\n",
       "\t audi       & a4         & 2.8        & 1999       & 6          & manual(m5) & f          & 18         & 26         & p          & compact   \\\\\n",
       "\\end{tabular}\n"
      ],
      "text/markdown": [
       "\n",
       "| manufacturer | model | displ | year | cyl | trans | drv | cty | hwy | fl | class |\n",
       "|---|---|---|---|---|---|---|---|---|---|---|\n",
       "| audi       | a4         | 1.8        | 1999       | 4          | auto(l5)   | f          | 18         | 29         | p          | compact    |\n",
       "| audi       | a4         | 1.8        | 1999       | 4          | manual(m5) | f          | 21         | 29         | p          | compact    |\n",
       "| audi       | a4         | 2.0        | 2008       | 4          | manual(m6) | f          | 20         | 31         | p          | compact    |\n",
       "| audi       | a4         | 2.0        | 2008       | 4          | auto(av)   | f          | 21         | 30         | p          | compact    |\n",
       "| audi       | a4         | 2.8        | 1999       | 6          | auto(l5)   | f          | 16         | 26         | p          | compact    |\n",
       "| audi       | a4         | 2.8        | 1999       | 6          | manual(m5) | f          | 18         | 26         | p          | compact    |\n",
       "\n"
      ],
      "text/plain": [
       "  manufacturer model displ year cyl trans      drv cty hwy fl class  \n",
       "1 audi         a4    1.8   1999 4   auto(l5)   f   18  29  p  compact\n",
       "2 audi         a4    1.8   1999 4   manual(m5) f   21  29  p  compact\n",
       "3 audi         a4    2.0   2008 4   manual(m6) f   20  31  p  compact\n",
       "4 audi         a4    2.0   2008 4   auto(av)   f   21  30  p  compact\n",
       "5 audi         a4    2.8   1999 6   auto(l5)   f   16  26  p  compact\n",
       "6 audi         a4    2.8   1999 6   manual(m5) f   18  26  p  compact"
      ]
     },
     "metadata": {},
     "output_type": "display_data"
    }
   ],
   "source": [
    "mpg6 = as.data.frame(ggplot2::mpg)\n",
    "head(mpg6)"
   ]
  },
  {
   "cell_type": "code",
   "execution_count": 73,
   "metadata": {},
   "outputs": [
    {
     "data": {
      "text/html": [
       "<table>\n",
       "<thead><tr><th scope=col>class</th><th scope=col>mean_cty</th></tr></thead>\n",
       "<tbody>\n",
       "\t<tr><td>2seater   </td><td>15.40000  </td></tr>\n",
       "\t<tr><td>compact   </td><td>20.12766  </td></tr>\n",
       "\t<tr><td>midsize   </td><td>18.75610  </td></tr>\n",
       "\t<tr><td>minivan   </td><td>15.81818  </td></tr>\n",
       "\t<tr><td>pickup    </td><td>13.00000  </td></tr>\n",
       "\t<tr><td>subcompact</td><td>20.37143  </td></tr>\n",
       "\t<tr><td>suv       </td><td>13.50000  </td></tr>\n",
       "</tbody>\n",
       "</table>\n"
      ],
      "text/latex": [
       "\\begin{tabular}{r|ll}\n",
       " class & mean\\_cty\\\\\n",
       "\\hline\n",
       "\t 2seater    & 15.40000  \\\\\n",
       "\t compact    & 20.12766  \\\\\n",
       "\t midsize    & 18.75610  \\\\\n",
       "\t minivan    & 15.81818  \\\\\n",
       "\t pickup     & 13.00000  \\\\\n",
       "\t subcompact & 20.37143  \\\\\n",
       "\t suv        & 13.50000  \\\\\n",
       "\\end{tabular}\n"
      ],
      "text/markdown": [
       "\n",
       "| class | mean_cty |\n",
       "|---|---|\n",
       "| 2seater    | 15.40000   |\n",
       "| compact    | 20.12766   |\n",
       "| midsize    | 18.75610   |\n",
       "| minivan    | 15.81818   |\n",
       "| pickup     | 13.00000   |\n",
       "| subcompact | 20.37143   |\n",
       "| suv        | 13.50000   |\n",
       "\n"
      ],
      "text/plain": [
       "  class      mean_cty\n",
       "1 2seater    15.40000\n",
       "2 compact    20.12766\n",
       "3 midsize    18.75610\n",
       "4 minivan    15.81818\n",
       "5 pickup     13.00000\n",
       "6 subcompact 20.37143\n",
       "7 suv        13.50000"
      ]
     },
     "metadata": {},
     "output_type": "display_data"
    }
   ],
   "source": [
    "mpg6 %>% \n",
    "    group_by(class) %>% \n",
    "    summarise(mean_cty = mean(cty))"
   ]
  },
  {
   "cell_type": "code",
   "execution_count": 76,
   "metadata": {},
   "outputs": [
    {
     "data": {
      "text/html": [
       "<table>\n",
       "<thead><tr><th scope=col>class</th><th scope=col>mean_cty</th></tr></thead>\n",
       "<tbody>\n",
       "\t<tr><td>subcompact</td><td>20.37143  </td></tr>\n",
       "\t<tr><td>compact   </td><td>20.12766  </td></tr>\n",
       "\t<tr><td>midsize   </td><td>18.75610  </td></tr>\n",
       "\t<tr><td>minivan   </td><td>15.81818  </td></tr>\n",
       "\t<tr><td>2seater   </td><td>15.40000  </td></tr>\n",
       "\t<tr><td>suv       </td><td>13.50000  </td></tr>\n",
       "</tbody>\n",
       "</table>\n"
      ],
      "text/latex": [
       "\\begin{tabular}{r|ll}\n",
       " class & mean\\_cty\\\\\n",
       "\\hline\n",
       "\t subcompact & 20.37143  \\\\\n",
       "\t compact    & 20.12766  \\\\\n",
       "\t midsize    & 18.75610  \\\\\n",
       "\t minivan    & 15.81818  \\\\\n",
       "\t 2seater    & 15.40000  \\\\\n",
       "\t suv        & 13.50000  \\\\\n",
       "\\end{tabular}\n"
      ],
      "text/markdown": [
       "\n",
       "| class | mean_cty |\n",
       "|---|---|\n",
       "| subcompact | 20.37143   |\n",
       "| compact    | 20.12766   |\n",
       "| midsize    | 18.75610   |\n",
       "| minivan    | 15.81818   |\n",
       "| 2seater    | 15.40000   |\n",
       "| suv        | 13.50000   |\n",
       "\n"
      ],
      "text/plain": [
       "  class      mean_cty\n",
       "1 subcompact 20.37143\n",
       "2 compact    20.12766\n",
       "3 midsize    18.75610\n",
       "4 minivan    15.81818\n",
       "5 2seater    15.40000\n",
       "6 suv        13.50000"
      ]
     },
     "metadata": {},
     "output_type": "display_data"
    }
   ],
   "source": [
    "mpg6 %>% \n",
    "    group_by(class) %>% \n",
    "    summarise(mean_cty = mean(cty)) %>% \n",
    "    arrange(desc(mean_cty)) %>% \n",
    "    head()"
   ]
  },
  {
   "cell_type": "code",
   "execution_count": 77,
   "metadata": {},
   "outputs": [
    {
     "data": {
      "text/html": [
       "<table>\n",
       "<thead><tr><th scope=col>manufacturer</th><th scope=col>model</th><th scope=col>displ</th><th scope=col>year</th><th scope=col>cyl</th><th scope=col>trans</th><th scope=col>drv</th><th scope=col>cty</th><th scope=col>hwy</th><th scope=col>fl</th><th scope=col>class</th><th scope=col>mean_hwy</th></tr></thead>\n",
       "<tbody>\n",
       "\t<tr><td>volkswagen</td><td>jetta     </td><td>1.9       </td><td>1999      </td><td>4         </td><td>manual(m5)</td><td>f         </td><td>33        </td><td>44        </td><td>d         </td><td>compact   </td><td>44        </td></tr>\n",
       "\t<tr><td>volkswagen</td><td>new beetle</td><td>1.9       </td><td>1999      </td><td>4         </td><td>manual(m5)</td><td>f         </td><td>35        </td><td>44        </td><td>d         </td><td>subcompact</td><td>44        </td></tr>\n",
       "\t<tr><td>volkswagen</td><td>new beetle</td><td>1.9       </td><td>1999      </td><td>4         </td><td>auto(l4)  </td><td>f         </td><td>29        </td><td>41        </td><td>d         </td><td>subcompact</td><td>41        </td></tr>\n",
       "</tbody>\n",
       "</table>\n"
      ],
      "text/latex": [
       "\\begin{tabular}{r|llllllllllll}\n",
       " manufacturer & model & displ & year & cyl & trans & drv & cty & hwy & fl & class & mean\\_hwy\\\\\n",
       "\\hline\n",
       "\t volkswagen & jetta      & 1.9        & 1999       & 4          & manual(m5) & f          & 33         & 44         & d          & compact    & 44        \\\\\n",
       "\t volkswagen & new beetle & 1.9        & 1999       & 4          & manual(m5) & f          & 35         & 44         & d          & subcompact & 44        \\\\\n",
       "\t volkswagen & new beetle & 1.9        & 1999       & 4          & auto(l4)   & f          & 29         & 41         & d          & subcompact & 41        \\\\\n",
       "\\end{tabular}\n"
      ],
      "text/markdown": [
       "\n",
       "| manufacturer | model | displ | year | cyl | trans | drv | cty | hwy | fl | class | mean_hwy |\n",
       "|---|---|---|---|---|---|---|---|---|---|---|---|\n",
       "| volkswagen | jetta      | 1.9        | 1999       | 4          | manual(m5) | f          | 33         | 44         | d          | compact    | 44         |\n",
       "| volkswagen | new beetle | 1.9        | 1999       | 4          | manual(m5) | f          | 35         | 44         | d          | subcompact | 44         |\n",
       "| volkswagen | new beetle | 1.9        | 1999       | 4          | auto(l4)   | f          | 29         | 41         | d          | subcompact | 41         |\n",
       "\n"
      ],
      "text/plain": [
       "  manufacturer model      displ year cyl trans      drv cty hwy fl class     \n",
       "1 volkswagen   jetta      1.9   1999 4   manual(m5) f   33  44  d  compact   \n",
       "2 volkswagen   new beetle 1.9   1999 4   manual(m5) f   35  44  d  subcompact\n",
       "3 volkswagen   new beetle 1.9   1999 4   auto(l4)   f   29  41  d  subcompact\n",
       "  mean_hwy\n",
       "1 44      \n",
       "2 44      \n",
       "3 41      "
      ]
     },
     "metadata": {},
     "output_type": "display_data"
    }
   ],
   "source": [
    "mpg6 %>% \n",
    "    group_by(hwy) %>% \n",
    "    mutate(mean_hwy = mean(hwy)) %>% \n",
    "    arrange(desc(mean_hwy)) %>% \n",
    "    head(3)"
   ]
  },
  {
   "cell_type": "code",
   "execution_count": 79,
   "metadata": {},
   "outputs": [
    {
     "data": {
      "text/html": [
       "<table>\n",
       "<thead><tr><th scope=col>manufacturer</th><th scope=col>count</th></tr></thead>\n",
       "<tbody>\n",
       "\t<tr><td>audi      </td><td>15        </td></tr>\n",
       "\t<tr><td>volkswagen</td><td>14        </td></tr>\n",
       "\t<tr><td>toyota    </td><td>12        </td></tr>\n",
       "\t<tr><td>subaru    </td><td> 4        </td></tr>\n",
       "\t<tr><td>nissan    </td><td> 2        </td></tr>\n",
       "</tbody>\n",
       "</table>\n"
      ],
      "text/latex": [
       "\\begin{tabular}{r|ll}\n",
       " manufacturer & count\\\\\n",
       "\\hline\n",
       "\t audi       & 15        \\\\\n",
       "\t volkswagen & 14        \\\\\n",
       "\t toyota     & 12        \\\\\n",
       "\t subaru     &  4        \\\\\n",
       "\t nissan     &  2        \\\\\n",
       "\\end{tabular}\n"
      ],
      "text/markdown": [
       "\n",
       "| manufacturer | count |\n",
       "|---|---|\n",
       "| audi       | 15         |\n",
       "| volkswagen | 14         |\n",
       "| toyota     | 12         |\n",
       "| subaru     |  4         |\n",
       "| nissan     |  2         |\n",
       "\n"
      ],
      "text/plain": [
       "  manufacturer count\n",
       "1 audi         15   \n",
       "2 volkswagen   14   \n",
       "3 toyota       12   \n",
       "4 subaru        4   \n",
       "5 nissan        2   "
      ]
     },
     "metadata": {},
     "output_type": "display_data"
    }
   ],
   "source": [
    "mpg6 %>%\n",
    "    filter(class == 'compact') %>% \n",
    "    group_by(manufacturer) %>% \n",
    "    summarise(count = n()) %>% \n",
    "    arrange(desc(count))"
   ]
  },
  {
   "cell_type": "markdown",
   "metadata": {},
   "source": [
    "# 6-7"
   ]
  },
  {
   "cell_type": "code",
   "execution_count": 96,
   "metadata": {},
   "outputs": [],
   "source": [
    "fuel <- data.frame ( fl = c ( \"c\" , \"d\" , \"e\" , \"p\" , \"r\" ),\n",
    "price_fl = c ( 2.35 , 2.38 , 2.11 , 2.76 , 2.22 ),\n",
    "stringsAsFactors = F)"
   ]
  },
  {
   "cell_type": "code",
   "execution_count": 97,
   "metadata": {},
   "outputs": [
    {
     "data": {
      "text/html": [
       "<table>\n",
       "<thead><tr><th scope=col>fl</th><th scope=col>price_fl</th></tr></thead>\n",
       "<tbody>\n",
       "\t<tr><td>c   </td><td>2.35</td></tr>\n",
       "\t<tr><td>d   </td><td>2.38</td></tr>\n",
       "\t<tr><td>e   </td><td>2.11</td></tr>\n",
       "\t<tr><td>p   </td><td>2.76</td></tr>\n",
       "\t<tr><td>r   </td><td>2.22</td></tr>\n",
       "</tbody>\n",
       "</table>\n"
      ],
      "text/latex": [
       "\\begin{tabular}{r|ll}\n",
       " fl & price\\_fl\\\\\n",
       "\\hline\n",
       "\t c    & 2.35\\\\\n",
       "\t d    & 2.38\\\\\n",
       "\t e    & 2.11\\\\\n",
       "\t p    & 2.76\\\\\n",
       "\t r    & 2.22\\\\\n",
       "\\end{tabular}\n"
      ],
      "text/markdown": [
       "\n",
       "| fl | price_fl |\n",
       "|---|---|\n",
       "| c    | 2.35 |\n",
       "| d    | 2.38 |\n",
       "| e    | 2.11 |\n",
       "| p    | 2.76 |\n",
       "| r    | 2.22 |\n",
       "\n"
      ],
      "text/plain": [
       "  fl price_fl\n",
       "1 c  2.35    \n",
       "2 d  2.38    \n",
       "3 e  2.11    \n",
       "4 p  2.76    \n",
       "5 r  2.22    "
      ]
     },
     "metadata": {},
     "output_type": "display_data"
    }
   ],
   "source": [
    "fuel"
   ]
  },
  {
   "cell_type": "code",
   "execution_count": 98,
   "metadata": {},
   "outputs": [],
   "source": [
    "mpg = as.data.frame (ggplot2::mpg)"
   ]
  },
  {
   "cell_type": "code",
   "execution_count": 99,
   "metadata": {},
   "outputs": [
    {
     "data": {
      "text/html": [
       "<table>\n",
       "<thead><tr><th scope=col>manufacturer</th><th scope=col>model</th><th scope=col>displ</th><th scope=col>year</th><th scope=col>cyl</th><th scope=col>trans</th><th scope=col>drv</th><th scope=col>cty</th><th scope=col>hwy</th><th scope=col>fl</th><th scope=col>class</th><th scope=col>price_fl</th></tr></thead>\n",
       "<tbody>\n",
       "\t<tr><td>audi      </td><td>a4        </td><td>1.8       </td><td>1999      </td><td>4         </td><td>auto(l5)  </td><td>f         </td><td>18        </td><td>29        </td><td>p         </td><td>compact   </td><td>2.76      </td></tr>\n",
       "\t<tr><td>audi      </td><td>a4        </td><td>1.8       </td><td>1999      </td><td>4         </td><td>manual(m5)</td><td>f         </td><td>21        </td><td>29        </td><td>p         </td><td>compact   </td><td>2.76      </td></tr>\n",
       "\t<tr><td>audi      </td><td>a4        </td><td>2.0       </td><td>2008      </td><td>4         </td><td>manual(m6)</td><td>f         </td><td>20        </td><td>31        </td><td>p         </td><td>compact   </td><td>2.76      </td></tr>\n",
       "\t<tr><td>audi      </td><td>a4        </td><td>2.0       </td><td>2008      </td><td>4         </td><td>auto(av)  </td><td>f         </td><td>21        </td><td>30        </td><td>p         </td><td>compact   </td><td>2.76      </td></tr>\n",
       "\t<tr><td>audi      </td><td>a4        </td><td>2.8       </td><td>1999      </td><td>6         </td><td>auto(l5)  </td><td>f         </td><td>16        </td><td>26        </td><td>p         </td><td>compact   </td><td>2.76      </td></tr>\n",
       "\t<tr><td>audi      </td><td>a4        </td><td>2.8       </td><td>1999      </td><td>6         </td><td>manual(m5)</td><td>f         </td><td>18        </td><td>26        </td><td>p         </td><td>compact   </td><td>2.76      </td></tr>\n",
       "</tbody>\n",
       "</table>\n"
      ],
      "text/latex": [
       "\\begin{tabular}{r|llllllllllll}\n",
       " manufacturer & model & displ & year & cyl & trans & drv & cty & hwy & fl & class & price\\_fl\\\\\n",
       "\\hline\n",
       "\t audi       & a4         & 1.8        & 1999       & 4          & auto(l5)   & f          & 18         & 29         & p          & compact    & 2.76      \\\\\n",
       "\t audi       & a4         & 1.8        & 1999       & 4          & manual(m5) & f          & 21         & 29         & p          & compact    & 2.76      \\\\\n",
       "\t audi       & a4         & 2.0        & 2008       & 4          & manual(m6) & f          & 20         & 31         & p          & compact    & 2.76      \\\\\n",
       "\t audi       & a4         & 2.0        & 2008       & 4          & auto(av)   & f          & 21         & 30         & p          & compact    & 2.76      \\\\\n",
       "\t audi       & a4         & 2.8        & 1999       & 6          & auto(l5)   & f          & 16         & 26         & p          & compact    & 2.76      \\\\\n",
       "\t audi       & a4         & 2.8        & 1999       & 6          & manual(m5) & f          & 18         & 26         & p          & compact    & 2.76      \\\\\n",
       "\\end{tabular}\n"
      ],
      "text/markdown": [
       "\n",
       "| manufacturer | model | displ | year | cyl | trans | drv | cty | hwy | fl | class | price_fl |\n",
       "|---|---|---|---|---|---|---|---|---|---|---|---|\n",
       "| audi       | a4         | 1.8        | 1999       | 4          | auto(l5)   | f          | 18         | 29         | p          | compact    | 2.76       |\n",
       "| audi       | a4         | 1.8        | 1999       | 4          | manual(m5) | f          | 21         | 29         | p          | compact    | 2.76       |\n",
       "| audi       | a4         | 2.0        | 2008       | 4          | manual(m6) | f          | 20         | 31         | p          | compact    | 2.76       |\n",
       "| audi       | a4         | 2.0        | 2008       | 4          | auto(av)   | f          | 21         | 30         | p          | compact    | 2.76       |\n",
       "| audi       | a4         | 2.8        | 1999       | 6          | auto(l5)   | f          | 16         | 26         | p          | compact    | 2.76       |\n",
       "| audi       | a4         | 2.8        | 1999       | 6          | manual(m5) | f          | 18         | 26         | p          | compact    | 2.76       |\n",
       "\n"
      ],
      "text/plain": [
       "  manufacturer model displ year cyl trans      drv cty hwy fl class   price_fl\n",
       "1 audi         a4    1.8   1999 4   auto(l5)   f   18  29  p  compact 2.76    \n",
       "2 audi         a4    1.8   1999 4   manual(m5) f   21  29  p  compact 2.76    \n",
       "3 audi         a4    2.0   2008 4   manual(m6) f   20  31  p  compact 2.76    \n",
       "4 audi         a4    2.0   2008 4   auto(av)   f   21  30  p  compact 2.76    \n",
       "5 audi         a4    2.8   1999 6   auto(l5)   f   16  26  p  compact 2.76    \n",
       "6 audi         a4    2.8   1999 6   manual(m5) f   18  26  p  compact 2.76    "
      ]
     },
     "metadata": {},
     "output_type": "display_data"
    }
   ],
   "source": [
    "mpg = left_join (mpg, fuel, by = \"fl\" )\n",
    "head(mpg)"
   ]
  },
  {
   "cell_type": "code",
   "execution_count": 100,
   "metadata": {},
   "outputs": [
    {
     "data": {
      "text/html": [
       "<table>\n",
       "<thead><tr><th scope=col>model</th><th scope=col>fl</th><th scope=col>price_fl</th></tr></thead>\n",
       "<tbody>\n",
       "\t<tr><td>a4  </td><td>p   </td><td>2.76</td></tr>\n",
       "\t<tr><td>a4  </td><td>p   </td><td>2.76</td></tr>\n",
       "\t<tr><td>a4  </td><td>p   </td><td>2.76</td></tr>\n",
       "\t<tr><td>a4  </td><td>p   </td><td>2.76</td></tr>\n",
       "\t<tr><td>a4  </td><td>p   </td><td>2.76</td></tr>\n",
       "</tbody>\n",
       "</table>\n"
      ],
      "text/latex": [
       "\\begin{tabular}{r|lll}\n",
       " model & fl & price\\_fl\\\\\n",
       "\\hline\n",
       "\t a4   & p    & 2.76\\\\\n",
       "\t a4   & p    & 2.76\\\\\n",
       "\t a4   & p    & 2.76\\\\\n",
       "\t a4   & p    & 2.76\\\\\n",
       "\t a4   & p    & 2.76\\\\\n",
       "\\end{tabular}\n"
      ],
      "text/markdown": [
       "\n",
       "| model | fl | price_fl |\n",
       "|---|---|---|\n",
       "| a4   | p    | 2.76 |\n",
       "| a4   | p    | 2.76 |\n",
       "| a4   | p    | 2.76 |\n",
       "| a4   | p    | 2.76 |\n",
       "| a4   | p    | 2.76 |\n",
       "\n"
      ],
      "text/plain": [
       "  model fl price_fl\n",
       "1 a4    p  2.76    \n",
       "2 a4    p  2.76    \n",
       "3 a4    p  2.76    \n",
       "4 a4    p  2.76    \n",
       "5 a4    p  2.76    "
      ]
     },
     "metadata": {},
     "output_type": "display_data"
    }
   ],
   "source": [
    "mpg %>%\n",
    "    select (model, fl, price_fl) %>% \n",
    "    head ( 5 )"
   ]
  },
  {
   "cell_type": "code",
   "execution_count": 101,
   "metadata": {},
   "outputs": [],
   "source": [
    "midwest = as.data.frame (ggplot2::midwest)"
   ]
  },
  {
   "cell_type": "code",
   "execution_count": 102,
   "metadata": {},
   "outputs": [],
   "source": [
    "midwest <- midwest %>%\n",
    "mutate ( ratio_child = (poptotal-popadults)/poptotal* 100 )"
   ]
  },
  {
   "cell_type": "code",
   "execution_count": 103,
   "metadata": {},
   "outputs": [
    {
     "data": {
      "text/html": [
       "<table>\n",
       "<thead><tr><th scope=col>county</th><th scope=col>ratio_child</th></tr></thead>\n",
       "<tbody>\n",
       "\t<tr><td>ISABELLA </td><td>51.50117 </td></tr>\n",
       "\t<tr><td>MENOMINEE</td><td>50.59126 </td></tr>\n",
       "\t<tr><td>ATHENS   </td><td>49.32073 </td></tr>\n",
       "\t<tr><td>MECOSTA  </td><td>49.05918 </td></tr>\n",
       "\t<tr><td>MONROE   </td><td>47.35818 </td></tr>\n",
       "</tbody>\n",
       "</table>\n"
      ],
      "text/latex": [
       "\\begin{tabular}{r|ll}\n",
       " county & ratio\\_child\\\\\n",
       "\\hline\n",
       "\t ISABELLA  & 51.50117 \\\\\n",
       "\t MENOMINEE & 50.59126 \\\\\n",
       "\t ATHENS    & 49.32073 \\\\\n",
       "\t MECOSTA   & 49.05918 \\\\\n",
       "\t MONROE    & 47.35818 \\\\\n",
       "\\end{tabular}\n"
      ],
      "text/markdown": [
       "\n",
       "| county | ratio_child |\n",
       "|---|---|\n",
       "| ISABELLA  | 51.50117  |\n",
       "| MENOMINEE | 50.59126  |\n",
       "| ATHENS    | 49.32073  |\n",
       "| MECOSTA   | 49.05918  |\n",
       "| MONROE    | 47.35818  |\n",
       "\n"
      ],
      "text/plain": [
       "  county    ratio_child\n",
       "1 ISABELLA  51.50117   \n",
       "2 MENOMINEE 50.59126   \n",
       "3 ATHENS    49.32073   \n",
       "4 MECOSTA   49.05918   \n",
       "5 MONROE    47.35818   "
      ]
     },
     "metadata": {},
     "output_type": "display_data"
    }
   ],
   "source": [
    "midwest %>%\n",
    "arrange ( desc (ratio_child)) %>% \n",
    "select (county, ratio_child) %>% \n",
    "head ( 5 )"
   ]
  },
  {
   "cell_type": "code",
   "execution_count": 104,
   "metadata": {},
   "outputs": [],
   "source": [
    "midwest <- midwest %>%\n",
    "mutate ( grade = ifelse (ratio_child >= 40 , \"large\" ,\n",
    "ifelse (ratio_child >= 30 , \"middle\" , \"small\" )))"
   ]
  },
  {
   "cell_type": "code",
   "execution_count": 105,
   "metadata": {},
   "outputs": [
    {
     "data": {
      "text/plain": [
       "\n",
       " large middle  small \n",
       "    32    396      9 "
      ]
     },
     "metadata": {},
     "output_type": "display_data"
    }
   ],
   "source": [
    "table (midwest$grade)"
   ]
  },
  {
   "cell_type": "code",
   "execution_count": 106,
   "metadata": {},
   "outputs": [
    {
     "data": {
      "text/html": [
       "<table>\n",
       "<thead><tr><th scope=col>state</th><th scope=col>county</th><th scope=col>ratio_asian</th></tr></thead>\n",
       "<tbody>\n",
       "\t<tr><td>WI        </td><td>MENOMINEE </td><td>0.00000000</td></tr>\n",
       "\t<tr><td>IN        </td><td>BENTON    </td><td>0.01059210</td></tr>\n",
       "\t<tr><td>IN        </td><td>CARROLL   </td><td>0.01594981</td></tr>\n",
       "\t<tr><td>OH        </td><td>VINTON    </td><td>0.02703190</td></tr>\n",
       "\t<tr><td>WI        </td><td>IRON      </td><td>0.03250447</td></tr>\n",
       "\t<tr><td>IL        </td><td>SCOTT     </td><td>0.05315379</td></tr>\n",
       "\t<tr><td>IN        </td><td>CLAY      </td><td>0.06071645</td></tr>\n",
       "\t<tr><td>MI        </td><td>OSCODA    </td><td>0.06375925</td></tr>\n",
       "\t<tr><td>OH        </td><td>PERRY     </td><td>0.06654625</td></tr>\n",
       "\t<tr><td>IL        </td><td>PIATT     </td><td>0.07074865</td></tr>\n",
       "</tbody>\n",
       "</table>\n"
      ],
      "text/latex": [
       "\\begin{tabular}{r|lll}\n",
       " state & county & ratio\\_asian\\\\\n",
       "\\hline\n",
       "\t WI         & MENOMINEE  & 0.00000000\\\\\n",
       "\t IN         & BENTON     & 0.01059210\\\\\n",
       "\t IN         & CARROLL    & 0.01594981\\\\\n",
       "\t OH         & VINTON     & 0.02703190\\\\\n",
       "\t WI         & IRON       & 0.03250447\\\\\n",
       "\t IL         & SCOTT      & 0.05315379\\\\\n",
       "\t IN         & CLAY       & 0.06071645\\\\\n",
       "\t MI         & OSCODA     & 0.06375925\\\\\n",
       "\t OH         & PERRY      & 0.06654625\\\\\n",
       "\t IL         & PIATT      & 0.07074865\\\\\n",
       "\\end{tabular}\n"
      ],
      "text/markdown": [
       "\n",
       "| state | county | ratio_asian |\n",
       "|---|---|---|\n",
       "| WI         | MENOMINEE  | 0.00000000 |\n",
       "| IN         | BENTON     | 0.01059210 |\n",
       "| IN         | CARROLL    | 0.01594981 |\n",
       "| OH         | VINTON     | 0.02703190 |\n",
       "| WI         | IRON       | 0.03250447 |\n",
       "| IL         | SCOTT      | 0.05315379 |\n",
       "| IN         | CLAY       | 0.06071645 |\n",
       "| MI         | OSCODA     | 0.06375925 |\n",
       "| OH         | PERRY      | 0.06654625 |\n",
       "| IL         | PIATT      | 0.07074865 |\n",
       "\n"
      ],
      "text/plain": [
       "   state county    ratio_asian\n",
       "1  WI    MENOMINEE 0.00000000 \n",
       "2  IN    BENTON    0.01059210 \n",
       "3  IN    CARROLL   0.01594981 \n",
       "4  OH    VINTON    0.02703190 \n",
       "5  WI    IRON      0.03250447 \n",
       "6  IL    SCOTT     0.05315379 \n",
       "7  IN    CLAY      0.06071645 \n",
       "8  MI    OSCODA    0.06375925 \n",
       "9  OH    PERRY     0.06654625 \n",
       "10 IL    PIATT     0.07074865 "
      ]
     },
     "metadata": {},
     "output_type": "display_data"
    }
   ],
   "source": [
    "midwest %>%\n",
    "    mutate ( ratio_asian = (popasian/poptotal)* 100 ) %>% \n",
    "    arrange (ratio_asian) %>% \n",
    "    select (state, county, ratio_asian) %>% \n",
    "    head ( 10 )"
   ]
  },
  {
   "cell_type": "code",
   "execution_count": null,
   "metadata": {},
   "outputs": [],
   "source": []
  }
 ],
 "metadata": {
  "kernelspec": {
   "display_name": "R",
   "language": "R",
   "name": "ir"
  },
  "language_info": {
   "codemirror_mode": "r",
   "file_extension": ".r",
   "mimetype": "text/x-r-source",
   "name": "R",
   "pygments_lexer": "r",
   "version": "3.6.1"
  }
 },
 "nbformat": 4,
 "nbformat_minor": 4
}
