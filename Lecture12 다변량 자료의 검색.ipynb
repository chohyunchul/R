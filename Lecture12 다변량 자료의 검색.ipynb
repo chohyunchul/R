{
 "cells": [
  {
   "cell_type": "code",
   "execution_count": 1,
   "metadata": {},
   "outputs": [],
   "source": [
    "setwd(\"D:/Workspace/Rdata\")"
   ]
  },
  {
   "cell_type": "code",
   "execution_count": 5,
   "metadata": {},
   "outputs": [
    {
     "data": {
      "text/html": [
       "<table>\n",
       "<thead><tr><th scope=col>state</th><th scope=col>murder</th><th scope=col>forcible_rape</th><th scope=col>robbery</th><th scope=col>aggravated_assault</th><th scope=col>burglary</th><th scope=col>larceny_theft</th><th scope=col>motor_vehicle_theft</th></tr></thead>\n",
       "<tbody>\n",
       "\t<tr><td>United States </td><td>5.6           </td><td>31.7          </td><td>140.7         </td><td>291.1         </td><td> 726.7        </td><td>2286.3        </td><td>416.7         </td></tr>\n",
       "\t<tr><td>Alabama       </td><td>8.2           </td><td>34.3          </td><td>141.4         </td><td>247.8         </td><td> 953.8        </td><td>2650.0        </td><td>288.3         </td></tr>\n",
       "\t<tr><td>Alaska        </td><td>4.8           </td><td>81.1          </td><td> 80.9         </td><td>465.1         </td><td> 622.5        </td><td>2599.1        </td><td>391.0         </td></tr>\n",
       "\t<tr><td>Arizona       </td><td>7.5           </td><td>33.8          </td><td>144.4         </td><td>327.4         </td><td> 948.4        </td><td>2965.2        </td><td>924.4         </td></tr>\n",
       "\t<tr><td>Arkansas      </td><td>6.7           </td><td>42.9          </td><td> 91.1         </td><td>386.8         </td><td>1084.6        </td><td>2711.2        </td><td>262.1         </td></tr>\n",
       "\t<tr><td>California    </td><td>6.9           </td><td>26.0          </td><td>176.1         </td><td>317.3         </td><td> 693.3        </td><td>1916.5        </td><td>712.8         </td></tr>\n",
       "</tbody>\n",
       "</table>\n"
      ],
      "text/latex": [
       "\\begin{tabular}{r|llllllll}\n",
       " state & murder & forcible\\_rape & robbery & aggravated\\_assault & burglary & larceny\\_theft & motor\\_vehicle\\_theft\\\\\n",
       "\\hline\n",
       "\t United States  & 5.6            & 31.7           & 140.7          & 291.1          &  726.7         & 2286.3         & 416.7         \\\\\n",
       "\t Alabama        & 8.2            & 34.3           & 141.4          & 247.8          &  953.8         & 2650.0         & 288.3         \\\\\n",
       "\t Alaska         & 4.8            & 81.1           &  80.9          & 465.1          &  622.5         & 2599.1         & 391.0         \\\\\n",
       "\t Arizona        & 7.5            & 33.8           & 144.4          & 327.4          &  948.4         & 2965.2         & 924.4         \\\\\n",
       "\t Arkansas       & 6.7            & 42.9           &  91.1          & 386.8          & 1084.6         & 2711.2         & 262.1         \\\\\n",
       "\t California     & 6.9            & 26.0           & 176.1          & 317.3          &  693.3         & 1916.5         & 712.8         \\\\\n",
       "\\end{tabular}\n"
      ],
      "text/markdown": [
       "\n",
       "| state | murder | forcible_rape | robbery | aggravated_assault | burglary | larceny_theft | motor_vehicle_theft |\n",
       "|---|---|---|---|---|---|---|---|\n",
       "| United States  | 5.6            | 31.7           | 140.7          | 291.1          |  726.7         | 2286.3         | 416.7          |\n",
       "| Alabama        | 8.2            | 34.3           | 141.4          | 247.8          |  953.8         | 2650.0         | 288.3          |\n",
       "| Alaska         | 4.8            | 81.1           |  80.9          | 465.1          |  622.5         | 2599.1         | 391.0          |\n",
       "| Arizona        | 7.5            | 33.8           | 144.4          | 327.4          |  948.4         | 2965.2         | 924.4          |\n",
       "| Arkansas       | 6.7            | 42.9           |  91.1          | 386.8          | 1084.6         | 2711.2         | 262.1          |\n",
       "| California     | 6.9            | 26.0           | 176.1          | 317.3          |  693.3         | 1916.5         | 712.8          |\n",
       "\n"
      ],
      "text/plain": [
       "  state          murder forcible_rape robbery aggravated_assault burglary\n",
       "1 United States  5.6    31.7          140.7   291.1               726.7  \n",
       "2 Alabama        8.2    34.3          141.4   247.8               953.8  \n",
       "3 Alaska         4.8    81.1           80.9   465.1               622.5  \n",
       "4 Arizona        7.5    33.8          144.4   327.4               948.4  \n",
       "5 Arkansas       6.7    42.9           91.1   386.8              1084.6  \n",
       "6 California     6.9    26.0          176.1   317.3               693.3  \n",
       "  larceny_theft motor_vehicle_theft\n",
       "1 2286.3        416.7              \n",
       "2 2650.0        288.3              \n",
       "3 2599.1        391.0              \n",
       "4 2965.2        924.4              \n",
       "5 2711.2        262.1              \n",
       "6 1916.5        712.8              "
      ]
     },
     "metadata": {},
     "output_type": "display_data"
    }
   ],
   "source": [
    "crime = read.csv(\"http://datasets.flowingdata.com/crimeRatesByState-formatted.csv\")\n",
    "head(crime)"
   ]
  },
  {
   "cell_type": "code",
   "execution_count": 11,
   "metadata": {
    "scrolled": false
   },
   "outputs": [
    {
     "data": {
      "text/html": [
       "<ol class=list-inline>\n",
       "\t<li>'United States '</li>\n",
       "\t<li>'Alabama '</li>\n",
       "\t<li>'Alaska '</li>\n",
       "\t<li>'Arizona '</li>\n",
       "\t<li>'Arkansas'</li>\n",
       "\t<li>'California '</li>\n",
       "\t<li>'Colorado '</li>\n",
       "\t<li>'Connecticut '</li>\n",
       "\t<li>'Delaware '</li>\n",
       "\t<li>'District of Columbia'</li>\n",
       "\t<li>'Florida '</li>\n",
       "\t<li>'Georgia '</li>\n",
       "\t<li>'Hawaii '</li>\n",
       "\t<li>'Idaho '</li>\n",
       "\t<li>'Illinois '</li>\n",
       "\t<li>'Indiana '</li>\n",
       "\t<li>'Iowa '</li>\n",
       "\t<li><span style=white-space:pre-wrap>'Kansas  '</span></li>\n",
       "\t<li><span style=white-space:pre-wrap>'Kentucky  '</span></li>\n",
       "\t<li>'Louisiana '</li>\n",
       "\t<li>'Maine '</li>\n",
       "\t<li>'Maryland '</li>\n",
       "\t<li>'Massachusetts'</li>\n",
       "\t<li>'Michigan'</li>\n",
       "\t<li>'Minnesota '</li>\n",
       "\t<li>'Mississippi '</li>\n",
       "\t<li>'Missouri '</li>\n",
       "\t<li><span style=white-space:pre-wrap>'Montana  '</span></li>\n",
       "\t<li>'Nebraska '</li>\n",
       "\t<li>'Nevada '</li>\n",
       "\t<li>'New Hampshire '</li>\n",
       "\t<li>'New Jersey'</li>\n",
       "\t<li>'New Mexico '</li>\n",
       "\t<li>'New York'</li>\n",
       "\t<li>'North Carolina '</li>\n",
       "\t<li>'North Dakota '</li>\n",
       "\t<li>'Ohio '</li>\n",
       "\t<li>'Oklahoma '</li>\n",
       "\t<li>'Oregon '</li>\n",
       "\t<li>'Pennsylvania'</li>\n",
       "\t<li>'Rhode Island '</li>\n",
       "\t<li>'South Carolina '</li>\n",
       "\t<li>'South Dakota '</li>\n",
       "\t<li>'Tennessee '</li>\n",
       "\t<li>'Texas '</li>\n",
       "\t<li>'Utah'</li>\n",
       "\t<li>'Vermont '</li>\n",
       "\t<li>'Virginia '</li>\n",
       "\t<li>'Washington '</li>\n",
       "\t<li>'West Virginia '</li>\n",
       "\t<li>'Wisconsin '</li>\n",
       "\t<li>'Wyoming '</li>\n",
       "</ol>\n"
      ],
      "text/latex": [
       "\\begin{enumerate*}\n",
       "\\item 'United States '\n",
       "\\item 'Alabama '\n",
       "\\item 'Alaska '\n",
       "\\item 'Arizona '\n",
       "\\item 'Arkansas'\n",
       "\\item 'California '\n",
       "\\item 'Colorado '\n",
       "\\item 'Connecticut '\n",
       "\\item 'Delaware '\n",
       "\\item 'District of Columbia'\n",
       "\\item 'Florida '\n",
       "\\item 'Georgia '\n",
       "\\item 'Hawaii '\n",
       "\\item 'Idaho '\n",
       "\\item 'Illinois '\n",
       "\\item 'Indiana '\n",
       "\\item 'Iowa '\n",
       "\\item 'Kansas  '\n",
       "\\item 'Kentucky  '\n",
       "\\item 'Louisiana '\n",
       "\\item 'Maine '\n",
       "\\item 'Maryland '\n",
       "\\item 'Massachusetts'\n",
       "\\item 'Michigan'\n",
       "\\item 'Minnesota '\n",
       "\\item 'Mississippi '\n",
       "\\item 'Missouri '\n",
       "\\item 'Montana  '\n",
       "\\item 'Nebraska '\n",
       "\\item 'Nevada '\n",
       "\\item 'New Hampshire '\n",
       "\\item 'New Jersey'\n",
       "\\item 'New Mexico '\n",
       "\\item 'New York'\n",
       "\\item 'North Carolina '\n",
       "\\item 'North Dakota '\n",
       "\\item 'Ohio '\n",
       "\\item 'Oklahoma '\n",
       "\\item 'Oregon '\n",
       "\\item 'Pennsylvania'\n",
       "\\item 'Rhode Island '\n",
       "\\item 'South Carolina '\n",
       "\\item 'South Dakota '\n",
       "\\item 'Tennessee '\n",
       "\\item 'Texas '\n",
       "\\item 'Utah'\n",
       "\\item 'Vermont '\n",
       "\\item 'Virginia '\n",
       "\\item 'Washington '\n",
       "\\item 'West Virginia '\n",
       "\\item 'Wisconsin '\n",
       "\\item 'Wyoming '\n",
       "\\end{enumerate*}\n"
      ],
      "text/markdown": [
       "1. 'United States '\n",
       "2. 'Alabama '\n",
       "3. 'Alaska '\n",
       "4. 'Arizona '\n",
       "5. 'Arkansas'\n",
       "6. 'California '\n",
       "7. 'Colorado '\n",
       "8. 'Connecticut '\n",
       "9. 'Delaware '\n",
       "10. 'District of Columbia'\n",
       "11. 'Florida '\n",
       "12. 'Georgia '\n",
       "13. 'Hawaii '\n",
       "14. 'Idaho '\n",
       "15. 'Illinois '\n",
       "16. 'Indiana '\n",
       "17. 'Iowa '\n",
       "18. <span style=white-space:pre-wrap>'Kansas  '</span>\n",
       "19. <span style=white-space:pre-wrap>'Kentucky  '</span>\n",
       "20. 'Louisiana '\n",
       "21. 'Maine '\n",
       "22. 'Maryland '\n",
       "23. 'Massachusetts'\n",
       "24. 'Michigan'\n",
       "25. 'Minnesota '\n",
       "26. 'Mississippi '\n",
       "27. 'Missouri '\n",
       "28. <span style=white-space:pre-wrap>'Montana  '</span>\n",
       "29. 'Nebraska '\n",
       "30. 'Nevada '\n",
       "31. 'New Hampshire '\n",
       "32. 'New Jersey'\n",
       "33. 'New Mexico '\n",
       "34. 'New York'\n",
       "35. 'North Carolina '\n",
       "36. 'North Dakota '\n",
       "37. 'Ohio '\n",
       "38. 'Oklahoma '\n",
       "39. 'Oregon '\n",
       "40. 'Pennsylvania'\n",
       "41. 'Rhode Island '\n",
       "42. 'South Carolina '\n",
       "43. 'South Dakota '\n",
       "44. 'Tennessee '\n",
       "45. 'Texas '\n",
       "46. 'Utah'\n",
       "47. 'Vermont '\n",
       "48. 'Virginia '\n",
       "49. 'Washington '\n",
       "50. 'West Virginia '\n",
       "51. 'Wisconsin '\n",
       "52. 'Wyoming '\n",
       "\n",
       "\n"
      ],
      "text/plain": [
       " [1] \"United States \"       \"Alabama \"             \"Alaska \"             \n",
       " [4] \"Arizona \"             \"Arkansas\"             \"California \"         \n",
       " [7] \"Colorado \"            \"Connecticut \"         \"Delaware \"           \n",
       "[10] \"District of Columbia\" \"Florida \"             \"Georgia \"            \n",
       "[13] \"Hawaii \"              \"Idaho \"               \"Illinois \"           \n",
       "[16] \"Indiana \"             \"Iowa \"                \"Kansas  \"            \n",
       "[19] \"Kentucky  \"           \"Louisiana \"           \"Maine \"              \n",
       "[22] \"Maryland \"            \"Massachusetts\"        \"Michigan\"            \n",
       "[25] \"Minnesota \"           \"Mississippi \"         \"Missouri \"           \n",
       "[28] \"Montana  \"            \"Nebraska \"            \"Nevada \"             \n",
       "[31] \"New Hampshire \"       \"New Jersey\"           \"New Mexico \"         \n",
       "[34] \"New York\"             \"North Carolina \"      \"North Dakota \"       \n",
       "[37] \"Ohio \"                \"Oklahoma \"            \"Oregon \"             \n",
       "[40] \"Pennsylvania\"         \"Rhode Island \"        \"South Carolina \"     \n",
       "[43] \"South Dakota \"        \"Tennessee \"           \"Texas \"              \n",
       "[46] \"Utah\"                 \"Vermont \"             \"Virginia \"           \n",
       "[49] \"Washington \"          \"West Virginia \"       \"Wisconsin \"          \n",
       "[52] \"Wyoming \"            "
      ]
     },
     "metadata": {},
     "output_type": "display_data"
    }
   ],
   "source": [
    "rownames(crime)=crime[,1]\n",
    "rownames(crime)"
   ]
  },
  {
   "cell_type": "markdown",
   "metadata": {},
   "source": [
    "# 별그림"
   ]
  },
  {
   "cell_type": "code",
   "execution_count": 16,
   "metadata": {
    "scrolled": true
   },
   "outputs": [
    {
     "data": {
      "image/png": "[encoded data removed]",
      "text/plain": [
       "plot without title"
      ]
     },
     "metadata": {},
     "output_type": "display_data"
    }
   ],
   "source": [
    "stars(crime[,2:8],flip.labels=FALSE,key.loc = c(15,1))"
   ]
  },
  {
   "cell_type": "markdown",
   "metadata": {},
   "source": [
    "# 나이팅게일차트"
   ]
  },
  {
   "cell_type": "code",
   "execution_count": 22,
   "metadata": {
    "scrolled": true
   },
   "outputs": [
    {
     "data": {
      "image/png": "[encoded data removed]",
      "text/plain": [
       "plot without title"
      ]
     },
     "metadata": {},
     "output_type": "display_data"
    }
   ],
   "source": [
    "stars(crime[,2:8],flip.labels=FALSE,\n",
    "      draw.segments=TRUE,key.loc = c(15,2))\n",
    "#stars(crime,flip.labels=FALSE,key.loc=c(15,1,5),draw.segments=TRUE)"
   ]
  },
  {
   "cell_type": "code",
   "execution_count": 25,
   "metadata": {},
   "outputs": [
    {
     "name": "stdout",
     "output_type": "stream",
     "text": [
      "package 'aplpack' successfully unpacked and MD5 sums checked\n",
      "\n",
      "The downloaded binary packages are in\n",
      "\tC:\\Users\\16\\AppData\\Local\\Temp\\Rtmpc97WNH\\downloaded_packages\n"
     ]
    }
   ],
   "source": [
    "install.packages('aplpack')\n",
    "library(aplpack)"
   ]
  },
  {
   "cell_type": "code",
   "execution_count": 44,
   "metadata": {
    "scrolled": true
   },
   "outputs": [
    {
     "name": "stdout",
     "output_type": "stream",
     "text": [
      "effect of variables:\n",
      " modified item       Var                  \n",
      " \"height of face   \" \"murder\"             \n",
      " \"width of face    \" \"forcible_rape\"      \n",
      " \"structure of face\" \"robbery\"            \n",
      " \"height of mouth  \" \"aggravated_assault\" \n",
      " \"width of mouth   \" \"burglary\"           \n",
      " \"smiling          \" \"larceny_theft\"      \n",
      " \"height of eyes   \" \"motor_vehicle_theft\"\n",
      " \"width of eyes    \" \"murder\"             \n",
      " \"height of hair   \" \"forcible_rape\"      \n",
      " \"width of hair   \"  \"robbery\"            \n",
      " \"style of hair   \"  \"aggravated_assault\" \n",
      " \"height of nose  \"  \"burglary\"           \n",
      " \"width of nose   \"  \"larceny_theft\"      \n",
      " \"width of ear    \"  \"motor_vehicle_theft\"\n",
      " \"height of ear   \"  \"murder\"             \n"
     ]
    },
    {
     "data": {
      "image/png": "[encoded data removed]",
      "text/plain": [
       "Plot with title \"Wyoming \""
      ]
     },
     "metadata": {},
     "output_type": "display_data"
    }
   ],
   "source": [
    "faces(crime[,2:8])"
   ]
  },
  {
   "cell_type": "code",
   "execution_count": 32,
   "metadata": {},
   "outputs": [
    {
     "data": {
      "text/html": [
       "<table>\n",
       "<thead><tr><th scope=col>state</th><th scope=col>reading</th><th scope=col>math</th><th scope=col>writing</th><th scope=col>percent_graduates_sat</th><th scope=col>pupil_staff_ratio</th><th scope=col>dropout_rate</th></tr></thead>\n",
       "<tbody>\n",
       "\t<tr><td>United States</td><td>501          </td><td>515          </td><td>493          </td><td>46           </td><td> 7.9         </td><td>4.4          </td></tr>\n",
       "\t<tr><td>Alabama      </td><td>557          </td><td>552          </td><td>549          </td><td> 7           </td><td> 6.7         </td><td>2.3          </td></tr>\n",
       "\t<tr><td>Alaska       </td><td>520          </td><td>516          </td><td>492          </td><td>46           </td><td> 7.9         </td><td>7.3          </td></tr>\n",
       "\t<tr><td>Arizona      </td><td>516          </td><td>521          </td><td>497          </td><td>26           </td><td>10.4         </td><td>7.6          </td></tr>\n",
       "\t<tr><td>Arkansas     </td><td>572          </td><td>572          </td><td>556          </td><td> 5           </td><td> 6.8         </td><td>4.6          </td></tr>\n",
       "\t<tr><td>California   </td><td>500          </td><td>513          </td><td>498          </td><td>49           </td><td>10.9         </td><td>5.5          </td></tr>\n",
       "</tbody>\n",
       "</table>\n"
      ],
      "text/latex": [
       "\\begin{tabular}{r|lllllll}\n",
       " state & reading & math & writing & percent\\_graduates\\_sat & pupil\\_staff\\_ratio & dropout\\_rate\\\\\n",
       "\\hline\n",
       "\t United States & 501           & 515           & 493           & 46            &  7.9          & 4.4          \\\\\n",
       "\t Alabama       & 557           & 552           & 549           &  7            &  6.7          & 2.3          \\\\\n",
       "\t Alaska        & 520           & 516           & 492           & 46            &  7.9          & 7.3          \\\\\n",
       "\t Arizona       & 516           & 521           & 497           & 26            & 10.4          & 7.6          \\\\\n",
       "\t Arkansas      & 572           & 572           & 556           &  5            &  6.8          & 4.6          \\\\\n",
       "\t California    & 500           & 513           & 498           & 49            & 10.9          & 5.5          \\\\\n",
       "\\end{tabular}\n"
      ],
      "text/markdown": [
       "\n",
       "| state | reading | math | writing | percent_graduates_sat | pupil_staff_ratio | dropout_rate |\n",
       "|---|---|---|---|---|---|---|\n",
       "| United States | 501           | 515           | 493           | 46            |  7.9          | 4.4           |\n",
       "| Alabama       | 557           | 552           | 549           |  7            |  6.7          | 2.3           |\n",
       "| Alaska        | 520           | 516           | 492           | 46            |  7.9          | 7.3           |\n",
       "| Arizona       | 516           | 521           | 497           | 26            | 10.4          | 7.6           |\n",
       "| Arkansas      | 572           | 572           | 556           |  5            |  6.8          | 4.6           |\n",
       "| California    | 500           | 513           | 498           | 49            | 10.9          | 5.5           |\n",
       "\n"
      ],
      "text/plain": [
       "  state         reading math writing percent_graduates_sat pupil_staff_ratio\n",
       "1 United States 501     515  493     46                     7.9             \n",
       "2 Alabama       557     552  549      7                     6.7             \n",
       "3 Alaska        520     516  492     46                     7.9             \n",
       "4 Arizona       516     521  497     26                    10.4             \n",
       "5 Arkansas      572     572  556      5                     6.8             \n",
       "6 California    500     513  498     49                    10.9             \n",
       "  dropout_rate\n",
       "1 4.4         \n",
       "2 2.3         \n",
       "3 7.3         \n",
       "4 7.6         \n",
       "5 4.6         \n",
       "6 5.5         "
      ]
     },
     "metadata": {},
     "output_type": "display_data"
    }
   ],
   "source": [
    "education=read.csv('http://datasets.flowingdata.com/education.csv')\n",
    "head(education)"
   ]
  },
  {
   "cell_type": "markdown",
   "metadata": {},
   "source": [
    "# 평행좌표플롯"
   ]
  },
  {
   "cell_type": "code",
   "execution_count": 34,
   "metadata": {
    "scrolled": true
   },
   "outputs": [
    {
     "name": "stderr",
     "output_type": "stream",
     "text": [
      "Warning message:\n",
      "\"'parallel' is deprecated.\n",
      "Use 'parallelplot' instead.\n",
      "See help(\"Deprecated\")\""
     ]
    },
    {
     "data": {
      "image/png": "[encoded data removed]",
      "text/plain": [
       "plot without title"
      ]
     },
     "metadata": {},
     "output_type": "display_data"
    }
   ],
   "source": [
    "library(lattice)\n",
    "parallel(education[,2:7],horizontal.axis = FALSE, col=1)"
   ]
  },
  {
   "cell_type": "code",
   "execution_count": 35,
   "metadata": {},
   "outputs": [
    {
     "data": {
      "text/plain": [
       "   Min. 1st Qu.  Median    Mean 3rd Qu.    Max. \n",
       "  466.0   497.8   523.0   533.8   571.2   610.0 "
      ]
     },
     "metadata": {},
     "output_type": "display_data"
    }
   ],
   "source": [
    "summary(education$reading)"
   ]
  },
  {
   "cell_type": "code",
   "execution_count": 37,
   "metadata": {},
   "outputs": [
    {
     "data": {
      "text/html": [
       "<ol class=list-inline>\n",
       "\t<li>FALSE</li>\n",
       "\t<li>TRUE</li>\n",
       "\t<li>FALSE</li>\n",
       "\t<li>FALSE</li>\n",
       "\t<li>TRUE</li>\n",
       "\t<li>FALSE</li>\n",
       "\t<li>TRUE</li>\n",
       "\t<li>FALSE</li>\n",
       "\t<li>FALSE</li>\n",
       "\t<li>FALSE</li>\n",
       "\t<li>FALSE</li>\n",
       "\t<li>FALSE</li>\n",
       "\t<li>FALSE</li>\n",
       "\t<li>TRUE</li>\n",
       "\t<li>TRUE</li>\n",
       "\t<li>FALSE</li>\n",
       "\t<li>TRUE</li>\n",
       "\t<li>TRUE</li>\n",
       "\t<li>TRUE</li>\n",
       "\t<li>TRUE</li>\n",
       "\t<li>FALSE</li>\n",
       "\t<li>FALSE</li>\n",
       "\t<li>FALSE</li>\n",
       "\t<li>TRUE</li>\n",
       "\t<li>TRUE</li>\n",
       "\t<li>TRUE</li>\n",
       "\t<li>TRUE</li>\n",
       "\t<li>TRUE</li>\n",
       "\t<li>TRUE</li>\n",
       "\t<li>FALSE</li>\n",
       "\t<li>FALSE</li>\n",
       "\t<li>FALSE</li>\n",
       "\t<li>TRUE</li>\n",
       "\t<li>FALSE</li>\n",
       "\t<li>FALSE</li>\n",
       "\t<li>TRUE</li>\n",
       "\t<li>TRUE</li>\n",
       "\t<li>TRUE</li>\n",
       "\t<li>FALSE</li>\n",
       "\t<li>FALSE</li>\n",
       "\t<li>FALSE</li>\n",
       "\t<li>FALSE</li>\n",
       "\t<li>TRUE</li>\n",
       "\t<li>TRUE</li>\n",
       "\t<li>FALSE</li>\n",
       "\t<li>TRUE</li>\n",
       "\t<li>FALSE</li>\n",
       "\t<li>FALSE</li>\n",
       "\t<li>TRUE</li>\n",
       "\t<li>FALSE</li>\n",
       "\t<li>TRUE</li>\n",
       "\t<li>TRUE</li>\n",
       "</ol>\n"
      ],
      "text/latex": [
       "\\begin{enumerate*}\n",
       "\\item FALSE\n",
       "\\item TRUE\n",
       "\\item FALSE\n",
       "\\item FALSE\n",
       "\\item TRUE\n",
       "\\item FALSE\n",
       "\\item TRUE\n",
       "\\item FALSE\n",
       "\\item FALSE\n",
       "\\item FALSE\n",
       "\\item FALSE\n",
       "\\item FALSE\n",
       "\\item FALSE\n",
       "\\item TRUE\n",
       "\\item TRUE\n",
       "\\item FALSE\n",
       "\\item TRUE\n",
       "\\item TRUE\n",
       "\\item TRUE\n",
       "\\item TRUE\n",
       "\\item FALSE\n",
       "\\item FALSE\n",
       "\\item FALSE\n",
       "\\item TRUE\n",
       "\\item TRUE\n",
       "\\item TRUE\n",
       "\\item TRUE\n",
       "\\item TRUE\n",
       "\\item TRUE\n",
       "\\item FALSE\n",
       "\\item FALSE\n",
       "\\item FALSE\n",
       "\\item TRUE\n",
       "\\item FALSE\n",
       "\\item FALSE\n",
       "\\item TRUE\n",
       "\\item TRUE\n",
       "\\item TRUE\n",
       "\\item FALSE\n",
       "\\item FALSE\n",
       "\\item FALSE\n",
       "\\item FALSE\n",
       "\\item TRUE\n",
       "\\item TRUE\n",
       "\\item FALSE\n",
       "\\item TRUE\n",
       "\\item FALSE\n",
       "\\item FALSE\n",
       "\\item TRUE\n",
       "\\item FALSE\n",
       "\\item TRUE\n",
       "\\item TRUE\n",
       "\\end{enumerate*}\n"
      ],
      "text/markdown": [
       "1. FALSE\n",
       "2. TRUE\n",
       "3. FALSE\n",
       "4. FALSE\n",
       "5. TRUE\n",
       "6. FALSE\n",
       "7. TRUE\n",
       "8. FALSE\n",
       "9. FALSE\n",
       "10. FALSE\n",
       "11. FALSE\n",
       "12. FALSE\n",
       "13. FALSE\n",
       "14. TRUE\n",
       "15. TRUE\n",
       "16. FALSE\n",
       "17. TRUE\n",
       "18. TRUE\n",
       "19. TRUE\n",
       "20. TRUE\n",
       "21. FALSE\n",
       "22. FALSE\n",
       "23. FALSE\n",
       "24. TRUE\n",
       "25. TRUE\n",
       "26. TRUE\n",
       "27. TRUE\n",
       "28. TRUE\n",
       "29. TRUE\n",
       "30. FALSE\n",
       "31. FALSE\n",
       "32. FALSE\n",
       "33. TRUE\n",
       "34. FALSE\n",
       "35. FALSE\n",
       "36. TRUE\n",
       "37. TRUE\n",
       "38. TRUE\n",
       "39. FALSE\n",
       "40. FALSE\n",
       "41. FALSE\n",
       "42. FALSE\n",
       "43. TRUE\n",
       "44. TRUE\n",
       "45. FALSE\n",
       "46. TRUE\n",
       "47. FALSE\n",
       "48. FALSE\n",
       "49. TRUE\n",
       "50. FALSE\n",
       "51. TRUE\n",
       "52. TRUE\n",
       "\n",
       "\n"
      ],
      "text/plain": [
       " [1] FALSE  TRUE FALSE FALSE  TRUE FALSE  TRUE FALSE FALSE FALSE FALSE FALSE\n",
       "[13] FALSE  TRUE  TRUE FALSE  TRUE  TRUE  TRUE  TRUE FALSE FALSE FALSE  TRUE\n",
       "[25]  TRUE  TRUE  TRUE  TRUE  TRUE FALSE FALSE FALSE  TRUE FALSE FALSE  TRUE\n",
       "[37]  TRUE  TRUE FALSE FALSE FALSE FALSE  TRUE  TRUE FALSE  TRUE FALSE FALSE\n",
       "[49]  TRUE FALSE  TRUE  TRUE"
      ]
     },
     "metadata": {},
     "output_type": "display_data"
    }
   ],
   "source": [
    "color=education$reading>523\n",
    "color"
   ]
  },
  {
   "cell_type": "code",
   "execution_count": 38,
   "metadata": {},
   "outputs": [
    {
     "data": {
      "text/html": [
       "<ol class=list-inline>\n",
       "\t<li>1</li>\n",
       "\t<li>2</li>\n",
       "\t<li>1</li>\n",
       "\t<li>1</li>\n",
       "\t<li>2</li>\n",
       "\t<li>1</li>\n",
       "\t<li>2</li>\n",
       "\t<li>1</li>\n",
       "\t<li>1</li>\n",
       "\t<li>1</li>\n",
       "\t<li>1</li>\n",
       "\t<li>1</li>\n",
       "\t<li>1</li>\n",
       "\t<li>2</li>\n",
       "\t<li>2</li>\n",
       "\t<li>1</li>\n",
       "\t<li>2</li>\n",
       "\t<li>2</li>\n",
       "\t<li>2</li>\n",
       "\t<li>2</li>\n",
       "\t<li>1</li>\n",
       "\t<li>1</li>\n",
       "\t<li>1</li>\n",
       "\t<li>2</li>\n",
       "\t<li>2</li>\n",
       "\t<li>2</li>\n",
       "\t<li>2</li>\n",
       "\t<li>2</li>\n",
       "\t<li>2</li>\n",
       "\t<li>1</li>\n",
       "\t<li>1</li>\n",
       "\t<li>1</li>\n",
       "\t<li>2</li>\n",
       "\t<li>1</li>\n",
       "\t<li>1</li>\n",
       "\t<li>2</li>\n",
       "\t<li>2</li>\n",
       "\t<li>2</li>\n",
       "\t<li>1</li>\n",
       "\t<li>1</li>\n",
       "\t<li>1</li>\n",
       "\t<li>1</li>\n",
       "\t<li>2</li>\n",
       "\t<li>2</li>\n",
       "\t<li>1</li>\n",
       "\t<li>2</li>\n",
       "\t<li>1</li>\n",
       "\t<li>1</li>\n",
       "\t<li>2</li>\n",
       "\t<li>1</li>\n",
       "\t<li>2</li>\n",
       "\t<li>2</li>\n",
       "</ol>\n"
      ],
      "text/latex": [
       "\\begin{enumerate*}\n",
       "\\item 1\n",
       "\\item 2\n",
       "\\item 1\n",
       "\\item 1\n",
       "\\item 2\n",
       "\\item 1\n",
       "\\item 2\n",
       "\\item 1\n",
       "\\item 1\n",
       "\\item 1\n",
       "\\item 1\n",
       "\\item 1\n",
       "\\item 1\n",
       "\\item 2\n",
       "\\item 2\n",
       "\\item 1\n",
       "\\item 2\n",
       "\\item 2\n",
       "\\item 2\n",
       "\\item 2\n",
       "\\item 1\n",
       "\\item 1\n",
       "\\item 1\n",
       "\\item 2\n",
       "\\item 2\n",
       "\\item 2\n",
       "\\item 2\n",
       "\\item 2\n",
       "\\item 2\n",
       "\\item 1\n",
       "\\item 1\n",
       "\\item 1\n",
       "\\item 2\n",
       "\\item 1\n",
       "\\item 1\n",
       "\\item 2\n",
       "\\item 2\n",
       "\\item 2\n",
       "\\item 1\n",
       "\\item 1\n",
       "\\item 1\n",
       "\\item 1\n",
       "\\item 2\n",
       "\\item 2\n",
       "\\item 1\n",
       "\\item 2\n",
       "\\item 1\n",
       "\\item 1\n",
       "\\item 2\n",
       "\\item 1\n",
       "\\item 2\n",
       "\\item 2\n",
       "\\end{enumerate*}\n"
      ],
      "text/markdown": [
       "1. 1\n",
       "2. 2\n",
       "3. 1\n",
       "4. 1\n",
       "5. 2\n",
       "6. 1\n",
       "7. 2\n",
       "8. 1\n",
       "9. 1\n",
       "10. 1\n",
       "11. 1\n",
       "12. 1\n",
       "13. 1\n",
       "14. 2\n",
       "15. 2\n",
       "16. 1\n",
       "17. 2\n",
       "18. 2\n",
       "19. 2\n",
       "20. 2\n",
       "21. 1\n",
       "22. 1\n",
       "23. 1\n",
       "24. 2\n",
       "25. 2\n",
       "26. 2\n",
       "27. 2\n",
       "28. 2\n",
       "29. 2\n",
       "30. 1\n",
       "31. 1\n",
       "32. 1\n",
       "33. 2\n",
       "34. 1\n",
       "35. 1\n",
       "36. 2\n",
       "37. 2\n",
       "38. 2\n",
       "39. 1\n",
       "40. 1\n",
       "41. 1\n",
       "42. 1\n",
       "43. 2\n",
       "44. 2\n",
       "45. 1\n",
       "46. 2\n",
       "47. 1\n",
       "48. 1\n",
       "49. 2\n",
       "50. 1\n",
       "51. 2\n",
       "52. 2\n",
       "\n",
       "\n"
      ],
      "text/plain": [
       " [1] 1 2 1 1 2 1 2 1 1 1 1 1 1 2 2 1 2 2 2 2 1 1 1 2 2 2 2 2 2 1 1 1 2 1 1 2 2 2\n",
       "[39] 1 1 1 1 2 2 1 2 1 1 2 1 2 2"
      ]
     },
     "metadata": {},
     "output_type": "display_data"
    }
   ],
   "source": [
    "color+1"
   ]
  },
  {
   "cell_type": "code",
   "execution_count": 39,
   "metadata": {
    "scrolled": true
   },
   "outputs": [
    {
     "name": "stderr",
     "output_type": "stream",
     "text": [
      "Warning message:\n",
      "\"'parallel' is deprecated.\n",
      "Use 'parallelplot' instead.\n",
      "See help(\"Deprecated\")\""
     ]
    },
    {
     "data": {
      "image/png": "[encoded data removed]",
      "text/plain": [
       "plot without title"
      ]
     },
     "metadata": {},
     "output_type": "display_data"
    }
   ],
   "source": [
    "parallel(education[,2:7],horizontal.axis = FALSE, col=color+1)"
   ]
  },
  {
   "cell_type": "code",
   "execution_count": 40,
   "metadata": {},
   "outputs": [
    {
     "data": {
      "text/plain": [
       "   Min. 1st Qu.  Median    Mean 3rd Qu.    Max. \n",
       " -1.000   2.950   3.950   4.079   5.300   7.600 "
      ]
     },
     "metadata": {},
     "output_type": "display_data"
    }
   ],
   "source": [
    "summary(education$dropout_rate)"
   ]
  },
  {
   "cell_type": "code",
   "execution_count": 41,
   "metadata": {},
   "outputs": [
    {
     "data": {
      "text/html": [
       "<ol class=list-inline>\n",
       "\t<li>FALSE</li>\n",
       "\t<li>FALSE</li>\n",
       "\t<li>TRUE</li>\n",
       "\t<li>TRUE</li>\n",
       "\t<li>FALSE</li>\n",
       "\t<li>TRUE</li>\n",
       "\t<li>TRUE</li>\n",
       "\t<li>FALSE</li>\n",
       "\t<li>TRUE</li>\n",
       "\t<li>TRUE</li>\n",
       "\t<li>FALSE</li>\n",
       "\t<li>FALSE</li>\n",
       "\t<li>TRUE</li>\n",
       "\t<li>FALSE</li>\n",
       "\t<li>FALSE</li>\n",
       "\t<li>FALSE</li>\n",
       "\t<li>FALSE</li>\n",
       "\t<li>FALSE</li>\n",
       "\t<li>FALSE</li>\n",
       "\t<li>TRUE</li>\n",
       "\t<li>FALSE</li>\n",
       "\t<li>FALSE</li>\n",
       "\t<li>FALSE</li>\n",
       "\t<li>TRUE</li>\n",
       "\t<li>FALSE</li>\n",
       "\t<li>FALSE</li>\n",
       "\t<li>FALSE</li>\n",
       "\t<li>FALSE</li>\n",
       "\t<li>FALSE</li>\n",
       "\t<li>FALSE</li>\n",
       "\t<li>FALSE</li>\n",
       "\t<li>FALSE</li>\n",
       "\t<li>TRUE</li>\n",
       "\t<li>FALSE</li>\n",
       "\t<li>TRUE</li>\n",
       "\t<li>FALSE</li>\n",
       "\t<li>FALSE</li>\n",
       "\t<li>FALSE</li>\n",
       "\t<li>FALSE</li>\n",
       "\t<li>FALSE</li>\n",
       "\t<li>TRUE</li>\n",
       "\t<li>FALSE</li>\n",
       "\t<li>FALSE</li>\n",
       "\t<li>FALSE</li>\n",
       "\t<li>FALSE</li>\n",
       "\t<li>FALSE</li>\n",
       "\t<li>FALSE</li>\n",
       "\t<li>FALSE</li>\n",
       "\t<li>FALSE</li>\n",
       "\t<li>FALSE</li>\n",
       "\t<li>FALSE</li>\n",
       "\t<li>FALSE</li>\n",
       "</ol>\n"
      ],
      "text/latex": [
       "\\begin{enumerate*}\n",
       "\\item FALSE\n",
       "\\item FALSE\n",
       "\\item TRUE\n",
       "\\item TRUE\n",
       "\\item FALSE\n",
       "\\item TRUE\n",
       "\\item TRUE\n",
       "\\item FALSE\n",
       "\\item TRUE\n",
       "\\item TRUE\n",
       "\\item FALSE\n",
       "\\item FALSE\n",
       "\\item TRUE\n",
       "\\item FALSE\n",
       "\\item FALSE\n",
       "\\item FALSE\n",
       "\\item FALSE\n",
       "\\item FALSE\n",
       "\\item FALSE\n",
       "\\item TRUE\n",
       "\\item FALSE\n",
       "\\item FALSE\n",
       "\\item FALSE\n",
       "\\item TRUE\n",
       "\\item FALSE\n",
       "\\item FALSE\n",
       "\\item FALSE\n",
       "\\item FALSE\n",
       "\\item FALSE\n",
       "\\item FALSE\n",
       "\\item FALSE\n",
       "\\item FALSE\n",
       "\\item TRUE\n",
       "\\item FALSE\n",
       "\\item TRUE\n",
       "\\item FALSE\n",
       "\\item FALSE\n",
       "\\item FALSE\n",
       "\\item FALSE\n",
       "\\item FALSE\n",
       "\\item TRUE\n",
       "\\item FALSE\n",
       "\\item FALSE\n",
       "\\item FALSE\n",
       "\\item FALSE\n",
       "\\item FALSE\n",
       "\\item FALSE\n",
       "\\item FALSE\n",
       "\\item FALSE\n",
       "\\item FALSE\n",
       "\\item FALSE\n",
       "\\item FALSE\n",
       "\\end{enumerate*}\n"
      ],
      "text/markdown": [
       "1. FALSE\n",
       "2. FALSE\n",
       "3. TRUE\n",
       "4. TRUE\n",
       "5. FALSE\n",
       "6. TRUE\n",
       "7. TRUE\n",
       "8. FALSE\n",
       "9. TRUE\n",
       "10. TRUE\n",
       "11. FALSE\n",
       "12. FALSE\n",
       "13. TRUE\n",
       "14. FALSE\n",
       "15. FALSE\n",
       "16. FALSE\n",
       "17. FALSE\n",
       "18. FALSE\n",
       "19. FALSE\n",
       "20. TRUE\n",
       "21. FALSE\n",
       "22. FALSE\n",
       "23. FALSE\n",
       "24. TRUE\n",
       "25. FALSE\n",
       "26. FALSE\n",
       "27. FALSE\n",
       "28. FALSE\n",
       "29. FALSE\n",
       "30. FALSE\n",
       "31. FALSE\n",
       "32. FALSE\n",
       "33. TRUE\n",
       "34. FALSE\n",
       "35. TRUE\n",
       "36. FALSE\n",
       "37. FALSE\n",
       "38. FALSE\n",
       "39. FALSE\n",
       "40. FALSE\n",
       "41. TRUE\n",
       "42. FALSE\n",
       "43. FALSE\n",
       "44. FALSE\n",
       "45. FALSE\n",
       "46. FALSE\n",
       "47. FALSE\n",
       "48. FALSE\n",
       "49. FALSE\n",
       "50. FALSE\n",
       "51. FALSE\n",
       "52. FALSE\n",
       "\n",
       "\n"
      ],
      "text/plain": [
       " [1] FALSE FALSE  TRUE  TRUE FALSE  TRUE  TRUE FALSE  TRUE  TRUE FALSE FALSE\n",
       "[13]  TRUE FALSE FALSE FALSE FALSE FALSE FALSE  TRUE FALSE FALSE FALSE  TRUE\n",
       "[25] FALSE FALSE FALSE FALSE FALSE FALSE FALSE FALSE  TRUE FALSE  TRUE FALSE\n",
       "[37] FALSE FALSE FALSE FALSE  TRUE FALSE FALSE FALSE FALSE FALSE FALSE FALSE\n",
       "[49] FALSE FALSE FALSE FALSE"
      ]
     },
     "metadata": {},
     "output_type": "display_data"
    }
   ],
   "source": [
    "color=education$dropout_rate>5.3\n",
    "color"
   ]
  },
  {
   "cell_type": "code",
   "execution_count": 42,
   "metadata": {},
   "outputs": [
    {
     "data": {
      "text/html": [
       "<ol class=list-inline>\n",
       "\t<li>1</li>\n",
       "\t<li>1</li>\n",
       "\t<li>2</li>\n",
       "\t<li>2</li>\n",
       "\t<li>1</li>\n",
       "\t<li>2</li>\n",
       "\t<li>2</li>\n",
       "\t<li>1</li>\n",
       "\t<li>2</li>\n",
       "\t<li>2</li>\n",
       "\t<li>1</li>\n",
       "\t<li>1</li>\n",
       "\t<li>2</li>\n",
       "\t<li>1</li>\n",
       "\t<li>1</li>\n",
       "\t<li>1</li>\n",
       "\t<li>1</li>\n",
       "\t<li>1</li>\n",
       "\t<li>1</li>\n",
       "\t<li>2</li>\n",
       "\t<li>1</li>\n",
       "\t<li>1</li>\n",
       "\t<li>1</li>\n",
       "\t<li>2</li>\n",
       "\t<li>1</li>\n",
       "\t<li>1</li>\n",
       "\t<li>1</li>\n",
       "\t<li>1</li>\n",
       "\t<li>1</li>\n",
       "\t<li>1</li>\n",
       "\t<li>1</li>\n",
       "\t<li>1</li>\n",
       "\t<li>2</li>\n",
       "\t<li>1</li>\n",
       "\t<li>2</li>\n",
       "\t<li>1</li>\n",
       "\t<li>1</li>\n",
       "\t<li>1</li>\n",
       "\t<li>1</li>\n",
       "\t<li>1</li>\n",
       "\t<li>2</li>\n",
       "\t<li>1</li>\n",
       "\t<li>1</li>\n",
       "\t<li>1</li>\n",
       "\t<li>1</li>\n",
       "\t<li>1</li>\n",
       "\t<li>1</li>\n",
       "\t<li>1</li>\n",
       "\t<li>1</li>\n",
       "\t<li>1</li>\n",
       "\t<li>1</li>\n",
       "\t<li>1</li>\n",
       "</ol>\n"
      ],
      "text/latex": [
       "\\begin{enumerate*}\n",
       "\\item 1\n",
       "\\item 1\n",
       "\\item 2\n",
       "\\item 2\n",
       "\\item 1\n",
       "\\item 2\n",
       "\\item 2\n",
       "\\item 1\n",
       "\\item 2\n",
       "\\item 2\n",
       "\\item 1\n",
       "\\item 1\n",
       "\\item 2\n",
       "\\item 1\n",
       "\\item 1\n",
       "\\item 1\n",
       "\\item 1\n",
       "\\item 1\n",
       "\\item 1\n",
       "\\item 2\n",
       "\\item 1\n",
       "\\item 1\n",
       "\\item 1\n",
       "\\item 2\n",
       "\\item 1\n",
       "\\item 1\n",
       "\\item 1\n",
       "\\item 1\n",
       "\\item 1\n",
       "\\item 1\n",
       "\\item 1\n",
       "\\item 1\n",
       "\\item 2\n",
       "\\item 1\n",
       "\\item 2\n",
       "\\item 1\n",
       "\\item 1\n",
       "\\item 1\n",
       "\\item 1\n",
       "\\item 1\n",
       "\\item 2\n",
       "\\item 1\n",
       "\\item 1\n",
       "\\item 1\n",
       "\\item 1\n",
       "\\item 1\n",
       "\\item 1\n",
       "\\item 1\n",
       "\\item 1\n",
       "\\item 1\n",
       "\\item 1\n",
       "\\item 1\n",
       "\\end{enumerate*}\n"
      ],
      "text/markdown": [
       "1. 1\n",
       "2. 1\n",
       "3. 2\n",
       "4. 2\n",
       "5. 1\n",
       "6. 2\n",
       "7. 2\n",
       "8. 1\n",
       "9. 2\n",
       "10. 2\n",
       "11. 1\n",
       "12. 1\n",
       "13. 2\n",
       "14. 1\n",
       "15. 1\n",
       "16. 1\n",
       "17. 1\n",
       "18. 1\n",
       "19. 1\n",
       "20. 2\n",
       "21. 1\n",
       "22. 1\n",
       "23. 1\n",
       "24. 2\n",
       "25. 1\n",
       "26. 1\n",
       "27. 1\n",
       "28. 1\n",
       "29. 1\n",
       "30. 1\n",
       "31. 1\n",
       "32. 1\n",
       "33. 2\n",
       "34. 1\n",
       "35. 2\n",
       "36. 1\n",
       "37. 1\n",
       "38. 1\n",
       "39. 1\n",
       "40. 1\n",
       "41. 2\n",
       "42. 1\n",
       "43. 1\n",
       "44. 1\n",
       "45. 1\n",
       "46. 1\n",
       "47. 1\n",
       "48. 1\n",
       "49. 1\n",
       "50. 1\n",
       "51. 1\n",
       "52. 1\n",
       "\n",
       "\n"
      ],
      "text/plain": [
       " [1] 1 1 2 2 1 2 2 1 2 2 1 1 2 1 1 1 1 1 1 2 1 1 1 2 1 1 1 1 1 1 1 1 2 1 2 1 1 1\n",
       "[39] 1 1 2 1 1 1 1 1 1 1 1 1 1 1"
      ]
     },
     "metadata": {},
     "output_type": "display_data"
    }
   ],
   "source": [
    "color+1"
   ]
  },
  {
   "cell_type": "code",
   "execution_count": 43,
   "metadata": {
    "scrolled": true
   },
   "outputs": [
    {
     "name": "stderr",
     "output_type": "stream",
     "text": [
      "Warning message:\n",
      "\"'parallel' is deprecated.\n",
      "Use 'parallelplot' instead.\n",
      "See help(\"Deprecated\")\""
     ]
    },
    {
     "data": {
      "image/png": "[encoded data removed]",
      "text/plain": [
       "plot without title"
      ]
     },
     "metadata": {},
     "output_type": "display_data"
    }
   ],
   "source": [
    "parallel(education[,2:7],horizontal.axis = FALSE, col=color+1)"
   ]
  },
  {
   "cell_type": "code",
   "execution_count": 47,
   "metadata": {},
   "outputs": [
    {
     "data": {
      "text/html": [
       "<table>\n",
       "<thead><tr><th scope=col>팀</th><th scope=col>승률</th><th scope=col>타율</th><th scope=col>장타율</th><th scope=col>출루율</th><th scope=col>평균자책</th></tr></thead>\n",
       "<tbody>\n",
       "\t<tr><td>KIA  </td><td>0.455</td><td>0.285</td><td>0.424</td><td>0.345</td><td>5.40 </td></tr>\n",
       "\t<tr><td>LG   </td><td>0.372</td><td>0.276</td><td>0.380</td><td>0.358</td><td>5.08 </td></tr>\n",
       "\t<tr><td>NC   </td><td>0.578</td><td>0.283</td><td>0.445</td><td>0.360</td><td>4.11 </td></tr>\n",
       "\t<tr><td>SK   </td><td>0.444</td><td>0.275</td><td>0.409</td><td>0.347</td><td>5.59 </td></tr>\n",
       "\t<tr><td>넥센 </td><td>0.545</td><td>0.283</td><td>0.471</td><td>0.372</td><td>5.44 </td></tr>\n",
       "\t<tr><td>두산 </td><td>0.568</td><td>0.307</td><td>0.468</td><td>0.378</td><td>5.03 </td></tr>\n",
       "</tbody>\n",
       "</table>\n"
      ],
      "text/latex": [
       "\\begin{tabular}{r|llllll}\n",
       " 팀 & 승률 & 타율 & 장타율 & 출루율 & 평균자책\\\\\n",
       "\\hline\n",
       "\t KIA   & 0.455 & 0.285 & 0.424 & 0.345 & 5.40 \\\\\n",
       "\t LG    & 0.372 & 0.276 & 0.380 & 0.358 & 5.08 \\\\\n",
       "\t NC    & 0.578 & 0.283 & 0.445 & 0.360 & 4.11 \\\\\n",
       "\t SK    & 0.444 & 0.275 & 0.409 & 0.347 & 5.59 \\\\\n",
       "\t 넥센  & 0.545 & 0.283 & 0.471 & 0.372 & 5.44 \\\\\n",
       "\t 두산  & 0.568 & 0.307 & 0.468 & 0.378 & 5.03 \\\\\n",
       "\\end{tabular}\n"
      ],
      "text/markdown": [
       "\n",
       "| 팀 | 승률 | 타율 | 장타율 | 출루율 | 평균자책 |\n",
       "|---|---|---|---|---|---|\n",
       "| KIA   | 0.455 | 0.285 | 0.424 | 0.345 | 5.40  |\n",
       "| LG    | 0.372 | 0.276 | 0.380 | 0.358 | 5.08  |\n",
       "| NC    | 0.578 | 0.283 | 0.445 | 0.360 | 4.11  |\n",
       "| SK    | 0.444 | 0.275 | 0.409 | 0.347 | 5.59  |\n",
       "| 넥센  | 0.545 | 0.283 | 0.471 | 0.372 | 5.44  |\n",
       "| 두산  | 0.568 | 0.307 | 0.468 | 0.378 | 5.03  |\n",
       "\n"
      ],
      "text/plain": [
       "  팀   승률  타율  장타율 출루율 평균자책\n",
       "1 KIA  0.455 0.285 0.424  0.345  5.40    \n",
       "2 LG   0.372 0.276 0.380  0.358  5.08    \n",
       "3 NC   0.578 0.283 0.445  0.360  4.11    \n",
       "4 SK   0.444 0.275 0.409  0.347  5.59    \n",
       "5 넥센 0.545 0.283 0.471  0.372  5.44    \n",
       "6 두산 0.568 0.307 0.468  0.378  5.03    "
      ]
     },
     "metadata": {},
     "output_type": "display_data"
    }
   ],
   "source": [
    "data=read.csv('20140528_baseball.csv')\n",
    "head(data)"
   ]
  },
  {
   "cell_type": "code",
   "execution_count": 49,
   "metadata": {},
   "outputs": [
    {
     "data": {
      "text/plain": [
       "Standard deviations (1, .., p=5):\n",
       "[1] 1.7459687 1.0357284 0.7145706 0.5838463 0.1654456\n",
       "\n",
       "Rotation (n x k) = (5 x 5):\n",
       "                PC1         PC2        PC3        PC4         PC5\n",
       "승률      0.5215895  0.33120383 -0.1748563  0.2606055  0.72094280\n",
       "타율      0.4462277 -0.38537741 -0.2716813 -0.7580688  0.06233844\n",
       "장타율    0.5212973 -0.09440319 -0.4035437  0.4505809 -0.59453048\n",
       "출루율    0.3756259 -0.50066425  0.7476766  0.2128245  0.06265704\n",
       "평균자책 -0.3405577 -0.69441459 -0.4168293  0.3303015  0.34491013"
      ]
     },
     "metadata": {},
     "output_type": "display_data"
    }
   ],
   "source": [
    "model=prcomp(data[,2:6],scale=T)\n",
    "model"
   ]
  },
  {
   "cell_type": "code",
   "execution_count": 50,
   "metadata": {},
   "outputs": [
    {
     "data": {
      "text/plain": [
       "Importance of components:\n",
       "                          PC1    PC2    PC3     PC4     PC5\n",
       "Standard deviation     1.7460 1.0357 0.7146 0.58385 0.16545\n",
       "Proportion of Variance 0.6097 0.2145 0.1021 0.06818 0.00547\n",
       "Cumulative Proportion  0.6097 0.8242 0.9264 0.99453 1.00000"
      ]
     },
     "metadata": {},
     "output_type": "display_data"
    }
   ],
   "source": [
    "summary(model)"
   ]
  },
  {
   "cell_type": "markdown",
   "metadata": {},
   "source": [
    "# Scree Plot\n",
    "- 각 주성분의 분산을 그래프로 표현\n",
    "- 주성분 수를 늘렸을 대 설명되는 분산의 증가량 시각화"
   ]
  },
  {
   "cell_type": "code",
   "execution_count": 51,
   "metadata": {
    "scrolled": false
   },
   "outputs": [
    {
     "data": {
      "image/png": "[encoded data removed]",
      "text/plain": [
       "Plot with title \"model\""
      ]
     },
     "metadata": {},
     "output_type": "display_data"
    }
   ],
   "source": [
    "plot(model)"
   ]
  },
  {
   "cell_type": "code",
   "execution_count": 52,
   "metadata": {},
   "outputs": [
    {
     "data": {
      "text/html": [
       "<table>\n",
       "<thead><tr><th scope=col>팀</th><th scope=col>승률</th><th scope=col>타율</th><th scope=col>장타율</th><th scope=col>출루율</th><th scope=col>평균자책</th></tr></thead>\n",
       "<tbody>\n",
       "\t<tr><td>KIA  </td><td>0.455</td><td>0.285</td><td>0.424</td><td>0.345</td><td>5.40 </td></tr>\n",
       "\t<tr><td>LG   </td><td>0.372</td><td>0.276</td><td>0.380</td><td>0.358</td><td>5.08 </td></tr>\n",
       "\t<tr><td>NC   </td><td>0.578</td><td>0.283</td><td>0.445</td><td>0.360</td><td>4.11 </td></tr>\n",
       "\t<tr><td>SK   </td><td>0.444</td><td>0.275</td><td>0.409</td><td>0.347</td><td>5.59 </td></tr>\n",
       "\t<tr><td>넥센 </td><td>0.545</td><td>0.283</td><td>0.471</td><td>0.372</td><td>5.44 </td></tr>\n",
       "\t<tr><td>두산 </td><td>0.568</td><td>0.307</td><td>0.468</td><td>0.378</td><td>5.03 </td></tr>\n",
       "</tbody>\n",
       "</table>\n"
      ],
      "text/latex": [
       "\\begin{tabular}{r|llllll}\n",
       " 팀 & 승률 & 타율 & 장타율 & 출루율 & 평균자책\\\\\n",
       "\\hline\n",
       "\t KIA   & 0.455 & 0.285 & 0.424 & 0.345 & 5.40 \\\\\n",
       "\t LG    & 0.372 & 0.276 & 0.380 & 0.358 & 5.08 \\\\\n",
       "\t NC    & 0.578 & 0.283 & 0.445 & 0.360 & 4.11 \\\\\n",
       "\t SK    & 0.444 & 0.275 & 0.409 & 0.347 & 5.59 \\\\\n",
       "\t 넥센  & 0.545 & 0.283 & 0.471 & 0.372 & 5.44 \\\\\n",
       "\t 두산  & 0.568 & 0.307 & 0.468 & 0.378 & 5.03 \\\\\n",
       "\\end{tabular}\n"
      ],
      "text/markdown": [
       "\n",
       "| 팀 | 승률 | 타율 | 장타율 | 출루율 | 평균자책 |\n",
       "|---|---|---|---|---|---|\n",
       "| KIA   | 0.455 | 0.285 | 0.424 | 0.345 | 5.40  |\n",
       "| LG    | 0.372 | 0.276 | 0.380 | 0.358 | 5.08  |\n",
       "| NC    | 0.578 | 0.283 | 0.445 | 0.360 | 4.11  |\n",
       "| SK    | 0.444 | 0.275 | 0.409 | 0.347 | 5.59  |\n",
       "| 넥센  | 0.545 | 0.283 | 0.471 | 0.372 | 5.44  |\n",
       "| 두산  | 0.568 | 0.307 | 0.468 | 0.378 | 5.03  |\n",
       "\n"
      ],
      "text/plain": [
       "  팀   승률  타율  장타율 출루율 평균자책\n",
       "1 KIA  0.455 0.285 0.424  0.345  5.40    \n",
       "2 LG   0.372 0.276 0.380  0.358  5.08    \n",
       "3 NC   0.578 0.283 0.445  0.360  4.11    \n",
       "4 SK   0.444 0.275 0.409  0.347  5.59    \n",
       "5 넥센 0.545 0.283 0.471  0.372  5.44    \n",
       "6 두산 0.568 0.307 0.468  0.378  5.03    "
      ]
     },
     "metadata": {},
     "output_type": "display_data"
    }
   ],
   "source": [
    "head(data)"
   ]
  },
  {
   "cell_type": "code",
   "execution_count": 54,
   "metadata": {},
   "outputs": [
    {
     "data": {
      "text/html": [
       "<table>\n",
       "<thead><tr><th></th><th scope=col>팀</th><th scope=col>승률</th><th scope=col>타율</th><th scope=col>장타율</th><th scope=col>출루율</th><th scope=col>평균자책</th></tr></thead>\n",
       "<tbody>\n",
       "\t<tr><th scope=row>KIA</th><td>KIA  </td><td>0.455</td><td>0.285</td><td>0.424</td><td>0.345</td><td>5.40 </td></tr>\n",
       "\t<tr><th scope=row>LG</th><td>LG   </td><td>0.372</td><td>0.276</td><td>0.380</td><td>0.358</td><td>5.08 </td></tr>\n",
       "\t<tr><th scope=row>NC</th><td>NC   </td><td>0.578</td><td>0.283</td><td>0.445</td><td>0.360</td><td>4.11 </td></tr>\n",
       "\t<tr><th scope=row>SK</th><td>SK   </td><td>0.444</td><td>0.275</td><td>0.409</td><td>0.347</td><td>5.59 </td></tr>\n",
       "\t<tr><th scope=row>넥센</th><td>넥센 </td><td>0.545</td><td>0.283</td><td>0.471</td><td>0.372</td><td>5.44 </td></tr>\n",
       "\t<tr><th scope=row>두산</th><td>두산 </td><td>0.568</td><td>0.307</td><td>0.468</td><td>0.378</td><td>5.03 </td></tr>\n",
       "</tbody>\n",
       "</table>\n"
      ],
      "text/latex": [
       "\\begin{tabular}{r|llllll}\n",
       "  & 팀 & 승률 & 타율 & 장타율 & 출루율 & 평균자책\\\\\n",
       "\\hline\n",
       "\tKIA & KIA   & 0.455 & 0.285 & 0.424 & 0.345 & 5.40 \\\\\n",
       "\tLG & LG    & 0.372 & 0.276 & 0.380 & 0.358 & 5.08 \\\\\n",
       "\tNC & NC    & 0.578 & 0.283 & 0.445 & 0.360 & 4.11 \\\\\n",
       "\tSK & SK    & 0.444 & 0.275 & 0.409 & 0.347 & 5.59 \\\\\n",
       "\t넥센 & 넥센  & 0.545 & 0.283 & 0.471 & 0.372 & 5.44 \\\\\n",
       "\t두산 & 두산  & 0.568 & 0.307 & 0.468 & 0.378 & 5.03 \\\\\n",
       "\\end{tabular}\n"
      ],
      "text/markdown": [
       "\n",
       "| <!--/--> | 팀 | 승률 | 타율 | 장타율 | 출루율 | 평균자책 |\n",
       "|---|---|---|---|---|---|---|\n",
       "| KIA | KIA   | 0.455 | 0.285 | 0.424 | 0.345 | 5.40  |\n",
       "| LG | LG    | 0.372 | 0.276 | 0.380 | 0.358 | 5.08  |\n",
       "| NC | NC    | 0.578 | 0.283 | 0.445 | 0.360 | 4.11  |\n",
       "| SK | SK    | 0.444 | 0.275 | 0.409 | 0.347 | 5.59  |\n",
       "| 넥센 | 넥센  | 0.545 | 0.283 | 0.471 | 0.372 | 5.44  |\n",
       "| 두산 | 두산  | 0.568 | 0.307 | 0.468 | 0.378 | 5.03  |\n",
       "\n"
      ],
      "text/plain": [
       "     팀   승률  타율  장타율 출루율 평균자책\n",
       "KIA  KIA  0.455 0.285 0.424  0.345  5.40    \n",
       "LG   LG   0.372 0.276 0.380  0.358  5.08    \n",
       "NC   NC   0.578 0.283 0.445  0.360  4.11    \n",
       "SK   SK   0.444 0.275 0.409  0.347  5.59    \n",
       "넥센 넥센 0.545 0.283 0.471  0.372  5.44    \n",
       "두산 두산 0.568 0.307 0.468  0.378  5.03    "
      ]
     },
     "metadata": {},
     "output_type": "display_data"
    }
   ],
   "source": [
    "rownames(data)=data[,1]\n",
    "head(data)"
   ]
  },
  {
   "cell_type": "markdown",
   "metadata": {},
   "source": [
    "# 행렬도(biplot)"
   ]
  },
  {
   "cell_type": "code",
   "execution_count": 55,
   "metadata": {},
   "outputs": [
    {
     "data": {
      "image/png": "[encoded data removed]",
      "text/plain": [
       "plot without title"
      ]
     },
     "metadata": {},
     "output_type": "display_data"
    }
   ],
   "source": [
    "model=prcomp(data[,2:6],scale=T)\n",
    "biplot(model)"
   ]
  },
  {
   "cell_type": "markdown",
   "metadata": {},
   "source": [
    "# HW(다변량 분석)"
   ]
  },
  {
   "cell_type": "code",
   "execution_count": 56,
   "metadata": {},
   "outputs": [
    {
     "data": {
      "text/html": [
       "<table>\n",
       "<thead><tr><th scope=col>팀</th><th scope=col>승률</th><th scope=col>타율</th><th scope=col>장타율</th><th scope=col>출루율</th><th scope=col>평균자책</th></tr></thead>\n",
       "<tbody>\n",
       "\t<tr><td>KIA  </td><td>0.455</td><td>0.285</td><td>0.424</td><td>0.345</td><td>5.40 </td></tr>\n",
       "\t<tr><td>LG   </td><td>0.372</td><td>0.276</td><td>0.380</td><td>0.358</td><td>5.08 </td></tr>\n",
       "\t<tr><td>NC   </td><td>0.578</td><td>0.283</td><td>0.445</td><td>0.360</td><td>4.11 </td></tr>\n",
       "\t<tr><td>SK   </td><td>0.444</td><td>0.275</td><td>0.409</td><td>0.347</td><td>5.59 </td></tr>\n",
       "\t<tr><td>넥센 </td><td>0.545</td><td>0.283</td><td>0.471</td><td>0.372</td><td>5.44 </td></tr>\n",
       "\t<tr><td>두산 </td><td>0.568</td><td>0.307</td><td>0.468</td><td>0.378</td><td>5.03 </td></tr>\n",
       "</tbody>\n",
       "</table>\n"
      ],
      "text/latex": [
       "\\begin{tabular}{r|llllll}\n",
       " 팀 & 승률 & 타율 & 장타율 & 출루율 & 평균자책\\\\\n",
       "\\hline\n",
       "\t KIA   & 0.455 & 0.285 & 0.424 & 0.345 & 5.40 \\\\\n",
       "\t LG    & 0.372 & 0.276 & 0.380 & 0.358 & 5.08 \\\\\n",
       "\t NC    & 0.578 & 0.283 & 0.445 & 0.360 & 4.11 \\\\\n",
       "\t SK    & 0.444 & 0.275 & 0.409 & 0.347 & 5.59 \\\\\n",
       "\t 넥센  & 0.545 & 0.283 & 0.471 & 0.372 & 5.44 \\\\\n",
       "\t 두산  & 0.568 & 0.307 & 0.468 & 0.378 & 5.03 \\\\\n",
       "\\end{tabular}\n"
      ],
      "text/markdown": [
       "\n",
       "| 팀 | 승률 | 타율 | 장타율 | 출루율 | 평균자책 |\n",
       "|---|---|---|---|---|---|\n",
       "| KIA   | 0.455 | 0.285 | 0.424 | 0.345 | 5.40  |\n",
       "| LG    | 0.372 | 0.276 | 0.380 | 0.358 | 5.08  |\n",
       "| NC    | 0.578 | 0.283 | 0.445 | 0.360 | 4.11  |\n",
       "| SK    | 0.444 | 0.275 | 0.409 | 0.347 | 5.59  |\n",
       "| 넥센  | 0.545 | 0.283 | 0.471 | 0.372 | 5.44  |\n",
       "| 두산  | 0.568 | 0.307 | 0.468 | 0.378 | 5.03  |\n",
       "\n"
      ],
      "text/plain": [
       "  팀   승률  타율  장타율 출루율 평균자책\n",
       "1 KIA  0.455 0.285 0.424  0.345  5.40    \n",
       "2 LG   0.372 0.276 0.380  0.358  5.08    \n",
       "3 NC   0.578 0.283 0.445  0.360  4.11    \n",
       "4 SK   0.444 0.275 0.409  0.347  5.59    \n",
       "5 넥센 0.545 0.283 0.471  0.372  5.44    \n",
       "6 두산 0.568 0.307 0.468  0.378  5.03    "
      ]
     },
     "metadata": {},
     "output_type": "display_data"
    }
   ],
   "source": [
    "data=read.csv('20140528_baseball.csv')\n",
    "head(data)"
   ]
  },
  {
   "cell_type": "code",
   "execution_count": 57,
   "metadata": {},
   "outputs": [
    {
     "data": {
      "text/html": [
       "<ol class=list-inline>\n",
       "\t<li>'KIA'</li>\n",
       "\t<li>'LG'</li>\n",
       "\t<li>'NC'</li>\n",
       "\t<li>'SK'</li>\n",
       "\t<li>'넥센'</li>\n",
       "\t<li>'두산'</li>\n",
       "</ol>\n"
      ],
      "text/latex": [
       "\\begin{enumerate*}\n",
       "\\item 'KIA'\n",
       "\\item 'LG'\n",
       "\\item 'NC'\n",
       "\\item 'SK'\n",
       "\\item '넥센'\n",
       "\\item '두산'\n",
       "\\end{enumerate*}\n"
      ],
      "text/markdown": [
       "1. 'KIA'\n",
       "2. 'LG'\n",
       "3. 'NC'\n",
       "4. 'SK'\n",
       "5. '넥센'\n",
       "6. '두산'\n",
       "\n",
       "\n"
      ],
      "text/plain": [
       "[1] \"KIA\"  \"LG\"   \"NC\"   \"SK\"   \"넥센\" \"두산\""
      ]
     },
     "metadata": {},
     "output_type": "display_data"
    }
   ],
   "source": [
    "rownames(data)=data[,1]\n",
    "head(rownames(data))"
   ]
  },
  {
   "cell_type": "code",
   "execution_count": 58,
   "metadata": {},
   "outputs": [
    {
     "data": {
      "image/png": "[encoded data removed]",
      "text/plain": [
       "plot without title"
      ]
     },
     "metadata": {},
     "output_type": "display_data"
    }
   ],
   "source": [
    "stars(data[,2:6],flip.labels = F,key.loc=c(9,2),draw.segments=TRUE)"
   ]
  }
 ],
 "metadata": {
  "kernelspec": {
   "display_name": "R",
   "language": "R",
   "name": "ir"
  },
  "language_info": {
   "codemirror_mode": "r",
   "file_extension": ".r",
   "mimetype": "text/x-r-source",
   "name": "R",
   "pygments_lexer": "r",
   "version": "3.6.1"
  }
 },
 "nbformat": 4,
 "nbformat_minor": 4
}
