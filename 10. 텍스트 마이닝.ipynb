{
 "cells": [
  {
   "cell_type": "code",
   "execution_count": 1,
   "metadata": {},
   "outputs": [
    {
     "name": "stdout",
     "output_type": "stream",
     "text": [
      "\n",
      "  There is a binary version available but the source version is later:\n",
      "      binary source needs_compilation\n",
      "rJava 0.9-12 0.9-13              TRUE\n",
      "\n",
      "  Binaries will be installed\n",
      "package 'rJava' successfully unpacked and MD5 sums checked\n",
      "\n",
      "The downloaded binary packages are in\n",
      "\tC:\\Users\\16\\AppData\\Local\\Temp\\RtmpmEo6nL\\downloaded_packages\n"
     ]
    }
   ],
   "source": [
    "#install.packages(\"rJava\")"
   ]
  },
  {
   "cell_type": "code",
   "execution_count": 2,
   "metadata": {},
   "outputs": [
    {
     "name": "stdout",
     "output_type": "stream",
     "text": [
      "package 'memoise' successfully unpacked and MD5 sums checked\n",
      "\n",
      "The downloaded binary packages are in\n",
      "\tC:\\Users\\16\\AppData\\Local\\Temp\\RtmpmEo6nL\\downloaded_packages\n"
     ]
    }
   ],
   "source": [
    "#install.packages(\"memoise\")"
   ]
  },
  {
   "cell_type": "code",
   "execution_count": 3,
   "metadata": {},
   "outputs": [
    {
     "name": "stdout",
     "output_type": "stream",
     "text": [
      "package 'installr' successfully unpacked and MD5 sums checked\n",
      "\n",
      "The downloaded binary packages are in\n",
      "\tC:\\Users\\16\\AppData\\Local\\Temp\\RtmpmEo6nL\\downloaded_packages\n"
     ]
    }
   ],
   "source": [
    "#install.packages('installr')"
   ]
  },
  {
   "cell_type": "code",
   "execution_count": null,
   "metadata": {},
   "outputs": [],
   "source": [
    "#install.package(‘devtools’)\n",
    "#devtools::install_github(‘IRkernel/IRkernel’)\n",
    "#IRkernel::installspec()"
   ]
  },
  {
   "cell_type": "code",
   "execution_count": 4,
   "metadata": {
    "scrolled": true
   },
   "outputs": [
    {
     "name": "stdout",
     "output_type": "stream",
     "text": [
      "package 'stringr' successfully unpacked and MD5 sums checked\n",
      "\n",
      "The downloaded binary packages are in\n",
      "\tC:\\Users\\16\\AppData\\Local\\Temp\\RtmpmEo6nL\\downloaded_packages\n",
      "package 'hash' successfully unpacked and MD5 sums checked\n",
      "\n",
      "The downloaded binary packages are in\n",
      "\tC:\\Users\\16\\AppData\\Local\\Temp\\RtmpmEo6nL\\downloaded_packages\n",
      "package 'tau' successfully unpacked and MD5 sums checked\n",
      "\n",
      "The downloaded binary packages are in\n",
      "\tC:\\Users\\16\\AppData\\Local\\Temp\\RtmpmEo6nL\\downloaded_packages\n",
      "package 'Sejong' successfully unpacked and MD5 sums checked\n",
      "\n",
      "The downloaded binary packages are in\n",
      "\tC:\\Users\\16\\AppData\\Local\\Temp\\RtmpmEo6nL\\downloaded_packages\n"
     ]
    },
    {
     "name": "stderr",
     "output_type": "stream",
     "text": [
      "also installing the dependencies 'ellipsis', 'bit', 'vctrs', 'bit64', 'blob', 'DBI'\n",
      "\n"
     ]
    },
    {
     "name": "stdout",
     "output_type": "stream",
     "text": [
      "package 'ellipsis' successfully unpacked and MD5 sums checked\n",
      "package 'bit' successfully unpacked and MD5 sums checked\n",
      "package 'vctrs' successfully unpacked and MD5 sums checked\n",
      "package 'bit64' successfully unpacked and MD5 sums checked\n",
      "package 'blob' successfully unpacked and MD5 sums checked\n",
      "package 'DBI' successfully unpacked and MD5 sums checked\n",
      "package 'RSQLite' successfully unpacked and MD5 sums checked\n",
      "\n",
      "The downloaded binary packages are in\n",
      "\tC:\\Users\\16\\AppData\\Local\\Temp\\RtmpmEo6nL\\downloaded_packages\n"
     ]
    },
    {
     "name": "stderr",
     "output_type": "stream",
     "text": [
      "also installing the dependencies 'ini', 'fs', 'gh', 'git2r', 'rematch2', 'processx', 'rex', 'crosstalk', 'xopen', 'brew', 'commonmark', 'purrr', 'usethis', 'callr', 'cli', 'covr', 'DT', 'httr', 'jsonlite', 'rcmdcheck', 'remotes', 'roxygen2', 'rstudioapi', 'rversions', 'sessioninfo'\n",
      "\n"
     ]
    },
    {
     "name": "stdout",
     "output_type": "stream",
     "text": [
      "\n",
      "  There are binary versions available but the source versions are later:\n",
      "         binary source needs_compilation\n",
      "httr      1.4.1  1.4.2             FALSE\n",
      "remotes   2.1.1  2.2.0             FALSE\n",
      "devtools  2.3.0  2.3.1             FALSE\n",
      "\n",
      "package 'ini' successfully unpacked and MD5 sums checked\n",
      "package 'fs' successfully unpacked and MD5 sums checked\n",
      "package 'gh' successfully unpacked and MD5 sums checked\n",
      "package 'git2r' successfully unpacked and MD5 sums checked\n",
      "package 'rematch2' successfully unpacked and MD5 sums checked\n",
      "package 'processx' successfully unpacked and MD5 sums checked\n",
      "package 'rex' successfully unpacked and MD5 sums checked\n",
      "package 'crosstalk' successfully unpacked and MD5 sums checked\n",
      "package 'xopen' successfully unpacked and MD5 sums checked\n",
      "package 'brew' successfully unpacked and MD5 sums checked\n",
      "package 'commonmark' successfully unpacked and MD5 sums checked\n",
      "package 'purrr' successfully unpacked and MD5 sums checked\n"
     ]
    },
    {
     "name": "stderr",
     "output_type": "stream",
     "text": [
      "Warning message:\n",
      "\"cannot remove prior installation of package 'purrr'\"Warning message in file.copy(savedcopy, lib, recursive = TRUE):\n",
      "\"C:\\Users\\16\\.conda\\envs\\RR\\Lib\\R\\library\\00LOCK\\purrr\\libs\\x64\\purrr.dll를 C:\\Users\\16\\.conda\\envs\\RR\\Lib\\R\\library\\purrr\\libs\\x64\\purrr.dll로 복사하는데 문제가 발생했습니다: Permission denied\"Warning message:\n",
      "\"restored 'purrr'\""
     ]
    },
    {
     "name": "stdout",
     "output_type": "stream",
     "text": [
      "package 'usethis' successfully unpacked and MD5 sums checked\n",
      "package 'callr' successfully unpacked and MD5 sums checked\n",
      "package 'cli' successfully unpacked and MD5 sums checked\n",
      "package 'covr' successfully unpacked and MD5 sums checked\n",
      "package 'DT' successfully unpacked and MD5 sums checked\n",
      "package 'jsonlite' successfully unpacked and MD5 sums checked\n"
     ]
    },
    {
     "name": "stderr",
     "output_type": "stream",
     "text": [
      "Warning message:\n",
      "\"cannot remove prior installation of package 'jsonlite'\"Warning message in file.copy(savedcopy, lib, recursive = TRUE):\n",
      "\"C:\\Users\\16\\.conda\\envs\\RR\\Lib\\R\\library\\00LOCK\\jsonlite\\libs\\x64\\jsonlite.dll를 C:\\Users\\16\\.conda\\envs\\RR\\Lib\\R\\library\\jsonlite\\libs\\x64\\jsonlite.dll로 복사하는데 문제가 발생했습니다: Permission denied\"Warning message:\n",
      "\"restored 'jsonlite'\""
     ]
    },
    {
     "name": "stdout",
     "output_type": "stream",
     "text": [
      "package 'rcmdcheck' successfully unpacked and MD5 sums checked\n",
      "package 'roxygen2' successfully unpacked and MD5 sums checked\n",
      "package 'rstudioapi' successfully unpacked and MD5 sums checked\n",
      "package 'rversions' successfully unpacked and MD5 sums checked\n",
      "package 'sessioninfo' successfully unpacked and MD5 sums checked\n",
      "\n",
      "The downloaded binary packages are in\n",
      "\tC:\\Users\\16\\AppData\\Local\\Temp\\RtmpmEo6nL\\downloaded_packages\n"
     ]
    },
    {
     "name": "stderr",
     "output_type": "stream",
     "text": [
      "installing the source packages 'httr', 'remotes', 'devtools'\n",
      "\n"
     ]
    }
   ],
   "source": [
    "#install.packages('stringr')\n",
    "#install.packages('hash')\n",
    "#install.packages('tau')\n",
    "#install.packages('Sejong')\n",
    "#install.packages('RSQLite')\n",
    "#install.packages('devtools')"
   ]
  },
  {
   "cell_type": "code",
   "execution_count": 5,
   "metadata": {},
   "outputs": [
    {
     "name": "stdout",
     "output_type": "stream",
     "text": [
      "package 'multilinguer' successfully unpacked and MD5 sums checked\n",
      "\n",
      "The downloaded binary packages are in\n",
      "\tC:\\Users\\16\\AppData\\Local\\Temp\\RtmpmEo6nL\\downloaded_packages\n"
     ]
    }
   ],
   "source": [
    "#install.packages(\"multilinguer\")"
   ]
  },
  {
   "cell_type": "code",
   "execution_count": 6,
   "metadata": {
    "scrolled": false
   },
   "outputs": [
    {
     "name": "stderr",
     "output_type": "stream",
     "text": [
      "Warning message:\n",
      "\"package 'multilinguer' was built under R version 3.6.3\"Registered S3 method overwritten by 'rvest':\n",
      "  method            from\n",
      "  read_xml.response xml2\n",
      "If you have any problem, please issue here.\n",
      "https://github.com/mrchypark/multilinguer/issues\n"
     ]
    }
   ],
   "source": [
    "#library(multilinguer)"
   ]
  },
  {
   "cell_type": "code",
   "execution_count": 7,
   "metadata": {},
   "outputs": [
    {
     "name": "stderr",
     "output_type": "stream",
     "text": [
      "Downloading GitHub repo haven-jeon/KoNLP@HEAD\n",
      "Installing 1 packages: lifecycle\n"
     ]
    },
    {
     "name": "stdout",
     "output_type": "stream",
     "text": [
      "package 'lifecycle' successfully unpacked and MD5 sums checked\n",
      "\n",
      "The downloaded binary packages are in\n",
      "\tC:\\Users\\16\\AppData\\Local\\Temp\\RtmpmEo6nL\\downloaded_packages\n"
     ]
    },
    {
     "name": "stderr",
     "output_type": "stream",
     "text": [
      "WARNING: Rtools is required to build R packages, but is not currently installed.\n",
      "\n",
      "Please download and install Rtools 3.5 from https://cran.r-project.org/bin/windows/Rtools/.\n"
     ]
    },
    {
     "name": "stdout",
     "output_type": "stream",
     "text": [
      "√  checking for file 'C:\\Users\\16\\AppData\\Local\\Temp\\RtmpmEo6nL\\remotes16a8349655c3\\haven-jeon-KoNLP-c43430c/DESCRIPTION' ...\n",
      "-  preparing 'KoNLP':\n",
      "√  checking DESCRIPTION meta-information ... \n",
      "-  checking for LF line-endings in source and make files and shell scripts\n",
      "-  checking for empty or unneeded directories\n",
      "-  looking to see if a 'data/datalist' file should be added\n",
      "-  building 'KoNLP_0.80.2.tar.gz'\n",
      "   \n",
      "\r"
     ]
    }
   ],
   "source": [
    "#remotes::install_github('haven-jeon/KoNLP', upgrade = \"never\", INSTALL_opts=c(\"--no-multiarch\"))"
   ]
  },
  {
   "cell_type": "code",
   "execution_count": 8,
   "metadata": {},
   "outputs": [
    {
     "name": "stderr",
     "output_type": "stream",
     "text": [
      "Please run command below in R console after restart session.\n",
      "install.packages('rJava', type = 'binary');library(rJava);.jinit();rstudioapi::restartSession()\n"
     ]
    }
   ],
   "source": [
    "#install_jdk()"
   ]
  },
  {
   "cell_type": "code",
   "execution_count": 9,
   "metadata": {},
   "outputs": [
    {
     "name": "stderr",
     "output_type": "stream",
     "text": [
      "\n",
      "Attaching package: 'dplyr'\n",
      "\n",
      "The following objects are masked from 'package:stats':\n",
      "\n",
      "    filter, lag\n",
      "\n",
      "The following objects are masked from 'package:base':\n",
      "\n",
      "    intersect, setdiff, setequal, union\n",
      "\n"
     ]
    }
   ],
   "source": [
    "#library (dplyr)"
   ]
  },
  {
   "cell_type": "code",
   "execution_count": 10,
   "metadata": {},
   "outputs": [
    {
     "name": "stderr",
     "output_type": "stream",
     "text": [
      "Checking user defined dictionary!\n",
      "\n"
     ]
    }
   ],
   "source": [
    "#library(KoNLP)"
   ]
  },
  {
   "cell_type": "code",
   "execution_count": 11,
   "metadata": {},
   "outputs": [],
   "source": [
    "#Sys.setenv ( JAVA_HOME= \"C:/Program Files/Java/jre1.8.0_261/\" )"
   ]
  },
  {
   "cell_type": "code",
   "execution_count": 12,
   "metadata": {
    "scrolled": true
   },
   "outputs": [
    {
     "name": "stdout",
     "output_type": "stream",
     "text": [
      "Backup was just finished!\n"
     ]
    },
    {
     "name": "stderr",
     "output_type": "stream",
     "text": [
      "WARNING: Rtools is required to build R packages, but is not currently installed.\n",
      "\n",
      "Please download and install Rtools 3.5 from https://cran.r-project.org/bin/windows/Rtools/.\n",
      "Downloading package from url: https://github.com/haven-jeon/NIADic/releases/download/0.0.1/NIADic_0.0.1.tar.gz\n"
     ]
    },
    {
     "name": "stdout",
     "output_type": "stream",
     "text": [
      "digest      (0.6.18   -> 0.6.25  ) [CRAN]\n",
      "glue        (1.3.1    -> 1.4.1   ) [CRAN]\n",
      "pkgconfig   (2.0.2    -> 2.0.3   ) [CRAN]\n",
      "pillar      (1.3.1    -> 1.4.6   ) [CRAN]\n",
      "fansi       (0.4.0    -> 0.4.1   ) [CRAN]\n",
      "R6          (2.4.0    -> 2.4.1   ) [CRAN]\n",
      "ps          (1.3.0    -> 1.3.3   ) [CRAN]\n",
      "backports   (1.1.4    -> 1.1.8   ) [CRAN]\n",
      "prettyunits (1.0.2    -> 1.1.1   ) [CRAN]\n",
      "withr       (2.1.2    -> 2.2.0   ) [CRAN]\n",
      "evaluate    (0.13     -> 0.14    ) [CRAN]\n",
      "xfun        (0.6      -> 0.15    ) [CRAN]\n",
      "stringi     (1.4.3    -> 1.4.6   ) [CRAN]\n",
      "mime        (0.6      -> 0.9     ) [CRAN]\n",
      "yaml        (2.2.0    -> 2.2.1   ) [CRAN]\n",
      "markdown    (0.9      -> 1.1     ) [CRAN]\n",
      "tibble      (2.1.1    -> 3.0.3   ) [CRAN]\n",
      "scales      (1.0.0    -> 1.1.1   ) [CRAN]\n",
      "tinytex     (0.12     -> 0.24    ) [CRAN]\n",
      "jsonlite    (1.6      -> 1.7.0   ) [CRAN]\n",
      "htmltools   (0.3.6    -> 0.5.0   ) [CRAN]\n",
      "knitr       (1.22     -> 1.29    ) [CRAN]\n",
      "BH          (1.69.0-1 -> 1.72.0-3) [CRAN]\n",
      "Rcpp        (1.0.1    -> 1.0.5   ) [CRAN]\n",
      "data.table  (1.12.2   -> 1.12.8  ) [CRAN]\n",
      "rmarkdown   (1.12     -> 2.3     ) [CRAN]\n"
     ]
    },
    {
     "name": "stderr",
     "output_type": "stream",
     "text": [
      "Installing 26 packages: digest, glue, pkgconfig, pillar, fansi, R6, ps, backports, prettyunits, withr, evaluate, xfun, stringi, mime, yaml, markdown, tibble, scales, tinytex, jsonlite, htmltools, knitr, BH, Rcpp, data.table, rmarkdown\n"
     ]
    },
    {
     "name": "stdout",
     "output_type": "stream",
     "text": [
      "\n",
      "  There is a binary version available but the source version is later:\n",
      "          binary source needs_compilation\n",
      "backports  1.1.7  1.1.8              TRUE\n",
      "\n",
      "  Binaries will be installed\n",
      "package 'digest' successfully unpacked and MD5 sums checked\n"
     ]
    },
    {
     "ename": "ERROR",
     "evalue": "Error: Failed to install 'unknown package' from URL:\n  (converted from warning) cannot remove prior installation of package 'digest'\n",
     "output_type": "error",
     "traceback": [
      "Error: Failed to install 'unknown package' from URL:\n  (converted from warning) cannot remove prior installation of package 'digest'\nTraceback:\n",
      "1. useNIADic()",
      "2. buildDictionary(ext_dic = which_dic, category_dic_nms = category_dic_nms)",
      "3. install_NIADic()",
      "4. tryCatch({\n .     install_url(niadic_pkg_url, dependencies = TRUE, build_vignettes = TRUE)\n . }, error = function(cond) {\n .     message(cond)\n .     install_url(niadic_pkg_url, dependencies = TRUE)\n . }, finally = {\n .     if (!nzchar(system.file(package = \"NIADic\"))) {\n .         stop(\"can't install NIADic package!\\n Please refer 'https://github.com/haven-jeon/NIADic' to install.\")\n .     }\n . })",
      "5. tryCatchList(expr, classes, parentenv, handlers)",
      "6. tryCatchOne(expr, names, parentenv, handlers[[1L]])",
      "7. value[[3L]](cond)",
      "8. message(cond)",
      "9. withRestarts({\n .     signalCondition(cond)\n .     defaultHandler(cond)\n . }, muffleMessage = function() NULL)",
      "10. withOneRestart(expr, restarts[[1L]])",
      "11. doWithOneRestart(return(expr), restart)"
     ]
    },
    {
     "ename": "ERROR",
     "evalue": "Error in tryCatch({: can't install NIADic package!\n Please refer 'https://github.com/haven-jeon/NIADic' to install.\n",
     "output_type": "error",
     "traceback": [
      "Error in tryCatch({: can't install NIADic package!\n Please refer 'https://github.com/haven-jeon/NIADic' to install.\nTraceback:\n",
      "1. useNIADic()",
      "2. buildDictionary(ext_dic = which_dic, category_dic_nms = category_dic_nms)",
      "3. install_NIADic()",
      "4. tryCatch({\n .     install_url(niadic_pkg_url, dependencies = TRUE, build_vignettes = TRUE)\n . }, error = function(cond) {\n .     message(cond)\n .     install_url(niadic_pkg_url, dependencies = TRUE)\n . }, finally = {\n .     if (!nzchar(system.file(package = \"NIADic\"))) {\n .         stop(\"can't install NIADic package!\\n Please refer 'https://github.com/haven-jeon/NIADic' to install.\")\n .     }\n . })",
      "5. stop(\"can't install NIADic package!\\n Please refer 'https://github.com/haven-jeon/NIADic' to install.\")"
     ]
    }
   ],
   "source": [
    "# 사전 설정하기\n",
    "#useNIADic()"
   ]
  },
  {
   "cell_type": "code",
   "execution_count": 1,
   "metadata": {},
   "outputs": [
    {
     "name": "stdout",
     "output_type": "stream",
     "text": [
      "package 'wordcloud' successfully unpacked and MD5 sums checked\n",
      "\n",
      "The downloaded binary packages are in\n",
      "\tC:\\Users\\16\\AppData\\Local\\Temp\\RtmpCy2L4j\\downloaded_packages\n"
     ]
    }
   ],
   "source": [
    "# 워드 클라우드 만들기\n",
    "# 패키지 설치\n",
    "install.packages(\"wordcloud\")"
   ]
  },
  {
   "cell_type": "code",
   "execution_count": 2,
   "metadata": {},
   "outputs": [
    {
     "name": "stderr",
     "output_type": "stream",
     "text": [
      "Warning message:\n",
      "\"package 'wordcloud' was built under R version 3.6.3\"Loading required package: RColorBrewer\n"
     ]
    }
   ],
   "source": [
    "library(wordcloud)"
   ]
  },
  {
   "cell_type": "code",
   "execution_count": 3,
   "metadata": {},
   "outputs": [],
   "source": [
    "library(RColorBrewer)"
   ]
  },
  {
   "cell_type": "code",
   "execution_count": 4,
   "metadata": {},
   "outputs": [
    {
     "data": {
      "text/html": [
       "<ol class=list-inline>\n",
       "\t<li>'#1B9E77'</li>\n",
       "\t<li>'#D95F02'</li>\n",
       "\t<li>'#7570B3'</li>\n",
       "\t<li>'#E7298A'</li>\n",
       "\t<li>'#66A61E'</li>\n",
       "\t<li>'#E6AB02'</li>\n",
       "\t<li>'#A6761D'</li>\n",
       "\t<li>'#666666'</li>\n",
       "</ol>\n"
      ],
      "text/latex": [
       "\\begin{enumerate*}\n",
       "\\item '\\#1B9E77'\n",
       "\\item '\\#D95F02'\n",
       "\\item '\\#7570B3'\n",
       "\\item '\\#E7298A'\n",
       "\\item '\\#66A61E'\n",
       "\\item '\\#E6AB02'\n",
       "\\item '\\#A6761D'\n",
       "\\item '\\#666666'\n",
       "\\end{enumerate*}\n"
      ],
      "text/markdown": [
       "1. '#1B9E77'\n",
       "2. '#D95F02'\n",
       "3. '#7570B3'\n",
       "4. '#E7298A'\n",
       "5. '#66A61E'\n",
       "6. '#E6AB02'\n",
       "7. '#A6761D'\n",
       "8. '#666666'\n",
       "\n",
       "\n"
      ],
      "text/plain": [
       "[1] \"#1B9E77\" \"#D95F02\" \"#7570B3\" \"#E7298A\" \"#66A61E\" \"#E6AB02\" \"#A6761D\"\n",
       "[8] \"#666666\""
      ]
     },
     "metadata": {},
     "output_type": "display_data"
    }
   ],
   "source": [
    "# 단어 색상 목록 마들기\n",
    "pal = brewer.pal(8,\"Dark2\")\n",
    "pal"
   ]
  },
  {
   "cell_type": "code",
   "execution_count": 5,
   "metadata": {},
   "outputs": [
    {
     "ename": "ERROR",
     "evalue": "Error in wordcloud(words = df_word$word, freq = df_word$freq, min.freq = 2, : 객체 'df_word'를 찾을 수 없습니다\n",
     "output_type": "error",
     "traceback": [
      "Error in wordcloud(words = df_word$word, freq = df_word$freq, min.freq = 2, : 객체 'df_word'를 찾을 수 없습니다\nTraceback:\n",
      "1. wordcloud(words = df_word$word, freq = df_word$freq, min.freq = 2, \n .     max.words = 200, random.order = F, rot.per = 0.1, scale = c(4, \n .         0.3), colors = pal)"
     ]
    }
   ],
   "source": [
    "# 워드 클라우드 생성\n",
    "set.seed ( 1234 ) # 난수 고정\n",
    "wordcloud(words = df_word$word,\n",
    "          freq = df_word$freq, # 빈도\n",
    "           min.freq = 2 , # 최소 단어 빈도\n",
    "           max.words = 200 , # 표현 단어 수\n",
    "           random.order = F, # 고빈도 단어 중앙 배치\n",
    "           rot.per = .1 , # 회전 단어 비율\n",
    "           scale = c(4 , 0.3), # 단어 크기 범위\n",
    "           colors = pal) # 색깔 목록"
   ]
  },
  {
   "cell_type": "code",
   "execution_count": null,
   "metadata": {},
   "outputs": [],
   "source": []
  }
 ],
 "metadata": {
  "kernelspec": {
   "display_name": "R",
   "language": "R",
   "name": "ir"
  },
  "language_info": {
   "codemirror_mode": "r",
   "file_extension": ".r",
   "mimetype": "text/x-r-source",
   "name": "R",
   "pygments_lexer": "r",
   "version": "3.6.1"
  }
 },
 "nbformat": 4,
 "nbformat_minor": 4
}
